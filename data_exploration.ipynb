{
 "cells": [
  {
   "cell_type": "code",
   "execution_count": 1,
   "metadata": {
    "collapsed": true
   },
   "outputs": [],
   "source": [
    "import pandas as pd\n",
    "import numpy as np\n",
    "from tqdm import tqdm"
   ]
  },
  {
   "cell_type": "code",
   "execution_count": 2,
   "outputs": [],
   "source": [
    "def fix_zipcodes(zipcode):\n",
    "    if len(zipcode) < 5:\n",
    "        to_fill = 5 - len(zipcode)\n",
    "        return (to_fill * '0') + zipcode\n",
    "\n",
    "    else:\n",
    "        return zipcode\n",
    "\n",
    "def fix_county_name(county_name):\n",
    "    if 'county' in county_name:\n",
    "        return county_name[:county_name.find('county')].rstrip()\n",
    "    else:\n",
    "        return county_name\n",
    "\n",
    "def match_loc_to_ideology(zipcode):\n",
    "    zipcode_state = ZIPS_DF[ZIPS_DF['zip'] == zipcode]['state'].iloc[0]\n",
    "    county_name = fix_county_name(ZIPS_DF[ZIPS_DF['zip'] == zipcode]['county'].iloc[0])\n",
    "\n",
    "    state_slice = COUNTY_DF[COUNTY_DF['state_po'] == zipcode_state]\n",
    "    ideology_metric = state_slice.loc[state_slice['county_name']==county_name]['perc_diffs'].iloc[0]\n",
    "\n",
    "    return ideology_metric\n",
    "\n",
    "def process_cpvi(cpvi):\n",
    "    if cpvi.startswith('R'):\n",
    "        return int(cpvi.split('+')[1])\n",
    "    elif cpvi.startswith('D'):\n",
    "        cpvi_metric = int(cpvi.split('+')[1])\n",
    "        return np.negative(cpvi_metric)\n",
    "    else:\n",
    "        return 0"
   ],
   "metadata": {
    "collapsed": false,
    "pycharm": {
     "name": "#%%\n"
    }
   }
  },
  {
   "cell_type": "code",
   "execution_count": 3,
   "metadata": {
    "collapsed": false,
    "pycharm": {
     "name": "#%%\n"
    }
   },
   "outputs": [],
   "source": [
    "BUSINESS_DATA_FILEPATH = 'data/yelp_academic_dataset_business.json'\n",
    "REVIEWS_DATA_FILEPATH = 'data/yelp_academic_dataset_review.json'\n",
    "USERS_DATA_FILEPATH = 'data/yelp_academic_dataset_user.json'\n",
    "COUNTY_DATA_FILEPATH = 'data/county_data.csv'\n",
    "STATES_DATA_FILEPATH = 'data/states_data.csv'\n",
    "ZIPCODES_DATA_FILEPATH = 'data/zip_code_database.csv'\n",
    "CPI_URL = 'https://en.wikipedia.org/wiki/Cook_Partisan_Voting_Index'\n",
    "POP_DENSITY_FILEPATH = 'data/apportionment.csv'\n"
   ]
  },
  {
   "cell_type": "code",
   "execution_count": 4,
   "outputs": [],
   "source": [
    "COUNTY_DF = pd.read_csv(COUNTY_DATA_FILEPATH, index_col=0)\n",
    "STATES_DF = pd.read_csv(STATES_DATA_FILEPATH, index_col=0)\n",
    "ZIPS_DF = pd.read_csv(ZIPCODES_DATA_FILEPATH)"
   ],
   "metadata": {
    "collapsed": false,
    "pycharm": {
     "name": "#%%\n"
    }
   }
  },
  {
   "cell_type": "code",
   "execution_count": 5,
   "outputs": [
    {
     "data": {
      "text/plain": "     zip state               county\n0  00501    NY       suffolk county\n1  00544    NY       suffolk county\n2  00601    PR   adjuntas municipio\n3  00602    PR     aguada municipio\n4  00603    PR  aguadilla municipio",
      "text/html": "<div>\n<style scoped>\n    .dataframe tbody tr th:only-of-type {\n        vertical-align: middle;\n    }\n\n    .dataframe tbody tr th {\n        vertical-align: top;\n    }\n\n    .dataframe thead th {\n        text-align: right;\n    }\n</style>\n<table border=\"1\" class=\"dataframe\">\n  <thead>\n    <tr style=\"text-align: right;\">\n      <th></th>\n      <th>zip</th>\n      <th>state</th>\n      <th>county</th>\n    </tr>\n  </thead>\n  <tbody>\n    <tr>\n      <th>0</th>\n      <td>00501</td>\n      <td>NY</td>\n      <td>suffolk county</td>\n    </tr>\n    <tr>\n      <th>1</th>\n      <td>00544</td>\n      <td>NY</td>\n      <td>suffolk county</td>\n    </tr>\n    <tr>\n      <th>2</th>\n      <td>00601</td>\n      <td>PR</td>\n      <td>adjuntas municipio</td>\n    </tr>\n    <tr>\n      <th>3</th>\n      <td>00602</td>\n      <td>PR</td>\n      <td>aguada municipio</td>\n    </tr>\n    <tr>\n      <th>4</th>\n      <td>00603</td>\n      <td>PR</td>\n      <td>aguadilla municipio</td>\n    </tr>\n  </tbody>\n</table>\n</div>"
     },
     "execution_count": 5,
     "metadata": {},
     "output_type": "execute_result"
    }
   ],
   "source": [
    "ZIPS_DF = ZIPS_DF[['zip', 'state', 'county']]\n",
    "ZIPS_DF['zip'] = ZIPS_DF['zip'].astype(str).apply(fix_zipcodes)\n",
    "ZIPS_DF['county'] = ZIPS_DF['county'].str.lower()\n",
    "ZIPS_DF.loc[len(ZIPS_DF)] = ['02101', 'MA', 'suffolk county']\n",
    "ZIPS_DF.head()"
   ],
   "metadata": {
    "collapsed": false,
    "pycharm": {
     "name": "#%%\n"
    }
   }
  },
  {
   "cell_type": "code",
   "execution_count": 6,
   "outputs": [
    {
     "data": {
      "text/plain": "         state state_po county_name  perc_diffs\n50526  ALABAMA       AL     autauga       44.42\n50529  ALABAMA       AL     baldwin       53.76\n50532  ALABAMA       AL     barbour        7.66\n50535  ALABAMA       AL        bibb       57.73\n50538  ALABAMA       AL      blount       80.00",
      "text/html": "<div>\n<style scoped>\n    .dataframe tbody tr th:only-of-type {\n        vertical-align: middle;\n    }\n\n    .dataframe tbody tr th {\n        vertical-align: top;\n    }\n\n    .dataframe thead th {\n        text-align: right;\n    }\n</style>\n<table border=\"1\" class=\"dataframe\">\n  <thead>\n    <tr style=\"text-align: right;\">\n      <th></th>\n      <th>state</th>\n      <th>state_po</th>\n      <th>county_name</th>\n      <th>perc_diffs</th>\n    </tr>\n  </thead>\n  <tbody>\n    <tr>\n      <th>50526</th>\n      <td>ALABAMA</td>\n      <td>AL</td>\n      <td>autauga</td>\n      <td>44.42</td>\n    </tr>\n    <tr>\n      <th>50529</th>\n      <td>ALABAMA</td>\n      <td>AL</td>\n      <td>baldwin</td>\n      <td>53.76</td>\n    </tr>\n    <tr>\n      <th>50532</th>\n      <td>ALABAMA</td>\n      <td>AL</td>\n      <td>barbour</td>\n      <td>7.66</td>\n    </tr>\n    <tr>\n      <th>50535</th>\n      <td>ALABAMA</td>\n      <td>AL</td>\n      <td>bibb</td>\n      <td>57.73</td>\n    </tr>\n    <tr>\n      <th>50538</th>\n      <td>ALABAMA</td>\n      <td>AL</td>\n      <td>blount</td>\n      <td>80.00</td>\n    </tr>\n  </tbody>\n</table>\n</div>"
     },
     "execution_count": 6,
     "metadata": {},
     "output_type": "execute_result"
    }
   ],
   "source": [
    "COUNTY_DF['county_name'] = COUNTY_DF['county_name'].str.lower()\n",
    "COUNTY_DF['county_name'] = COUNTY_DF['county_name'].apply(fix_county_name)\n",
    "COUNTY_DF.head()"
   ],
   "metadata": {
    "collapsed": false,
    "pycharm": {
     "name": "#%%\n"
    }
   }
  },
  {
   "cell_type": "code",
   "execution_count": 7,
   "outputs": [
    {
     "data": {
      "text/plain": "            state state_po      county_name  perc_diffs\n52769  CALIFORNIA       CA        mendocino      -35.80\n52869  CALIFORNIA       CA      santa clara      -47.41\n52779  CALIFORNIA       CA            modoc       45.11\n52904  CALIFORNIA       CA       stanislaus       -0.79\n52889  CALIFORNIA       CA         siskiyou       15.75\n52724  CALIFORNIA       CA             inyo       -0.15\n52874  CALIFORNIA       CA       santa cruz      -60.28\n52669  CALIFORNIA       CA           amador       24.36\n52704  CALIFORNIA       CA           fresno       -7.83\n52854  CALIFORNIA       CA  san luis obispo      -13.07",
      "text/html": "<div>\n<style scoped>\n    .dataframe tbody tr th:only-of-type {\n        vertical-align: middle;\n    }\n\n    .dataframe tbody tr th {\n        vertical-align: top;\n    }\n\n    .dataframe thead th {\n        text-align: right;\n    }\n</style>\n<table border=\"1\" class=\"dataframe\">\n  <thead>\n    <tr style=\"text-align: right;\">\n      <th></th>\n      <th>state</th>\n      <th>state_po</th>\n      <th>county_name</th>\n      <th>perc_diffs</th>\n    </tr>\n  </thead>\n  <tbody>\n    <tr>\n      <th>52769</th>\n      <td>CALIFORNIA</td>\n      <td>CA</td>\n      <td>mendocino</td>\n      <td>-35.80</td>\n    </tr>\n    <tr>\n      <th>52869</th>\n      <td>CALIFORNIA</td>\n      <td>CA</td>\n      <td>santa clara</td>\n      <td>-47.41</td>\n    </tr>\n    <tr>\n      <th>52779</th>\n      <td>CALIFORNIA</td>\n      <td>CA</td>\n      <td>modoc</td>\n      <td>45.11</td>\n    </tr>\n    <tr>\n      <th>52904</th>\n      <td>CALIFORNIA</td>\n      <td>CA</td>\n      <td>stanislaus</td>\n      <td>-0.79</td>\n    </tr>\n    <tr>\n      <th>52889</th>\n      <td>CALIFORNIA</td>\n      <td>CA</td>\n      <td>siskiyou</td>\n      <td>15.75</td>\n    </tr>\n    <tr>\n      <th>52724</th>\n      <td>CALIFORNIA</td>\n      <td>CA</td>\n      <td>inyo</td>\n      <td>-0.15</td>\n    </tr>\n    <tr>\n      <th>52874</th>\n      <td>CALIFORNIA</td>\n      <td>CA</td>\n      <td>santa cruz</td>\n      <td>-60.28</td>\n    </tr>\n    <tr>\n      <th>52669</th>\n      <td>CALIFORNIA</td>\n      <td>CA</td>\n      <td>amador</td>\n      <td>24.36</td>\n    </tr>\n    <tr>\n      <th>52704</th>\n      <td>CALIFORNIA</td>\n      <td>CA</td>\n      <td>fresno</td>\n      <td>-7.83</td>\n    </tr>\n    <tr>\n      <th>52854</th>\n      <td>CALIFORNIA</td>\n      <td>CA</td>\n      <td>san luis obispo</td>\n      <td>-13.07</td>\n    </tr>\n  </tbody>\n</table>\n</div>"
     },
     "execution_count": 7,
     "metadata": {},
     "output_type": "execute_result"
    }
   ],
   "source": [
    "COUNTY_DF[COUNTY_DF['state_po'] == 'CA'].sample(10)"
   ],
   "metadata": {
    "collapsed": false,
    "pycharm": {
     "name": "#%%\n"
    }
   }
  },
  {
   "cell_type": "code",
   "execution_count": 8,
   "outputs": [
    {
     "data": {
      "text/plain": "        state  perc_diffs\n1     ALABAMA       25.46\n3      ALASKA       10.11\n5     ARIZONA       -0.10\n7    ARKANSAS        6.91\n9  CALIFORNIA      -29.16",
      "text/html": "<div>\n<style scoped>\n    .dataframe tbody tr th:only-of-type {\n        vertical-align: middle;\n    }\n\n    .dataframe tbody tr th {\n        vertical-align: top;\n    }\n\n    .dataframe thead th {\n        text-align: right;\n    }\n</style>\n<table border=\"1\" class=\"dataframe\">\n  <thead>\n    <tr style=\"text-align: right;\">\n      <th></th>\n      <th>state</th>\n      <th>perc_diffs</th>\n    </tr>\n  </thead>\n  <tbody>\n    <tr>\n      <th>1</th>\n      <td>ALABAMA</td>\n      <td>25.46</td>\n    </tr>\n    <tr>\n      <th>3</th>\n      <td>ALASKA</td>\n      <td>10.11</td>\n    </tr>\n    <tr>\n      <th>5</th>\n      <td>ARIZONA</td>\n      <td>-0.10</td>\n    </tr>\n    <tr>\n      <th>7</th>\n      <td>ARKANSAS</td>\n      <td>6.91</td>\n    </tr>\n    <tr>\n      <th>9</th>\n      <td>CALIFORNIA</td>\n      <td>-29.16</td>\n    </tr>\n  </tbody>\n</table>\n</div>"
     },
     "execution_count": 8,
     "metadata": {},
     "output_type": "execute_result"
    }
   ],
   "source": [
    "STATES_DF.head()"
   ],
   "metadata": {
    "collapsed": false,
    "pycharm": {
     "name": "#%%\n"
    }
   }
  },
  {
   "cell_type": "code",
   "execution_count": 9,
   "outputs": [
    {
     "name": "stdout",
     "output_type": "stream",
     "text": [
      "Number of states: 51\n"
     ]
    }
   ],
   "source": [
    "STATES_LIST = list(COUNTY_DF['state_po'].unique())\n",
    "print(f\"Number of states: {len(STATES_LIST)}\")"
   ],
   "metadata": {
    "collapsed": false,
    "pycharm": {
     "name": "#%%\n"
    }
   }
  },
  {
   "cell_type": "code",
   "execution_count": 10,
   "outputs": [],
   "source": [
    "CPVI = pd.read_html(CPI_URL)[1]\n",
    "CPVI.drop(CPVI.tail(1).index, inplace=True)\n",
    "CPVI['pvi'] = CPVI['PVI'].apply(process_cpvi)\n",
    "CPVI['state'] = CPVI['State'].str.upper()\n",
    "CPVI = CPVI[['state', 'pvi']]"
   ],
   "metadata": {
    "collapsed": false,
    "pycharm": {
     "name": "#%%\n"
    }
   }
  },
  {
   "cell_type": "code",
   "execution_count": 11,
   "outputs": [],
   "source": [
    "POP_DENSITY = pd.read_csv(POP_DENSITY_FILEPATH)"
   ],
   "metadata": {
    "collapsed": false,
    "pycharm": {
     "name": "#%%\n"
    }
   }
  },
  {
   "cell_type": "code",
   "execution_count": 12,
   "outputs": [
    {
     "data": {
      "text/plain": "Name                                                    object\nGeography Type                                          object\nYear                                                     int64\nResident Population                                     object\nPercent Change in Resident Population                  float64\nResident Population Density                             object\nResident Population Density Rank                       float64\nNumber of Representatives                              float64\nChange in Number of Representatives                    float64\nAverage Apportionment Population Per Representative     object\ndtype: object"
     },
     "execution_count": 12,
     "metadata": {},
     "output_type": "execute_result"
    }
   ],
   "source": [
    "POP_DENSITY.dtypes\n",
    "# POP_DENSITY"
   ],
   "metadata": {
    "collapsed": false,
    "pycharm": {
     "name": "#%%\n"
    }
   }
  },
  {
   "cell_type": "code",
   "execution_count": 13,
   "metadata": {
    "collapsed": false,
    "pycharm": {
     "name": "#%%\n"
    }
   },
   "outputs": [],
   "source": [
    "USER_COLS = ['user_id', 'review_count']\n",
    "BUSINESS_COLS = ['business_id', 'state', 'city', 'postal_code', 'categories', 'stars', 'review_count']\n",
    "REVIEW_COLS = ['review_id', 'user_id', 'business_id', 'date', 'stars', 'useful']\n",
    "ZIPCODES_COLS = ['zip', 'county']\n",
    "\n",
    "USER_DTYPES = {\n",
    "    'user_id': np.str,\n",
    "    'review_count': np.int\n",
    "}\n",
    "\n",
    "BUSINESS_DTYPES = {\n",
    "    'business_id': np.str,\n",
    "    'state': np.str,\n",
    "    'city': np.str,\n",
    "    'postal_code': np.str,\n",
    "    'categories': np.str,\n",
    "    'review_count': np.int,\n",
    "    'stars': np.float,\n",
    "}\n",
    "\n",
    "REVIEW_DTYPES = {\n",
    "    'review_id': np.str,\n",
    "    'user_id': np.str,\n",
    "    'business_id': np.str,\n",
    "    'stars': np.int,\n",
    "    'useful': np.int\n",
    "}\n",
    "\n",
    "ZIPS_DTYPES = {\n",
    "    'zip': np.str,\n",
    "    'county': np.str\n",
    "}"
   ]
  },
  {
   "cell_type": "code",
   "execution_count": 14,
   "outputs": [
    {
     "data": {
      "text/plain": "business_id      object\nname             object\naddress          object\ncity             object\nstate            object\npostal_code      object\nlatitude        float64\nlongitude       float64\nstars           float64\nreview_count      int64\nis_open           int64\nattributes       object\ncategories       object\nhours            object\ndtype: object"
     },
     "execution_count": 14,
     "metadata": {},
     "output_type": "execute_result"
    }
   ],
   "source": [
    "df = pd.read_json(BUSINESS_DATA_FILEPATH, lines=True, orient='records')\n",
    "df.dtypes"
   ],
   "metadata": {
    "collapsed": false,
    "pycharm": {
     "name": "#%%\n"
    }
   }
  },
  {
   "cell_type": "code",
   "execution_count": 15,
   "outputs": [
    {
     "data": {
      "text/plain": "                   business_id                                     name  \\\n63930   aQ6AtEeeVC8VJ4iLwaezCw                             Jimmy John's   \n13404   5XGN_j6Yj9N-369sh1E2uA                          The Sausage Guy   \n57366   KdQkawE7JuIb03_qwP3AlA                                W XYZ Bar   \n49536   rn2Ka8dII-WH6hXG82F1GA                                  Quezzas   \n108299  _S4j-74ZR4MUkWdiMlBoFQ                      La Scala Restaurant   \n103843  RwvhnuyVObpgJHx8Gpz-Bg                                     Wawa   \n54477   g4eVzBGRR47egXlUt9wuiw  Nathan's Hot Dogs & Bruster's Ice Cream   \n101993  vsxNLpgHX5hv0fWAI9XyHA                       The Driskill Grill   \n133497  blDM0UCr0oYZzfrQn_GG5Q                Arboretum Pizza and Grill   \n153215  2SZKV3w6GsLjclavdFfcJQ                      Georgia Beer Garden   \n\n                                     address        city state postal_code  \\\n63930                1558 N High St, Ste. D1    Columbus    OH       43201   \n13404                        49 Lansdowne St      Boston    MA       02215   \n57366                   1705 NW Amberglen Ct   Hillsboro    OR       97006   \n49536                           82 Rainey St      Austin    TX       78701   \n108299                        1070 N Main St    Randolph    MA       02368   \n103843      2184 E Irlo Bronson Memorial Hwy   Kissimmee    FL       34744   \n54477   Cherokee Plaza, 3857 Peachtree Rd NE     Atlanta    GA       30319   \n101993                         604 Brazos St      Austin    TX       78701   \n133497                    4025 Washington St  Roslindale    MA       02131   \n153215                   420 Edgewood Ave NE     Atlanta    GA       30312   \n\n         latitude   longitude  stars  review_count  is_open  \\\n63930   39.993978  -83.005862    2.5            19        1   \n13404   42.347390  -71.097108    3.5            31        1   \n57366   45.532750 -122.883765    4.5            13        1   \n49536   30.259373  -97.738846    4.5            23        1   \n108299  42.192437  -71.060037    3.5           216        1   \n103843  28.286183  -81.355668    3.5            21        1   \n54477   33.881247  -84.333801    3.5            11        0   \n101993  30.268661  -97.741715    3.5           219        1   \n133497  42.291942  -71.122501    3.0            65        1   \n153215  33.754526  -84.373870    4.0            76        1   \n\n                                               attributes  \\\n63930   {'RestaurantsAttire': 'u'casual'', 'NoiseLevel...   \n13404   {'BikeParking': 'False', 'RestaurantsAttire': ...   \n57366   {'BusinessAcceptsCreditCards': 'True', 'Caters...   \n49536   {'BusinessAcceptsCreditCards': 'True', 'Restau...   \n108299  {'Alcohol': 'u'full_bar'', 'GoodForKids': 'Fal...   \n103843  {'RestaurantsPriceRange2': '1', 'BusinessAccep...   \n54477   {'OutdoorSeating': 'True', 'RestaurantsGoodFor...   \n101993  {'BusinessParking': '{'garage': False, 'street...   \n133497  {'HasTV': 'True', 'RestaurantsDelivery': 'True...   \n153215  {'GoodForDancing': 'False', 'OutdoorSeating': ...   \n\n                                               categories  \\\n63930           Delis, Restaurants, Sandwiches, Fast Food   \n13404   Hot Dogs, Food Stands, Restaurants, Street Ven...   \n57366   Nightlife, Food, Beer, Wine & Spirits, Tapas/S...   \n49536      Restaurants, Mexican, Food, Food Trucks, Pizza   \n108299   Restaurants, Italian, Wine Bars, Nightlife, Bars   \n103843  Convenience Stores, Gas Stations, Food, Automo...   \n54477   Ice Cream & Frozen Yogurt, Fast Food, Restaura...   \n101993  Caterers, Event Planning & Services, Hotels & ...   \n133497  Fast Food, Seafood, Pizza, Restaurants, Greek,...   \n153215  Beer Bar, Nightlife, Restaurants, Southern, Ba...   \n\n                                                    hours  \n63930   {'Monday': '10:30-3:30', 'Tuesday': '10:30-3:3...  \n13404                                                None  \n57366   {'Monday': '16:0-23:0', 'Tuesday': '16:0-23:0'...  \n49536   {'Monday': '0:0-0:0', 'Thursday': '17:0-2:30',...  \n108299  {'Monday': '11:30-23:0', 'Tuesday': '11:30-23:...  \n103843  {'Monday': '0:0-0:0', 'Tuesday': '0:0-0:0', 'W...  \n54477                                                None  \n101993  {'Monday': '0:0-0:0', 'Tuesday': '17:30-22:0',...  \n133497  {'Monday': '12:0-21:45', 'Tuesday': '12:0-21:4...  \n153215  {'Monday': '11:0-2:30', 'Tuesday': '11:0-2:30'...  ",
      "text/html": "<div>\n<style scoped>\n    .dataframe tbody tr th:only-of-type {\n        vertical-align: middle;\n    }\n\n    .dataframe tbody tr th {\n        vertical-align: top;\n    }\n\n    .dataframe thead th {\n        text-align: right;\n    }\n</style>\n<table border=\"1\" class=\"dataframe\">\n  <thead>\n    <tr style=\"text-align: right;\">\n      <th></th>\n      <th>business_id</th>\n      <th>name</th>\n      <th>address</th>\n      <th>city</th>\n      <th>state</th>\n      <th>postal_code</th>\n      <th>latitude</th>\n      <th>longitude</th>\n      <th>stars</th>\n      <th>review_count</th>\n      <th>is_open</th>\n      <th>attributes</th>\n      <th>categories</th>\n      <th>hours</th>\n    </tr>\n  </thead>\n  <tbody>\n    <tr>\n      <th>63930</th>\n      <td>aQ6AtEeeVC8VJ4iLwaezCw</td>\n      <td>Jimmy John's</td>\n      <td>1558 N High St, Ste. D1</td>\n      <td>Columbus</td>\n      <td>OH</td>\n      <td>43201</td>\n      <td>39.993978</td>\n      <td>-83.005862</td>\n      <td>2.5</td>\n      <td>19</td>\n      <td>1</td>\n      <td>{'RestaurantsAttire': 'u'casual'', 'NoiseLevel...</td>\n      <td>Delis, Restaurants, Sandwiches, Fast Food</td>\n      <td>{'Monday': '10:30-3:30', 'Tuesday': '10:30-3:3...</td>\n    </tr>\n    <tr>\n      <th>13404</th>\n      <td>5XGN_j6Yj9N-369sh1E2uA</td>\n      <td>The Sausage Guy</td>\n      <td>49 Lansdowne St</td>\n      <td>Boston</td>\n      <td>MA</td>\n      <td>02215</td>\n      <td>42.347390</td>\n      <td>-71.097108</td>\n      <td>3.5</td>\n      <td>31</td>\n      <td>1</td>\n      <td>{'BikeParking': 'False', 'RestaurantsAttire': ...</td>\n      <td>Hot Dogs, Food Stands, Restaurants, Street Ven...</td>\n      <td>None</td>\n    </tr>\n    <tr>\n      <th>57366</th>\n      <td>KdQkawE7JuIb03_qwP3AlA</td>\n      <td>W XYZ Bar</td>\n      <td>1705 NW Amberglen Ct</td>\n      <td>Hillsboro</td>\n      <td>OR</td>\n      <td>97006</td>\n      <td>45.532750</td>\n      <td>-122.883765</td>\n      <td>4.5</td>\n      <td>13</td>\n      <td>1</td>\n      <td>{'BusinessAcceptsCreditCards': 'True', 'Caters...</td>\n      <td>Nightlife, Food, Beer, Wine &amp; Spirits, Tapas/S...</td>\n      <td>{'Monday': '16:0-23:0', 'Tuesday': '16:0-23:0'...</td>\n    </tr>\n    <tr>\n      <th>49536</th>\n      <td>rn2Ka8dII-WH6hXG82F1GA</td>\n      <td>Quezzas</td>\n      <td>82 Rainey St</td>\n      <td>Austin</td>\n      <td>TX</td>\n      <td>78701</td>\n      <td>30.259373</td>\n      <td>-97.738846</td>\n      <td>4.5</td>\n      <td>23</td>\n      <td>1</td>\n      <td>{'BusinessAcceptsCreditCards': 'True', 'Restau...</td>\n      <td>Restaurants, Mexican, Food, Food Trucks, Pizza</td>\n      <td>{'Monday': '0:0-0:0', 'Thursday': '17:0-2:30',...</td>\n    </tr>\n    <tr>\n      <th>108299</th>\n      <td>_S4j-74ZR4MUkWdiMlBoFQ</td>\n      <td>La Scala Restaurant</td>\n      <td>1070 N Main St</td>\n      <td>Randolph</td>\n      <td>MA</td>\n      <td>02368</td>\n      <td>42.192437</td>\n      <td>-71.060037</td>\n      <td>3.5</td>\n      <td>216</td>\n      <td>1</td>\n      <td>{'Alcohol': 'u'full_bar'', 'GoodForKids': 'Fal...</td>\n      <td>Restaurants, Italian, Wine Bars, Nightlife, Bars</td>\n      <td>{'Monday': '11:30-23:0', 'Tuesday': '11:30-23:...</td>\n    </tr>\n    <tr>\n      <th>103843</th>\n      <td>RwvhnuyVObpgJHx8Gpz-Bg</td>\n      <td>Wawa</td>\n      <td>2184 E Irlo Bronson Memorial Hwy</td>\n      <td>Kissimmee</td>\n      <td>FL</td>\n      <td>34744</td>\n      <td>28.286183</td>\n      <td>-81.355668</td>\n      <td>3.5</td>\n      <td>21</td>\n      <td>1</td>\n      <td>{'RestaurantsPriceRange2': '1', 'BusinessAccep...</td>\n      <td>Convenience Stores, Gas Stations, Food, Automo...</td>\n      <td>{'Monday': '0:0-0:0', 'Tuesday': '0:0-0:0', 'W...</td>\n    </tr>\n    <tr>\n      <th>54477</th>\n      <td>g4eVzBGRR47egXlUt9wuiw</td>\n      <td>Nathan's Hot Dogs &amp; Bruster's Ice Cream</td>\n      <td>Cherokee Plaza, 3857 Peachtree Rd NE</td>\n      <td>Atlanta</td>\n      <td>GA</td>\n      <td>30319</td>\n      <td>33.881247</td>\n      <td>-84.333801</td>\n      <td>3.5</td>\n      <td>11</td>\n      <td>0</td>\n      <td>{'OutdoorSeating': 'True', 'RestaurantsGoodFor...</td>\n      <td>Ice Cream &amp; Frozen Yogurt, Fast Food, Restaura...</td>\n      <td>None</td>\n    </tr>\n    <tr>\n      <th>101993</th>\n      <td>vsxNLpgHX5hv0fWAI9XyHA</td>\n      <td>The Driskill Grill</td>\n      <td>604 Brazos St</td>\n      <td>Austin</td>\n      <td>TX</td>\n      <td>78701</td>\n      <td>30.268661</td>\n      <td>-97.741715</td>\n      <td>3.5</td>\n      <td>219</td>\n      <td>1</td>\n      <td>{'BusinessParking': '{'garage': False, 'street...</td>\n      <td>Caterers, Event Planning &amp; Services, Hotels &amp; ...</td>\n      <td>{'Monday': '0:0-0:0', 'Tuesday': '17:30-22:0',...</td>\n    </tr>\n    <tr>\n      <th>133497</th>\n      <td>blDM0UCr0oYZzfrQn_GG5Q</td>\n      <td>Arboretum Pizza and Grill</td>\n      <td>4025 Washington St</td>\n      <td>Roslindale</td>\n      <td>MA</td>\n      <td>02131</td>\n      <td>42.291942</td>\n      <td>-71.122501</td>\n      <td>3.0</td>\n      <td>65</td>\n      <td>1</td>\n      <td>{'HasTV': 'True', 'RestaurantsDelivery': 'True...</td>\n      <td>Fast Food, Seafood, Pizza, Restaurants, Greek,...</td>\n      <td>{'Monday': '12:0-21:45', 'Tuesday': '12:0-21:4...</td>\n    </tr>\n    <tr>\n      <th>153215</th>\n      <td>2SZKV3w6GsLjclavdFfcJQ</td>\n      <td>Georgia Beer Garden</td>\n      <td>420 Edgewood Ave NE</td>\n      <td>Atlanta</td>\n      <td>GA</td>\n      <td>30312</td>\n      <td>33.754526</td>\n      <td>-84.373870</td>\n      <td>4.0</td>\n      <td>76</td>\n      <td>1</td>\n      <td>{'GoodForDancing': 'False', 'OutdoorSeating': ...</td>\n      <td>Beer Bar, Nightlife, Restaurants, Southern, Ba...</td>\n      <td>{'Monday': '11:0-2:30', 'Tuesday': '11:0-2:30'...</td>\n    </tr>\n  </tbody>\n</table>\n</div>"
     },
     "execution_count": 15,
     "metadata": {},
     "output_type": "execute_result"
    }
   ],
   "source": [
    "df = df[df['categories'].notnull()].reset_index(drop=True)\n",
    "df = df[df['categories'].str.contains('Restaurants')]\n",
    "df.sample(10)"
   ],
   "metadata": {
    "collapsed": false,
    "pycharm": {
     "name": "#%%\n"
    }
   }
  },
  {
   "cell_type": "code",
   "execution_count": 16,
   "outputs": [
    {
     "name": "stdout",
     "output_type": "stream",
     "text": [
      "Loading businesses...\n"
     ]
    },
    {
     "name": "stderr",
     "output_type": "stream",
     "text": [
      "161it [00:04, 33.72it/s]\n"
     ]
    }
   ],
   "source": [
    "BUSINESSES = list()\n",
    "\n",
    "print('Loading businesses...')\n",
    "\n",
    "with open(BUSINESS_DATA_FILEPATH, 'r') as f:\n",
    "    reader = pd.read_json(f, orient='records', lines=True, chunksize=1000, dtype=BUSINESS_DTYPES)\n",
    "\n",
    "    for chunk in tqdm(reader):\n",
    "        reduced_chunk = chunk[BUSINESS_COLS]\n",
    "        #reduced_chunk['postal_code'] = reduced_chunk['postal_code'].apply(fix_zipcodes)\n",
    "        reduced_chunk = reduced_chunk[reduced_chunk['categories'].notnull()]\n",
    "        reduced_chunk = reduced_chunk[reduced_chunk['categories'].str.contains('Restaurants')]\n",
    "        BUSINESSES.append(reduced_chunk)\n",
    "\n",
    "    BUSINESSES = pd.concat(BUSINESSES, ignore_index=True)"
   ],
   "metadata": {
    "collapsed": false,
    "pycharm": {
     "name": "#%%\n"
    }
   }
  },
  {
   "cell_type": "code",
   "execution_count": 17,
   "outputs": [],
   "source": [
    "BUSINESS_LIST = list(BUSINESSES['business_id'].unique())"
   ],
   "metadata": {
    "collapsed": false,
    "pycharm": {
     "name": "#%%\n"
    }
   }
  },
  {
   "cell_type": "code",
   "execution_count": 18,
   "outputs": [
    {
     "name": "stderr",
     "output_type": "stream",
     "text": [
      "3it [00:00, 28.00it/s]"
     ]
    },
    {
     "name": "stdout",
     "output_type": "stream",
     "text": [
      "Loading reviews...\n"
     ]
    },
    {
     "name": "stderr",
     "output_type": "stream",
     "text": [
      "300it [00:09, 31.36it/s]\n"
     ]
    }
   ],
   "source": [
    "# Load 300,000 reviews from reviews\n",
    "REVIEWS = list()\n",
    "print('Loading reviews...')\n",
    "with open(REVIEWS_DATA_FILEPATH, 'r') as f:\n",
    "    reader = pd.read_json(f, orient='records', lines=True, nrows=300000, chunksize=1000, dtype=REVIEW_DTYPES)\n",
    "\n",
    "    for chunk in tqdm(reader):\n",
    "        reduced_chunk = chunk[REVIEW_COLS]\n",
    "        reduced_chunk = reduced_chunk[reduced_chunk['business_id'].isin(BUSINESS_LIST)]\n",
    "        # Only keep US\n",
    "        REVIEWS.append(reduced_chunk)\n",
    "    REVIEWS = pd.concat(REVIEWS, ignore_index=True)"
   ],
   "metadata": {
    "collapsed": false,
    "pycharm": {
     "name": "#%%\n"
    }
   }
  },
  {
   "cell_type": "code",
   "execution_count": 19,
   "outputs": [
    {
     "name": "stdout",
     "output_type": "stream",
     "text": [
      "Number of businssess: 4583\n"
     ]
    }
   ],
   "source": [
    "BUSINESS_LIST = list(REVIEWS['business_id'].unique()) # rename to get effective list\n",
    "print(f\"Number of businssess: {len(BUSINESS_LIST)}\")\n",
    "USERS_LIST = list(REVIEWS['user_id'].unique())\n"
   ],
   "metadata": {
    "collapsed": false,
    "pycharm": {
     "name": "#%%\n"
    }
   }
  },
  {
   "cell_type": "code",
   "execution_count": 20,
   "outputs": [
    {
     "name": "stderr",
     "output_type": "stream",
     "text": [
      "  0%|          | 0/4583 [00:00<?, ?it/s]"
     ]
    },
    {
     "name": "stdout",
     "output_type": "stream",
     "text": [
      "Adding business state\n"
     ]
    },
    {
     "name": "stderr",
     "output_type": "stream",
     "text": [
      "100%|██████████| 4583/4583 [03:29<00:00, 21.89it/s]\n"
     ]
    }
   ],
   "source": [
    "# add business zip code in first\n",
    "# add business state\n",
    "print('Adding business state')\n",
    "for business_id in tqdm(BUSINESS_LIST):\n",
    "    business_zipcode = BUSINESSES[BUSINESSES['business_id'] == business_id]['postal_code'].iloc[0]\n",
    "    business_state = BUSINESSES[BUSINESSES['business_id'] == business_id]['state'].iloc[0]\n",
    "\n",
    "    REVIEWS.loc[REVIEWS['business_id'] == business_id, ['business_state', 'business_zipcode']] = business_state, business_zipcode\n",
    "\n",
    "REVIEWS = REVIEWS[REVIEWS['business_state'].isin(STATES_LIST)]"
   ],
   "metadata": {
    "collapsed": false,
    "pycharm": {
     "name": "#%%\n"
    }
   }
  },
  {
   "cell_type": "code",
   "execution_count": 21,
   "outputs": [
    {
     "data": {
      "text/plain": "                     review_id                 user_id  \\\n57791   ee3OL9JpN6jYDA2J10B62Q  YukItNsLqcZoNNN8BsU20Q   \n105632  y-KcpDhfy0q5V4vKl_rqSg  bKD-b6Zaxx-CGyLexn1KFg   \n114577  -U0_ahrm4AbtHeb2e1l7tw  2wo8-L8EY7ClcmKaIh4wlQ   \n63362   PogK0GQzpAa5cfqHqmaEZQ  MJtbTc8WYvqZLf_D6OLhfQ   \n35678   gXBwO5Va2xhmQoCe7I0FTw  xvdkIO99jl6enTzDM1zYCQ   \n164893  66QYerA_in60kdmLi8VOfQ  Boytzi_nxvFLzpyAIqswmg   \n89691   cQWK35fxGg6WNri3Wkwoow  LV_FXhQ9oLVr8_KM5JpmDw   \n130173  La-dYPMr1dmvYR-sPH0AhQ  NbpulXOzalrDcJ-BNPiCKw   \n44942   dFTfc1_Vo-m1afEYMQUdNA  lgVLBf_kloHe2mphcWx79Q   \n59318   k1RQi8OSHrzcmUAlemkynQ  LnP7yQeyqKfGhnQ65np6jQ   \n22874   Mo7d8d8zjmZW7oVqNynFZQ  BSypWBw9GQawiwRPz9TD6g   \n5339    bhL0fNtzstlIXK6ANr5VPg  weJhQp7eIcAgSHd6Md1YlQ   \n183173  hwQmK-FSHMpt2MtFRJLWUA  lZeywWxj6dJv3KPib4F8Gg   \n207444  YFrCk7Q0meQmedeWRr_8lA  QS6Lu0w0JlbPp1Rl9doNiw   \n48706   WWWwOUfVtXQNEMSeeNB9ww  8skBIGGBo2IBWvYzejhfOQ   \n\n                   business_id                date  stars  useful  \\\n57791   WCQ9YGdpS97t6wAoRAGhiA 2016-07-15 18:18:44      5       0   \n105632  A5vCjdmIJg4UHfvYMremGQ 2015-12-09 07:46:27      4       1   \n114577  7CXy5h3u_aWsK9qov6B4rg 2015-06-14 16:44:13      5       0   \n63362   IEoxvVxtMpqHDyom4Ad6Tw 2016-10-29 18:14:28      5       5   \n35678   bZiIIUcpgxh8mpKMDhdqbA 2013-05-08 13:42:53      4       0   \n164893  E5yQc7ujyi_euHtEki_djQ 2016-09-12 01:34:13      5       1   \n89691   arnbjQR2n0-6-iqdBB_gHw 2017-07-10 05:06:50      5       0   \n130173  1BvysshfkDS2eJ0k8XiDjQ 2018-07-12 01:01:09      5       0   \n44942   R87N6i-a92vJSSMpu_VYPQ 2014-06-28 15:48:17      3       1   \n59318   aHrKrskayskrfeZB-wTI1Q 2018-06-21 00:55:15      2       0   \n22874   EAtNhs_ecwKsZL0qaNPqbQ 2015-10-17 22:49:08      4       0   \n5339    vecuat0jOia-CJveW3ngDw 2015-04-01 15:42:46      5       0   \n183173  mlUbNTKVrPc4UbesjY7mbQ 2015-10-08 17:11:04      5       0   \n207444  LMBo7Dv-5jSTrUgiDkjE9Q 2013-09-26 00:25:16      3       0   \n48706   68p1rT55DCCaB5rIi7Jwng 2012-10-12 22:37:04      2       2   \n\n       business_state business_zipcode  \n57791              FL            32714  \n105632             OR            97086  \n114577             TX            78723  \n63362              OR            97266  \n35678              TX            78704  \n164893             OR            97212  \n89691              MA            02108  \n130173             FL            34747  \n44942              OR            97239  \n59318              GA            30345  \n22874              GA            30307  \n5339               OH            43206  \n183173             MA            02476  \n207444             FL            32828  \n48706              MA            02143  ",
      "text/html": "<div>\n<style scoped>\n    .dataframe tbody tr th:only-of-type {\n        vertical-align: middle;\n    }\n\n    .dataframe tbody tr th {\n        vertical-align: top;\n    }\n\n    .dataframe thead th {\n        text-align: right;\n    }\n</style>\n<table border=\"1\" class=\"dataframe\">\n  <thead>\n    <tr style=\"text-align: right;\">\n      <th></th>\n      <th>review_id</th>\n      <th>user_id</th>\n      <th>business_id</th>\n      <th>date</th>\n      <th>stars</th>\n      <th>useful</th>\n      <th>business_state</th>\n      <th>business_zipcode</th>\n    </tr>\n  </thead>\n  <tbody>\n    <tr>\n      <th>57791</th>\n      <td>ee3OL9JpN6jYDA2J10B62Q</td>\n      <td>YukItNsLqcZoNNN8BsU20Q</td>\n      <td>WCQ9YGdpS97t6wAoRAGhiA</td>\n      <td>2016-07-15 18:18:44</td>\n      <td>5</td>\n      <td>0</td>\n      <td>FL</td>\n      <td>32714</td>\n    </tr>\n    <tr>\n      <th>105632</th>\n      <td>y-KcpDhfy0q5V4vKl_rqSg</td>\n      <td>bKD-b6Zaxx-CGyLexn1KFg</td>\n      <td>A5vCjdmIJg4UHfvYMremGQ</td>\n      <td>2015-12-09 07:46:27</td>\n      <td>4</td>\n      <td>1</td>\n      <td>OR</td>\n      <td>97086</td>\n    </tr>\n    <tr>\n      <th>114577</th>\n      <td>-U0_ahrm4AbtHeb2e1l7tw</td>\n      <td>2wo8-L8EY7ClcmKaIh4wlQ</td>\n      <td>7CXy5h3u_aWsK9qov6B4rg</td>\n      <td>2015-06-14 16:44:13</td>\n      <td>5</td>\n      <td>0</td>\n      <td>TX</td>\n      <td>78723</td>\n    </tr>\n    <tr>\n      <th>63362</th>\n      <td>PogK0GQzpAa5cfqHqmaEZQ</td>\n      <td>MJtbTc8WYvqZLf_D6OLhfQ</td>\n      <td>IEoxvVxtMpqHDyom4Ad6Tw</td>\n      <td>2016-10-29 18:14:28</td>\n      <td>5</td>\n      <td>5</td>\n      <td>OR</td>\n      <td>97266</td>\n    </tr>\n    <tr>\n      <th>35678</th>\n      <td>gXBwO5Va2xhmQoCe7I0FTw</td>\n      <td>xvdkIO99jl6enTzDM1zYCQ</td>\n      <td>bZiIIUcpgxh8mpKMDhdqbA</td>\n      <td>2013-05-08 13:42:53</td>\n      <td>4</td>\n      <td>0</td>\n      <td>TX</td>\n      <td>78704</td>\n    </tr>\n    <tr>\n      <th>164893</th>\n      <td>66QYerA_in60kdmLi8VOfQ</td>\n      <td>Boytzi_nxvFLzpyAIqswmg</td>\n      <td>E5yQc7ujyi_euHtEki_djQ</td>\n      <td>2016-09-12 01:34:13</td>\n      <td>5</td>\n      <td>1</td>\n      <td>OR</td>\n      <td>97212</td>\n    </tr>\n    <tr>\n      <th>89691</th>\n      <td>cQWK35fxGg6WNri3Wkwoow</td>\n      <td>LV_FXhQ9oLVr8_KM5JpmDw</td>\n      <td>arnbjQR2n0-6-iqdBB_gHw</td>\n      <td>2017-07-10 05:06:50</td>\n      <td>5</td>\n      <td>0</td>\n      <td>MA</td>\n      <td>02108</td>\n    </tr>\n    <tr>\n      <th>130173</th>\n      <td>La-dYPMr1dmvYR-sPH0AhQ</td>\n      <td>NbpulXOzalrDcJ-BNPiCKw</td>\n      <td>1BvysshfkDS2eJ0k8XiDjQ</td>\n      <td>2018-07-12 01:01:09</td>\n      <td>5</td>\n      <td>0</td>\n      <td>FL</td>\n      <td>34747</td>\n    </tr>\n    <tr>\n      <th>44942</th>\n      <td>dFTfc1_Vo-m1afEYMQUdNA</td>\n      <td>lgVLBf_kloHe2mphcWx79Q</td>\n      <td>R87N6i-a92vJSSMpu_VYPQ</td>\n      <td>2014-06-28 15:48:17</td>\n      <td>3</td>\n      <td>1</td>\n      <td>OR</td>\n      <td>97239</td>\n    </tr>\n    <tr>\n      <th>59318</th>\n      <td>k1RQi8OSHrzcmUAlemkynQ</td>\n      <td>LnP7yQeyqKfGhnQ65np6jQ</td>\n      <td>aHrKrskayskrfeZB-wTI1Q</td>\n      <td>2018-06-21 00:55:15</td>\n      <td>2</td>\n      <td>0</td>\n      <td>GA</td>\n      <td>30345</td>\n    </tr>\n    <tr>\n      <th>22874</th>\n      <td>Mo7d8d8zjmZW7oVqNynFZQ</td>\n      <td>BSypWBw9GQawiwRPz9TD6g</td>\n      <td>EAtNhs_ecwKsZL0qaNPqbQ</td>\n      <td>2015-10-17 22:49:08</td>\n      <td>4</td>\n      <td>0</td>\n      <td>GA</td>\n      <td>30307</td>\n    </tr>\n    <tr>\n      <th>5339</th>\n      <td>bhL0fNtzstlIXK6ANr5VPg</td>\n      <td>weJhQp7eIcAgSHd6Md1YlQ</td>\n      <td>vecuat0jOia-CJveW3ngDw</td>\n      <td>2015-04-01 15:42:46</td>\n      <td>5</td>\n      <td>0</td>\n      <td>OH</td>\n      <td>43206</td>\n    </tr>\n    <tr>\n      <th>183173</th>\n      <td>hwQmK-FSHMpt2MtFRJLWUA</td>\n      <td>lZeywWxj6dJv3KPib4F8Gg</td>\n      <td>mlUbNTKVrPc4UbesjY7mbQ</td>\n      <td>2015-10-08 17:11:04</td>\n      <td>5</td>\n      <td>0</td>\n      <td>MA</td>\n      <td>02476</td>\n    </tr>\n    <tr>\n      <th>207444</th>\n      <td>YFrCk7Q0meQmedeWRr_8lA</td>\n      <td>QS6Lu0w0JlbPp1Rl9doNiw</td>\n      <td>LMBo7Dv-5jSTrUgiDkjE9Q</td>\n      <td>2013-09-26 00:25:16</td>\n      <td>3</td>\n      <td>0</td>\n      <td>FL</td>\n      <td>32828</td>\n    </tr>\n    <tr>\n      <th>48706</th>\n      <td>WWWwOUfVtXQNEMSeeNB9ww</td>\n      <td>8skBIGGBo2IBWvYzejhfOQ</td>\n      <td>68p1rT55DCCaB5rIi7Jwng</td>\n      <td>2012-10-12 22:37:04</td>\n      <td>2</td>\n      <td>2</td>\n      <td>MA</td>\n      <td>02143</td>\n    </tr>\n  </tbody>\n</table>\n</div>"
     },
     "execution_count": 21,
     "metadata": {},
     "output_type": "execute_result"
    }
   ],
   "source": [
    "REVIEWS.sample(15)"
   ],
   "metadata": {
    "collapsed": false,
    "pycharm": {
     "name": "#%%\n"
    }
   }
  },
  {
   "cell_type": "code",
   "execution_count": 22,
   "outputs": [
    {
     "name": "stderr",
     "output_type": "stream",
     "text": [
      "  2%|▏         | 7/432 [00:00<00:06, 64.25it/s]"
     ]
    },
    {
     "name": "stdout",
     "output_type": "stream",
     "text": [
      "Adding business zipcode ideology\n"
     ]
    },
    {
     "name": "stderr",
     "output_type": "stream",
     "text": [
      " 91%|█████████ | 391/432 [00:06<00:00, 66.26it/s]"
     ]
    },
    {
     "name": "stdout",
     "output_type": "stream",
     "text": [
      "\n"
     ]
    },
    {
     "name": "stderr",
     "output_type": "stream",
     "text": [
      "100%|██████████| 432/432 [00:06<00:00, 62.89it/s]\n"
     ]
    }
   ],
   "source": [
    "# assign business political ideologies by zip code\n",
    "BUSINESS_ZIPS = list(REVIEWS['business_zipcode'].unique())\n",
    "print('Adding business zipcode ideology')\n",
    "for business_zip in tqdm(BUSINESS_ZIPS):\n",
    "    try:\n",
    "        business_ideology = match_loc_to_ideology(business_zip)\n",
    "        REVIEWS.loc[REVIEWS['business_zipcode'] == business_zip, 'business_county_ideology'] = business_ideology\n",
    "    except:\n",
    "        print(business_zip)"
   ],
   "metadata": {
    "collapsed": false,
    "pycharm": {
     "name": "#%%\n"
    }
   }
  },
  {
   "cell_type": "code",
   "execution_count": 23,
   "outputs": [
    {
     "data": {
      "text/plain": "148940"
     },
     "execution_count": 23,
     "metadata": {},
     "output_type": "execute_result"
    }
   ],
   "source": [
    "len(USERS_LIST)"
   ],
   "metadata": {
    "collapsed": false,
    "pycharm": {
     "name": "#%%\n"
    }
   }
  },
  {
   "cell_type": "code",
   "execution_count": 24,
   "outputs": [
    {
     "name": "stdout",
     "output_type": "stream",
     "text": [
      "{'ALABAMA': 'AL', 'ALASKA': 'AK', 'ARIZONA': 'AZ', 'ARKANSAS': 'AR', 'CALIFORNIA': 'CA', 'COLORADO': 'CO', 'CONNECTICUT': 'CT', 'DELAWARE': 'DE', 'DISTRICT OF COLUMBIA': 'DC', 'FLORIDA': 'FL', 'GEORGIA': 'GA', 'HAWAII': 'HI', 'IDAHO': 'ID', 'ILLINOIS': 'IL', 'INDIANA': 'IN', 'IOWA': 'IA', 'KANSAS': 'KS', 'KENTUCKY': 'KY', 'LOUISIANA': 'LA', 'MAINE': 'ME', 'MARYLAND': 'MD', 'MASSACHUSETTS': 'MA', 'MICHIGAN': 'MI', 'MINNESOTA': 'MN', 'MISSISSIPPI': 'MS', 'MISSOURI': 'MO', 'MONTANA': 'MT', 'NEBRASKA': 'NE', 'NEVADA': 'NV', 'NEW HAMPSHIRE': 'NH', 'NEW JERSEY': 'NJ', 'NEW MEXICO': 'NM', 'NEW YORK': 'NY', 'NORTH CAROLINA': 'NC', 'NORTH DAKOTA': 'ND', 'OHIO': 'OH', 'OKLAHOMA': 'OK', 'OREGON': 'OR', 'PENNSYLVANIA': 'PA', 'RHODE ISLAND': 'RI', 'SOUTH CAROLINA': 'SC', 'SOUTH DAKOTA': 'SD', 'TENNESSEE': 'TN', 'TEXAS': 'TX', 'UTAH': 'UT', 'VERMONT': 'VT', 'VIRGINIA': 'VA', 'WASHINGTON': 'WA', 'WEST VIRGINIA': 'WV', 'WISCONSIN': 'WI', 'WYOMING': 'WY'}\n"
     ]
    }
   ],
   "source": [
    "STATES_ABBR = dict()\n",
    "\n",
    "for state in list(STATES_DF['state']):\n",
    "    STATES_ABBR[state] = COUNTY_DF[COUNTY_DF['state'] == state]['state_po'].unique()[0]\n",
    "\n",
    "print(STATES_ABBR)"
   ],
   "metadata": {
    "collapsed": false,
    "pycharm": {
     "name": "#%%\n"
    }
   }
  },
  {
   "cell_type": "code",
   "execution_count": 25,
   "outputs": [
    {
     "name": "stderr",
     "output_type": "stream",
     "text": [
      " 18%|█▊        | 9/51 [00:00<00:00, 81.87it/s]"
     ]
    },
    {
     "name": "stdout",
     "output_type": "stream",
     "text": [
      "Processing business state ideology and state pvi\n"
     ]
    },
    {
     "name": "stderr",
     "output_type": "stream",
     "text": [
      "100%|██████████| 51/51 [00:00<00:00, 82.54it/s]\n"
     ]
    }
   ],
   "source": [
    "print('Processing business state ideology and state pvi')\n",
    "for state in tqdm(list(STATES_ABBR.keys())):\n",
    "    try:\n",
    "        state_ideology = STATES_DF[STATES_DF['state'] == state]['perc_diffs'].iloc[0]\n",
    "\n",
    "        if state == 'DISTRICT OF COLUMBIA':\n",
    "            state_pvi = 0\n",
    "        else:\n",
    "            state_pvi = CPVI[CPVI['state'] == state]['pvi'].iloc[0]\n",
    "\n",
    "        REVIEWS.loc[REVIEWS['business_state'] == STATES_ABBR[state],\n",
    "                    ['business_state_ideology', 'business_state_pvi']] = state_ideology, state_pvi\n",
    "    except:\n",
    "        print(state)\n",
    "        print('bad output')"
   ],
   "metadata": {
    "collapsed": false,
    "pycharm": {
     "name": "#%%\n"
    }
   }
  },
  {
   "cell_type": "code",
   "execution_count": 26,
   "outputs": [
    {
     "name": "stderr",
     "output_type": "stream",
     "text": [
      "  0%|          | 0/3901 [00:00<?, ?it/s]"
     ]
    },
    {
     "name": "stdout",
     "output_type": "stream",
     "text": [
      "Adding total reviews and average stars per business\n"
     ]
    },
    {
     "name": "stderr",
     "output_type": "stream",
     "text": [
      "100%|██████████| 3901/3901 [01:38<00:00, 39.61it/s]\n"
     ]
    }
   ],
   "source": [
    "print('Adding total reviews and average stars per business')\n",
    "REVIEWS['count'] = 1\n",
    "BUSINESS_COUNTS = REVIEWS.groupby('business_id').sum().reset_index()[['business_id', 'count']]\n",
    "BUSINESS_STARS = REVIEWS[['business_id', 'stars']].groupby('business_id').sum().reset_index()\n",
    "BUSINESSES_LIST = list(BUSINESS_COUNTS['business_id'].unique())\n",
    "\n",
    "for business in tqdm(BUSINESSES_LIST):\n",
    "    tot_reviews = BUSINESS_COUNTS[BUSINESS_COUNTS['business_id'] == business]['count'].iloc[0]\n",
    "    avg_stars = round((BUSINESS_STARS[BUSINESS_STARS['business_id'] == business]['stars'].iloc[0] / tot_reviews), 3)\n",
    "    REVIEWS.loc[REVIEWS['business_id'] == business, ['business_review_total', 'avg_star_rating']] = tot_reviews, avg_stars\n"
   ],
   "metadata": {
    "collapsed": false,
    "pycharm": {
     "name": "#%%\n"
    }
   }
  },
  {
   "cell_type": "code",
   "execution_count": 27,
   "outputs": [],
   "source": [
    "# add state pop density"
   ],
   "metadata": {
    "collapsed": false,
    "pycharm": {
     "name": "#%%\n"
    }
   }
  },
  {
   "cell_type": "code",
   "execution_count": 28,
   "outputs": [
    {
     "ename": "AttributeError",
     "evalue": "'Series' object has no attribute 'year'",
     "output_type": "error",
     "traceback": [
      "\u001B[0;31m---------------------------------------------------------------------------\u001B[0m",
      "\u001B[0;31mAttributeError\u001B[0m                            Traceback (most recent call last)",
      "\u001B[0;32m<ipython-input-28-f3b9ed9dba44>\u001B[0m in \u001B[0;36m<module>\u001B[0;34m\u001B[0m\n\u001B[1;32m      2\u001B[0m \u001B[0;34m\u001B[0m\u001B[0m\n\u001B[1;32m      3\u001B[0m \u001B[0mREVIEWS\u001B[0m\u001B[0;34m[\u001B[0m\u001B[0;34m'date'\u001B[0m\u001B[0;34m]\u001B[0m \u001B[0;34m=\u001B[0m \u001B[0mpd\u001B[0m\u001B[0;34m.\u001B[0m\u001B[0mto_datetime\u001B[0m\u001B[0;34m(\u001B[0m\u001B[0mREVIEWS\u001B[0m\u001B[0;34m[\u001B[0m\u001B[0;34m'date'\u001B[0m\u001B[0;34m]\u001B[0m\u001B[0;34m)\u001B[0m\u001B[0;34m\u001B[0m\u001B[0;34m\u001B[0m\u001B[0m\n\u001B[0;32m----> 4\u001B[0;31m \u001B[0mREVIEWS\u001B[0m\u001B[0;34m[\u001B[0m\u001B[0;34m'year'\u001B[0m\u001B[0;34m]\u001B[0m \u001B[0;34m=\u001B[0m \u001B[0mREVIEWS\u001B[0m\u001B[0;34m[\u001B[0m\u001B[0;34m'date'\u001B[0m\u001B[0;34m]\u001B[0m\u001B[0;34m.\u001B[0m\u001B[0myear\u001B[0m\u001B[0;34m\u001B[0m\u001B[0;34m\u001B[0m\u001B[0m\n\u001B[0m\u001B[1;32m      5\u001B[0m \u001B[0mREVIEWS\u001B[0m\u001B[0;34m[\u001B[0m\u001B[0;34m'month'\u001B[0m\u001B[0;34m]\u001B[0m \u001B[0;34m=\u001B[0m \u001B[0mREVIEWS\u001B[0m\u001B[0;34m[\u001B[0m\u001B[0;34m'date'\u001B[0m\u001B[0;34m]\u001B[0m\u001B[0;34m.\u001B[0m\u001B[0mmonth\u001B[0m\u001B[0;34m\u001B[0m\u001B[0;34m\u001B[0m\u001B[0m\n\u001B[1;32m      6\u001B[0m \u001B[0mREVIEWS\u001B[0m\u001B[0;34m[\u001B[0m\u001B[0;34m'day'\u001B[0m\u001B[0;34m]\u001B[0m \u001B[0;34m=\u001B[0m \u001B[0mREVIEWS\u001B[0m\u001B[0;34m[\u001B[0m\u001B[0;34m'date'\u001B[0m\u001B[0;34m]\u001B[0m\u001B[0;34m.\u001B[0m\u001B[0mday\u001B[0m\u001B[0;34m\u001B[0m\u001B[0;34m\u001B[0m\u001B[0m\n",
      "\u001B[0;32m~/.local/lib/python3.8/site-packages/pandas/core/generic.py\u001B[0m in \u001B[0;36m__getattr__\u001B[0;34m(self, name)\u001B[0m\n\u001B[1;32m   5137\u001B[0m             \u001B[0;32mif\u001B[0m \u001B[0mself\u001B[0m\u001B[0;34m.\u001B[0m\u001B[0m_info_axis\u001B[0m\u001B[0;34m.\u001B[0m\u001B[0m_can_hold_identifiers_and_holds_name\u001B[0m\u001B[0;34m(\u001B[0m\u001B[0mname\u001B[0m\u001B[0;34m)\u001B[0m\u001B[0;34m:\u001B[0m\u001B[0;34m\u001B[0m\u001B[0;34m\u001B[0m\u001B[0m\n\u001B[1;32m   5138\u001B[0m                 \u001B[0;32mreturn\u001B[0m \u001B[0mself\u001B[0m\u001B[0;34m[\u001B[0m\u001B[0mname\u001B[0m\u001B[0;34m]\u001B[0m\u001B[0;34m\u001B[0m\u001B[0;34m\u001B[0m\u001B[0m\n\u001B[0;32m-> 5139\u001B[0;31m             \u001B[0;32mreturn\u001B[0m \u001B[0mobject\u001B[0m\u001B[0;34m.\u001B[0m\u001B[0m__getattribute__\u001B[0m\u001B[0;34m(\u001B[0m\u001B[0mself\u001B[0m\u001B[0;34m,\u001B[0m \u001B[0mname\u001B[0m\u001B[0;34m)\u001B[0m\u001B[0;34m\u001B[0m\u001B[0;34m\u001B[0m\u001B[0m\n\u001B[0m\u001B[1;32m   5140\u001B[0m \u001B[0;34m\u001B[0m\u001B[0m\n\u001B[1;32m   5141\u001B[0m     \u001B[0;32mdef\u001B[0m \u001B[0m__setattr__\u001B[0m\u001B[0;34m(\u001B[0m\u001B[0mself\u001B[0m\u001B[0;34m,\u001B[0m \u001B[0mname\u001B[0m\u001B[0;34m:\u001B[0m \u001B[0mstr\u001B[0m\u001B[0;34m,\u001B[0m \u001B[0mvalue\u001B[0m\u001B[0;34m)\u001B[0m \u001B[0;34m->\u001B[0m \u001B[0;32mNone\u001B[0m\u001B[0;34m:\u001B[0m\u001B[0;34m\u001B[0m\u001B[0;34m\u001B[0m\u001B[0m\n",
      "\u001B[0;31mAttributeError\u001B[0m: 'Series' object has no attribute 'year'"
     ]
    }
   ],
   "source": [
    "# split date into separate columns\n",
    "\n",
    "REVIEWS['date'] = pd.to_datetime(REVIEWS['date'])\n",
    "REVIEWS['year'] = REVIEWS['date'].dt.year\n",
    "REVIEWS['month'] = REVIEWS['date'].dt.month\n",
    "REVIEWS['day'] = REVIEWS['date'].dt.day"
   ],
   "metadata": {
    "collapsed": false,
    "pycharm": {
     "name": "#%%\n"
    }
   }
  },
  {
   "cell_type": "code",
   "execution_count": 33,
   "outputs": [
    {
     "data": {
      "text/plain": "                     review_id                 user_id  \\\n0       lWC-xP3rd6obsecCYsGZRg  ak0TdVmGKo4pwqdJSTLwWw   \n1       T5fAqjjFooT4V0OeZyuk1w  SFQ1jcnGguO0LYWnbbftAA   \n2       sjm_uUcQVxab_EeLCqsYLg  0kA0PAJ8QFMeveQWHFqz2A   \n3       J4a2TuhDasjn2k3wWtHZnQ  RNm_RWkcd02Li2mKPRe7Eg   \n4       28gGfkLs3igtjVy61lh77Q  Q8c91v7luItVB0cMFF_mRA   \n...                        ...                     ...   \n208209  _X0ZvwmsQ_CRpGeCFFc_-Q  FwGqxJ_Z5BTKamqxWfD8LQ   \n208210  F6fenNd1vkH3ckuXFPRB6g  u0bwW1sf97hhNzTvkagEsA   \n208211  O0SG6BTN0FHSZ7PJ1wgmzg  mVxg_vBXcUAAQJ03uHxiIQ   \n208212  vTovPnBesDco238QpKtAvA  uVpNSrc3IEpR42VGdZ709w   \n208213  Vm6QFEvxNwF_6f9EwT9ZXQ  8dz_7y-q0MtFZ8m0HYDUAA   \n\n                   business_id                date  stars  useful  \\\n0       buF9druCkbuXLX526sGELQ 2014-10-11 03:34:02      4       3   \n1       0AzLzHfOJgL7ROwhdww2ew 2010-01-08 02:29:15      2       1   \n2       8zehGz9jnxPqXtOc7KaJxA 2011-07-28 18:05:01      4       0   \n3       xGXzsc-hzam-VArK6eTvtw 2018-01-21 04:41:03      1       2   \n4       EXOsmAB1s71WePlQk0WZrA 2006-04-16 02:58:44      2       0   \n...                        ...                 ...    ...     ...   \n208209  eZE0FdYB9rUvbuPS4fNyYA 2015-01-24 23:12:37      2       5   \n208210  enSXnvEKjDCit9A2_vyugg 2011-10-09 20:24:16      4       0   \n208211  La_xmePMtWwjxKUqbGvqGQ 2010-05-30 11:06:52      2       0   \n208212  4jOreXu9ctLBWOJWMtNv1w 2017-01-07 05:55:39      4       0   \n208213  3cLBtLFiH8IRdlEy9S8RiQ 2016-04-29 21:23:59      4       0   \n\n       business_state business_zipcode  business_county_ideology  \\\n0                  MA            01915                    -28.82   \n1                  FL            32821                    -23.12   \n2                  CO            80302                    -56.57   \n3                  MA            02144                    -44.89   \n4                  MA            02215                    -62.84   \n...               ...              ...                       ...   \n208209             TX            78701                    -45.11   \n208210             FL            32771                     -2.79   \n208211             TX            78703                    -45.11   \n208212             WA            98665                     -5.09   \n208213             FL            32836                    -23.12   \n\n        business_state_ideology  business_state_pvi  business_review_total  \\\n0                        -33.21               -14.0                   44.0   \n1                          3.36                 3.0                  121.0   \n2                        -13.50                -3.0                  472.0   \n3                        -33.21               -14.0                  248.0   \n4                        -33.21               -14.0                   11.0   \n...                         ...                 ...                    ...   \n208209                     5.58                 5.0                  252.0   \n208210                     3.36                 3.0                   29.0   \n208211                     5.58                 5.0                  108.0   \n208212                   -19.20                -8.0                   18.0   \n208213                     3.36                 3.0                  564.0   \n\n        avg_star_rating  year  month  day  \n0                 3.614  2014     10   11  \n1                 3.446  2010      1    8  \n2                 4.282  2011      7   28  \n3                 3.472  2018      1   21  \n4                 3.000  2006      4   16  \n...                 ...   ...    ...  ...  \n208209            4.266  2015      1   24  \n208210            2.966  2011     10    9  \n208211            3.944  2010      5   30  \n208212            3.111  2017      1    7  \n208213            4.254  2016      4   29  \n\n[190293 rows x 16 columns]",
      "text/html": "<div>\n<style scoped>\n    .dataframe tbody tr th:only-of-type {\n        vertical-align: middle;\n    }\n\n    .dataframe tbody tr th {\n        vertical-align: top;\n    }\n\n    .dataframe thead th {\n        text-align: right;\n    }\n</style>\n<table border=\"1\" class=\"dataframe\">\n  <thead>\n    <tr style=\"text-align: right;\">\n      <th></th>\n      <th>review_id</th>\n      <th>user_id</th>\n      <th>business_id</th>\n      <th>date</th>\n      <th>stars</th>\n      <th>useful</th>\n      <th>business_state</th>\n      <th>business_zipcode</th>\n      <th>business_county_ideology</th>\n      <th>business_state_ideology</th>\n      <th>business_state_pvi</th>\n      <th>business_review_total</th>\n      <th>avg_star_rating</th>\n      <th>year</th>\n      <th>month</th>\n      <th>day</th>\n    </tr>\n  </thead>\n  <tbody>\n    <tr>\n      <th>0</th>\n      <td>lWC-xP3rd6obsecCYsGZRg</td>\n      <td>ak0TdVmGKo4pwqdJSTLwWw</td>\n      <td>buF9druCkbuXLX526sGELQ</td>\n      <td>2014-10-11 03:34:02</td>\n      <td>4</td>\n      <td>3</td>\n      <td>MA</td>\n      <td>01915</td>\n      <td>-28.82</td>\n      <td>-33.21</td>\n      <td>-14.0</td>\n      <td>44.0</td>\n      <td>3.614</td>\n      <td>2014</td>\n      <td>10</td>\n      <td>11</td>\n    </tr>\n    <tr>\n      <th>1</th>\n      <td>T5fAqjjFooT4V0OeZyuk1w</td>\n      <td>SFQ1jcnGguO0LYWnbbftAA</td>\n      <td>0AzLzHfOJgL7ROwhdww2ew</td>\n      <td>2010-01-08 02:29:15</td>\n      <td>2</td>\n      <td>1</td>\n      <td>FL</td>\n      <td>32821</td>\n      <td>-23.12</td>\n      <td>3.36</td>\n      <td>3.0</td>\n      <td>121.0</td>\n      <td>3.446</td>\n      <td>2010</td>\n      <td>1</td>\n      <td>8</td>\n    </tr>\n    <tr>\n      <th>2</th>\n      <td>sjm_uUcQVxab_EeLCqsYLg</td>\n      <td>0kA0PAJ8QFMeveQWHFqz2A</td>\n      <td>8zehGz9jnxPqXtOc7KaJxA</td>\n      <td>2011-07-28 18:05:01</td>\n      <td>4</td>\n      <td>0</td>\n      <td>CO</td>\n      <td>80302</td>\n      <td>-56.57</td>\n      <td>-13.50</td>\n      <td>-3.0</td>\n      <td>472.0</td>\n      <td>4.282</td>\n      <td>2011</td>\n      <td>7</td>\n      <td>28</td>\n    </tr>\n    <tr>\n      <th>3</th>\n      <td>J4a2TuhDasjn2k3wWtHZnQ</td>\n      <td>RNm_RWkcd02Li2mKPRe7Eg</td>\n      <td>xGXzsc-hzam-VArK6eTvtw</td>\n      <td>2018-01-21 04:41:03</td>\n      <td>1</td>\n      <td>2</td>\n      <td>MA</td>\n      <td>02144</td>\n      <td>-44.89</td>\n      <td>-33.21</td>\n      <td>-14.0</td>\n      <td>248.0</td>\n      <td>3.472</td>\n      <td>2018</td>\n      <td>1</td>\n      <td>21</td>\n    </tr>\n    <tr>\n      <th>4</th>\n      <td>28gGfkLs3igtjVy61lh77Q</td>\n      <td>Q8c91v7luItVB0cMFF_mRA</td>\n      <td>EXOsmAB1s71WePlQk0WZrA</td>\n      <td>2006-04-16 02:58:44</td>\n      <td>2</td>\n      <td>0</td>\n      <td>MA</td>\n      <td>02215</td>\n      <td>-62.84</td>\n      <td>-33.21</td>\n      <td>-14.0</td>\n      <td>11.0</td>\n      <td>3.000</td>\n      <td>2006</td>\n      <td>4</td>\n      <td>16</td>\n    </tr>\n    <tr>\n      <th>...</th>\n      <td>...</td>\n      <td>...</td>\n      <td>...</td>\n      <td>...</td>\n      <td>...</td>\n      <td>...</td>\n      <td>...</td>\n      <td>...</td>\n      <td>...</td>\n      <td>...</td>\n      <td>...</td>\n      <td>...</td>\n      <td>...</td>\n      <td>...</td>\n      <td>...</td>\n      <td>...</td>\n    </tr>\n    <tr>\n      <th>208209</th>\n      <td>_X0ZvwmsQ_CRpGeCFFc_-Q</td>\n      <td>FwGqxJ_Z5BTKamqxWfD8LQ</td>\n      <td>eZE0FdYB9rUvbuPS4fNyYA</td>\n      <td>2015-01-24 23:12:37</td>\n      <td>2</td>\n      <td>5</td>\n      <td>TX</td>\n      <td>78701</td>\n      <td>-45.11</td>\n      <td>5.58</td>\n      <td>5.0</td>\n      <td>252.0</td>\n      <td>4.266</td>\n      <td>2015</td>\n      <td>1</td>\n      <td>24</td>\n    </tr>\n    <tr>\n      <th>208210</th>\n      <td>F6fenNd1vkH3ckuXFPRB6g</td>\n      <td>u0bwW1sf97hhNzTvkagEsA</td>\n      <td>enSXnvEKjDCit9A2_vyugg</td>\n      <td>2011-10-09 20:24:16</td>\n      <td>4</td>\n      <td>0</td>\n      <td>FL</td>\n      <td>32771</td>\n      <td>-2.79</td>\n      <td>3.36</td>\n      <td>3.0</td>\n      <td>29.0</td>\n      <td>2.966</td>\n      <td>2011</td>\n      <td>10</td>\n      <td>9</td>\n    </tr>\n    <tr>\n      <th>208211</th>\n      <td>O0SG6BTN0FHSZ7PJ1wgmzg</td>\n      <td>mVxg_vBXcUAAQJ03uHxiIQ</td>\n      <td>La_xmePMtWwjxKUqbGvqGQ</td>\n      <td>2010-05-30 11:06:52</td>\n      <td>2</td>\n      <td>0</td>\n      <td>TX</td>\n      <td>78703</td>\n      <td>-45.11</td>\n      <td>5.58</td>\n      <td>5.0</td>\n      <td>108.0</td>\n      <td>3.944</td>\n      <td>2010</td>\n      <td>5</td>\n      <td>30</td>\n    </tr>\n    <tr>\n      <th>208212</th>\n      <td>vTovPnBesDco238QpKtAvA</td>\n      <td>uVpNSrc3IEpR42VGdZ709w</td>\n      <td>4jOreXu9ctLBWOJWMtNv1w</td>\n      <td>2017-01-07 05:55:39</td>\n      <td>4</td>\n      <td>0</td>\n      <td>WA</td>\n      <td>98665</td>\n      <td>-5.09</td>\n      <td>-19.20</td>\n      <td>-8.0</td>\n      <td>18.0</td>\n      <td>3.111</td>\n      <td>2017</td>\n      <td>1</td>\n      <td>7</td>\n    </tr>\n    <tr>\n      <th>208213</th>\n      <td>Vm6QFEvxNwF_6f9EwT9ZXQ</td>\n      <td>8dz_7y-q0MtFZ8m0HYDUAA</td>\n      <td>3cLBtLFiH8IRdlEy9S8RiQ</td>\n      <td>2016-04-29 21:23:59</td>\n      <td>4</td>\n      <td>0</td>\n      <td>FL</td>\n      <td>32836</td>\n      <td>-23.12</td>\n      <td>3.36</td>\n      <td>3.0</td>\n      <td>564.0</td>\n      <td>4.254</td>\n      <td>2016</td>\n      <td>4</td>\n      <td>29</td>\n    </tr>\n  </tbody>\n</table>\n<p>190293 rows × 16 columns</p>\n</div>"
     },
     "execution_count": 33,
     "metadata": {},
     "output_type": "execute_result"
    }
   ],
   "source": [
    "REVIEWS.drop(columns=['count'], inplace=True)\n",
    "REVIEWS"
   ],
   "metadata": {
    "collapsed": false,
    "pycharm": {
     "name": "#%%\n"
    }
   }
  },
  {
   "cell_type": "code",
   "execution_count": 34,
   "outputs": [],
   "source": [
    "REVIEWS.to_csv('data/yelp_dataset.csv')"
   ],
   "metadata": {
    "collapsed": false,
    "pycharm": {
     "name": "#%%\n"
    }
   }
  }
 ],
 "metadata": {
  "kernelspec": {
   "display_name": "Python 3",
   "language": "python",
   "name": "python3"
  },
  "language_info": {
   "codemirror_mode": {
    "name": "ipython",
    "version": 3
   },
   "file_extension": ".py",
   "mimetype": "text/x-python",
   "name": "python",
   "nbconvert_exporter": "python",
   "pygments_lexer": "ipython3",
   "version": "3.8.10"
  }
 },
 "nbformat": 4,
 "nbformat_minor": 0
}