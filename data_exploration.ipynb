{
 "cells": [
  {
   "cell_type": "code",
   "execution_count": 1,
   "metadata": {
    "collapsed": true
   },
   "outputs": [],
   "source": [
    "import pandas as pd\n",
    "import numpy as np\n",
    "from tqdm import tqdm"
   ]
  },
  {
   "cell_type": "code",
   "execution_count": 2,
   "outputs": [],
   "source": [
    "def fix_zipcodes(zipcode):\n",
    "    if len(zipcode) < 5:\n",
    "        to_fill = 5 - len(zipcode)\n",
    "        return (to_fill * '0') + zipcode\n",
    "\n",
    "    else:\n",
    "        return zipcode\n",
    "\n",
    "def fix_county_name(county_name):\n",
    "    if 'county' in county_name:\n",
    "        return county_name[:county_name.find('county')].rstrip()\n",
    "    else:\n",
    "        return county_name\n",
    "\n",
    "def match_loc_to_ideology(zipcode):\n",
    "    zipcode_state = ZIPS_DF[ZIPS_DF['zip'] == zipcode]['state'].iloc[0]\n",
    "    county_name = fix_county_name(ZIPS_DF[ZIPS_DF['zip'] == zipcode]['county'].iloc[0])\n",
    "\n",
    "    state_slice = COUNTY_DF[COUNTY_DF['state_po'] == zipcode_state]\n",
    "    ideology_metric = state_slice.loc[state_slice['county_name']==county_name]['perc_diffs'].iloc[0]\n",
    "\n",
    "    return ideology_metric\n",
    "\n",
    "def process_cpvi(cpvi):\n",
    "    if cpvi.startswith('R'):\n",
    "        return int(cpvi.split('+')[1])\n",
    "    elif cpvi.startswith('D'):\n",
    "        cpvi_metric = int(cpvi.split('+')[1])\n",
    "        return np.negative(cpvi_metric)\n",
    "    else:\n",
    "        return 0"
   ],
   "metadata": {
    "collapsed": false,
    "pycharm": {
     "name": "#%%\n"
    }
   }
  },
  {
   "cell_type": "code",
   "execution_count": 3,
   "metadata": {
    "collapsed": false,
    "pycharm": {
     "name": "#%%\n"
    }
   },
   "outputs": [],
   "source": [
    "BUSINESS_DATA_FILEPATH = 'data/yelp_academic_dataset_business.json'\n",
    "REVIEWS_DATA_FILEPATH = 'data/yelp_academic_dataset_review.json'\n",
    "USERS_DATA_FILEPATH = 'data/yelp_academic_dataset_user.json'\n",
    "COUNTY_DATA_FILEPATH = 'data/county_data.csv'\n",
    "STATES_DATA_FILEPATH = 'data/states_data.csv'\n",
    "ZIPCODES_DATA_FILEPATH = 'data/zip_code_database.csv'\n",
    "CPI_URL = 'https://en.wikipedia.org/wiki/Cook_Partisan_Voting_Index'\n",
    "POP_DENSITY_FILEPATH = 'data/apportionment.csv'\n"
   ]
  },
  {
   "cell_type": "code",
   "execution_count": 4,
   "outputs": [],
   "source": [
    "COUNTY_DF = pd.read_csv(COUNTY_DATA_FILEPATH, index_col=0)\n",
    "STATES_DF = pd.read_csv(STATES_DATA_FILEPATH, index_col=0)\n",
    "ZIPS_DF = pd.read_csv(ZIPCODES_DATA_FILEPATH)"
   ],
   "metadata": {
    "collapsed": false,
    "pycharm": {
     "name": "#%%\n"
    }
   }
  },
  {
   "cell_type": "code",
   "execution_count": 5,
   "outputs": [
    {
     "data": {
      "text/plain": "     zip state               county\n0  00501    NY       suffolk county\n1  00544    NY       suffolk county\n2  00601    PR   adjuntas municipio\n3  00602    PR     aguada municipio\n4  00603    PR  aguadilla municipio",
      "text/html": "<div>\n<style scoped>\n    .dataframe tbody tr th:only-of-type {\n        vertical-align: middle;\n    }\n\n    .dataframe tbody tr th {\n        vertical-align: top;\n    }\n\n    .dataframe thead th {\n        text-align: right;\n    }\n</style>\n<table border=\"1\" class=\"dataframe\">\n  <thead>\n    <tr style=\"text-align: right;\">\n      <th></th>\n      <th>zip</th>\n      <th>state</th>\n      <th>county</th>\n    </tr>\n  </thead>\n  <tbody>\n    <tr>\n      <th>0</th>\n      <td>00501</td>\n      <td>NY</td>\n      <td>suffolk county</td>\n    </tr>\n    <tr>\n      <th>1</th>\n      <td>00544</td>\n      <td>NY</td>\n      <td>suffolk county</td>\n    </tr>\n    <tr>\n      <th>2</th>\n      <td>00601</td>\n      <td>PR</td>\n      <td>adjuntas municipio</td>\n    </tr>\n    <tr>\n      <th>3</th>\n      <td>00602</td>\n      <td>PR</td>\n      <td>aguada municipio</td>\n    </tr>\n    <tr>\n      <th>4</th>\n      <td>00603</td>\n      <td>PR</td>\n      <td>aguadilla municipio</td>\n    </tr>\n  </tbody>\n</table>\n</div>"
     },
     "execution_count": 5,
     "metadata": {},
     "output_type": "execute_result"
    }
   ],
   "source": [
    "ZIPS_DF = ZIPS_DF[['zip', 'state', 'county']]\n",
    "ZIPS_DF['zip'] = ZIPS_DF['zip'].astype(str).apply(fix_zipcodes)\n",
    "ZIPS_DF['county'] = ZIPS_DF['county'].str.lower()\n",
    "ZIPS_DF.loc[len(ZIPS_DF)] = ['02101', 'MA', 'suffolk county']\n",
    "ZIPS_DF.head()"
   ],
   "metadata": {
    "collapsed": false,
    "pycharm": {
     "name": "#%%\n"
    }
   }
  },
  {
   "cell_type": "code",
   "execution_count": 6,
   "outputs": [
    {
     "data": {
      "text/plain": "                state state_po county_name  perc_diffs\n72119      WASHINGTON       WA    skamania        9.48\n63425    NORTH DAKOTA       ND        eddy       37.35\n53224        COLORADO       CO    saguache      -13.90\n52724      CALIFORNIA       CA        inyo       -0.15\n64166  SOUTH CAROLINA       SC    barnwell      -22.14\n63851    PENNSYLVANIA       PA      greene       43.40\n59316       MINNESOTA       MN      carver        4.88\n71193        VIRGINIA       VA     patrick      -52.76",
      "text/html": "<div>\n<style scoped>\n    .dataframe tbody tr th:only-of-type {\n        vertical-align: middle;\n    }\n\n    .dataframe tbody tr th {\n        vertical-align: top;\n    }\n\n    .dataframe thead th {\n        text-align: right;\n    }\n</style>\n<table border=\"1\" class=\"dataframe\">\n  <thead>\n    <tr style=\"text-align: right;\">\n      <th></th>\n      <th>state</th>\n      <th>state_po</th>\n      <th>county_name</th>\n      <th>perc_diffs</th>\n    </tr>\n  </thead>\n  <tbody>\n    <tr>\n      <th>72119</th>\n      <td>WASHINGTON</td>\n      <td>WA</td>\n      <td>skamania</td>\n      <td>9.48</td>\n    </tr>\n    <tr>\n      <th>63425</th>\n      <td>NORTH DAKOTA</td>\n      <td>ND</td>\n      <td>eddy</td>\n      <td>37.35</td>\n    </tr>\n    <tr>\n      <th>53224</th>\n      <td>COLORADO</td>\n      <td>CO</td>\n      <td>saguache</td>\n      <td>-13.90</td>\n    </tr>\n    <tr>\n      <th>52724</th>\n      <td>CALIFORNIA</td>\n      <td>CA</td>\n      <td>inyo</td>\n      <td>-0.15</td>\n    </tr>\n    <tr>\n      <th>64166</th>\n      <td>SOUTH CAROLINA</td>\n      <td>SC</td>\n      <td>barnwell</td>\n      <td>-22.14</td>\n    </tr>\n    <tr>\n      <th>63851</th>\n      <td>PENNSYLVANIA</td>\n      <td>PA</td>\n      <td>greene</td>\n      <td>43.40</td>\n    </tr>\n    <tr>\n      <th>59316</th>\n      <td>MINNESOTA</td>\n      <td>MN</td>\n      <td>carver</td>\n      <td>4.88</td>\n    </tr>\n    <tr>\n      <th>71193</th>\n      <td>VIRGINIA</td>\n      <td>VA</td>\n      <td>patrick</td>\n      <td>-52.76</td>\n    </tr>\n  </tbody>\n</table>\n</div>"
     },
     "execution_count": 6,
     "metadata": {},
     "output_type": "execute_result"
    }
   ],
   "source": [
    "COUNTY_DF['county_name'] = COUNTY_DF['county_name'].str.lower()\n",
    "COUNTY_DF['county_name'] = COUNTY_DF['county_name'].apply(fix_county_name)\n",
    "COUNTY_DF.sample(8)\n"
   ],
   "metadata": {
    "collapsed": false,
    "pycharm": {
     "name": "#%%\n"
    }
   }
  },
  {
   "cell_type": "code",
   "execution_count": 7,
   "outputs": [
    {
     "data": {
      "text/plain": "        state  perc_diffs\n1     ALABAMA       25.46\n3      ALASKA       10.11\n5     ARIZONA       -0.10\n7    ARKANSAS        6.91\n9  CALIFORNIA      -29.16",
      "text/html": "<div>\n<style scoped>\n    .dataframe tbody tr th:only-of-type {\n        vertical-align: middle;\n    }\n\n    .dataframe tbody tr th {\n        vertical-align: top;\n    }\n\n    .dataframe thead th {\n        text-align: right;\n    }\n</style>\n<table border=\"1\" class=\"dataframe\">\n  <thead>\n    <tr style=\"text-align: right;\">\n      <th></th>\n      <th>state</th>\n      <th>perc_diffs</th>\n    </tr>\n  </thead>\n  <tbody>\n    <tr>\n      <th>1</th>\n      <td>ALABAMA</td>\n      <td>25.46</td>\n    </tr>\n    <tr>\n      <th>3</th>\n      <td>ALASKA</td>\n      <td>10.11</td>\n    </tr>\n    <tr>\n      <th>5</th>\n      <td>ARIZONA</td>\n      <td>-0.10</td>\n    </tr>\n    <tr>\n      <th>7</th>\n      <td>ARKANSAS</td>\n      <td>6.91</td>\n    </tr>\n    <tr>\n      <th>9</th>\n      <td>CALIFORNIA</td>\n      <td>-29.16</td>\n    </tr>\n  </tbody>\n</table>\n</div>"
     },
     "execution_count": 7,
     "metadata": {},
     "output_type": "execute_result"
    }
   ],
   "source": [
    "STATES_DF.head()"
   ],
   "metadata": {
    "collapsed": false,
    "pycharm": {
     "name": "#%%\n"
    }
   }
  },
  {
   "cell_type": "code",
   "execution_count": 8,
   "outputs": [
    {
     "name": "stdout",
     "output_type": "stream",
     "text": [
      "Number of states: 51\n"
     ]
    }
   ],
   "source": [
    "STATES_LIST = list(COUNTY_DF['state_po'].unique())\n",
    "print(f\"Number of states: {len(STATES_LIST)}\")"
   ],
   "metadata": {
    "collapsed": false,
    "pycharm": {
     "name": "#%%\n"
    }
   }
  },
  {
   "cell_type": "code",
   "execution_count": 9,
   "outputs": [],
   "source": [
    "CPVI = pd.read_html(CPI_URL)[1]\n",
    "CPVI.drop(CPVI.tail(1).index, inplace=True)\n",
    "CPVI['pvi'] = CPVI['PVI'].apply(process_cpvi)\n",
    "CPVI['state'] = CPVI['State'].str.upper()\n",
    "CPVI = CPVI[['state', 'pvi']]"
   ],
   "metadata": {
    "collapsed": false,
    "pycharm": {
     "name": "#%%\n"
    }
   }
  },
  {
   "cell_type": "code",
   "execution_count": 10,
   "outputs": [
    {
     "data": {
      "text/plain": "         Name Geography Type  Year Resident Population  \\\n0     Alabama          State  1910           2,138,093   \n1      Alaska          State  1910              64,356   \n2     Arizona          State  1910             204,354   \n3    Arkansas          State  1910           1,574,449   \n4  California          State  1910           2,377,549   \n\n   Percent Change in Resident Population Resident Population Density  \\\n0                                   16.9                        42.2   \n1                                    1.2                         0.1   \n2                                   66.2                         1.8   \n3                                   20.0                        30.3   \n4                                   60.1                        15.3   \n\n   Resident Population Density Rank  Number of Representatives  \\\n0                              25.0                       10.0   \n1                              52.0                        NaN   \n2                              49.0                        NaN   \n3                              30.0                        7.0   \n4                              38.0                       11.0   \n\n   Change in Number of Representatives  \\\n0                                  1.0   \n1                                  NaN   \n2                                  NaN   \n3                                  0.0   \n4                                  3.0   \n\n  Average Apportionment Population Per Representative  \n0                                            213,809   \n1                                                NaN   \n2                                                NaN   \n3                                            224,921   \n4                                            216,051   ",
      "text/html": "<div>\n<style scoped>\n    .dataframe tbody tr th:only-of-type {\n        vertical-align: middle;\n    }\n\n    .dataframe tbody tr th {\n        vertical-align: top;\n    }\n\n    .dataframe thead th {\n        text-align: right;\n    }\n</style>\n<table border=\"1\" class=\"dataframe\">\n  <thead>\n    <tr style=\"text-align: right;\">\n      <th></th>\n      <th>Name</th>\n      <th>Geography Type</th>\n      <th>Year</th>\n      <th>Resident Population</th>\n      <th>Percent Change in Resident Population</th>\n      <th>Resident Population Density</th>\n      <th>Resident Population Density Rank</th>\n      <th>Number of Representatives</th>\n      <th>Change in Number of Representatives</th>\n      <th>Average Apportionment Population Per Representative</th>\n    </tr>\n  </thead>\n  <tbody>\n    <tr>\n      <th>0</th>\n      <td>Alabama</td>\n      <td>State</td>\n      <td>1910</td>\n      <td>2,138,093</td>\n      <td>16.9</td>\n      <td>42.2</td>\n      <td>25.0</td>\n      <td>10.0</td>\n      <td>1.0</td>\n      <td>213,809</td>\n    </tr>\n    <tr>\n      <th>1</th>\n      <td>Alaska</td>\n      <td>State</td>\n      <td>1910</td>\n      <td>64,356</td>\n      <td>1.2</td>\n      <td>0.1</td>\n      <td>52.0</td>\n      <td>NaN</td>\n      <td>NaN</td>\n      <td>NaN</td>\n    </tr>\n    <tr>\n      <th>2</th>\n      <td>Arizona</td>\n      <td>State</td>\n      <td>1910</td>\n      <td>204,354</td>\n      <td>66.2</td>\n      <td>1.8</td>\n      <td>49.0</td>\n      <td>NaN</td>\n      <td>NaN</td>\n      <td>NaN</td>\n    </tr>\n    <tr>\n      <th>3</th>\n      <td>Arkansas</td>\n      <td>State</td>\n      <td>1910</td>\n      <td>1,574,449</td>\n      <td>20.0</td>\n      <td>30.3</td>\n      <td>30.0</td>\n      <td>7.0</td>\n      <td>0.0</td>\n      <td>224,921</td>\n    </tr>\n    <tr>\n      <th>4</th>\n      <td>California</td>\n      <td>State</td>\n      <td>1910</td>\n      <td>2,377,549</td>\n      <td>60.1</td>\n      <td>15.3</td>\n      <td>38.0</td>\n      <td>11.0</td>\n      <td>3.0</td>\n      <td>216,051</td>\n    </tr>\n  </tbody>\n</table>\n</div>"
     },
     "execution_count": 10,
     "metadata": {},
     "output_type": "execute_result"
    }
   ],
   "source": [
    "POP_DENSITY = pd.read_csv(POP_DENSITY_FILEPATH)\n",
    "POP_DENSITY.head()"
   ],
   "metadata": {
    "collapsed": false,
    "pycharm": {
     "name": "#%%\n"
    }
   }
  },
  {
   "cell_type": "code",
   "execution_count": 11,
   "outputs": [
    {
     "data": {
      "text/plain": "Name                                                    object\nGeography Type                                          object\nYear                                                     int64\nResident Population                                     object\nPercent Change in Resident Population                  float64\nResident Population Density                             object\nResident Population Density Rank                       float64\nNumber of Representatives                              float64\nChange in Number of Representatives                    float64\nAverage Apportionment Population Per Representative     object\ndtype: object"
     },
     "execution_count": 11,
     "metadata": {},
     "output_type": "execute_result"
    }
   ],
   "source": [
    "POP_DENSITY.dtypes\n",
    "# POP_DENSITY"
   ],
   "metadata": {
    "collapsed": false,
    "pycharm": {
     "name": "#%%\n"
    }
   }
  },
  {
   "cell_type": "code",
   "execution_count": 12,
   "metadata": {
    "collapsed": false,
    "pycharm": {
     "name": "#%%\n"
    }
   },
   "outputs": [],
   "source": [
    "USER_COLS = ['user_id', 'review_count']\n",
    "BUSINESS_COLS = ['business_id', 'state', 'city', 'postal_code', 'categories', 'stars', 'review_count']\n",
    "REVIEW_COLS = ['review_id', 'user_id', 'business_id', 'date', 'stars', 'useful']\n",
    "ZIPCODES_COLS = ['zip', 'county']\n",
    "\n",
    "USER_DTYPES = {\n",
    "    'user_id': np.str,\n",
    "    'review_count': np.int\n",
    "}\n",
    "\n",
    "BUSINESS_DTYPES = {\n",
    "    'business_id': np.str,\n",
    "    'state': np.str,\n",
    "    'city': np.str,\n",
    "    'postal_code': np.str,\n",
    "    'categories': np.str,\n",
    "    'review_count': np.int,\n",
    "    'stars': np.float,\n",
    "}\n",
    "\n",
    "REVIEW_DTYPES = {\n",
    "    'review_id': np.str,\n",
    "    'user_id': np.str,\n",
    "    'business_id': np.str,\n",
    "    'stars': np.int,\n",
    "    'useful': np.int\n",
    "}\n",
    "\n",
    "ZIPS_DTYPES = {\n",
    "    'zip': np.str,\n",
    "    'county': np.str\n",
    "}"
   ]
  },
  {
   "cell_type": "code",
   "execution_count": 13,
   "outputs": [
    {
     "name": "stdout",
     "output_type": "stream",
     "text": [
      "Loading businesses...\n"
     ]
    },
    {
     "name": "stderr",
     "output_type": "stream",
     "text": [
      "161it [00:04, 40.01it/s]\n"
     ]
    }
   ],
   "source": [
    "BUSINESSES = list()\n",
    "\n",
    "print('Loading businesses...')\n",
    "\n",
    "with open(BUSINESS_DATA_FILEPATH, 'r') as f:\n",
    "    reader = pd.read_json(f, orient='records', lines=True, chunksize=1000, dtype=BUSINESS_DTYPES)\n",
    "\n",
    "    for chunk in tqdm(reader):\n",
    "        reduced_chunk = chunk[BUSINESS_COLS]\n",
    "        reduced_chunk = reduced_chunk[reduced_chunk['state'].isin(STATES_LIST)]\n",
    "        reduced_chunk['postal_code'] = reduced_chunk['postal_code'].apply(fix_zipcodes)\n",
    "        reduced_chunk = reduced_chunk[reduced_chunk['categories'].notnull()]\n",
    "        reduced_chunk = reduced_chunk[reduced_chunk['categories'].str.contains('Restaurants')]\n",
    "        BUSINESSES.append(reduced_chunk)\n",
    "\n",
    "    BUSINESSES = pd.concat(BUSINESSES, ignore_index=True)"
   ],
   "metadata": {
    "collapsed": false,
    "pycharm": {
     "name": "#%%\n"
    }
   }
  },
  {
   "cell_type": "code",
   "execution_count": 14,
   "outputs": [],
   "source": [
    "BUSINESS_LIST = list(BUSINESSES['business_id'].unique())"
   ],
   "metadata": {
    "collapsed": false,
    "pycharm": {
     "name": "#%%\n"
    }
   }
  },
  {
   "cell_type": "code",
   "execution_count": 15,
   "outputs": [
    {
     "name": "stderr",
     "output_type": "stream",
     "text": [
      "3it [00:00, 25.58it/s]"
     ]
    },
    {
     "name": "stdout",
     "output_type": "stream",
     "text": [
      "Loading reviews...\n"
     ]
    },
    {
     "name": "stderr",
     "output_type": "stream",
     "text": [
      "300it [00:06, 46.16it/s]\n"
     ]
    },
    {
     "name": "stdout",
     "output_type": "stream",
     "text": [
      "Reviews loaded\n"
     ]
    }
   ],
   "source": [
    "# Load 300,000 reviews from reviews\n",
    "REVIEWS = list()\n",
    "print('Loading reviews...')\n",
    "with open(REVIEWS_DATA_FILEPATH, 'r') as f:\n",
    "    reader = pd.read_json(f, orient='records', nrows=300000, lines=True, chunksize=1000, dtype=REVIEW_DTYPES)\n",
    "\n",
    "    for chunk in tqdm(reader):\n",
    "        reduced_chunk = chunk[REVIEW_COLS]\n",
    "        reduced_chunk = reduced_chunk[reduced_chunk['business_id'].isin(BUSINESS_LIST)]\n",
    "        # Only keep US\n",
    "        REVIEWS.append(reduced_chunk)\n",
    "    REVIEWS = pd.concat(REVIEWS, ignore_index=True)\n",
    "print('Reviews loaded')"
   ],
   "metadata": {
    "collapsed": false,
    "pycharm": {
     "name": "#%%\n"
    }
   }
  },
  {
   "cell_type": "code",
   "execution_count": 16,
   "outputs": [
    {
     "name": "stdout",
     "output_type": "stream",
     "text": [
      "Number of businssess: 3901\n"
     ]
    }
   ],
   "source": [
    "BUSINESS_LIST = list(REVIEWS['business_id'].unique()) # rename to get effective list\n",
    "print(f\"Number of businssess: {len(BUSINESS_LIST)}\")\n",
    "USERS_LIST = list(REVIEWS['user_id'].unique())\n"
   ],
   "metadata": {
    "collapsed": false,
    "pycharm": {
     "name": "#%%\n"
    }
   }
  },
  {
   "cell_type": "code",
   "execution_count": 17,
   "outputs": [
    {
     "name": "stderr",
     "output_type": "stream",
     "text": [
      "  0%|          | 0/3901 [00:00<?, ?it/s]"
     ]
    },
    {
     "name": "stdout",
     "output_type": "stream",
     "text": [
      "Adding business state and zip codes...\n"
     ]
    },
    {
     "name": "stderr",
     "output_type": "stream",
     "text": [
      "100%|██████████| 3901/3901 [02:06<00:00, 30.77it/s]\n"
     ]
    }
   ],
   "source": [
    "# add business zip code in first\n",
    "# add business state\n",
    "print('Adding business state and zip codes...')\n",
    "for business_id in tqdm(BUSINESS_LIST):\n",
    "    business_zipcode = BUSINESSES[BUSINESSES['business_id'] == business_id]['postal_code'].iloc[0]\n",
    "    business_state = BUSINESSES[BUSINESSES['business_id'] == business_id]['state'].iloc[0]\n",
    "\n",
    "    REVIEWS.loc[REVIEWS['business_id'] == business_id, ['business_state', 'business_zipcode']] = business_state, business_zipcode\n",
    "\n",
    "REVIEWS = REVIEWS[REVIEWS['business_state'].isin(STATES_LIST)]"
   ],
   "metadata": {
    "collapsed": false,
    "pycharm": {
     "name": "#%%\n"
    }
   }
  },
  {
   "cell_type": "code",
   "execution_count": 18,
   "outputs": [
    {
     "data": {
      "text/plain": "['MA', 'FL', 'CO', 'WA', 'GA', 'TX', 'OR', 'OH', 'KS']"
     },
     "execution_count": 18,
     "metadata": {},
     "output_type": "execute_result"
    }
   ],
   "source": [
    "STATES_LIST = list(REVIEWS['business_state'].unique())\n",
    "list(REVIEWS['business_state'].unique())"
   ],
   "metadata": {
    "collapsed": false,
    "pycharm": {
     "name": "#%%\n"
    }
   }
  },
  {
   "cell_type": "code",
   "execution_count": 19,
   "outputs": [
    {
     "data": {
      "text/plain": "                     review_id                 user_id  \\\n91812   RVb6PyYFwAFAupe2VEU0ew  Ym3eNlpsExtUk2WT_-ip1g   \n168989  KnOB4Ukz57V8qfLaRJR5sQ  tGyKK6SVtV7E-HUQG0KCSg   \n90435   FYhTtd1oTBHVmG-CNXQc4Q  7aIK7mAR6WDnYH2vnXboZw   \n38873   DGnDS29gzipNzxGXFLNnFw  WeZQH0IwClEULPF51YXuLw   \n53038   xcr2FOhmBd82oDNewxOnHA  O62DzyBIkOIKQYA2giu3iQ   \n94581   y3BlhhePjiBJYFzUvvlVzA  cM8b3aRNKMblsdI3dZV1YQ   \n46517   6p-9RnqPaEZW2TyqHudxpw  8lEywHSvti2UjFP8ODbnHg   \n49542   45pXEJpXjxAeq6r8M5ZPAQ  nvT3ORGjVsoqpgymx6fD9A   \n81126   uFo8-8KVKFODioISznLbfA  1f7hREgQh0TGDN93HfHwrQ   \n81911   WVVCHOOLjmpLoORL9F-jng  53tt0Msa4UqwtU_-JppHQQ   \n57234   e1HfEcx6HJEm0SdmQR3yVw  VA1vV3EaD1ohS7gGOLc5WA   \n88909   iZs8mcs0hI-0JAsgL2UfAQ  DIjNSUGl9B8op34Xxr9XlA   \n174889  eE_MtreZnD0Fn6_EIDRV_g  ZgQlgVml6J1FCqLNPMS38g   \n48877   ZOclaVFm8adrXJQK3aO8JA  SZ4iEpKHMf3uSNLnw3QLmg   \n132199  L_TGTKUITtbG_93F0rr6wA  GjA58G-xfpC6FtZEw5DcLw   \n\n                   business_id                date  stars  useful  \\\n91812   A2EQ-c_AaRoTmRGfO-HByQ 2011-10-07 02:23:55      1       2   \n168989  bgNxDVtf2Hgre9JH4W0H3Q 2016-08-17 21:34:36      5       0   \n90435   1FhbuWT8YtAhAvMg5O8JFg 2016-11-13 16:40:22      1       1   \n38873   UZUjgF7XW7WkvyUb8_qCiA 2015-03-20 05:07:59      3       0   \n53038   a2c2LEBXmFgyCeklauuPsw 2017-09-11 16:00:30      3       0   \n94581   A5A8dP2q7_j1_jmKDjDz6w 2016-08-07 01:07:59      4       0   \n46517   vX-vi_g0s7c_Ytl3dqQtbA 2012-02-02 22:30:38      4       3   \n49542   ffiIzVoguD98ZCE414qc2Q 2012-07-18 02:31:20      3       0   \n81126   SFievF-QFiCZu84jCE2vUA 2009-03-16 18:04:17      3       1   \n81911   -_GnwXmzC3DXsHR9nyaC2g 2009-08-23 03:08:19      4       2   \n57234   bPmWDBkjBhV11Yk4BipG4Q 2017-09-22 12:36:00      5       3   \n88909   SI0R_Fw7kFc_2bO_SX2rqw 2015-10-28 17:37:57      4       0   \n174889  _hkHeU2cBH9fzthIdxhuxA 2008-02-04 16:48:29      4      14   \n48877   Ln-8CbKGZGmF-GCqMoMcpA 2016-01-31 19:11:12      3       0   \n132199  acaHnArsLgDMeeCgvp7cVQ 2012-05-09 13:29:34      4       8   \n\n       business_state business_zipcode  \n91812              OR            97214  \n168989             TX            78726  \n90435              GA            30312  \n38873              OR            97210  \n53038              FL            32812  \n94581              MA            02199  \n46517              OR            97217  \n49542              MA            02228  \n81126              TX            78758  \n81911              TX            78704  \n57234              FL            32789  \n88909              MA            01803  \n174889             MA            02140  \n48877              GA            30318  \n132199             OH            43230  ",
      "text/html": "<div>\n<style scoped>\n    .dataframe tbody tr th:only-of-type {\n        vertical-align: middle;\n    }\n\n    .dataframe tbody tr th {\n        vertical-align: top;\n    }\n\n    .dataframe thead th {\n        text-align: right;\n    }\n</style>\n<table border=\"1\" class=\"dataframe\">\n  <thead>\n    <tr style=\"text-align: right;\">\n      <th></th>\n      <th>review_id</th>\n      <th>user_id</th>\n      <th>business_id</th>\n      <th>date</th>\n      <th>stars</th>\n      <th>useful</th>\n      <th>business_state</th>\n      <th>business_zipcode</th>\n    </tr>\n  </thead>\n  <tbody>\n    <tr>\n      <th>91812</th>\n      <td>RVb6PyYFwAFAupe2VEU0ew</td>\n      <td>Ym3eNlpsExtUk2WT_-ip1g</td>\n      <td>A2EQ-c_AaRoTmRGfO-HByQ</td>\n      <td>2011-10-07 02:23:55</td>\n      <td>1</td>\n      <td>2</td>\n      <td>OR</td>\n      <td>97214</td>\n    </tr>\n    <tr>\n      <th>168989</th>\n      <td>KnOB4Ukz57V8qfLaRJR5sQ</td>\n      <td>tGyKK6SVtV7E-HUQG0KCSg</td>\n      <td>bgNxDVtf2Hgre9JH4W0H3Q</td>\n      <td>2016-08-17 21:34:36</td>\n      <td>5</td>\n      <td>0</td>\n      <td>TX</td>\n      <td>78726</td>\n    </tr>\n    <tr>\n      <th>90435</th>\n      <td>FYhTtd1oTBHVmG-CNXQc4Q</td>\n      <td>7aIK7mAR6WDnYH2vnXboZw</td>\n      <td>1FhbuWT8YtAhAvMg5O8JFg</td>\n      <td>2016-11-13 16:40:22</td>\n      <td>1</td>\n      <td>1</td>\n      <td>GA</td>\n      <td>30312</td>\n    </tr>\n    <tr>\n      <th>38873</th>\n      <td>DGnDS29gzipNzxGXFLNnFw</td>\n      <td>WeZQH0IwClEULPF51YXuLw</td>\n      <td>UZUjgF7XW7WkvyUb8_qCiA</td>\n      <td>2015-03-20 05:07:59</td>\n      <td>3</td>\n      <td>0</td>\n      <td>OR</td>\n      <td>97210</td>\n    </tr>\n    <tr>\n      <th>53038</th>\n      <td>xcr2FOhmBd82oDNewxOnHA</td>\n      <td>O62DzyBIkOIKQYA2giu3iQ</td>\n      <td>a2c2LEBXmFgyCeklauuPsw</td>\n      <td>2017-09-11 16:00:30</td>\n      <td>3</td>\n      <td>0</td>\n      <td>FL</td>\n      <td>32812</td>\n    </tr>\n    <tr>\n      <th>94581</th>\n      <td>y3BlhhePjiBJYFzUvvlVzA</td>\n      <td>cM8b3aRNKMblsdI3dZV1YQ</td>\n      <td>A5A8dP2q7_j1_jmKDjDz6w</td>\n      <td>2016-08-07 01:07:59</td>\n      <td>4</td>\n      <td>0</td>\n      <td>MA</td>\n      <td>02199</td>\n    </tr>\n    <tr>\n      <th>46517</th>\n      <td>6p-9RnqPaEZW2TyqHudxpw</td>\n      <td>8lEywHSvti2UjFP8ODbnHg</td>\n      <td>vX-vi_g0s7c_Ytl3dqQtbA</td>\n      <td>2012-02-02 22:30:38</td>\n      <td>4</td>\n      <td>3</td>\n      <td>OR</td>\n      <td>97217</td>\n    </tr>\n    <tr>\n      <th>49542</th>\n      <td>45pXEJpXjxAeq6r8M5ZPAQ</td>\n      <td>nvT3ORGjVsoqpgymx6fD9A</td>\n      <td>ffiIzVoguD98ZCE414qc2Q</td>\n      <td>2012-07-18 02:31:20</td>\n      <td>3</td>\n      <td>0</td>\n      <td>MA</td>\n      <td>02228</td>\n    </tr>\n    <tr>\n      <th>81126</th>\n      <td>uFo8-8KVKFODioISznLbfA</td>\n      <td>1f7hREgQh0TGDN93HfHwrQ</td>\n      <td>SFievF-QFiCZu84jCE2vUA</td>\n      <td>2009-03-16 18:04:17</td>\n      <td>3</td>\n      <td>1</td>\n      <td>TX</td>\n      <td>78758</td>\n    </tr>\n    <tr>\n      <th>81911</th>\n      <td>WVVCHOOLjmpLoORL9F-jng</td>\n      <td>53tt0Msa4UqwtU_-JppHQQ</td>\n      <td>-_GnwXmzC3DXsHR9nyaC2g</td>\n      <td>2009-08-23 03:08:19</td>\n      <td>4</td>\n      <td>2</td>\n      <td>TX</td>\n      <td>78704</td>\n    </tr>\n    <tr>\n      <th>57234</th>\n      <td>e1HfEcx6HJEm0SdmQR3yVw</td>\n      <td>VA1vV3EaD1ohS7gGOLc5WA</td>\n      <td>bPmWDBkjBhV11Yk4BipG4Q</td>\n      <td>2017-09-22 12:36:00</td>\n      <td>5</td>\n      <td>3</td>\n      <td>FL</td>\n      <td>32789</td>\n    </tr>\n    <tr>\n      <th>88909</th>\n      <td>iZs8mcs0hI-0JAsgL2UfAQ</td>\n      <td>DIjNSUGl9B8op34Xxr9XlA</td>\n      <td>SI0R_Fw7kFc_2bO_SX2rqw</td>\n      <td>2015-10-28 17:37:57</td>\n      <td>4</td>\n      <td>0</td>\n      <td>MA</td>\n      <td>01803</td>\n    </tr>\n    <tr>\n      <th>174889</th>\n      <td>eE_MtreZnD0Fn6_EIDRV_g</td>\n      <td>ZgQlgVml6J1FCqLNPMS38g</td>\n      <td>_hkHeU2cBH9fzthIdxhuxA</td>\n      <td>2008-02-04 16:48:29</td>\n      <td>4</td>\n      <td>14</td>\n      <td>MA</td>\n      <td>02140</td>\n    </tr>\n    <tr>\n      <th>48877</th>\n      <td>ZOclaVFm8adrXJQK3aO8JA</td>\n      <td>SZ4iEpKHMf3uSNLnw3QLmg</td>\n      <td>Ln-8CbKGZGmF-GCqMoMcpA</td>\n      <td>2016-01-31 19:11:12</td>\n      <td>3</td>\n      <td>0</td>\n      <td>GA</td>\n      <td>30318</td>\n    </tr>\n    <tr>\n      <th>132199</th>\n      <td>L_TGTKUITtbG_93F0rr6wA</td>\n      <td>GjA58G-xfpC6FtZEw5DcLw</td>\n      <td>acaHnArsLgDMeeCgvp7cVQ</td>\n      <td>2012-05-09 13:29:34</td>\n      <td>4</td>\n      <td>8</td>\n      <td>OH</td>\n      <td>43230</td>\n    </tr>\n  </tbody>\n</table>\n</div>"
     },
     "execution_count": 19,
     "metadata": {},
     "output_type": "execute_result"
    }
   ],
   "source": [
    "REVIEWS.sample(15)"
   ],
   "metadata": {
    "collapsed": false,
    "pycharm": {
     "name": "#%%\n"
    }
   }
  },
  {
   "cell_type": "code",
   "execution_count": 20,
   "outputs": [
    {
     "name": "stderr",
     "output_type": "stream",
     "text": [
      "  2%|▏         | 7/432 [00:00<00:06, 62.79it/s]"
     ]
    },
    {
     "name": "stdout",
     "output_type": "stream",
     "text": [
      "Adding business zipcode ideology\n"
     ]
    },
    {
     "name": "stderr",
     "output_type": "stream",
     "text": [
      " 89%|████████▉ | 386/432 [00:05<00:00, 67.58it/s]"
     ]
    },
    {
     "name": "stdout",
     "output_type": "stream",
     "text": [
      "00000\n"
     ]
    },
    {
     "name": "stderr",
     "output_type": "stream",
     "text": [
      "100%|██████████| 432/432 [00:06<00:00, 65.28it/s]\n"
     ]
    }
   ],
   "source": [
    "# assign business political ideologies by zip code\n",
    "BUSINESS_ZIPS = list(REVIEWS['business_zipcode'].unique())\n",
    "print('Adding business zipcode ideology')\n",
    "for business_zip in tqdm(BUSINESS_ZIPS):\n",
    "    try:\n",
    "        business_ideology = match_loc_to_ideology(business_zip)\n",
    "        REVIEWS.loc[REVIEWS['business_zipcode'] == business_zip, 'business_county_ideology'] = business_ideology\n",
    "    except:\n",
    "        print(business_zip)"
   ],
   "metadata": {
    "collapsed": false,
    "pycharm": {
     "name": "#%%\n"
    }
   }
  },
  {
   "cell_type": "code",
   "execution_count": 21,
   "outputs": [
    {
     "data": {
      "text/plain": "137515"
     },
     "execution_count": 21,
     "metadata": {},
     "output_type": "execute_result"
    }
   ],
   "source": [
    "len(USERS_LIST)"
   ],
   "metadata": {
    "collapsed": false,
    "pycharm": {
     "name": "#%%\n"
    }
   }
  },
  {
   "cell_type": "code",
   "execution_count": 22,
   "outputs": [
    {
     "name": "stdout",
     "output_type": "stream",
     "text": [
      "{'ALABAMA': 'AL', 'ALASKA': 'AK', 'ARIZONA': 'AZ', 'ARKANSAS': 'AR', 'CALIFORNIA': 'CA', 'COLORADO': 'CO', 'CONNECTICUT': 'CT', 'DELAWARE': 'DE', 'DISTRICT OF COLUMBIA': 'DC', 'FLORIDA': 'FL', 'GEORGIA': 'GA', 'HAWAII': 'HI', 'IDAHO': 'ID', 'ILLINOIS': 'IL', 'INDIANA': 'IN', 'IOWA': 'IA', 'KANSAS': 'KS', 'KENTUCKY': 'KY', 'LOUISIANA': 'LA', 'MAINE': 'ME', 'MARYLAND': 'MD', 'MASSACHUSETTS': 'MA', 'MICHIGAN': 'MI', 'MINNESOTA': 'MN', 'MISSISSIPPI': 'MS', 'MISSOURI': 'MO', 'MONTANA': 'MT', 'NEBRASKA': 'NE', 'NEVADA': 'NV', 'NEW HAMPSHIRE': 'NH', 'NEW JERSEY': 'NJ', 'NEW MEXICO': 'NM', 'NEW YORK': 'NY', 'NORTH CAROLINA': 'NC', 'NORTH DAKOTA': 'ND', 'OHIO': 'OH', 'OKLAHOMA': 'OK', 'OREGON': 'OR', 'PENNSYLVANIA': 'PA', 'RHODE ISLAND': 'RI', 'SOUTH CAROLINA': 'SC', 'SOUTH DAKOTA': 'SD', 'TENNESSEE': 'TN', 'TEXAS': 'TX', 'UTAH': 'UT', 'VERMONT': 'VT', 'VIRGINIA': 'VA', 'WASHINGTON': 'WA', 'WEST VIRGINIA': 'WV', 'WISCONSIN': 'WI', 'WYOMING': 'WY'}\n"
     ]
    }
   ],
   "source": [
    "STATES_ABBR = dict()\n",
    "\n",
    "for state in list(STATES_DF['state']):\n",
    "    STATES_ABBR[state] = COUNTY_DF[COUNTY_DF['state'] == state]['state_po'].unique()[0]\n",
    "\n",
    "print(STATES_ABBR)"
   ],
   "metadata": {
    "collapsed": false,
    "pycharm": {
     "name": "#%%\n"
    }
   }
  },
  {
   "cell_type": "code",
   "execution_count": 23,
   "outputs": [
    {
     "name": "stdout",
     "output_type": "stream",
     "text": [
      "{'AL': 'ALABAMA', 'AK': 'ALASKA', 'AZ': 'ARIZONA', 'AR': 'ARKANSAS', 'CA': 'CALIFORNIA', 'CO': 'COLORADO', 'CT': 'CONNECTICUT', 'DE': 'DELAWARE', 'DC': 'DISTRICT OF COLUMBIA', 'FL': 'FLORIDA', 'GA': 'GEORGIA', 'HI': 'HAWAII', 'ID': 'IDAHO', 'IL': 'ILLINOIS', 'IN': 'INDIANA', 'IA': 'IOWA', 'KS': 'KANSAS', 'KY': 'KENTUCKY', 'LA': 'LOUISIANA', 'ME': 'MAINE', 'MD': 'MARYLAND', 'MA': 'MASSACHUSETTS', 'MI': 'MICHIGAN', 'MN': 'MINNESOTA', 'MS': 'MISSISSIPPI', 'MO': 'MISSOURI', 'MT': 'MONTANA', 'NE': 'NEBRASKA', 'NV': 'NEVADA', 'NH': 'NEW HAMPSHIRE', 'NJ': 'NEW JERSEY', 'NM': 'NEW MEXICO', 'NY': 'NEW YORK', 'NC': 'NORTH CAROLINA', 'ND': 'NORTH DAKOTA', 'OH': 'OHIO', 'OK': 'OKLAHOMA', 'OR': 'OREGON', 'PA': 'PENNSYLVANIA', 'RI': 'RHODE ISLAND', 'SC': 'SOUTH CAROLINA', 'SD': 'SOUTH DAKOTA', 'TN': 'TENNESSEE', 'TX': 'TEXAS', 'UT': 'UTAH', 'VT': 'VERMONT', 'VA': 'VIRGINIA', 'WA': 'WASHINGTON', 'WV': 'WEST VIRGINIA', 'WI': 'WISCONSIN', 'WY': 'WYOMING'}\n"
     ]
    }
   ],
   "source": [
    "STATES_ABBR_REVERSE = {v:k for k, v in STATES_ABBR.items()}\n",
    "print(STATES_ABBR_REVERSE)"
   ],
   "metadata": {
    "collapsed": false,
    "pycharm": {
     "name": "#%%\n"
    }
   }
  },
  {
   "cell_type": "code",
   "execution_count": 24,
   "outputs": [
    {
     "name": "stderr",
     "output_type": "stream",
     "text": [
      " 18%|█▊        | 9/51 [00:00<00:00, 88.51it/s]"
     ]
    },
    {
     "name": "stdout",
     "output_type": "stream",
     "text": [
      "Processing business state ideology and state pvi\n"
     ]
    },
    {
     "name": "stderr",
     "output_type": "stream",
     "text": [
      "100%|██████████| 51/51 [00:00<00:00, 88.70it/s]\n"
     ]
    }
   ],
   "source": [
    "print('Processing business state ideology and state pvi')\n",
    "for state in tqdm(list(STATES_ABBR.keys())):\n",
    "    try:\n",
    "        state_ideology = STATES_DF[STATES_DF['state'] == state]['perc_diffs'].iloc[0]\n",
    "\n",
    "        if state == 'DISTRICT OF COLUMBIA':\n",
    "            state_pvi = 0\n",
    "        else:\n",
    "            state_pvi = CPVI[CPVI['state'] == state]['pvi'].iloc[0]\n",
    "\n",
    "        REVIEWS.loc[REVIEWS['business_state'] == STATES_ABBR[state],\n",
    "                    ['business_state_ideology', 'business_state_pvi']] = state_ideology, state_pvi\n",
    "    except:\n",
    "        print(state)\n",
    "        print('bad output')"
   ],
   "metadata": {
    "collapsed": false,
    "pycharm": {
     "name": "#%%\n"
    }
   }
  },
  {
   "cell_type": "code",
   "execution_count": 25,
   "outputs": [
    {
     "name": "stderr",
     "output_type": "stream",
     "text": [
      "  0%|          | 0/3901 [00:00<?, ?it/s]"
     ]
    },
    {
     "name": "stdout",
     "output_type": "stream",
     "text": [
      "Adding total reviews and average stars per business\n"
     ]
    },
    {
     "name": "stderr",
     "output_type": "stream",
     "text": [
      "100%|██████████| 3901/3901 [01:22<00:00, 47.36it/s]\n"
     ]
    }
   ],
   "source": [
    "print('Adding total reviews and average stars per business')\n",
    "REVIEWS['count'] = 1\n",
    "BUSINESS_COUNTS = REVIEWS.groupby('business_id').sum().reset_index()[['business_id', 'count']]\n",
    "BUSINESS_STARS = REVIEWS[['business_id', 'stars']].groupby('business_id').sum().reset_index()\n",
    "BUSINESSES_LIST = list(BUSINESS_COUNTS['business_id'].unique())\n",
    "\n",
    "for business in tqdm(BUSINESSES_LIST):\n",
    "    tot_reviews = BUSINESS_COUNTS[BUSINESS_COUNTS['business_id'] == business]['count'].iloc[0]\n",
    "    avg_stars = round((BUSINESS_STARS[BUSINESS_STARS['business_id'] == business]['stars'].iloc[0] / tot_reviews), 3)\n",
    "    REVIEWS.loc[REVIEWS['business_id'] == business, ['business_review_total', 'avg_star_rating']] = tot_reviews, avg_stars\n"
   ],
   "metadata": {
    "collapsed": false,
    "pycharm": {
     "name": "#%%\n"
    }
   }
  },
  {
   "cell_type": "code",
   "execution_count": 26,
   "outputs": [],
   "source": [
    "# add state pop density\n",
    "POP_DENSITY = POP_DENSITY[POP_DENSITY['Year'] >= 2000]\n",
    "POP_DENSITY_COLS = ['Name', 'Year', 'Resident Population', 'Geography Type', 'Resident Population Density']\n",
    "POP_DENSITY = POP_DENSITY[POP_DENSITY_COLS]\n",
    "POP_DENSITY = POP_DENSITY[POP_DENSITY['Geography Type'] == 'State']\n",
    "POP_DENSITY.drop(columns=['Geography Type'], inplace=True)\n",
    "POP_DENSITY_RENAMED_COLS = ['state', 'year', 'pop', 'pop_density']\n",
    "POP_DENSITY.columns = POP_DENSITY_RENAMED_COLS\n",
    "POP_DENSITY['state'] = POP_DENSITY['state'].str.upper()\n",
    "POP_DENSITY = POP_DENSITY[POP_DENSITY['state'].isin(list(STATES_ABBR.keys()))]\n"
   ],
   "metadata": {
    "collapsed": false,
    "pycharm": {
     "name": "#%%\n"
    }
   }
  },
  {
   "cell_type": "code",
   "execution_count": 27,
   "outputs": [
    {
     "data": {
      "text/plain": "          state  year         pop pop_density\n513     ALABAMA  2000   4,447,100        87.8\n514      ALASKA  2000     626,932         1.1\n515     ARIZONA  2000   5,130,632        45.2\n516    ARKANSAS  2000   2,673,400        51.4\n517  CALIFORNIA  2000  33,871,648       217.4",
      "text/html": "<div>\n<style scoped>\n    .dataframe tbody tr th:only-of-type {\n        vertical-align: middle;\n    }\n\n    .dataframe tbody tr th {\n        vertical-align: top;\n    }\n\n    .dataframe thead th {\n        text-align: right;\n    }\n</style>\n<table border=\"1\" class=\"dataframe\">\n  <thead>\n    <tr style=\"text-align: right;\">\n      <th></th>\n      <th>state</th>\n      <th>year</th>\n      <th>pop</th>\n      <th>pop_density</th>\n    </tr>\n  </thead>\n  <tbody>\n    <tr>\n      <th>513</th>\n      <td>ALABAMA</td>\n      <td>2000</td>\n      <td>4,447,100</td>\n      <td>87.8</td>\n    </tr>\n    <tr>\n      <th>514</th>\n      <td>ALASKA</td>\n      <td>2000</td>\n      <td>626,932</td>\n      <td>1.1</td>\n    </tr>\n    <tr>\n      <th>515</th>\n      <td>ARIZONA</td>\n      <td>2000</td>\n      <td>5,130,632</td>\n      <td>45.2</td>\n    </tr>\n    <tr>\n      <th>516</th>\n      <td>ARKANSAS</td>\n      <td>2000</td>\n      <td>2,673,400</td>\n      <td>51.4</td>\n    </tr>\n    <tr>\n      <th>517</th>\n      <td>CALIFORNIA</td>\n      <td>2000</td>\n      <td>33,871,648</td>\n      <td>217.4</td>\n    </tr>\n  </tbody>\n</table>\n</div>"
     },
     "execution_count": 27,
     "metadata": {},
     "output_type": "execute_result"
    }
   ],
   "source": [
    "POP_DENSITY.head()"
   ],
   "metadata": {
    "collapsed": false,
    "pycharm": {
     "name": "#%%\n"
    }
   }
  },
  {
   "cell_type": "code",
   "execution_count": 28,
   "outputs": [
    {
     "data": {
      "text/plain": "array([2000, 2010, 2020])"
     },
     "execution_count": 28,
     "metadata": {},
     "output_type": "execute_result"
    }
   ],
   "source": [
    "POP_DENSITY['year'].unique()"
   ],
   "metadata": {
    "collapsed": false,
    "pycharm": {
     "name": "#%%\n"
    }
   }
  },
  {
   "cell_type": "code",
   "execution_count": 29,
   "outputs": [],
   "source": [
    "# split date into separate columns\n",
    "REVIEWS['date'] = pd.to_datetime(REVIEWS['date'])\n",
    "REVIEWS['year'] = REVIEWS['date'].dt.year\n",
    "REVIEWS['month'] = REVIEWS['date'].dt.month\n",
    "REVIEWS['day'] = REVIEWS['date'].dt.day"
   ],
   "metadata": {
    "collapsed": false,
    "pycharm": {
     "name": "#%%\n"
    }
   }
  },
  {
   "cell_type": "code",
   "execution_count": 30,
   "outputs": [
    {
     "data": {
      "text/plain": "[2004,\n 2005,\n 2006,\n 2007,\n 2008,\n 2009,\n 2010,\n 2011,\n 2012,\n 2013,\n 2014,\n 2015,\n 2016,\n 2017,\n 2018]"
     },
     "execution_count": 30,
     "metadata": {},
     "output_type": "execute_result"
    }
   ],
   "source": [
    "sorted(list(REVIEWS['year'].unique()))"
   ],
   "metadata": {
    "collapsed": false,
    "pycharm": {
     "name": "#%%\n"
    }
   }
  },
  {
   "cell_type": "code",
   "execution_count": 31,
   "outputs": [
    {
     "name": "stdout",
     "output_type": "stream",
     "text": [
      "Adding population density...\n"
     ]
    }
   ],
   "source": [
    "# Add population density measures\n",
    "print(\"Adding population density...\")"
   ],
   "metadata": {
    "collapsed": false,
    "pycharm": {
     "name": "#%%\n"
    }
   }
  },
  {
   "cell_type": "code",
   "execution_count": 32,
   "outputs": [],
   "source": [
    "def add_pop_density(decade):\n",
    "    upper_year_limit = decade\n",
    "    lower_year_limit = decade-10\n",
    "\n",
    "    #pop_slice = POP_DENSITY[POP_DENSITY['year'] == decade]\n",
    "\n",
    "    for state in STATES_LIST:\n",
    "        state_pop_density = POP_DENSITY[\n",
    "            (POP_DENSITY['year'] == decade) &\n",
    "            (POP_DENSITY['state'] == STATES_ABBR_REVERSE[state])\n",
    "        ]['pop_density'].iloc[0]\n",
    "\n",
    "        REVIEWS.loc[\n",
    "            (REVIEWS['year'].between(lower_year_limit, upper_year_limit, inclusive='right')) &\n",
    "            (REVIEWS['business_state'] == state),\n",
    "            ['population_density']\n",
    "        ] = state_pop_density\n"
   ],
   "metadata": {
    "collapsed": false,
    "pycharm": {
     "name": "#%%\n"
    }
   }
  },
  {
   "cell_type": "code",
   "execution_count": 33,
   "outputs": [],
   "source": [
    "add_pop_density(2010)\n",
    "add_pop_density(2020)"
   ],
   "metadata": {
    "collapsed": false,
    "pycharm": {
     "name": "#%%\n"
    }
   }
  },
  {
   "cell_type": "code",
   "execution_count": 34,
   "outputs": [
    {
     "data": {
      "text/plain": "                     review_id                 user_id  \\\n0       lWC-xP3rd6obsecCYsGZRg  ak0TdVmGKo4pwqdJSTLwWw   \n1       T5fAqjjFooT4V0OeZyuk1w  SFQ1jcnGguO0LYWnbbftAA   \n2       sjm_uUcQVxab_EeLCqsYLg  0kA0PAJ8QFMeveQWHFqz2A   \n3       J4a2TuhDasjn2k3wWtHZnQ  RNm_RWkcd02Li2mKPRe7Eg   \n4       28gGfkLs3igtjVy61lh77Q  Q8c91v7luItVB0cMFF_mRA   \n...                        ...                     ...   \n190288  _X0ZvwmsQ_CRpGeCFFc_-Q  FwGqxJ_Z5BTKamqxWfD8LQ   \n190289  F6fenNd1vkH3ckuXFPRB6g  u0bwW1sf97hhNzTvkagEsA   \n190290  O0SG6BTN0FHSZ7PJ1wgmzg  mVxg_vBXcUAAQJ03uHxiIQ   \n190291  vTovPnBesDco238QpKtAvA  uVpNSrc3IEpR42VGdZ709w   \n190292  Vm6QFEvxNwF_6f9EwT9ZXQ  8dz_7y-q0MtFZ8m0HYDUAA   \n\n                   business_id                date  stars  useful  \\\n0       buF9druCkbuXLX526sGELQ 2014-10-11 03:34:02      4       3   \n1       0AzLzHfOJgL7ROwhdww2ew 2010-01-08 02:29:15      2       1   \n2       8zehGz9jnxPqXtOc7KaJxA 2011-07-28 18:05:01      4       0   \n3       xGXzsc-hzam-VArK6eTvtw 2018-01-21 04:41:03      1       2   \n4       EXOsmAB1s71WePlQk0WZrA 2006-04-16 02:58:44      2       0   \n...                        ...                 ...    ...     ...   \n190288  eZE0FdYB9rUvbuPS4fNyYA 2015-01-24 23:12:37      2       5   \n190289  enSXnvEKjDCit9A2_vyugg 2011-10-09 20:24:16      4       0   \n190290  La_xmePMtWwjxKUqbGvqGQ 2010-05-30 11:06:52      2       0   \n190291  4jOreXu9ctLBWOJWMtNv1w 2017-01-07 05:55:39      4       0   \n190292  3cLBtLFiH8IRdlEy9S8RiQ 2016-04-29 21:23:59      4       0   \n\n       business_state business_zipcode  business_county_ideology  \\\n0                  MA            01915                    -28.82   \n1                  FL            32821                    -23.12   \n2                  CO            80302                    -56.57   \n3                  MA            02144                    -44.89   \n4                  MA            02215                    -62.84   \n...               ...              ...                       ...   \n190288             TX            78701                    -45.11   \n190289             FL            32771                     -2.79   \n190290             TX            78703                    -45.11   \n190291             WA            98665                     -5.09   \n190292             FL            32836                    -23.12   \n\n        business_state_ideology  business_state_pvi  count  \\\n0                        -33.21               -14.0      1   \n1                          3.36                 3.0      1   \n2                        -13.50                -3.0      1   \n3                        -33.21               -14.0      1   \n4                        -33.21               -14.0      1   \n...                         ...                 ...    ...   \n190288                     5.58                 5.0      1   \n190289                     3.36                 3.0      1   \n190290                     5.58                 5.0      1   \n190291                   -19.20                -8.0      1   \n190292                     3.36                 3.0      1   \n\n        business_review_total  avg_star_rating  year  month  day  \\\n0                        44.0            3.614  2014     10   11   \n1                       121.0            3.446  2010      1    8   \n2                       472.0            4.282  2011      7   28   \n3                       248.0            3.472  2018      1   21   \n4                        11.0            3.000  2006      4   16   \n...                       ...              ...   ...    ...  ...   \n190288                  252.0            4.266  2015      1   24   \n190289                   29.0            2.966  2011     10    9   \n190290                  108.0            3.944  2010      5   30   \n190291                   18.0            3.111  2017      1    7   \n190292                  564.0            4.254  2016      4   29   \n\n       population_density  \n0                   901.2  \n1                   401.4  \n2                    55.7  \n3                   901.2  \n4                   839.4  \n...                   ...  \n190288              111.6  \n190289              401.4  \n190290              111.6  \n190291              115.9  \n190292              401.4  \n\n[190293 rows x 18 columns]",
      "text/html": "<div>\n<style scoped>\n    .dataframe tbody tr th:only-of-type {\n        vertical-align: middle;\n    }\n\n    .dataframe tbody tr th {\n        vertical-align: top;\n    }\n\n    .dataframe thead th {\n        text-align: right;\n    }\n</style>\n<table border=\"1\" class=\"dataframe\">\n  <thead>\n    <tr style=\"text-align: right;\">\n      <th></th>\n      <th>review_id</th>\n      <th>user_id</th>\n      <th>business_id</th>\n      <th>date</th>\n      <th>stars</th>\n      <th>useful</th>\n      <th>business_state</th>\n      <th>business_zipcode</th>\n      <th>business_county_ideology</th>\n      <th>business_state_ideology</th>\n      <th>business_state_pvi</th>\n      <th>count</th>\n      <th>business_review_total</th>\n      <th>avg_star_rating</th>\n      <th>year</th>\n      <th>month</th>\n      <th>day</th>\n      <th>population_density</th>\n    </tr>\n  </thead>\n  <tbody>\n    <tr>\n      <th>0</th>\n      <td>lWC-xP3rd6obsecCYsGZRg</td>\n      <td>ak0TdVmGKo4pwqdJSTLwWw</td>\n      <td>buF9druCkbuXLX526sGELQ</td>\n      <td>2014-10-11 03:34:02</td>\n      <td>4</td>\n      <td>3</td>\n      <td>MA</td>\n      <td>01915</td>\n      <td>-28.82</td>\n      <td>-33.21</td>\n      <td>-14.0</td>\n      <td>1</td>\n      <td>44.0</td>\n      <td>3.614</td>\n      <td>2014</td>\n      <td>10</td>\n      <td>11</td>\n      <td>901.2</td>\n    </tr>\n    <tr>\n      <th>1</th>\n      <td>T5fAqjjFooT4V0OeZyuk1w</td>\n      <td>SFQ1jcnGguO0LYWnbbftAA</td>\n      <td>0AzLzHfOJgL7ROwhdww2ew</td>\n      <td>2010-01-08 02:29:15</td>\n      <td>2</td>\n      <td>1</td>\n      <td>FL</td>\n      <td>32821</td>\n      <td>-23.12</td>\n      <td>3.36</td>\n      <td>3.0</td>\n      <td>1</td>\n      <td>121.0</td>\n      <td>3.446</td>\n      <td>2010</td>\n      <td>1</td>\n      <td>8</td>\n      <td>401.4</td>\n    </tr>\n    <tr>\n      <th>2</th>\n      <td>sjm_uUcQVxab_EeLCqsYLg</td>\n      <td>0kA0PAJ8QFMeveQWHFqz2A</td>\n      <td>8zehGz9jnxPqXtOc7KaJxA</td>\n      <td>2011-07-28 18:05:01</td>\n      <td>4</td>\n      <td>0</td>\n      <td>CO</td>\n      <td>80302</td>\n      <td>-56.57</td>\n      <td>-13.50</td>\n      <td>-3.0</td>\n      <td>1</td>\n      <td>472.0</td>\n      <td>4.282</td>\n      <td>2011</td>\n      <td>7</td>\n      <td>28</td>\n      <td>55.7</td>\n    </tr>\n    <tr>\n      <th>3</th>\n      <td>J4a2TuhDasjn2k3wWtHZnQ</td>\n      <td>RNm_RWkcd02Li2mKPRe7Eg</td>\n      <td>xGXzsc-hzam-VArK6eTvtw</td>\n      <td>2018-01-21 04:41:03</td>\n      <td>1</td>\n      <td>2</td>\n      <td>MA</td>\n      <td>02144</td>\n      <td>-44.89</td>\n      <td>-33.21</td>\n      <td>-14.0</td>\n      <td>1</td>\n      <td>248.0</td>\n      <td>3.472</td>\n      <td>2018</td>\n      <td>1</td>\n      <td>21</td>\n      <td>901.2</td>\n    </tr>\n    <tr>\n      <th>4</th>\n      <td>28gGfkLs3igtjVy61lh77Q</td>\n      <td>Q8c91v7luItVB0cMFF_mRA</td>\n      <td>EXOsmAB1s71WePlQk0WZrA</td>\n      <td>2006-04-16 02:58:44</td>\n      <td>2</td>\n      <td>0</td>\n      <td>MA</td>\n      <td>02215</td>\n      <td>-62.84</td>\n      <td>-33.21</td>\n      <td>-14.0</td>\n      <td>1</td>\n      <td>11.0</td>\n      <td>3.000</td>\n      <td>2006</td>\n      <td>4</td>\n      <td>16</td>\n      <td>839.4</td>\n    </tr>\n    <tr>\n      <th>...</th>\n      <td>...</td>\n      <td>...</td>\n      <td>...</td>\n      <td>...</td>\n      <td>...</td>\n      <td>...</td>\n      <td>...</td>\n      <td>...</td>\n      <td>...</td>\n      <td>...</td>\n      <td>...</td>\n      <td>...</td>\n      <td>...</td>\n      <td>...</td>\n      <td>...</td>\n      <td>...</td>\n      <td>...</td>\n      <td>...</td>\n    </tr>\n    <tr>\n      <th>190288</th>\n      <td>_X0ZvwmsQ_CRpGeCFFc_-Q</td>\n      <td>FwGqxJ_Z5BTKamqxWfD8LQ</td>\n      <td>eZE0FdYB9rUvbuPS4fNyYA</td>\n      <td>2015-01-24 23:12:37</td>\n      <td>2</td>\n      <td>5</td>\n      <td>TX</td>\n      <td>78701</td>\n      <td>-45.11</td>\n      <td>5.58</td>\n      <td>5.0</td>\n      <td>1</td>\n      <td>252.0</td>\n      <td>4.266</td>\n      <td>2015</td>\n      <td>1</td>\n      <td>24</td>\n      <td>111.6</td>\n    </tr>\n    <tr>\n      <th>190289</th>\n      <td>F6fenNd1vkH3ckuXFPRB6g</td>\n      <td>u0bwW1sf97hhNzTvkagEsA</td>\n      <td>enSXnvEKjDCit9A2_vyugg</td>\n      <td>2011-10-09 20:24:16</td>\n      <td>4</td>\n      <td>0</td>\n      <td>FL</td>\n      <td>32771</td>\n      <td>-2.79</td>\n      <td>3.36</td>\n      <td>3.0</td>\n      <td>1</td>\n      <td>29.0</td>\n      <td>2.966</td>\n      <td>2011</td>\n      <td>10</td>\n      <td>9</td>\n      <td>401.4</td>\n    </tr>\n    <tr>\n      <th>190290</th>\n      <td>O0SG6BTN0FHSZ7PJ1wgmzg</td>\n      <td>mVxg_vBXcUAAQJ03uHxiIQ</td>\n      <td>La_xmePMtWwjxKUqbGvqGQ</td>\n      <td>2010-05-30 11:06:52</td>\n      <td>2</td>\n      <td>0</td>\n      <td>TX</td>\n      <td>78703</td>\n      <td>-45.11</td>\n      <td>5.58</td>\n      <td>5.0</td>\n      <td>1</td>\n      <td>108.0</td>\n      <td>3.944</td>\n      <td>2010</td>\n      <td>5</td>\n      <td>30</td>\n      <td>111.6</td>\n    </tr>\n    <tr>\n      <th>190291</th>\n      <td>vTovPnBesDco238QpKtAvA</td>\n      <td>uVpNSrc3IEpR42VGdZ709w</td>\n      <td>4jOreXu9ctLBWOJWMtNv1w</td>\n      <td>2017-01-07 05:55:39</td>\n      <td>4</td>\n      <td>0</td>\n      <td>WA</td>\n      <td>98665</td>\n      <td>-5.09</td>\n      <td>-19.20</td>\n      <td>-8.0</td>\n      <td>1</td>\n      <td>18.0</td>\n      <td>3.111</td>\n      <td>2017</td>\n      <td>1</td>\n      <td>7</td>\n      <td>115.9</td>\n    </tr>\n    <tr>\n      <th>190292</th>\n      <td>Vm6QFEvxNwF_6f9EwT9ZXQ</td>\n      <td>8dz_7y-q0MtFZ8m0HYDUAA</td>\n      <td>3cLBtLFiH8IRdlEy9S8RiQ</td>\n      <td>2016-04-29 21:23:59</td>\n      <td>4</td>\n      <td>0</td>\n      <td>FL</td>\n      <td>32836</td>\n      <td>-23.12</td>\n      <td>3.36</td>\n      <td>3.0</td>\n      <td>1</td>\n      <td>564.0</td>\n      <td>4.254</td>\n      <td>2016</td>\n      <td>4</td>\n      <td>29</td>\n      <td>401.4</td>\n    </tr>\n  </tbody>\n</table>\n<p>190293 rows × 18 columns</p>\n</div>"
     },
     "execution_count": 34,
     "metadata": {},
     "output_type": "execute_result"
    }
   ],
   "source": [
    "REVIEWS\n"
   ],
   "metadata": {
    "collapsed": false,
    "pycharm": {
     "name": "#%%\n"
    }
   }
  },
  {
   "cell_type": "code",
   "execution_count": 35,
   "outputs": [
    {
     "data": {
      "text/plain": "                     review_id                 user_id  \\\n0       lWC-xP3rd6obsecCYsGZRg  ak0TdVmGKo4pwqdJSTLwWw   \n1       T5fAqjjFooT4V0OeZyuk1w  SFQ1jcnGguO0LYWnbbftAA   \n2       sjm_uUcQVxab_EeLCqsYLg  0kA0PAJ8QFMeveQWHFqz2A   \n3       J4a2TuhDasjn2k3wWtHZnQ  RNm_RWkcd02Li2mKPRe7Eg   \n4       28gGfkLs3igtjVy61lh77Q  Q8c91v7luItVB0cMFF_mRA   \n...                        ...                     ...   \n190288  _X0ZvwmsQ_CRpGeCFFc_-Q  FwGqxJ_Z5BTKamqxWfD8LQ   \n190289  F6fenNd1vkH3ckuXFPRB6g  u0bwW1sf97hhNzTvkagEsA   \n190290  O0SG6BTN0FHSZ7PJ1wgmzg  mVxg_vBXcUAAQJ03uHxiIQ   \n190291  vTovPnBesDco238QpKtAvA  uVpNSrc3IEpR42VGdZ709w   \n190292  Vm6QFEvxNwF_6f9EwT9ZXQ  8dz_7y-q0MtFZ8m0HYDUAA   \n\n                   business_id                date  stars  useful  \\\n0       buF9druCkbuXLX526sGELQ 2014-10-11 03:34:02      4       3   \n1       0AzLzHfOJgL7ROwhdww2ew 2010-01-08 02:29:15      2       1   \n2       8zehGz9jnxPqXtOc7KaJxA 2011-07-28 18:05:01      4       0   \n3       xGXzsc-hzam-VArK6eTvtw 2018-01-21 04:41:03      1       2   \n4       EXOsmAB1s71WePlQk0WZrA 2006-04-16 02:58:44      2       0   \n...                        ...                 ...    ...     ...   \n190288  eZE0FdYB9rUvbuPS4fNyYA 2015-01-24 23:12:37      2       5   \n190289  enSXnvEKjDCit9A2_vyugg 2011-10-09 20:24:16      4       0   \n190290  La_xmePMtWwjxKUqbGvqGQ 2010-05-30 11:06:52      2       0   \n190291  4jOreXu9ctLBWOJWMtNv1w 2017-01-07 05:55:39      4       0   \n190292  3cLBtLFiH8IRdlEy9S8RiQ 2016-04-29 21:23:59      4       0   \n\n       business_state business_zipcode  business_county_ideology  \\\n0                  MA            01915                    -28.82   \n1                  FL            32821                    -23.12   \n2                  CO            80302                    -56.57   \n3                  MA            02144                    -44.89   \n4                  MA            02215                    -62.84   \n...               ...              ...                       ...   \n190288             TX            78701                    -45.11   \n190289             FL            32771                     -2.79   \n190290             TX            78703                    -45.11   \n190291             WA            98665                     -5.09   \n190292             FL            32836                    -23.12   \n\n        business_state_ideology  business_state_pvi  business_review_total  \\\n0                        -33.21               -14.0                   44.0   \n1                          3.36                 3.0                  121.0   \n2                        -13.50                -3.0                  472.0   \n3                        -33.21               -14.0                  248.0   \n4                        -33.21               -14.0                   11.0   \n...                         ...                 ...                    ...   \n190288                     5.58                 5.0                  252.0   \n190289                     3.36                 3.0                   29.0   \n190290                     5.58                 5.0                  108.0   \n190291                   -19.20                -8.0                   18.0   \n190292                     3.36                 3.0                  564.0   \n\n        avg_star_rating  year  month  day population_density  \n0                 3.614  2014     10   11              901.2  \n1                 3.446  2010      1    8              401.4  \n2                 4.282  2011      7   28               55.7  \n3                 3.472  2018      1   21              901.2  \n4                 3.000  2006      4   16              839.4  \n...                 ...   ...    ...  ...                ...  \n190288            4.266  2015      1   24              111.6  \n190289            2.966  2011     10    9              401.4  \n190290            3.944  2010      5   30              111.6  \n190291            3.111  2017      1    7              115.9  \n190292            4.254  2016      4   29              401.4  \n\n[190293 rows x 17 columns]",
      "text/html": "<div>\n<style scoped>\n    .dataframe tbody tr th:only-of-type {\n        vertical-align: middle;\n    }\n\n    .dataframe tbody tr th {\n        vertical-align: top;\n    }\n\n    .dataframe thead th {\n        text-align: right;\n    }\n</style>\n<table border=\"1\" class=\"dataframe\">\n  <thead>\n    <tr style=\"text-align: right;\">\n      <th></th>\n      <th>review_id</th>\n      <th>user_id</th>\n      <th>business_id</th>\n      <th>date</th>\n      <th>stars</th>\n      <th>useful</th>\n      <th>business_state</th>\n      <th>business_zipcode</th>\n      <th>business_county_ideology</th>\n      <th>business_state_ideology</th>\n      <th>business_state_pvi</th>\n      <th>business_review_total</th>\n      <th>avg_star_rating</th>\n      <th>year</th>\n      <th>month</th>\n      <th>day</th>\n      <th>population_density</th>\n    </tr>\n  </thead>\n  <tbody>\n    <tr>\n      <th>0</th>\n      <td>lWC-xP3rd6obsecCYsGZRg</td>\n      <td>ak0TdVmGKo4pwqdJSTLwWw</td>\n      <td>buF9druCkbuXLX526sGELQ</td>\n      <td>2014-10-11 03:34:02</td>\n      <td>4</td>\n      <td>3</td>\n      <td>MA</td>\n      <td>01915</td>\n      <td>-28.82</td>\n      <td>-33.21</td>\n      <td>-14.0</td>\n      <td>44.0</td>\n      <td>3.614</td>\n      <td>2014</td>\n      <td>10</td>\n      <td>11</td>\n      <td>901.2</td>\n    </tr>\n    <tr>\n      <th>1</th>\n      <td>T5fAqjjFooT4V0OeZyuk1w</td>\n      <td>SFQ1jcnGguO0LYWnbbftAA</td>\n      <td>0AzLzHfOJgL7ROwhdww2ew</td>\n      <td>2010-01-08 02:29:15</td>\n      <td>2</td>\n      <td>1</td>\n      <td>FL</td>\n      <td>32821</td>\n      <td>-23.12</td>\n      <td>3.36</td>\n      <td>3.0</td>\n      <td>121.0</td>\n      <td>3.446</td>\n      <td>2010</td>\n      <td>1</td>\n      <td>8</td>\n      <td>401.4</td>\n    </tr>\n    <tr>\n      <th>2</th>\n      <td>sjm_uUcQVxab_EeLCqsYLg</td>\n      <td>0kA0PAJ8QFMeveQWHFqz2A</td>\n      <td>8zehGz9jnxPqXtOc7KaJxA</td>\n      <td>2011-07-28 18:05:01</td>\n      <td>4</td>\n      <td>0</td>\n      <td>CO</td>\n      <td>80302</td>\n      <td>-56.57</td>\n      <td>-13.50</td>\n      <td>-3.0</td>\n      <td>472.0</td>\n      <td>4.282</td>\n      <td>2011</td>\n      <td>7</td>\n      <td>28</td>\n      <td>55.7</td>\n    </tr>\n    <tr>\n      <th>3</th>\n      <td>J4a2TuhDasjn2k3wWtHZnQ</td>\n      <td>RNm_RWkcd02Li2mKPRe7Eg</td>\n      <td>xGXzsc-hzam-VArK6eTvtw</td>\n      <td>2018-01-21 04:41:03</td>\n      <td>1</td>\n      <td>2</td>\n      <td>MA</td>\n      <td>02144</td>\n      <td>-44.89</td>\n      <td>-33.21</td>\n      <td>-14.0</td>\n      <td>248.0</td>\n      <td>3.472</td>\n      <td>2018</td>\n      <td>1</td>\n      <td>21</td>\n      <td>901.2</td>\n    </tr>\n    <tr>\n      <th>4</th>\n      <td>28gGfkLs3igtjVy61lh77Q</td>\n      <td>Q8c91v7luItVB0cMFF_mRA</td>\n      <td>EXOsmAB1s71WePlQk0WZrA</td>\n      <td>2006-04-16 02:58:44</td>\n      <td>2</td>\n      <td>0</td>\n      <td>MA</td>\n      <td>02215</td>\n      <td>-62.84</td>\n      <td>-33.21</td>\n      <td>-14.0</td>\n      <td>11.0</td>\n      <td>3.000</td>\n      <td>2006</td>\n      <td>4</td>\n      <td>16</td>\n      <td>839.4</td>\n    </tr>\n    <tr>\n      <th>...</th>\n      <td>...</td>\n      <td>...</td>\n      <td>...</td>\n      <td>...</td>\n      <td>...</td>\n      <td>...</td>\n      <td>...</td>\n      <td>...</td>\n      <td>...</td>\n      <td>...</td>\n      <td>...</td>\n      <td>...</td>\n      <td>...</td>\n      <td>...</td>\n      <td>...</td>\n      <td>...</td>\n      <td>...</td>\n    </tr>\n    <tr>\n      <th>190288</th>\n      <td>_X0ZvwmsQ_CRpGeCFFc_-Q</td>\n      <td>FwGqxJ_Z5BTKamqxWfD8LQ</td>\n      <td>eZE0FdYB9rUvbuPS4fNyYA</td>\n      <td>2015-01-24 23:12:37</td>\n      <td>2</td>\n      <td>5</td>\n      <td>TX</td>\n      <td>78701</td>\n      <td>-45.11</td>\n      <td>5.58</td>\n      <td>5.0</td>\n      <td>252.0</td>\n      <td>4.266</td>\n      <td>2015</td>\n      <td>1</td>\n      <td>24</td>\n      <td>111.6</td>\n    </tr>\n    <tr>\n      <th>190289</th>\n      <td>F6fenNd1vkH3ckuXFPRB6g</td>\n      <td>u0bwW1sf97hhNzTvkagEsA</td>\n      <td>enSXnvEKjDCit9A2_vyugg</td>\n      <td>2011-10-09 20:24:16</td>\n      <td>4</td>\n      <td>0</td>\n      <td>FL</td>\n      <td>32771</td>\n      <td>-2.79</td>\n      <td>3.36</td>\n      <td>3.0</td>\n      <td>29.0</td>\n      <td>2.966</td>\n      <td>2011</td>\n      <td>10</td>\n      <td>9</td>\n      <td>401.4</td>\n    </tr>\n    <tr>\n      <th>190290</th>\n      <td>O0SG6BTN0FHSZ7PJ1wgmzg</td>\n      <td>mVxg_vBXcUAAQJ03uHxiIQ</td>\n      <td>La_xmePMtWwjxKUqbGvqGQ</td>\n      <td>2010-05-30 11:06:52</td>\n      <td>2</td>\n      <td>0</td>\n      <td>TX</td>\n      <td>78703</td>\n      <td>-45.11</td>\n      <td>5.58</td>\n      <td>5.0</td>\n      <td>108.0</td>\n      <td>3.944</td>\n      <td>2010</td>\n      <td>5</td>\n      <td>30</td>\n      <td>111.6</td>\n    </tr>\n    <tr>\n      <th>190291</th>\n      <td>vTovPnBesDco238QpKtAvA</td>\n      <td>uVpNSrc3IEpR42VGdZ709w</td>\n      <td>4jOreXu9ctLBWOJWMtNv1w</td>\n      <td>2017-01-07 05:55:39</td>\n      <td>4</td>\n      <td>0</td>\n      <td>WA</td>\n      <td>98665</td>\n      <td>-5.09</td>\n      <td>-19.20</td>\n      <td>-8.0</td>\n      <td>18.0</td>\n      <td>3.111</td>\n      <td>2017</td>\n      <td>1</td>\n      <td>7</td>\n      <td>115.9</td>\n    </tr>\n    <tr>\n      <th>190292</th>\n      <td>Vm6QFEvxNwF_6f9EwT9ZXQ</td>\n      <td>8dz_7y-q0MtFZ8m0HYDUAA</td>\n      <td>3cLBtLFiH8IRdlEy9S8RiQ</td>\n      <td>2016-04-29 21:23:59</td>\n      <td>4</td>\n      <td>0</td>\n      <td>FL</td>\n      <td>32836</td>\n      <td>-23.12</td>\n      <td>3.36</td>\n      <td>3.0</td>\n      <td>564.0</td>\n      <td>4.254</td>\n      <td>2016</td>\n      <td>4</td>\n      <td>29</td>\n      <td>401.4</td>\n    </tr>\n  </tbody>\n</table>\n<p>190293 rows × 17 columns</p>\n</div>"
     },
     "execution_count": 35,
     "metadata": {},
     "output_type": "execute_result"
    }
   ],
   "source": [
    "REVIEWS.drop(columns=['count'], inplace=True)\n",
    "REVIEWS"
   ],
   "metadata": {
    "collapsed": false,
    "pycharm": {
     "name": "#%%\n"
    }
   }
  },
  {
   "cell_type": "code",
   "execution_count": 36,
   "outputs": [
    {
     "name": "stdout",
     "output_type": "stream",
     "text": [
      "File exported.\n"
     ]
    }
   ],
   "source": [
    "REVIEWS.to_csv('data/yelp_dataset.csv')\n",
    "print('File exported.')"
   ],
   "metadata": {
    "collapsed": false,
    "pycharm": {
     "name": "#%%\n"
    }
   }
  }
 ],
 "metadata": {
  "kernelspec": {
   "display_name": "Python 3",
   "language": "python",
   "name": "python3"
  },
  "language_info": {
   "codemirror_mode": {
    "name": "ipython",
    "version": 3
   },
   "file_extension": ".py",
   "mimetype": "text/x-python",
   "name": "python",
   "nbconvert_exporter": "python",
   "pygments_lexer": "ipython3",
   "version": "3.8.10"
  }
 },
 "nbformat": 4,
 "nbformat_minor": 0
}