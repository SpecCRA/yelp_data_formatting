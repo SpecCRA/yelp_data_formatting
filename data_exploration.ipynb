{
 "cells": [
  {
   "cell_type": "code",
   "execution_count": 1,
   "metadata": {
    "collapsed": true
   },
   "outputs": [],
   "source": [
    "import pandas as pd\n",
    "import numpy as np\n",
    "from tqdm import tqdm\n",
    "import re\n",
    "import json"
   ]
  },
  {
   "cell_type": "code",
   "execution_count": 2,
   "outputs": [],
   "source": [
    "def fix_zipcodes(zipcode):\n",
    "    if len(zipcode) < 5:\n",
    "        to_fill = 5 - len(zipcode)\n",
    "        return (to_fill * '0') + zipcode\n",
    "\n",
    "    else:\n",
    "        return zipcode\n",
    "\n",
    "def fix_county_name(county_name):\n",
    "    if 'county' in county_name:\n",
    "        return county_name[:county_name.find('county')].rstrip()\n",
    "    else:\n",
    "        return county_name\n"
   ],
   "metadata": {
    "collapsed": false,
    "pycharm": {
     "name": "#%%\n"
    }
   }
  },
  {
   "cell_type": "code",
   "execution_count": 3,
   "metadata": {
    "collapsed": false,
    "pycharm": {
     "name": "#%%\n"
    }
   },
   "outputs": [],
   "source": [
    "BUSINESS_DATA_FILEPATH = 'data/yelp_academic_dataset_business.json'\n",
    "REVIEWS_DATA_FILEPATH = 'data/yelp_academic_dataset_review.json'\n",
    "USERS_DATA_FILEPATH = 'data/yelp_academic_dataset_user.json'\n",
    "COUNTY_DATA_FILEPATH = 'data/county_data.csv'\n",
    "STATES_DATA_FILEPATH = 'data/states_data.csv'\n",
    "ZIPCODES_DATA_FILEPATH = 'data/zip_code_database.csv'"
   ]
  },
  {
   "cell_type": "markdown",
   "metadata": {
    "collapsed": false,
    "pycharm": {
     "name": "#%% md\n"
    }
   },
   "source": [
    "# Guide\n",
    "\n",
    "The goal is to put everything into one table in tabular format."
   ]
  },
  {
   "cell_type": "markdown",
   "metadata": {
    "collapsed": false,
    "pycharm": {
     "name": "#%% md\n"
    }
   },
   "source": [
    "# Plan\n",
    "\n",
    "## Location tracking\n",
    "\n",
    "1. Query each review for the business ID to get long and lat values.\n",
    "2. Take average of long and lat values for a centered location.\n",
    "3. Take values by users.\n",
    "4. Assign political ideologies by county and state.\n",
    "5. Count helpfulness by user.\n",
    "\n",
    "## Scrap the location tracking old plan\n",
    "\n",
    "_1. For each user, count the zip code of the business reviewed\n",
    "2. Assign it to a county\n",
    "3. The most common county is the user's base location\n",
    "\n",
    "## Political ideology\n",
    "\n",
    "1. Match with county & state levels\n",
    "2. Cook Partisan Voting Index - review data and revisit\n",
    "\n",
    "## Business & Reviews\n",
    "\n",
    "1. Keep zip code\n",
    "2. Assign categorization: restaurants, home services, auto services, other\n",
    "3. Assign a size\n",
    "4. Assign the state\n",
    "5. Business mean rating\n",
    "6. Helpfulness count\n",
    "7. Review rating"
   ]
  },
  {
   "cell_type": "code",
   "execution_count": 4,
   "outputs": [],
   "source": [
    "COUNTY_DF = pd.read_csv(COUNTY_DATA_FILEPATH, index_col=0)\n",
    "STATES_DF = pd.read_csv(STATES_DATA_FILEPATH, index_col=0)\n",
    "ZIPS_DF = pd.read_csv(ZIPCODES_DATA_FILEPATH)"
   ],
   "metadata": {
    "collapsed": false,
    "pycharm": {
     "name": "#%%\n"
    }
   }
  },
  {
   "cell_type": "code",
   "execution_count": 5,
   "outputs": [
    {
     "data": {
      "text/plain": "     zip state               county\n0  00501    NY       suffolk county\n1  00544    NY       suffolk county\n2  00601    PR   adjuntas municipio\n3  00602    PR     aguada municipio\n4  00603    PR  aguadilla municipio",
      "text/html": "<div>\n<style scoped>\n    .dataframe tbody tr th:only-of-type {\n        vertical-align: middle;\n    }\n\n    .dataframe tbody tr th {\n        vertical-align: top;\n    }\n\n    .dataframe thead th {\n        text-align: right;\n    }\n</style>\n<table border=\"1\" class=\"dataframe\">\n  <thead>\n    <tr style=\"text-align: right;\">\n      <th></th>\n      <th>zip</th>\n      <th>state</th>\n      <th>county</th>\n    </tr>\n  </thead>\n  <tbody>\n    <tr>\n      <th>0</th>\n      <td>00501</td>\n      <td>NY</td>\n      <td>suffolk county</td>\n    </tr>\n    <tr>\n      <th>1</th>\n      <td>00544</td>\n      <td>NY</td>\n      <td>suffolk county</td>\n    </tr>\n    <tr>\n      <th>2</th>\n      <td>00601</td>\n      <td>PR</td>\n      <td>adjuntas municipio</td>\n    </tr>\n    <tr>\n      <th>3</th>\n      <td>00602</td>\n      <td>PR</td>\n      <td>aguada municipio</td>\n    </tr>\n    <tr>\n      <th>4</th>\n      <td>00603</td>\n      <td>PR</td>\n      <td>aguadilla municipio</td>\n    </tr>\n  </tbody>\n</table>\n</div>"
     },
     "execution_count": 5,
     "metadata": {},
     "output_type": "execute_result"
    }
   ],
   "source": [
    "ZIPS_DF = ZIPS_DF[['zip', 'state', 'county']]\n",
    "ZIPS_DF['zip'] = ZIPS_DF['zip'].astype(str).apply(fix_zipcodes)\n",
    "ZIPS_DF['county'] = ZIPS_DF['county'].str.lower()\n",
    "ZIPS_DF.loc[len(ZIPS_DF)] = ['02101', 'MA', 'suffolk county']\n",
    "ZIPS_DF.head()"
   ],
   "metadata": {
    "collapsed": false,
    "pycharm": {
     "name": "#%%\n"
    }
   }
  },
  {
   "cell_type": "code",
   "execution_count": 6,
   "outputs": [
    {
     "data": {
      "text/plain": "         state state_po county_name  perc_diffs\n50526  ALABAMA       AL     autauga       44.42\n50529  ALABAMA       AL     baldwin       53.76\n50532  ALABAMA       AL     barbour        7.66\n50535  ALABAMA       AL        bibb       57.73\n50538  ALABAMA       AL      blount       80.00",
      "text/html": "<div>\n<style scoped>\n    .dataframe tbody tr th:only-of-type {\n        vertical-align: middle;\n    }\n\n    .dataframe tbody tr th {\n        vertical-align: top;\n    }\n\n    .dataframe thead th {\n        text-align: right;\n    }\n</style>\n<table border=\"1\" class=\"dataframe\">\n  <thead>\n    <tr style=\"text-align: right;\">\n      <th></th>\n      <th>state</th>\n      <th>state_po</th>\n      <th>county_name</th>\n      <th>perc_diffs</th>\n    </tr>\n  </thead>\n  <tbody>\n    <tr>\n      <th>50526</th>\n      <td>ALABAMA</td>\n      <td>AL</td>\n      <td>autauga</td>\n      <td>44.42</td>\n    </tr>\n    <tr>\n      <th>50529</th>\n      <td>ALABAMA</td>\n      <td>AL</td>\n      <td>baldwin</td>\n      <td>53.76</td>\n    </tr>\n    <tr>\n      <th>50532</th>\n      <td>ALABAMA</td>\n      <td>AL</td>\n      <td>barbour</td>\n      <td>7.66</td>\n    </tr>\n    <tr>\n      <th>50535</th>\n      <td>ALABAMA</td>\n      <td>AL</td>\n      <td>bibb</td>\n      <td>57.73</td>\n    </tr>\n    <tr>\n      <th>50538</th>\n      <td>ALABAMA</td>\n      <td>AL</td>\n      <td>blount</td>\n      <td>80.00</td>\n    </tr>\n  </tbody>\n</table>\n</div>"
     },
     "execution_count": 6,
     "metadata": {},
     "output_type": "execute_result"
    }
   ],
   "source": [
    "COUNTY_DF['county_name'] = COUNTY_DF['county_name'].str.lower()\n",
    "COUNTY_DF['county_name'] = COUNTY_DF['county_name'].apply(fix_county_name)\n",
    "COUNTY_DF.head()"
   ],
   "metadata": {
    "collapsed": false,
    "pycharm": {
     "name": "#%%\n"
    }
   }
  },
  {
   "cell_type": "code",
   "execution_count": 7,
   "outputs": [
    {
     "data": {
      "text/plain": "            state state_po county_name  perc_diffs\n52799  CALIFORNIA       CA      nevada      -14.79\n52814  CALIFORNIA       CA      plumas       16.73\n52744  CALIFORNIA       CA      lassen       51.48\n52899  CALIFORNIA       CA      sonoma      -51.48\n52904  CALIFORNIA       CA  stanislaus       -0.79\n52699  CALIFORNIA       CA   el dorado        8.80\n52939  CALIFORNIA       CA        yolo      -41.43\n52719  CALIFORNIA       CA    imperial      -24.37\n52884  CALIFORNIA       CA      sierra       21.34\n52674  CALIFORNIA       CA       butte       -1.67",
      "text/html": "<div>\n<style scoped>\n    .dataframe tbody tr th:only-of-type {\n        vertical-align: middle;\n    }\n\n    .dataframe tbody tr th {\n        vertical-align: top;\n    }\n\n    .dataframe thead th {\n        text-align: right;\n    }\n</style>\n<table border=\"1\" class=\"dataframe\">\n  <thead>\n    <tr style=\"text-align: right;\">\n      <th></th>\n      <th>state</th>\n      <th>state_po</th>\n      <th>county_name</th>\n      <th>perc_diffs</th>\n    </tr>\n  </thead>\n  <tbody>\n    <tr>\n      <th>52799</th>\n      <td>CALIFORNIA</td>\n      <td>CA</td>\n      <td>nevada</td>\n      <td>-14.79</td>\n    </tr>\n    <tr>\n      <th>52814</th>\n      <td>CALIFORNIA</td>\n      <td>CA</td>\n      <td>plumas</td>\n      <td>16.73</td>\n    </tr>\n    <tr>\n      <th>52744</th>\n      <td>CALIFORNIA</td>\n      <td>CA</td>\n      <td>lassen</td>\n      <td>51.48</td>\n    </tr>\n    <tr>\n      <th>52899</th>\n      <td>CALIFORNIA</td>\n      <td>CA</td>\n      <td>sonoma</td>\n      <td>-51.48</td>\n    </tr>\n    <tr>\n      <th>52904</th>\n      <td>CALIFORNIA</td>\n      <td>CA</td>\n      <td>stanislaus</td>\n      <td>-0.79</td>\n    </tr>\n    <tr>\n      <th>52699</th>\n      <td>CALIFORNIA</td>\n      <td>CA</td>\n      <td>el dorado</td>\n      <td>8.80</td>\n    </tr>\n    <tr>\n      <th>52939</th>\n      <td>CALIFORNIA</td>\n      <td>CA</td>\n      <td>yolo</td>\n      <td>-41.43</td>\n    </tr>\n    <tr>\n      <th>52719</th>\n      <td>CALIFORNIA</td>\n      <td>CA</td>\n      <td>imperial</td>\n      <td>-24.37</td>\n    </tr>\n    <tr>\n      <th>52884</th>\n      <td>CALIFORNIA</td>\n      <td>CA</td>\n      <td>sierra</td>\n      <td>21.34</td>\n    </tr>\n    <tr>\n      <th>52674</th>\n      <td>CALIFORNIA</td>\n      <td>CA</td>\n      <td>butte</td>\n      <td>-1.67</td>\n    </tr>\n  </tbody>\n</table>\n</div>"
     },
     "execution_count": 7,
     "metadata": {},
     "output_type": "execute_result"
    }
   ],
   "source": [
    "COUNTY_DF[COUNTY_DF['state_po'] == 'CA'].sample(10)"
   ],
   "metadata": {
    "collapsed": false,
    "pycharm": {
     "name": "#%%\n"
    }
   }
  },
  {
   "cell_type": "code",
   "execution_count": 8,
   "outputs": [
    {
     "data": {
      "text/plain": "        state  perc_diffs\n1     ALABAMA       25.46\n3      ALASKA       10.11\n5     ARIZONA       -0.10\n7    ARKANSAS        6.91\n9  CALIFORNIA      -29.16",
      "text/html": "<div>\n<style scoped>\n    .dataframe tbody tr th:only-of-type {\n        vertical-align: middle;\n    }\n\n    .dataframe tbody tr th {\n        vertical-align: top;\n    }\n\n    .dataframe thead th {\n        text-align: right;\n    }\n</style>\n<table border=\"1\" class=\"dataframe\">\n  <thead>\n    <tr style=\"text-align: right;\">\n      <th></th>\n      <th>state</th>\n      <th>perc_diffs</th>\n    </tr>\n  </thead>\n  <tbody>\n    <tr>\n      <th>1</th>\n      <td>ALABAMA</td>\n      <td>25.46</td>\n    </tr>\n    <tr>\n      <th>3</th>\n      <td>ALASKA</td>\n      <td>10.11</td>\n    </tr>\n    <tr>\n      <th>5</th>\n      <td>ARIZONA</td>\n      <td>-0.10</td>\n    </tr>\n    <tr>\n      <th>7</th>\n      <td>ARKANSAS</td>\n      <td>6.91</td>\n    </tr>\n    <tr>\n      <th>9</th>\n      <td>CALIFORNIA</td>\n      <td>-29.16</td>\n    </tr>\n  </tbody>\n</table>\n</div>"
     },
     "execution_count": 8,
     "metadata": {},
     "output_type": "execute_result"
    }
   ],
   "source": [
    "STATES_DF.head()"
   ],
   "metadata": {
    "collapsed": false,
    "pycharm": {
     "name": "#%%\n"
    }
   }
  },
  {
   "cell_type": "code",
   "execution_count": 9,
   "outputs": [
    {
     "name": "stdout",
     "output_type": "stream",
     "text": [
      "51\n",
      "['AL', 'AK', 'AZ', 'AR', 'CA', 'CO', 'CT', 'DE', 'DC', 'FL', 'GA', 'HI', 'ID', 'IL', 'IN', 'IA', 'KS', 'KY', 'LA', 'ME', 'MD', 'MA', 'MI', 'MN', 'MS', 'MO', 'MT', 'NE', 'NV', 'NH', 'NJ', 'NM', 'NY', 'NC', 'ND', 'OH', 'OK', 'OR', 'PA', 'RI', 'SC', 'SD', 'TN', 'TX', 'UT', 'VT', 'VA', 'WA', 'WV', 'WI', 'WY']\n"
     ]
    }
   ],
   "source": [
    "STATES_LIST = list(COUNTY_DF['state_po'].unique())\n",
    "print(f\"Number of states: {len(STATES_LIST)}\")"
   ],
   "metadata": {
    "collapsed": false,
    "pycharm": {
     "name": "#%%\n"
    }
   }
  },
  {
   "cell_type": "code",
   "execution_count": 10,
   "metadata": {
    "collapsed": false,
    "pycharm": {
     "name": "#%%\n"
    }
   },
   "outputs": [],
   "source": [
    "USER_COLS = ['user_id', 'review_count']\n",
    "BUSINESS_COLS = ['business_id', 'state', 'city', 'postal_code', 'categories', 'stars', 'review_count']\n",
    "REVIEW_COLS = ['review_id', 'user_id', 'business_id', 'date', 'stars', 'useful']\n",
    "ZIPCODES_COLS = ['zip', 'county']\n",
    "\n",
    "USER_DTYPES = {\n",
    "    'user_id': np.str,\n",
    "    'review_count': np.int\n",
    "}\n",
    "\n",
    "BUSINESS_DTYPES = {\n",
    "    'business_id': np.str,\n",
    "    'state': np.str,\n",
    "    'city': np.str,\n",
    "    'postal_code': np.str,\n",
    "    'categories': np.str,\n",
    "    'review_count': np.int,\n",
    "    'stars': np.float\n",
    "}\n",
    "\n",
    "REVIEW_DTYPES = {\n",
    "    'review_id': np.str,\n",
    "    'user_id': np.str,\n",
    "    'business_id': np.str,\n",
    "    'stars': np.int,\n",
    "    'useful': np.int\n",
    "}\n",
    "\n",
    "ZIPS_DTYPES = {\n",
    "    'zip': np.str,\n",
    "    'county': np.str\n",
    "}"
   ]
  },
  {
   "cell_type": "code",
   "execution_count": 11,
   "outputs": [
    {
     "name": "stderr",
     "output_type": "stream",
     "text": [
      "300it [00:04, 68.29it/s]\n"
     ]
    }
   ],
   "source": [
    "# Load 20,000 reviews from reviews\n",
    "REVIEWS = list()\n",
    "with open(REVIEWS_DATA_FILEPATH, 'r') as f:\n",
    "    reader = pd.read_json(f, orient='records', lines=True, nrows=300000, chunksize=1000, dtype=REVIEW_DTYPES)\n",
    "\n",
    "    for chunk in tqdm(reader):\n",
    "        reduced_chunk = chunk[REVIEW_COLS]\n",
    "        # Only keep US\n",
    "        REVIEWS.append(reduced_chunk)\n",
    "    REVIEWS = pd.concat(REVIEWS, ignore_index=True)"
   ],
   "metadata": {
    "collapsed": false,
    "pycharm": {
     "name": "#%%\n"
    }
   }
  },
  {
   "cell_type": "code",
   "execution_count": 12,
   "outputs": [
    {
     "data": {
      "text/plain": "                     review_id                 user_id  \\\n16828   1_DNlZtvcWb2RgZ8CRh1JA  SEi2JT8moDeKuKNU-jmxLA   \n91171   L0IVeLLRkQrQP9jXrxojmg  7tjW1rcBuaRfHdtJB4-sNQ   \n159560  r_bPKlXfPZrSf2R3PYJpag  R6RiIWs6oBKIEWCtKiMNHA   \n20967   0La042kN4Vs6NnsKq-NkqA  qi9his34QNZs0IajjOCzgQ   \n126993  VFeUAjQOnkjj-V1tIjSs0w  _L2AEsnER-6j3DjouA8T-A   \n41438   oLeznMvPdUIteQlb3PPRFw  59QMw6nUynxZjIfBIxP5NQ   \n195814  ZSEQwnpdlhAMvwqvLz6Fyg  O0eezF0nDiDs8tHjMatz5A   \n129481  fE6DDn89KDi_tp_-cJndIw  bJOHUJPCusrX-Xhn4agELg   \n275360  edRTVj4ddmlpu8jl4AReQw  lBrnbXrgw8jCBtIgkqzvqg   \n259351  fHC_A0FR7GnWWzutvZRk3w  GcRReISCooKwajFzqlFY0Q   \n265209  PcqrfZgw4kfXqqpBAezwGw  OjOo0Jh_2bJkWqxH2ZHarQ   \n237463  sVNZNNxi01bQnPHVY02HeQ  ctyt_PTHumnLu_ESY7Nn-Q   \n35735   4xeI7jx4EPz7rqt2egizHQ  MxCv_lfN0hni-3Q2MMUhuQ   \n229095  oW1ZQxlf2eFEWs1bNLzM-g  9BsrCT1yAuA2ef6GLwd1bA   \n64237   ld6V4fZ1E1k0L_0_1egKLQ  -rJ8i5aEWlgBmjUt2McOZQ   \n\n                   business_id                date  stars  useful  \n16828   5fAhoG03Qy99lI0v7jGFYg 2014-11-30 07:41:09      5       0  \n91171   fM44ZS_KDUZHNK18f3dnsQ 2015-04-16 20:21:38      2       1  \n159560  QdzRS1s0tSltIokm2xV-kA 2017-07-21 23:58:35      4       0  \n20967   7qSjRrEf64ySrVc19bgofw 2013-10-24 17:46:13      1       1  \n126993  8GusTJDbsUChxDYP677npg 2017-07-12 02:57:25      5       0  \n41438   neYslCKmOIZMfrY0aqs-lg 2015-03-19 23:05:48      5       0  \n195814  MP12KzsczEWxqCCf95Zdew 2012-10-15 22:56:49      5       0  \n129481  mT-SkVfrxjEIOXnHaYZu-g 2017-12-05 21:24:46      5       0  \n275360  Irp5sgl7XASH5ZTw2D47qw 2012-03-18 15:35:55      2       2  \n259351  6H313b3O6gTULpR7fV2FsQ 2018-03-08 04:37:50      4       0  \n265209  TA1KUSCu8GkWP9w0rmElxw 2014-01-22 23:21:56      5       2  \n237463  Kyet1R5mFfjAgPNLbgZmWQ 2008-10-01 16:57:56      5       1  \n35735   RJfovzPhmdt-pYHnFboM8w 2017-11-19 02:02:51      2       0  \n229095  _mI4y777WWbD85VteEHc8Q 2015-09-07 02:21:04      4       0  \n64237   SZ5ttOLSA-RuhYaacxJe9Q 2014-08-13 23:23:37      1       1  ",
      "text/html": "<div>\n<style scoped>\n    .dataframe tbody tr th:only-of-type {\n        vertical-align: middle;\n    }\n\n    .dataframe tbody tr th {\n        vertical-align: top;\n    }\n\n    .dataframe thead th {\n        text-align: right;\n    }\n</style>\n<table border=\"1\" class=\"dataframe\">\n  <thead>\n    <tr style=\"text-align: right;\">\n      <th></th>\n      <th>review_id</th>\n      <th>user_id</th>\n      <th>business_id</th>\n      <th>date</th>\n      <th>stars</th>\n      <th>useful</th>\n    </tr>\n  </thead>\n  <tbody>\n    <tr>\n      <th>16828</th>\n      <td>1_DNlZtvcWb2RgZ8CRh1JA</td>\n      <td>SEi2JT8moDeKuKNU-jmxLA</td>\n      <td>5fAhoG03Qy99lI0v7jGFYg</td>\n      <td>2014-11-30 07:41:09</td>\n      <td>5</td>\n      <td>0</td>\n    </tr>\n    <tr>\n      <th>91171</th>\n      <td>L0IVeLLRkQrQP9jXrxojmg</td>\n      <td>7tjW1rcBuaRfHdtJB4-sNQ</td>\n      <td>fM44ZS_KDUZHNK18f3dnsQ</td>\n      <td>2015-04-16 20:21:38</td>\n      <td>2</td>\n      <td>1</td>\n    </tr>\n    <tr>\n      <th>159560</th>\n      <td>r_bPKlXfPZrSf2R3PYJpag</td>\n      <td>R6RiIWs6oBKIEWCtKiMNHA</td>\n      <td>QdzRS1s0tSltIokm2xV-kA</td>\n      <td>2017-07-21 23:58:35</td>\n      <td>4</td>\n      <td>0</td>\n    </tr>\n    <tr>\n      <th>20967</th>\n      <td>0La042kN4Vs6NnsKq-NkqA</td>\n      <td>qi9his34QNZs0IajjOCzgQ</td>\n      <td>7qSjRrEf64ySrVc19bgofw</td>\n      <td>2013-10-24 17:46:13</td>\n      <td>1</td>\n      <td>1</td>\n    </tr>\n    <tr>\n      <th>126993</th>\n      <td>VFeUAjQOnkjj-V1tIjSs0w</td>\n      <td>_L2AEsnER-6j3DjouA8T-A</td>\n      <td>8GusTJDbsUChxDYP677npg</td>\n      <td>2017-07-12 02:57:25</td>\n      <td>5</td>\n      <td>0</td>\n    </tr>\n    <tr>\n      <th>41438</th>\n      <td>oLeznMvPdUIteQlb3PPRFw</td>\n      <td>59QMw6nUynxZjIfBIxP5NQ</td>\n      <td>neYslCKmOIZMfrY0aqs-lg</td>\n      <td>2015-03-19 23:05:48</td>\n      <td>5</td>\n      <td>0</td>\n    </tr>\n    <tr>\n      <th>195814</th>\n      <td>ZSEQwnpdlhAMvwqvLz6Fyg</td>\n      <td>O0eezF0nDiDs8tHjMatz5A</td>\n      <td>MP12KzsczEWxqCCf95Zdew</td>\n      <td>2012-10-15 22:56:49</td>\n      <td>5</td>\n      <td>0</td>\n    </tr>\n    <tr>\n      <th>129481</th>\n      <td>fE6DDn89KDi_tp_-cJndIw</td>\n      <td>bJOHUJPCusrX-Xhn4agELg</td>\n      <td>mT-SkVfrxjEIOXnHaYZu-g</td>\n      <td>2017-12-05 21:24:46</td>\n      <td>5</td>\n      <td>0</td>\n    </tr>\n    <tr>\n      <th>275360</th>\n      <td>edRTVj4ddmlpu8jl4AReQw</td>\n      <td>lBrnbXrgw8jCBtIgkqzvqg</td>\n      <td>Irp5sgl7XASH5ZTw2D47qw</td>\n      <td>2012-03-18 15:35:55</td>\n      <td>2</td>\n      <td>2</td>\n    </tr>\n    <tr>\n      <th>259351</th>\n      <td>fHC_A0FR7GnWWzutvZRk3w</td>\n      <td>GcRReISCooKwajFzqlFY0Q</td>\n      <td>6H313b3O6gTULpR7fV2FsQ</td>\n      <td>2018-03-08 04:37:50</td>\n      <td>4</td>\n      <td>0</td>\n    </tr>\n    <tr>\n      <th>265209</th>\n      <td>PcqrfZgw4kfXqqpBAezwGw</td>\n      <td>OjOo0Jh_2bJkWqxH2ZHarQ</td>\n      <td>TA1KUSCu8GkWP9w0rmElxw</td>\n      <td>2014-01-22 23:21:56</td>\n      <td>5</td>\n      <td>2</td>\n    </tr>\n    <tr>\n      <th>237463</th>\n      <td>sVNZNNxi01bQnPHVY02HeQ</td>\n      <td>ctyt_PTHumnLu_ESY7Nn-Q</td>\n      <td>Kyet1R5mFfjAgPNLbgZmWQ</td>\n      <td>2008-10-01 16:57:56</td>\n      <td>5</td>\n      <td>1</td>\n    </tr>\n    <tr>\n      <th>35735</th>\n      <td>4xeI7jx4EPz7rqt2egizHQ</td>\n      <td>MxCv_lfN0hni-3Q2MMUhuQ</td>\n      <td>RJfovzPhmdt-pYHnFboM8w</td>\n      <td>2017-11-19 02:02:51</td>\n      <td>2</td>\n      <td>0</td>\n    </tr>\n    <tr>\n      <th>229095</th>\n      <td>oW1ZQxlf2eFEWs1bNLzM-g</td>\n      <td>9BsrCT1yAuA2ef6GLwd1bA</td>\n      <td>_mI4y777WWbD85VteEHc8Q</td>\n      <td>2015-09-07 02:21:04</td>\n      <td>4</td>\n      <td>0</td>\n    </tr>\n    <tr>\n      <th>64237</th>\n      <td>ld6V4fZ1E1k0L_0_1egKLQ</td>\n      <td>-rJ8i5aEWlgBmjUt2McOZQ</td>\n      <td>SZ5ttOLSA-RuhYaacxJe9Q</td>\n      <td>2014-08-13 23:23:37</td>\n      <td>1</td>\n      <td>1</td>\n    </tr>\n  </tbody>\n</table>\n</div>"
     },
     "execution_count": 12,
     "metadata": {},
     "output_type": "execute_result"
    }
   ],
   "source": [
    "REVIEWS.sample(15)"
   ],
   "metadata": {
    "collapsed": false,
    "pycharm": {
     "name": "#%%\n"
    }
   }
  },
  {
   "cell_type": "code",
   "execution_count": 13,
   "outputs": [],
   "source": [
    "USERS_LIST = list(REVIEWS['user_id'].unique())\n",
    "BUSINESS_LIST = list(REVIEWS['business_id'].unique())"
   ],
   "metadata": {
    "collapsed": false,
    "pycharm": {
     "name": "#%%\n"
    }
   }
  },
  {
   "cell_type": "code",
   "execution_count": 14,
   "outputs": [],
   "source": [
    "# print(\"Users data loading starting...\")\n",
    "\n",
    "# USERS = list()\n",
    "#\n",
    "# with open(USERS_DATA_FILEPATH, 'r') as f:\n",
    "#     reader = pd.read_json(f, orient='records', lines=True, nrows=200000, chunksize=1000, dtype=USER_DTYPES)\n",
    "#\n",
    "#     for chunk in tqdm(reader):\n",
    "#         reduced_chunk = chunk[USER_COLS]\n",
    "#         reduced_chunk = reduced_chunk[reduced_chunk['user_id'].isin(USERS_LIST)]\n",
    "#\n",
    "#         USERS.append(reduced_chunk)\n",
    "#\n",
    "#     USERS = pd.concat(USERS, ignore_index=True)\n",
    "#\n",
    "# print(\"Users loaded.\")"
   ],
   "metadata": {
    "collapsed": false,
    "pycharm": {
     "name": "#%%\n"
    }
   }
  },
  {
   "cell_type": "code",
   "execution_count": 15,
   "outputs": [
    {
     "name": "stderr",
     "output_type": "stream",
     "text": [
      "161it [00:03, 40.41it/s]"
     ]
    },
    {
     "name": "stdout",
     "output_type": "stream",
     "text": [
      "Businesses loaded.\n"
     ]
    },
    {
     "name": "stderr",
     "output_type": "stream",
     "text": [
      "\n"
     ]
    }
   ],
   "source": [
    "BUSINESSES = list()\n",
    "\n",
    "with open(BUSINESS_DATA_FILEPATH, 'r') as f:\n",
    "    reader = pd.read_json(f, orient='records', lines=True, chunksize=1000, dtype=BUSINESS_DTYPES)\n",
    "\n",
    "    for chunk in tqdm(reader):\n",
    "        reduced_chunk = chunk[BUSINESS_COLS]\n",
    "        reduced_chunk = reduced_chunk[reduced_chunk['business_id'].isin(BUSINESS_LIST)]\n",
    "        BUSINESSES.append(reduced_chunk)\n",
    "\n",
    "    BUSINESSES = pd.concat(BUSINESSES, ignore_index=True)\n",
    "\n",
    "print(\"Businesses loaded.\")"
   ],
   "metadata": {
    "collapsed": false,
    "pycharm": {
     "name": "#%%\n"
    }
   }
  },
  {
   "cell_type": "code",
   "execution_count": 16,
   "outputs": [
    {
     "data": {
      "text/plain": "                  business_id state       city postal_code  \\\n12680  U0ekeaed4uUdrMe00Vn4ew    WA  Vancouver       98683   \n7729   oLPwkVXfHk0srRyKh-dK-Q    MA     Boston       02116   \n169    YiwC9uu9RUKqCaeTueNW7w    MA    Peabody       01960   \n4390   5P3b82EqZqR7lCqAYj-zaQ    CO    Boulder       80301   \n1518   D8wLWZiMlw12B2ftoQAm3Q    GA   Marietta       30067   \n10667  gNppUet6K3p7CX_eX1_r_g    GA    Atlanta       30324   \n5229   oSCkr_n69Gkg8UUdBaNhLQ    OR   Portland       97225   \n3265   JuJSU3kaPUgvm3SwqFKdkA    TX     Austin       78756   \n11770  p3QUmEM3oz4KITABtNAfYw    MA  Wakefield       01880   \n12812  JeLd87zP0AMYWDSo6vtiqA    GA    Atlanta       30309   \n\n                                              categories  stars  review_count  \n12680  Restaurants, Chicken Wings, Fast Food, Food, A...    1.5           110  \n7729   Shopping, Bridal, Event Planning & Services, F...    3.5            62  \n169    Internet Service Providers, Shopping, Mobile P...    2.0            13  \n4390   American (New), Mexican, Restaurants, Cafes, A...    4.5           277  \n1518   Nightlife, Sports Bars, Cafes, Beer, Wine & Sp...    3.5           120  \n10667                               Restaurants, Chinese    3.0            67  \n5229   Boot Camps, Active Life, Fitness & Instruction...    4.0             8  \n3265   Makeup Artists, Hair Stylists, Beauty & Spas, ...    5.0            16  \n11770  Nightlife, Sushi Bars, Bars, Restaurants, Japa...    4.0           161  \n12812  Elementary Schools, Private Schools, Preschool...    4.0             6  ",
      "text/html": "<div>\n<style scoped>\n    .dataframe tbody tr th:only-of-type {\n        vertical-align: middle;\n    }\n\n    .dataframe tbody tr th {\n        vertical-align: top;\n    }\n\n    .dataframe thead th {\n        text-align: right;\n    }\n</style>\n<table border=\"1\" class=\"dataframe\">\n  <thead>\n    <tr style=\"text-align: right;\">\n      <th></th>\n      <th>business_id</th>\n      <th>state</th>\n      <th>city</th>\n      <th>postal_code</th>\n      <th>categories</th>\n      <th>stars</th>\n      <th>review_count</th>\n    </tr>\n  </thead>\n  <tbody>\n    <tr>\n      <th>12680</th>\n      <td>U0ekeaed4uUdrMe00Vn4ew</td>\n      <td>WA</td>\n      <td>Vancouver</td>\n      <td>98683</td>\n      <td>Restaurants, Chicken Wings, Fast Food, Food, A...</td>\n      <td>1.5</td>\n      <td>110</td>\n    </tr>\n    <tr>\n      <th>7729</th>\n      <td>oLPwkVXfHk0srRyKh-dK-Q</td>\n      <td>MA</td>\n      <td>Boston</td>\n      <td>02116</td>\n      <td>Shopping, Bridal, Event Planning &amp; Services, F...</td>\n      <td>3.5</td>\n      <td>62</td>\n    </tr>\n    <tr>\n      <th>169</th>\n      <td>YiwC9uu9RUKqCaeTueNW7w</td>\n      <td>MA</td>\n      <td>Peabody</td>\n      <td>01960</td>\n      <td>Internet Service Providers, Shopping, Mobile P...</td>\n      <td>2.0</td>\n      <td>13</td>\n    </tr>\n    <tr>\n      <th>4390</th>\n      <td>5P3b82EqZqR7lCqAYj-zaQ</td>\n      <td>CO</td>\n      <td>Boulder</td>\n      <td>80301</td>\n      <td>American (New), Mexican, Restaurants, Cafes, A...</td>\n      <td>4.5</td>\n      <td>277</td>\n    </tr>\n    <tr>\n      <th>1518</th>\n      <td>D8wLWZiMlw12B2ftoQAm3Q</td>\n      <td>GA</td>\n      <td>Marietta</td>\n      <td>30067</td>\n      <td>Nightlife, Sports Bars, Cafes, Beer, Wine &amp; Sp...</td>\n      <td>3.5</td>\n      <td>120</td>\n    </tr>\n    <tr>\n      <th>10667</th>\n      <td>gNppUet6K3p7CX_eX1_r_g</td>\n      <td>GA</td>\n      <td>Atlanta</td>\n      <td>30324</td>\n      <td>Restaurants, Chinese</td>\n      <td>3.0</td>\n      <td>67</td>\n    </tr>\n    <tr>\n      <th>5229</th>\n      <td>oSCkr_n69Gkg8UUdBaNhLQ</td>\n      <td>OR</td>\n      <td>Portland</td>\n      <td>97225</td>\n      <td>Boot Camps, Active Life, Fitness &amp; Instruction...</td>\n      <td>4.0</td>\n      <td>8</td>\n    </tr>\n    <tr>\n      <th>3265</th>\n      <td>JuJSU3kaPUgvm3SwqFKdkA</td>\n      <td>TX</td>\n      <td>Austin</td>\n      <td>78756</td>\n      <td>Makeup Artists, Hair Stylists, Beauty &amp; Spas, ...</td>\n      <td>5.0</td>\n      <td>16</td>\n    </tr>\n    <tr>\n      <th>11770</th>\n      <td>p3QUmEM3oz4KITABtNAfYw</td>\n      <td>MA</td>\n      <td>Wakefield</td>\n      <td>01880</td>\n      <td>Nightlife, Sushi Bars, Bars, Restaurants, Japa...</td>\n      <td>4.0</td>\n      <td>161</td>\n    </tr>\n    <tr>\n      <th>12812</th>\n      <td>JeLd87zP0AMYWDSo6vtiqA</td>\n      <td>GA</td>\n      <td>Atlanta</td>\n      <td>30309</td>\n      <td>Elementary Schools, Private Schools, Preschool...</td>\n      <td>4.0</td>\n      <td>6</td>\n    </tr>\n  </tbody>\n</table>\n</div>"
     },
     "execution_count": 16,
     "metadata": {},
     "output_type": "execute_result"
    }
   ],
   "source": [
    "BUSINESSES.sample(10)\n"
   ],
   "metadata": {
    "collapsed": false,
    "pycharm": {
     "name": "#%%\n"
    }
   }
  },
  {
   "cell_type": "code",
   "execution_count": 17,
   "outputs": [
    {
     "name": "stderr",
     "output_type": "stream",
     "text": [
      "100%|██████████| 13706/13706 [08:39<00:00, 26.37it/s]\n"
     ]
    }
   ],
   "source": [
    "# add business zip code in first\n",
    "# add business state\n",
    "\n",
    "for business_id in tqdm(BUSINESS_LIST):\n",
    "    business_zipcode = BUSINESSES[BUSINESSES['business_id'] == business_id]['postal_code'].iloc[0]\n",
    "    business_state = BUSINESSES[BUSINESSES['business_id'] == business_id]['state'].iloc[0]\n",
    "\n",
    "    REVIEWS.loc[REVIEWS['business_id'] == business_id, ['business_state', 'business_zipcode']] = business_state, business_zipcode\n",
    "\n",
    "REVIEWS = REVIEWS[REVIEWS['business_state'].isin(STATES_LIST)]"
   ],
   "metadata": {
    "collapsed": false,
    "pycharm": {
     "name": "#%%\n"
    }
   }
  },
  {
   "cell_type": "code",
   "execution_count": 18,
   "outputs": [],
   "source": [
    "# check state\n",
    "# then match county\n",
    "def match_loc_to_ideology(zipcode):\n",
    "    state = ZIPS_DF[ZIPS_DF['zip'] == zipcode]['state'].iloc[0]\n",
    "    county_name = fix_county_name(ZIPS_DF[ZIPS_DF['zip'] == zipcode]['county'].iloc[0])\n",
    "\n",
    "    state_slice = COUNTY_DF[COUNTY_DF['state_po'] == state]\n",
    "    ideology_metric = state_slice.loc[state_slice['county_name']==county_name]['perc_diffs'].iloc[0]\n",
    "\n",
    "    return ideology_metric\n"
   ],
   "metadata": {
    "collapsed": false,
    "pycharm": {
     "name": "#%%\n"
    }
   }
  },
  {
   "cell_type": "code",
   "execution_count": 19,
   "outputs": [
    {
     "name": "stderr",
     "output_type": "stream",
     "text": [
      "  4%|▍         | 21/533 [00:00<00:10, 49.44it/s]"
     ]
    },
    {
     "name": "stdout",
     "output_type": "stream",
     "text": [
      "\n"
     ]
    },
    {
     "name": "stderr",
     "output_type": "stream",
     "text": [
      "100%|██████████| 533/533 [00:11<00:00, 46.95it/s]"
     ]
    },
    {
     "name": "stdout",
     "output_type": "stream",
     "text": [
      "97226\n"
     ]
    },
    {
     "name": "stderr",
     "output_type": "stream",
     "text": [
      "\n"
     ]
    }
   ],
   "source": [
    "# assign business political ideologies by zip code\n",
    "BUSINESS_ZIPS = list(REVIEWS['business_zipcode'].unique())\n",
    "\n",
    "for business_zip in tqdm(BUSINESS_ZIPS):\n",
    "    try:\n",
    "        business_ideology = match_loc_to_ideology(business_zip)\n",
    "        REVIEWS.loc[REVIEWS['business_zipcode'] == business_zip, 'business_ideology'] = business_ideology\n",
    "    except:\n",
    "        print(business_zip)"
   ],
   "metadata": {
    "collapsed": false,
    "pycharm": {
     "name": "#%%\n"
    }
   }
  },
  {
   "cell_type": "code",
   "execution_count": 20,
   "outputs": [
    {
     "data": {
      "text/plain": "204997"
     },
     "execution_count": 20,
     "metadata": {},
     "output_type": "execute_result"
    }
   ],
   "source": [
    "len(USERS_LIST)\n",
    "# Store users zip code frequencies in a separate data type\n",
    "# Store user zip counts to county\n",
    "# Assign each user a political ideology based on county frequency\n",
    "# store zip code counts per user in a dict from reviews\n"
   ],
   "metadata": {
    "collapsed": false,
    "pycharm": {
     "name": "#%%\n"
    }
   }
  },
  {
   "cell_type": "code",
   "execution_count": 20,
   "outputs": [],
   "source": [],
   "metadata": {
    "collapsed": false,
    "pycharm": {
     "name": "#%%\n"
    }
   }
  },
  {
   "cell_type": "code",
   "execution_count": 21,
   "outputs": [
    {
     "data": {
      "text/plain": "                     review_id                 user_id  \\\n0       lWC-xP3rd6obsecCYsGZRg  ak0TdVmGKo4pwqdJSTLwWw   \n1       8bFej1QE5LXp4O05qjGqXA  YoVfDbnISlW0f7abNQACIg   \n2       NDhkzczKjLshODbqDoNLSg  eC5evKn1TWDyHCyQAwguUw   \n3       T5fAqjjFooT4V0OeZyuk1w  SFQ1jcnGguO0LYWnbbftAA   \n4       sjm_uUcQVxab_EeLCqsYLg  0kA0PAJ8QFMeveQWHFqz2A   \n...                        ...                     ...   \n299995  I0mRlZcCGAyntyGclLHSIw  vso8sQvCRVUnegGY9fx5rQ   \n299996  f_dYCOA9_zadlLtzWA2DWw  suv1g1uAHm0DQu_BMmPznA   \n299997  O0SG6BTN0FHSZ7PJ1wgmzg  mVxg_vBXcUAAQJ03uHxiIQ   \n299998  vTovPnBesDco238QpKtAvA  uVpNSrc3IEpR42VGdZ709w   \n299999  Vm6QFEvxNwF_6f9EwT9ZXQ  8dz_7y-q0MtFZ8m0HYDUAA   \n\n                   business_id                date  stars  useful  \\\n0       buF9druCkbuXLX526sGELQ 2014-10-11 03:34:02      4       3   \n1       RA4V8pr014UyUbDvI-LW2A 2015-07-03 20:38:25      4       1   \n2       _sS2LBIGNT5NQb6PD1Vtjw 2013-05-28 20:38:06      5       0   \n3       0AzLzHfOJgL7ROwhdww2ew 2010-01-08 02:29:15      2       1   \n4       8zehGz9jnxPqXtOc7KaJxA 2011-07-28 18:05:01      4       0   \n...                        ...                 ...    ...     ...   \n299995  Q4DRuxHhKuxP-01rYiRJnQ 2017-02-03 00:45:08      5       0   \n299996  sLkK9Ofmk9UFDrjXxh3iLA 2014-12-07 17:26:02      5       0   \n299997  La_xmePMtWwjxKUqbGvqGQ 2010-05-30 11:06:52      2       0   \n299998  4jOreXu9ctLBWOJWMtNv1w 2017-01-07 05:55:39      4       0   \n299999  3cLBtLFiH8IRdlEy9S8RiQ 2016-04-29 21:23:59      4       0   \n\n       business_state business_zipcode  business_ideology  \n0                  MA            01915             -28.82  \n1                  MA            01701             -44.89  \n2                  OR            97210             -61.31  \n3                  FL            32821             -23.12  \n4                  CO            80302             -56.57  \n...               ...              ...                ...  \n299995             OR            97086             -11.07  \n299996             OR            97227             -61.31  \n299997             TX            78703             -45.11  \n299998             WA            98665              -5.09  \n299999             FL            32836             -23.12  \n\n[275826 rows x 9 columns]",
      "text/html": "<div>\n<style scoped>\n    .dataframe tbody tr th:only-of-type {\n        vertical-align: middle;\n    }\n\n    .dataframe tbody tr th {\n        vertical-align: top;\n    }\n\n    .dataframe thead th {\n        text-align: right;\n    }\n</style>\n<table border=\"1\" class=\"dataframe\">\n  <thead>\n    <tr style=\"text-align: right;\">\n      <th></th>\n      <th>review_id</th>\n      <th>user_id</th>\n      <th>business_id</th>\n      <th>date</th>\n      <th>stars</th>\n      <th>useful</th>\n      <th>business_state</th>\n      <th>business_zipcode</th>\n      <th>business_ideology</th>\n    </tr>\n  </thead>\n  <tbody>\n    <tr>\n      <th>0</th>\n      <td>lWC-xP3rd6obsecCYsGZRg</td>\n      <td>ak0TdVmGKo4pwqdJSTLwWw</td>\n      <td>buF9druCkbuXLX526sGELQ</td>\n      <td>2014-10-11 03:34:02</td>\n      <td>4</td>\n      <td>3</td>\n      <td>MA</td>\n      <td>01915</td>\n      <td>-28.82</td>\n    </tr>\n    <tr>\n      <th>1</th>\n      <td>8bFej1QE5LXp4O05qjGqXA</td>\n      <td>YoVfDbnISlW0f7abNQACIg</td>\n      <td>RA4V8pr014UyUbDvI-LW2A</td>\n      <td>2015-07-03 20:38:25</td>\n      <td>4</td>\n      <td>1</td>\n      <td>MA</td>\n      <td>01701</td>\n      <td>-44.89</td>\n    </tr>\n    <tr>\n      <th>2</th>\n      <td>NDhkzczKjLshODbqDoNLSg</td>\n      <td>eC5evKn1TWDyHCyQAwguUw</td>\n      <td>_sS2LBIGNT5NQb6PD1Vtjw</td>\n      <td>2013-05-28 20:38:06</td>\n      <td>5</td>\n      <td>0</td>\n      <td>OR</td>\n      <td>97210</td>\n      <td>-61.31</td>\n    </tr>\n    <tr>\n      <th>3</th>\n      <td>T5fAqjjFooT4V0OeZyuk1w</td>\n      <td>SFQ1jcnGguO0LYWnbbftAA</td>\n      <td>0AzLzHfOJgL7ROwhdww2ew</td>\n      <td>2010-01-08 02:29:15</td>\n      <td>2</td>\n      <td>1</td>\n      <td>FL</td>\n      <td>32821</td>\n      <td>-23.12</td>\n    </tr>\n    <tr>\n      <th>4</th>\n      <td>sjm_uUcQVxab_EeLCqsYLg</td>\n      <td>0kA0PAJ8QFMeveQWHFqz2A</td>\n      <td>8zehGz9jnxPqXtOc7KaJxA</td>\n      <td>2011-07-28 18:05:01</td>\n      <td>4</td>\n      <td>0</td>\n      <td>CO</td>\n      <td>80302</td>\n      <td>-56.57</td>\n    </tr>\n    <tr>\n      <th>...</th>\n      <td>...</td>\n      <td>...</td>\n      <td>...</td>\n      <td>...</td>\n      <td>...</td>\n      <td>...</td>\n      <td>...</td>\n      <td>...</td>\n      <td>...</td>\n    </tr>\n    <tr>\n      <th>299995</th>\n      <td>I0mRlZcCGAyntyGclLHSIw</td>\n      <td>vso8sQvCRVUnegGY9fx5rQ</td>\n      <td>Q4DRuxHhKuxP-01rYiRJnQ</td>\n      <td>2017-02-03 00:45:08</td>\n      <td>5</td>\n      <td>0</td>\n      <td>OR</td>\n      <td>97086</td>\n      <td>-11.07</td>\n    </tr>\n    <tr>\n      <th>299996</th>\n      <td>f_dYCOA9_zadlLtzWA2DWw</td>\n      <td>suv1g1uAHm0DQu_BMmPznA</td>\n      <td>sLkK9Ofmk9UFDrjXxh3iLA</td>\n      <td>2014-12-07 17:26:02</td>\n      <td>5</td>\n      <td>0</td>\n      <td>OR</td>\n      <td>97227</td>\n      <td>-61.31</td>\n    </tr>\n    <tr>\n      <th>299997</th>\n      <td>O0SG6BTN0FHSZ7PJ1wgmzg</td>\n      <td>mVxg_vBXcUAAQJ03uHxiIQ</td>\n      <td>La_xmePMtWwjxKUqbGvqGQ</td>\n      <td>2010-05-30 11:06:52</td>\n      <td>2</td>\n      <td>0</td>\n      <td>TX</td>\n      <td>78703</td>\n      <td>-45.11</td>\n    </tr>\n    <tr>\n      <th>299998</th>\n      <td>vTovPnBesDco238QpKtAvA</td>\n      <td>uVpNSrc3IEpR42VGdZ709w</td>\n      <td>4jOreXu9ctLBWOJWMtNv1w</td>\n      <td>2017-01-07 05:55:39</td>\n      <td>4</td>\n      <td>0</td>\n      <td>WA</td>\n      <td>98665</td>\n      <td>-5.09</td>\n    </tr>\n    <tr>\n      <th>299999</th>\n      <td>Vm6QFEvxNwF_6f9EwT9ZXQ</td>\n      <td>8dz_7y-q0MtFZ8m0HYDUAA</td>\n      <td>3cLBtLFiH8IRdlEy9S8RiQ</td>\n      <td>2016-04-29 21:23:59</td>\n      <td>4</td>\n      <td>0</td>\n      <td>FL</td>\n      <td>32836</td>\n      <td>-23.12</td>\n    </tr>\n  </tbody>\n</table>\n<p>275826 rows × 9 columns</p>\n</div>"
     },
     "execution_count": 21,
     "metadata": {},
     "output_type": "execute_result"
    }
   ],
   "source": [
    "REVIEWS.to_csv('data/yelp_dataset.csv')\n",
    "REVIEWS"
   ],
   "metadata": {
    "collapsed": false,
    "pycharm": {
     "name": "#%%\n"
    }
   }
  }
 ],
 "metadata": {
  "kernelspec": {
   "display_name": "Python 3",
   "language": "python",
   "name": "python3"
  },
  "language_info": {
   "codemirror_mode": {
    "name": "ipython",
    "version": 3
   },
   "file_extension": ".py",
   "mimetype": "text/x-python",
   "name": "python",
   "nbconvert_exporter": "python",
   "pygments_lexer": "ipython3",
   "version": "3.8.10"
  }
 },
 "nbformat": 4,
 "nbformat_minor": 0
}