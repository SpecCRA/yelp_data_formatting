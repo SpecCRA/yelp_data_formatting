{
 "cells": [
  {
   "cell_type": "code",
   "execution_count": 1,
   "metadata": {
    "collapsed": true
   },
   "outputs": [],
   "source": [
    "import pandas as pd\n",
    "import numpy as np\n",
    "from tqdm import tqdm"
   ]
  },
  {
   "cell_type": "code",
   "execution_count": 2,
   "outputs": [],
   "source": [
    "def fix_zipcodes(zipcode):\n",
    "    if len(zipcode) < 5:\n",
    "        to_fill = 5 - len(zipcode)\n",
    "        return (to_fill * '0') + zipcode\n",
    "\n",
    "    else:\n",
    "        return zipcode\n",
    "\n",
    "def fix_county_name(county_name):\n",
    "    if 'county' in county_name:\n",
    "        return county_name[:county_name.find('county')].rstrip()\n",
    "    else:\n",
    "        return county_name\n",
    "\n",
    "def match_loc_to_ideology(zipcode):\n",
    "    state = ZIPS_DF[ZIPS_DF['zip'] == zipcode]['state'].iloc[0]\n",
    "    county_name = fix_county_name(ZIPS_DF[ZIPS_DF['zip'] == zipcode]['county'].iloc[0])\n",
    "\n",
    "    state_slice = COUNTY_DF[COUNTY_DF['state_po'] == state]\n",
    "    ideology_metric = state_slice.loc[state_slice['county_name']==county_name]['perc_diffs'].iloc[0]\n",
    "\n",
    "    return ideology_metric\n",
    "\n",
    "def process_cpvi(cpvi):\n",
    "    if cpvi.startswith('R'):\n",
    "        return int(cpvi.split('+')[1])\n",
    "    elif cpvi.startswith('D'):\n",
    "        cpvi_metric = int(cpvi.split('+')[1])\n",
    "        return np.negative(cpvi_metric)\n",
    "    else:\n",
    "        return 0"
   ],
   "metadata": {
    "collapsed": false,
    "pycharm": {
     "name": "#%%\n"
    }
   }
  },
  {
   "cell_type": "code",
   "execution_count": 3,
   "metadata": {
    "collapsed": false,
    "pycharm": {
     "name": "#%%\n"
    }
   },
   "outputs": [],
   "source": [
    "BUSINESS_DATA_FILEPATH = 'data/yelp_academic_dataset_business.json'\n",
    "REVIEWS_DATA_FILEPATH = 'data/yelp_academic_dataset_review.json'\n",
    "USERS_DATA_FILEPATH = 'data/yelp_academic_dataset_user.json'\n",
    "COUNTY_DATA_FILEPATH = 'data/county_data.csv'\n",
    "STATES_DATA_FILEPATH = 'data/states_data.csv'\n",
    "ZIPCODES_DATA_FILEPATH = 'data/zip_code_database.csv'\n",
    "CPI_URL = 'https://en.wikipedia.org/wiki/Cook_Partisan_Voting_Index'"
   ]
  },
  {
   "cell_type": "markdown",
   "metadata": {
    "collapsed": false,
    "pycharm": {
     "name": "#%% md\n"
    }
   },
   "source": [
    "# Guide\n",
    "\n",
    "The goal is to put everything into one table in tabular format."
   ]
  },
  {
   "cell_type": "markdown",
   "metadata": {
    "collapsed": false,
    "pycharm": {
     "name": "#%% md\n"
    }
   },
   "source": [
    "# Plan\n",
    "\n",
    "## Location tracking\n",
    "\n",
    "1. Query each review for the business ID to get long and lat values.\n",
    "2. Take average of long and lat values for a centered location.\n",
    "3. Take values by users.\n",
    "4. Assign political ideologies by county and state.\n",
    "5. Count helpfulness by user.\n",
    "\n",
    "## Scrap the location tracking old plan\n",
    "\n",
    "1. For each user, count the zip code of the business reviewed\n",
    "2. Assign it to a county\n",
    "3. The most common county is the user's base location\n",
    "\n",
    "## Political ideology\n",
    "\n",
    "1. Match with county & state levels\n",
    "2. Cook Partisan Voting Index - review data and revisit\n",
    "\n",
    "## Business & Reviews\n",
    "\n",
    "1. Keep zip code\n",
    "2. Assign categorization: restaurants, home services, auto services, other\n",
    "3. Assign a size\n",
    "4. Assign the state\n",
    "5. Business mean rating\n",
    "6. Helpfulness count\n",
    "7. Review rating"
   ]
  },
  {
   "cell_type": "code",
   "execution_count": 4,
   "outputs": [],
   "source": [
    "COUNTY_DF = pd.read_csv(COUNTY_DATA_FILEPATH, index_col=0)\n",
    "STATES_DF = pd.read_csv(STATES_DATA_FILEPATH, index_col=0)\n",
    "ZIPS_DF = pd.read_csv(ZIPCODES_DATA_FILEPATH)"
   ],
   "metadata": {
    "collapsed": false,
    "pycharm": {
     "name": "#%%\n"
    }
   }
  },
  {
   "cell_type": "code",
   "execution_count": 5,
   "outputs": [
    {
     "data": {
      "text/plain": "     zip state               county\n0  00501    NY       suffolk county\n1  00544    NY       suffolk county\n2  00601    PR   adjuntas municipio\n3  00602    PR     aguada municipio\n4  00603    PR  aguadilla municipio",
      "text/html": "<div>\n<style scoped>\n    .dataframe tbody tr th:only-of-type {\n        vertical-align: middle;\n    }\n\n    .dataframe tbody tr th {\n        vertical-align: top;\n    }\n\n    .dataframe thead th {\n        text-align: right;\n    }\n</style>\n<table border=\"1\" class=\"dataframe\">\n  <thead>\n    <tr style=\"text-align: right;\">\n      <th></th>\n      <th>zip</th>\n      <th>state</th>\n      <th>county</th>\n    </tr>\n  </thead>\n  <tbody>\n    <tr>\n      <th>0</th>\n      <td>00501</td>\n      <td>NY</td>\n      <td>suffolk county</td>\n    </tr>\n    <tr>\n      <th>1</th>\n      <td>00544</td>\n      <td>NY</td>\n      <td>suffolk county</td>\n    </tr>\n    <tr>\n      <th>2</th>\n      <td>00601</td>\n      <td>PR</td>\n      <td>adjuntas municipio</td>\n    </tr>\n    <tr>\n      <th>3</th>\n      <td>00602</td>\n      <td>PR</td>\n      <td>aguada municipio</td>\n    </tr>\n    <tr>\n      <th>4</th>\n      <td>00603</td>\n      <td>PR</td>\n      <td>aguadilla municipio</td>\n    </tr>\n  </tbody>\n</table>\n</div>"
     },
     "execution_count": 5,
     "metadata": {},
     "output_type": "execute_result"
    }
   ],
   "source": [
    "ZIPS_DF = ZIPS_DF[['zip', 'state', 'county']]\n",
    "ZIPS_DF['zip'] = ZIPS_DF['zip'].astype(str).apply(fix_zipcodes)\n",
    "ZIPS_DF['county'] = ZIPS_DF['county'].str.lower()\n",
    "ZIPS_DF.loc[len(ZIPS_DF)] = ['02101', 'MA', 'suffolk county']\n",
    "ZIPS_DF.head()"
   ],
   "metadata": {
    "collapsed": false,
    "pycharm": {
     "name": "#%%\n"
    }
   }
  },
  {
   "cell_type": "code",
   "execution_count": 6,
   "outputs": [
    {
     "data": {
      "text/plain": "         state state_po county_name  perc_diffs\n50526  ALABAMA       AL     autauga       44.42\n50529  ALABAMA       AL     baldwin       53.76\n50532  ALABAMA       AL     barbour        7.66\n50535  ALABAMA       AL        bibb       57.73\n50538  ALABAMA       AL      blount       80.00",
      "text/html": "<div>\n<style scoped>\n    .dataframe tbody tr th:only-of-type {\n        vertical-align: middle;\n    }\n\n    .dataframe tbody tr th {\n        vertical-align: top;\n    }\n\n    .dataframe thead th {\n        text-align: right;\n    }\n</style>\n<table border=\"1\" class=\"dataframe\">\n  <thead>\n    <tr style=\"text-align: right;\">\n      <th></th>\n      <th>state</th>\n      <th>state_po</th>\n      <th>county_name</th>\n      <th>perc_diffs</th>\n    </tr>\n  </thead>\n  <tbody>\n    <tr>\n      <th>50526</th>\n      <td>ALABAMA</td>\n      <td>AL</td>\n      <td>autauga</td>\n      <td>44.42</td>\n    </tr>\n    <tr>\n      <th>50529</th>\n      <td>ALABAMA</td>\n      <td>AL</td>\n      <td>baldwin</td>\n      <td>53.76</td>\n    </tr>\n    <tr>\n      <th>50532</th>\n      <td>ALABAMA</td>\n      <td>AL</td>\n      <td>barbour</td>\n      <td>7.66</td>\n    </tr>\n    <tr>\n      <th>50535</th>\n      <td>ALABAMA</td>\n      <td>AL</td>\n      <td>bibb</td>\n      <td>57.73</td>\n    </tr>\n    <tr>\n      <th>50538</th>\n      <td>ALABAMA</td>\n      <td>AL</td>\n      <td>blount</td>\n      <td>80.00</td>\n    </tr>\n  </tbody>\n</table>\n</div>"
     },
     "execution_count": 6,
     "metadata": {},
     "output_type": "execute_result"
    }
   ],
   "source": [
    "COUNTY_DF['county_name'] = COUNTY_DF['county_name'].str.lower()\n",
    "COUNTY_DF['county_name'] = COUNTY_DF['county_name'].apply(fix_county_name)\n",
    "COUNTY_DF.head()"
   ],
   "metadata": {
    "collapsed": false,
    "pycharm": {
     "name": "#%%\n"
    }
   }
  },
  {
   "cell_type": "code",
   "execution_count": 7,
   "outputs": [
    {
     "data": {
      "text/plain": "            state state_po    county_name  perc_diffs\n52754  CALIFORNIA       CA         madera       11.56\n52904  CALIFORNIA       CA     stanislaus       -0.79\n52899  CALIFORNIA       CA         sonoma      -51.48\n52704  CALIFORNIA       CA         fresno       -7.83\n52804  CALIFORNIA       CA         orange       -9.04\n52774  CALIFORNIA       CA         merced      -10.59\n52944  CALIFORNIA       CA           yuba       21.63\n52919  CALIFORNIA       CA        trinity        5.38\n52819  CALIFORNIA       CA      riverside       -7.94\n52844  CALIFORNIA       CA  san francisco      -72.54",
      "text/html": "<div>\n<style scoped>\n    .dataframe tbody tr th:only-of-type {\n        vertical-align: middle;\n    }\n\n    .dataframe tbody tr th {\n        vertical-align: top;\n    }\n\n    .dataframe thead th {\n        text-align: right;\n    }\n</style>\n<table border=\"1\" class=\"dataframe\">\n  <thead>\n    <tr style=\"text-align: right;\">\n      <th></th>\n      <th>state</th>\n      <th>state_po</th>\n      <th>county_name</th>\n      <th>perc_diffs</th>\n    </tr>\n  </thead>\n  <tbody>\n    <tr>\n      <th>52754</th>\n      <td>CALIFORNIA</td>\n      <td>CA</td>\n      <td>madera</td>\n      <td>11.56</td>\n    </tr>\n    <tr>\n      <th>52904</th>\n      <td>CALIFORNIA</td>\n      <td>CA</td>\n      <td>stanislaus</td>\n      <td>-0.79</td>\n    </tr>\n    <tr>\n      <th>52899</th>\n      <td>CALIFORNIA</td>\n      <td>CA</td>\n      <td>sonoma</td>\n      <td>-51.48</td>\n    </tr>\n    <tr>\n      <th>52704</th>\n      <td>CALIFORNIA</td>\n      <td>CA</td>\n      <td>fresno</td>\n      <td>-7.83</td>\n    </tr>\n    <tr>\n      <th>52804</th>\n      <td>CALIFORNIA</td>\n      <td>CA</td>\n      <td>orange</td>\n      <td>-9.04</td>\n    </tr>\n    <tr>\n      <th>52774</th>\n      <td>CALIFORNIA</td>\n      <td>CA</td>\n      <td>merced</td>\n      <td>-10.59</td>\n    </tr>\n    <tr>\n      <th>52944</th>\n      <td>CALIFORNIA</td>\n      <td>CA</td>\n      <td>yuba</td>\n      <td>21.63</td>\n    </tr>\n    <tr>\n      <th>52919</th>\n      <td>CALIFORNIA</td>\n      <td>CA</td>\n      <td>trinity</td>\n      <td>5.38</td>\n    </tr>\n    <tr>\n      <th>52819</th>\n      <td>CALIFORNIA</td>\n      <td>CA</td>\n      <td>riverside</td>\n      <td>-7.94</td>\n    </tr>\n    <tr>\n      <th>52844</th>\n      <td>CALIFORNIA</td>\n      <td>CA</td>\n      <td>san francisco</td>\n      <td>-72.54</td>\n    </tr>\n  </tbody>\n</table>\n</div>"
     },
     "execution_count": 7,
     "metadata": {},
     "output_type": "execute_result"
    }
   ],
   "source": [
    "COUNTY_DF[COUNTY_DF['state_po'] == 'CA'].sample(10)"
   ],
   "metadata": {
    "collapsed": false,
    "pycharm": {
     "name": "#%%\n"
    }
   }
  },
  {
   "cell_type": "code",
   "execution_count": 8,
   "outputs": [
    {
     "data": {
      "text/plain": "        state  perc_diffs\n1     ALABAMA       25.46\n3      ALASKA       10.11\n5     ARIZONA       -0.10\n7    ARKANSAS        6.91\n9  CALIFORNIA      -29.16",
      "text/html": "<div>\n<style scoped>\n    .dataframe tbody tr th:only-of-type {\n        vertical-align: middle;\n    }\n\n    .dataframe tbody tr th {\n        vertical-align: top;\n    }\n\n    .dataframe thead th {\n        text-align: right;\n    }\n</style>\n<table border=\"1\" class=\"dataframe\">\n  <thead>\n    <tr style=\"text-align: right;\">\n      <th></th>\n      <th>state</th>\n      <th>perc_diffs</th>\n    </tr>\n  </thead>\n  <tbody>\n    <tr>\n      <th>1</th>\n      <td>ALABAMA</td>\n      <td>25.46</td>\n    </tr>\n    <tr>\n      <th>3</th>\n      <td>ALASKA</td>\n      <td>10.11</td>\n    </tr>\n    <tr>\n      <th>5</th>\n      <td>ARIZONA</td>\n      <td>-0.10</td>\n    </tr>\n    <tr>\n      <th>7</th>\n      <td>ARKANSAS</td>\n      <td>6.91</td>\n    </tr>\n    <tr>\n      <th>9</th>\n      <td>CALIFORNIA</td>\n      <td>-29.16</td>\n    </tr>\n  </tbody>\n</table>\n</div>"
     },
     "execution_count": 8,
     "metadata": {},
     "output_type": "execute_result"
    }
   ],
   "source": [
    "STATES_DF.head()"
   ],
   "metadata": {
    "collapsed": false,
    "pycharm": {
     "name": "#%%\n"
    }
   }
  },
  {
   "cell_type": "code",
   "execution_count": 9,
   "outputs": [
    {
     "name": "stdout",
     "output_type": "stream",
     "text": [
      "Number of states: 51\n"
     ]
    }
   ],
   "source": [
    "STATES_LIST = list(COUNTY_DF['state_po'].unique())\n",
    "print(f\"Number of states: {len(STATES_LIST)}\")"
   ],
   "metadata": {
    "collapsed": false,
    "pycharm": {
     "name": "#%%\n"
    }
   }
  },
  {
   "cell_type": "code",
   "execution_count": 10,
   "outputs": [],
   "source": [
    "CPVI = pd.read_html(CPI_URL)[1]\n",
    "CPVI.drop(CPVI.tail(1).index, inplace=True)\n",
    "CPVI['pvi'] = CPVI['PVI'].apply(process_cpvi)\n",
    "CPVI['state'] = CPVI['State'].str.upper()\n",
    "CPVI = CPVI[['state', 'pvi']]"
   ],
   "metadata": {
    "collapsed": false,
    "pycharm": {
     "name": "#%%\n"
    }
   }
  },
  {
   "cell_type": "code",
   "execution_count": 11,
   "metadata": {
    "collapsed": false,
    "pycharm": {
     "name": "#%%\n"
    }
   },
   "outputs": [],
   "source": [
    "USER_COLS = ['user_id', 'review_count']\n",
    "BUSINESS_COLS = ['business_id', 'state', 'city', 'postal_code', 'categories', 'stars', 'review_count']\n",
    "REVIEW_COLS = ['review_id', 'user_id', 'business_id', 'date', 'stars', 'useful']\n",
    "ZIPCODES_COLS = ['zip', 'county']\n",
    "\n",
    "USER_DTYPES = {\n",
    "    'user_id': np.str,\n",
    "    'review_count': np.int\n",
    "}\n",
    "\n",
    "BUSINESS_DTYPES = {\n",
    "    'business_id': np.str,\n",
    "    'state': np.str,\n",
    "    'city': np.str,\n",
    "    'postal_code': np.str,\n",
    "    'categories': np.str,\n",
    "    'review_count': np.int,\n",
    "    'stars': np.float\n",
    "}\n",
    "\n",
    "REVIEW_DTYPES = {\n",
    "    'review_id': np.str,\n",
    "    'user_id': np.str,\n",
    "    'business_id': np.str,\n",
    "    'stars': np.int,\n",
    "    'useful': np.int\n",
    "}\n",
    "\n",
    "ZIPS_DTYPES = {\n",
    "    'zip': np.str,\n",
    "    'county': np.str\n",
    "}"
   ]
  },
  {
   "cell_type": "code",
   "execution_count": 12,
   "outputs": [
    {
     "name": "stderr",
     "output_type": "stream",
     "text": [
      "300it [00:04, 61.07it/s]\n"
     ]
    }
   ],
   "source": [
    "# Load 20,000 reviews from reviews\n",
    "REVIEWS = list()\n",
    "with open(REVIEWS_DATA_FILEPATH, 'r') as f:\n",
    "    reader = pd.read_json(f, orient='records', lines=True, nrows=300000, chunksize=1000, dtype=REVIEW_DTYPES)\n",
    "\n",
    "    for chunk in tqdm(reader):\n",
    "        reduced_chunk = chunk[REVIEW_COLS]\n",
    "        # Only keep US\n",
    "        REVIEWS.append(reduced_chunk)\n",
    "    REVIEWS = pd.concat(REVIEWS, ignore_index=True)"
   ],
   "metadata": {
    "collapsed": false,
    "pycharm": {
     "name": "#%%\n"
    }
   }
  },
  {
   "cell_type": "code",
   "execution_count": 13,
   "outputs": [
    {
     "data": {
      "text/plain": "                     review_id                 user_id  \\\n68708   6bN3Jkx5iuP72ViLf64amQ  GSm7mzKgvwReL4xVUi_c8w   \n116277  zM5q0FPwonDznY-FcAmrwg  0vXoxwVuieH0f0h-FeU_Gw   \n147515  FvSMfDnTmlJJj1rDnpF-rw  1jLThvvGOqxZGGqmadXAPg   \n18546   qFL2DaY5R8krLLqUoUjXeA  IPK5MAhmgdjIm5jB-j5ebQ   \n285185  Ng9KZtE9ZuID41DWOo2qeQ  LRKDNfB3Wfp0HEYmbsyw5A   \n173506  rDYvwcpFvkLM1dqE3YqnpQ  KxT2YZMCg9KmwC6mJKjgSw   \n108430  xupIiHcCa3TyGDk3Rxpk6g  Botcqvdafz1975sIhM2Uyg   \n81541   T6C46zwL5bjwM4ge4xQxAQ  fmQmCBGw0OkekcUf9wlq1w   \n179978  uql1xurYj81sIbP7ud2rFA  _O1uA-NXH4myeF6pWFcuBA   \n161878  Lbvs7qcYQFt2Y974-qD7hA  KJmXsA1zFPH-n6r14JcYLw   \n233637  mGTkmcE6lmT0WOJubKflFg  zRlzu-GiiN0K1TGxQuwWnQ   \n124777  kDkJ8gNUgVloPZ34OLQa-w  ngXfcvumKWGYnnrWt4-xsQ   \n141919  wcrYrFu5CQonkVknWpSBqg  eW625Ny_2j0YxkOJcqWINg   \n242969  dgRQppbSgzaajdl9uUZFKw  HMUnp55Q8_vxIEPl1V0W_g   \n107262  yoZV6lRXLWtG98dVB5WuIg  gdsy-3Vn6Bpdoo4L25NdkA   \n\n                   business_id                date  stars  useful  \n68708   6GczIaxfVePcP1ztujRisw 2010-07-08 22:05:23      2       1  \n116277  5I0yJ_X7uyPmoJWzKRYDuA 2018-07-11 14:53:11      3       0  \n147515  Wm3pOIWzjzttU7TgGGyM7Q 2018-03-06 20:13:13      4       0  \n18546   Yw1vQd5U5GB6ZPqn2buhBg 2018-04-28 02:35:06      1       0  \n285185  880YPPlGyi_49AXLH8xIeA 2011-08-11 18:29:43      5       1  \n173506  d5os_dzoyEloK_zsVF0pYw 2014-09-15 14:31:04      2       5  \n108430  _cxOC-jzriK2zcQj2QxBcw 2017-03-06 18:44:18      5       0  \n81541   0iqIdvlZpXwnyRVNQ1dgkA 2014-11-15 18:05:45      4       0  \n179978  8IGgRKegd0H287W66X0BOw 2017-08-11 19:32:26      1       0  \n161878  YCuGxnZvDl1JFROkMS3kwg 2015-09-27 14:07:48      3       2  \n233637  bgNxDVtf2Hgre9JH4W0H3Q 2018-05-13 21:29:58      5       0  \n124777  mxk0UbRuG2kIgo5U4AyUyQ 2014-04-06 02:59:30      3       0  \n141919  4z-lq5hBIqQo_UToJ8ijhw 2014-07-30 17:00:30      1       0  \n242969  tUQOptBIGrpCi8f6l9QEbw 2011-05-04 02:01:45      3       0  \n107262  HSkjyp0MeTIiKLLpx_Ah9w 2013-07-17 12:20:46      4       1  ",
      "text/html": "<div>\n<style scoped>\n    .dataframe tbody tr th:only-of-type {\n        vertical-align: middle;\n    }\n\n    .dataframe tbody tr th {\n        vertical-align: top;\n    }\n\n    .dataframe thead th {\n        text-align: right;\n    }\n</style>\n<table border=\"1\" class=\"dataframe\">\n  <thead>\n    <tr style=\"text-align: right;\">\n      <th></th>\n      <th>review_id</th>\n      <th>user_id</th>\n      <th>business_id</th>\n      <th>date</th>\n      <th>stars</th>\n      <th>useful</th>\n    </tr>\n  </thead>\n  <tbody>\n    <tr>\n      <th>68708</th>\n      <td>6bN3Jkx5iuP72ViLf64amQ</td>\n      <td>GSm7mzKgvwReL4xVUi_c8w</td>\n      <td>6GczIaxfVePcP1ztujRisw</td>\n      <td>2010-07-08 22:05:23</td>\n      <td>2</td>\n      <td>1</td>\n    </tr>\n    <tr>\n      <th>116277</th>\n      <td>zM5q0FPwonDznY-FcAmrwg</td>\n      <td>0vXoxwVuieH0f0h-FeU_Gw</td>\n      <td>5I0yJ_X7uyPmoJWzKRYDuA</td>\n      <td>2018-07-11 14:53:11</td>\n      <td>3</td>\n      <td>0</td>\n    </tr>\n    <tr>\n      <th>147515</th>\n      <td>FvSMfDnTmlJJj1rDnpF-rw</td>\n      <td>1jLThvvGOqxZGGqmadXAPg</td>\n      <td>Wm3pOIWzjzttU7TgGGyM7Q</td>\n      <td>2018-03-06 20:13:13</td>\n      <td>4</td>\n      <td>0</td>\n    </tr>\n    <tr>\n      <th>18546</th>\n      <td>qFL2DaY5R8krLLqUoUjXeA</td>\n      <td>IPK5MAhmgdjIm5jB-j5ebQ</td>\n      <td>Yw1vQd5U5GB6ZPqn2buhBg</td>\n      <td>2018-04-28 02:35:06</td>\n      <td>1</td>\n      <td>0</td>\n    </tr>\n    <tr>\n      <th>285185</th>\n      <td>Ng9KZtE9ZuID41DWOo2qeQ</td>\n      <td>LRKDNfB3Wfp0HEYmbsyw5A</td>\n      <td>880YPPlGyi_49AXLH8xIeA</td>\n      <td>2011-08-11 18:29:43</td>\n      <td>5</td>\n      <td>1</td>\n    </tr>\n    <tr>\n      <th>173506</th>\n      <td>rDYvwcpFvkLM1dqE3YqnpQ</td>\n      <td>KxT2YZMCg9KmwC6mJKjgSw</td>\n      <td>d5os_dzoyEloK_zsVF0pYw</td>\n      <td>2014-09-15 14:31:04</td>\n      <td>2</td>\n      <td>5</td>\n    </tr>\n    <tr>\n      <th>108430</th>\n      <td>xupIiHcCa3TyGDk3Rxpk6g</td>\n      <td>Botcqvdafz1975sIhM2Uyg</td>\n      <td>_cxOC-jzriK2zcQj2QxBcw</td>\n      <td>2017-03-06 18:44:18</td>\n      <td>5</td>\n      <td>0</td>\n    </tr>\n    <tr>\n      <th>81541</th>\n      <td>T6C46zwL5bjwM4ge4xQxAQ</td>\n      <td>fmQmCBGw0OkekcUf9wlq1w</td>\n      <td>0iqIdvlZpXwnyRVNQ1dgkA</td>\n      <td>2014-11-15 18:05:45</td>\n      <td>4</td>\n      <td>0</td>\n    </tr>\n    <tr>\n      <th>179978</th>\n      <td>uql1xurYj81sIbP7ud2rFA</td>\n      <td>_O1uA-NXH4myeF6pWFcuBA</td>\n      <td>8IGgRKegd0H287W66X0BOw</td>\n      <td>2017-08-11 19:32:26</td>\n      <td>1</td>\n      <td>0</td>\n    </tr>\n    <tr>\n      <th>161878</th>\n      <td>Lbvs7qcYQFt2Y974-qD7hA</td>\n      <td>KJmXsA1zFPH-n6r14JcYLw</td>\n      <td>YCuGxnZvDl1JFROkMS3kwg</td>\n      <td>2015-09-27 14:07:48</td>\n      <td>3</td>\n      <td>2</td>\n    </tr>\n    <tr>\n      <th>233637</th>\n      <td>mGTkmcE6lmT0WOJubKflFg</td>\n      <td>zRlzu-GiiN0K1TGxQuwWnQ</td>\n      <td>bgNxDVtf2Hgre9JH4W0H3Q</td>\n      <td>2018-05-13 21:29:58</td>\n      <td>5</td>\n      <td>0</td>\n    </tr>\n    <tr>\n      <th>124777</th>\n      <td>kDkJ8gNUgVloPZ34OLQa-w</td>\n      <td>ngXfcvumKWGYnnrWt4-xsQ</td>\n      <td>mxk0UbRuG2kIgo5U4AyUyQ</td>\n      <td>2014-04-06 02:59:30</td>\n      <td>3</td>\n      <td>0</td>\n    </tr>\n    <tr>\n      <th>141919</th>\n      <td>wcrYrFu5CQonkVknWpSBqg</td>\n      <td>eW625Ny_2j0YxkOJcqWINg</td>\n      <td>4z-lq5hBIqQo_UToJ8ijhw</td>\n      <td>2014-07-30 17:00:30</td>\n      <td>1</td>\n      <td>0</td>\n    </tr>\n    <tr>\n      <th>242969</th>\n      <td>dgRQppbSgzaajdl9uUZFKw</td>\n      <td>HMUnp55Q8_vxIEPl1V0W_g</td>\n      <td>tUQOptBIGrpCi8f6l9QEbw</td>\n      <td>2011-05-04 02:01:45</td>\n      <td>3</td>\n      <td>0</td>\n    </tr>\n    <tr>\n      <th>107262</th>\n      <td>yoZV6lRXLWtG98dVB5WuIg</td>\n      <td>gdsy-3Vn6Bpdoo4L25NdkA</td>\n      <td>HSkjyp0MeTIiKLLpx_Ah9w</td>\n      <td>2013-07-17 12:20:46</td>\n      <td>4</td>\n      <td>1</td>\n    </tr>\n  </tbody>\n</table>\n</div>"
     },
     "execution_count": 13,
     "metadata": {},
     "output_type": "execute_result"
    }
   ],
   "source": [
    "REVIEWS.sample(15)"
   ],
   "metadata": {
    "collapsed": false,
    "pycharm": {
     "name": "#%%\n"
    }
   }
  },
  {
   "cell_type": "code",
   "execution_count": 14,
   "outputs": [],
   "source": [
    "USERS_LIST = list(REVIEWS['user_id'].unique())\n",
    "BUSINESS_LIST = list(REVIEWS['business_id'].unique())\n"
   ],
   "metadata": {
    "collapsed": false,
    "pycharm": {
     "name": "#%%\n"
    }
   }
  },
  {
   "cell_type": "code",
   "execution_count": 15,
   "outputs": [
    {
     "name": "stderr",
     "output_type": "stream",
     "text": [
      "161it [00:04, 33.85it/s]"
     ]
    },
    {
     "name": "stdout",
     "output_type": "stream",
     "text": [
      "Businesses loaded.\n"
     ]
    },
    {
     "name": "stderr",
     "output_type": "stream",
     "text": [
      "\n"
     ]
    }
   ],
   "source": [
    "BUSINESSES = list()\n",
    "\n",
    "with open(BUSINESS_DATA_FILEPATH, 'r') as f:\n",
    "    reader = pd.read_json(f, orient='records', lines=True, chunksize=1000, dtype=BUSINESS_DTYPES)\n",
    "\n",
    "    for chunk in tqdm(reader):\n",
    "        reduced_chunk = chunk[BUSINESS_COLS]\n",
    "        reduced_chunk = reduced_chunk[reduced_chunk['business_id'].isin(BUSINESS_LIST)]\n",
    "        BUSINESSES.append(reduced_chunk)\n",
    "\n",
    "    BUSINESSES = pd.concat(BUSINESSES, ignore_index=True)\n",
    "\n",
    "print(\"Businesses loaded.\")"
   ],
   "metadata": {
    "collapsed": false,
    "pycharm": {
     "name": "#%%\n"
    }
   }
  },
  {
   "cell_type": "code",
   "execution_count": 16,
   "outputs": [
    {
     "data": {
      "text/plain": "                  business_id state           city postal_code  \\\n8726   U_aL7LMoxaa8wbD8eaEeIg    MA      Wakefield       01880   \n5048   OIVKobtZLAmVB1dw9vMXpg    GA        Atlanta       30363   \n13662  PmS4Fki9AATqX7SA0CrdUw    MA         Boston       02114   \n9163   KK7wFlO7Nn6H3Iz1-bEB3g    TX         Austin       78745   \n8485   lkSsBChJCFkLrvlDGTv0pw    MA      Cambridge       02238   \n11364  LuAjpZ4p2HxyczLNSpoufQ    TX         Austin       78749   \n5688   IrdCTkknOaNg0AXjA-KQJQ    TX         Austin       78744   \n8378   ex7nYhK8oB2owQ2jPNjM2w    GA        Atlanta       30309   \n6990   zGUxnIJM8v1QhJ7aQXjHvw    TX         Austin       78745   \n11903  zfUWCi69OaX2g5P8ZbfqNQ    GA  Sandy Springs       30328   \n\n                                              categories  stars  review_count  \n8726     Bartenders, Caterers, Event Planning & Services    4.5             7  \n5048                 Shopping, Flowers & Gifts, Florists    4.5            52  \n13662  Education, Professional Services, Test Prepara...    3.5            10  \n9163   Security Systems, Local Services, Electricians...    4.0             9  \n8485                  Physical Therapy, Health & Medical    3.0             9  \n11364  Food, Beer, Wine & Spirits, Shopping, Wholesal...    4.0             5  \n5688   Home Services, Painters, Drywall Installation ...    3.5             8  \n8378             American (New), Restaurants, Sandwiches    3.5           101  \n6990         Vietnamese, Restaurants, Taiwanese, Chinese    2.0            55  \n11903  Chiropractors, Naturopathic/Holistic, Physical...    4.5            16  ",
      "text/html": "<div>\n<style scoped>\n    .dataframe tbody tr th:only-of-type {\n        vertical-align: middle;\n    }\n\n    .dataframe tbody tr th {\n        vertical-align: top;\n    }\n\n    .dataframe thead th {\n        text-align: right;\n    }\n</style>\n<table border=\"1\" class=\"dataframe\">\n  <thead>\n    <tr style=\"text-align: right;\">\n      <th></th>\n      <th>business_id</th>\n      <th>state</th>\n      <th>city</th>\n      <th>postal_code</th>\n      <th>categories</th>\n      <th>stars</th>\n      <th>review_count</th>\n    </tr>\n  </thead>\n  <tbody>\n    <tr>\n      <th>8726</th>\n      <td>U_aL7LMoxaa8wbD8eaEeIg</td>\n      <td>MA</td>\n      <td>Wakefield</td>\n      <td>01880</td>\n      <td>Bartenders, Caterers, Event Planning &amp; Services</td>\n      <td>4.5</td>\n      <td>7</td>\n    </tr>\n    <tr>\n      <th>5048</th>\n      <td>OIVKobtZLAmVB1dw9vMXpg</td>\n      <td>GA</td>\n      <td>Atlanta</td>\n      <td>30363</td>\n      <td>Shopping, Flowers &amp; Gifts, Florists</td>\n      <td>4.5</td>\n      <td>52</td>\n    </tr>\n    <tr>\n      <th>13662</th>\n      <td>PmS4Fki9AATqX7SA0CrdUw</td>\n      <td>MA</td>\n      <td>Boston</td>\n      <td>02114</td>\n      <td>Education, Professional Services, Test Prepara...</td>\n      <td>3.5</td>\n      <td>10</td>\n    </tr>\n    <tr>\n      <th>9163</th>\n      <td>KK7wFlO7Nn6H3Iz1-bEB3g</td>\n      <td>TX</td>\n      <td>Austin</td>\n      <td>78745</td>\n      <td>Security Systems, Local Services, Electricians...</td>\n      <td>4.0</td>\n      <td>9</td>\n    </tr>\n    <tr>\n      <th>8485</th>\n      <td>lkSsBChJCFkLrvlDGTv0pw</td>\n      <td>MA</td>\n      <td>Cambridge</td>\n      <td>02238</td>\n      <td>Physical Therapy, Health &amp; Medical</td>\n      <td>3.0</td>\n      <td>9</td>\n    </tr>\n    <tr>\n      <th>11364</th>\n      <td>LuAjpZ4p2HxyczLNSpoufQ</td>\n      <td>TX</td>\n      <td>Austin</td>\n      <td>78749</td>\n      <td>Food, Beer, Wine &amp; Spirits, Shopping, Wholesal...</td>\n      <td>4.0</td>\n      <td>5</td>\n    </tr>\n    <tr>\n      <th>5688</th>\n      <td>IrdCTkknOaNg0AXjA-KQJQ</td>\n      <td>TX</td>\n      <td>Austin</td>\n      <td>78744</td>\n      <td>Home Services, Painters, Drywall Installation ...</td>\n      <td>3.5</td>\n      <td>8</td>\n    </tr>\n    <tr>\n      <th>8378</th>\n      <td>ex7nYhK8oB2owQ2jPNjM2w</td>\n      <td>GA</td>\n      <td>Atlanta</td>\n      <td>30309</td>\n      <td>American (New), Restaurants, Sandwiches</td>\n      <td>3.5</td>\n      <td>101</td>\n    </tr>\n    <tr>\n      <th>6990</th>\n      <td>zGUxnIJM8v1QhJ7aQXjHvw</td>\n      <td>TX</td>\n      <td>Austin</td>\n      <td>78745</td>\n      <td>Vietnamese, Restaurants, Taiwanese, Chinese</td>\n      <td>2.0</td>\n      <td>55</td>\n    </tr>\n    <tr>\n      <th>11903</th>\n      <td>zfUWCi69OaX2g5P8ZbfqNQ</td>\n      <td>GA</td>\n      <td>Sandy Springs</td>\n      <td>30328</td>\n      <td>Chiropractors, Naturopathic/Holistic, Physical...</td>\n      <td>4.5</td>\n      <td>16</td>\n    </tr>\n  </tbody>\n</table>\n</div>"
     },
     "execution_count": 16,
     "metadata": {},
     "output_type": "execute_result"
    }
   ],
   "source": [
    "BUSINESSES.sample(10)\n"
   ],
   "metadata": {
    "collapsed": false,
    "pycharm": {
     "name": "#%%\n"
    }
   }
  },
  {
   "cell_type": "code",
   "execution_count": 17,
   "outputs": [
    {
     "name": "stderr",
     "output_type": "stream",
     "text": [
      "100%|██████████| 13706/13706 [09:33<00:00, 23.91it/s]\n"
     ]
    }
   ],
   "source": [
    "# add business zip code in first\n",
    "# add business state\n",
    "print('Adding business state')\n",
    "for business_id in tqdm(BUSINESS_LIST):\n",
    "    business_zipcode = BUSINESSES[BUSINESSES['business_id'] == business_id]['postal_code'].iloc[0]\n",
    "    business_state = BUSINESSES[BUSINESSES['business_id'] == business_id]['state'].iloc[0]\n",
    "\n",
    "    REVIEWS.loc[REVIEWS['business_id'] == business_id, ['business_state', 'business_zipcode']] = business_state, business_zipcode\n",
    "\n",
    "REVIEWS = REVIEWS[REVIEWS['business_state'].isin(STATES_LIST)]"
   ],
   "metadata": {
    "collapsed": false,
    "pycharm": {
     "name": "#%%\n"
    }
   }
  },
  {
   "cell_type": "code",
   "execution_count": 17,
   "outputs": [],
   "source": [],
   "metadata": {
    "collapsed": false,
    "pycharm": {
     "name": "#%%\n"
    }
   }
  },
  {
   "cell_type": "code",
   "execution_count": 18,
   "outputs": [
    {
     "name": "stderr",
     "output_type": "stream",
     "text": [
      "  1%|          | 4/533 [00:00<00:13, 39.66it/s]"
     ]
    },
    {
     "name": "stdout",
     "output_type": "stream",
     "text": [
      "Adding business zipcode ideology\n"
     ]
    },
    {
     "name": "stderr",
     "output_type": "stream",
     "text": [
      "  3%|▎         | 17/533 [00:00<00:12, 40.36it/s]"
     ]
    },
    {
     "name": "stdout",
     "output_type": "stream",
     "text": [
      "\n"
     ]
    },
    {
     "name": "stderr",
     "output_type": "stream",
     "text": [
      "100%|██████████| 533/533 [00:13<00:00, 40.30it/s]"
     ]
    },
    {
     "name": "stdout",
     "output_type": "stream",
     "text": [
      "97226\n"
     ]
    },
    {
     "name": "stderr",
     "output_type": "stream",
     "text": [
      "\n"
     ]
    }
   ],
   "source": [
    "# assign business political ideologies by zip code\n",
    "BUSINESS_ZIPS = list(REVIEWS['business_zipcode'].unique())\n",
    "print('Adding business zipcode ideology')\n",
    "for business_zip in tqdm(BUSINESS_ZIPS):\n",
    "    try:\n",
    "        business_ideology = match_loc_to_ideology(business_zip)\n",
    "        REVIEWS.loc[REVIEWS['business_zipcode'] == business_zip, 'business_zipcode_ideology'] = business_ideology\n",
    "    except:\n",
    "        print(business_zip)"
   ],
   "metadata": {
    "collapsed": false,
    "pycharm": {
     "name": "#%%\n"
    }
   }
  },
  {
   "cell_type": "code",
   "execution_count": 19,
   "outputs": [
    {
     "data": {
      "text/plain": "204997"
     },
     "execution_count": 19,
     "metadata": {},
     "output_type": "execute_result"
    }
   ],
   "source": [
    "len(USERS_LIST)"
   ],
   "metadata": {
    "collapsed": false,
    "pycharm": {
     "name": "#%%\n"
    }
   }
  },
  {
   "cell_type": "code",
   "execution_count": 20,
   "outputs": [
    {
     "name": "stdout",
     "output_type": "stream",
     "text": [
      "{'ALABAMA': 'AL', 'ALASKA': 'AK', 'ARIZONA': 'AZ', 'ARKANSAS': 'AR', 'CALIFORNIA': 'CA', 'COLORADO': 'CO', 'CONNECTICUT': 'CT', 'DELAWARE': 'DE', 'DISTRICT OF COLUMBIA': 'DC', 'FLORIDA': 'FL', 'GEORGIA': 'GA', 'HAWAII': 'HI', 'IDAHO': 'ID', 'ILLINOIS': 'IL', 'INDIANA': 'IN', 'IOWA': 'IA', 'KANSAS': 'KS', 'KENTUCKY': 'KY', 'LOUISIANA': 'LA', 'MAINE': 'ME', 'MARYLAND': 'MD', 'MASSACHUSETTS': 'MA', 'MICHIGAN': 'MI', 'MINNESOTA': 'MN', 'MISSISSIPPI': 'MS', 'MISSOURI': 'MO', 'MONTANA': 'MT', 'NEBRASKA': 'NE', 'NEVADA': 'NV', 'NEW HAMPSHIRE': 'NH', 'NEW JERSEY': 'NJ', 'NEW MEXICO': 'NM', 'NEW YORK': 'NY', 'NORTH CAROLINA': 'NC', 'NORTH DAKOTA': 'ND', 'OHIO': 'OH', 'OKLAHOMA': 'OK', 'OREGON': 'OR', 'PENNSYLVANIA': 'PA', 'RHODE ISLAND': 'RI', 'SOUTH CAROLINA': 'SC', 'SOUTH DAKOTA': 'SD', 'TENNESSEE': 'TN', 'TEXAS': 'TX', 'UTAH': 'UT', 'VERMONT': 'VT', 'VIRGINIA': 'VA', 'WASHINGTON': 'WA', 'WEST VIRGINIA': 'WV', 'WISCONSIN': 'WI', 'WYOMING': 'WY'}\n"
     ]
    }
   ],
   "source": [
    "STATES_ABBR = dict()\n",
    "\n",
    "for state in list(STATES_DF['state']):\n",
    "    STATES_ABBR[state] = COUNTY_DF[COUNTY_DF['state'] == state]['state_po'].unique()[0]\n",
    "\n",
    "print(STATES_ABBR)"
   ],
   "metadata": {
    "collapsed": false,
    "pycharm": {
     "name": "#%%\n"
    }
   }
  },
  {
   "cell_type": "code",
   "execution_count": 21,
   "outputs": [
    {
     "name": "stderr",
     "output_type": "stream",
     "text": [
      "  0%|          | 0/51 [00:00<?, ?it/s]"
     ]
    },
    {
     "name": "stdout",
     "output_type": "stream",
     "text": [
      "Processing business state ideology and state pvi\n"
     ]
    },
    {
     "name": "stderr",
     "output_type": "stream",
     "text": [
      "100%|██████████| 51/51 [00:00<00:00, 51.64it/s]\n"
     ]
    }
   ],
   "source": [
    "print('Processing business state ideology and state pvi')\n",
    "for state in tqdm(list(STATES_ABBR.keys())):\n",
    "    try:\n",
    "        state_ideology = STATES_DF[STATES_DF['state'] == state]['perc_diffs'].iloc[0]\n",
    "\n",
    "        if state == 'DISTRICT OF COLUMBIA':\n",
    "            state_pvi = 0\n",
    "        else:\n",
    "            state_pvi = CPVI[CPVI['state'] == state]['pvi'].iloc[0]\n",
    "\n",
    "        REVIEWS.loc[REVIEWS['business_state'] == STATES_ABBR[state],\n",
    "                    ['bussiness_state_ideology', 'business_state_pvi']] = state_ideology, state_pvi\n",
    "    except:\n",
    "        print(state)\n",
    "        print('bad output')"
   ],
   "metadata": {
    "collapsed": false,
    "pycharm": {
     "name": "#%%\n"
    }
   }
  },
  {
   "cell_type": "code",
   "execution_count": 25,
   "outputs": [
    {
     "name": "stdout",
     "output_type": "stream",
     "text": [
      "Adding total reviews and average stars per business\n"
     ]
    },
    {
     "name": "stderr",
     "output_type": "stream",
     "text": [
      "100%|██████████| 12212/12212 [05:36<00:00, 36.28it/s]\n"
     ]
    }
   ],
   "source": [
    "print('Adding total reviews and average stars per business')\n",
    "REVIEWS['count'] = 1\n",
    "BUSINESS_COUNTS = REVIEWS.groupby('business_id').sum().reset_index()[['business_id', 'count']]\n",
    "BUSINESS_STARS = REVIEWS[['business_id', 'stars']].groupby('business_id').sum().reset_index()\n",
    "BUSINESSES_LIST = list(BUSINESS_COUNTS['business_id'].unique())\n",
    "\n",
    "for business in tqdm(BUSINESSES_LIST):\n",
    "    tot_reviews = BUSINESS_COUNTS[BUSINESS_COUNTS['business_id'] == business]['count'].iloc[0]\n",
    "    avg_stars = round((BUSINESS_STARS[BUSINESS_STARS['business_id'] == business]['stars'].iloc[0] / tot_reviews), 3)\n",
    "    REVIEWS.loc[REVIEWS['business_id'] == business, ['business_review_total', 'avg_star_rating']] = tot_reviews, avg_stars\n"
   ],
   "metadata": {
    "collapsed": false,
    "pycharm": {
     "name": "#%%\n"
    }
   }
  },
  {
   "cell_type": "code",
   "execution_count": 26,
   "outputs": [
    {
     "data": {
      "text/plain": "                     review_id                 user_id  \\\n0       lWC-xP3rd6obsecCYsGZRg  ak0TdVmGKo4pwqdJSTLwWw   \n1       8bFej1QE5LXp4O05qjGqXA  YoVfDbnISlW0f7abNQACIg   \n2       NDhkzczKjLshODbqDoNLSg  eC5evKn1TWDyHCyQAwguUw   \n3       T5fAqjjFooT4V0OeZyuk1w  SFQ1jcnGguO0LYWnbbftAA   \n4       sjm_uUcQVxab_EeLCqsYLg  0kA0PAJ8QFMeveQWHFqz2A   \n...                        ...                     ...   \n299995  I0mRlZcCGAyntyGclLHSIw  vso8sQvCRVUnegGY9fx5rQ   \n299996  f_dYCOA9_zadlLtzWA2DWw  suv1g1uAHm0DQu_BMmPznA   \n299997  O0SG6BTN0FHSZ7PJ1wgmzg  mVxg_vBXcUAAQJ03uHxiIQ   \n299998  vTovPnBesDco238QpKtAvA  uVpNSrc3IEpR42VGdZ709w   \n299999  Vm6QFEvxNwF_6f9EwT9ZXQ  8dz_7y-q0MtFZ8m0HYDUAA   \n\n                   business_id                date  stars  useful  \\\n0       buF9druCkbuXLX526sGELQ 2014-10-11 03:34:02      4       3   \n1       RA4V8pr014UyUbDvI-LW2A 2015-07-03 20:38:25      4       1   \n2       _sS2LBIGNT5NQb6PD1Vtjw 2013-05-28 20:38:06      5       0   \n3       0AzLzHfOJgL7ROwhdww2ew 2010-01-08 02:29:15      2       1   \n4       8zehGz9jnxPqXtOc7KaJxA 2011-07-28 18:05:01      4       0   \n...                        ...                 ...    ...     ...   \n299995  Q4DRuxHhKuxP-01rYiRJnQ 2017-02-03 00:45:08      5       0   \n299996  sLkK9Ofmk9UFDrjXxh3iLA 2014-12-07 17:26:02      5       0   \n299997  La_xmePMtWwjxKUqbGvqGQ 2010-05-30 11:06:52      2       0   \n299998  4jOreXu9ctLBWOJWMtNv1w 2017-01-07 05:55:39      4       0   \n299999  3cLBtLFiH8IRdlEy9S8RiQ 2016-04-29 21:23:59      4       0   \n\n       business_state business_zipcode  business_zipcode_ideology  \\\n0                  MA            01915                     -28.82   \n1                  MA            01701                     -44.89   \n2                  OR            97210                     -61.31   \n3                  FL            32821                     -23.12   \n4                  CO            80302                     -56.57   \n...               ...              ...                        ...   \n299995             OR            97086                     -11.07   \n299996             OR            97227                     -61.31   \n299997             TX            78703                     -45.11   \n299998             WA            98665                      -5.09   \n299999             FL            32836                     -23.12   \n\n        bussiness_state_ideology  business_state_pvi  business_review_total  \\\n0                         -33.21               -14.0                   44.0   \n1                         -33.21               -14.0                   23.0   \n2                         -16.08                -6.0                   96.0   \n3                           3.36                 3.0                  121.0   \n4                         -13.50                -3.0                  472.0   \n...                          ...                 ...                    ...   \n299995                    -16.08                -6.0                   47.0   \n299996                    -16.08                -6.0                   16.0   \n299997                      5.58                 5.0                  108.0   \n299998                    -19.20                -8.0                   18.0   \n299999                      3.36                 3.0                  564.0   \n\n        avg_star_rating  \n0                 3.614  \n1                 3.696  \n2                 4.760  \n3                 3.446  \n4                 4.282  \n...                 ...  \n299995            2.766  \n299996            4.562  \n299997            3.944  \n299998            3.111  \n299999            4.254  \n\n[275826 rows x 13 columns]",
      "text/html": "<div>\n<style scoped>\n    .dataframe tbody tr th:only-of-type {\n        vertical-align: middle;\n    }\n\n    .dataframe tbody tr th {\n        vertical-align: top;\n    }\n\n    .dataframe thead th {\n        text-align: right;\n    }\n</style>\n<table border=\"1\" class=\"dataframe\">\n  <thead>\n    <tr style=\"text-align: right;\">\n      <th></th>\n      <th>review_id</th>\n      <th>user_id</th>\n      <th>business_id</th>\n      <th>date</th>\n      <th>stars</th>\n      <th>useful</th>\n      <th>business_state</th>\n      <th>business_zipcode</th>\n      <th>business_zipcode_ideology</th>\n      <th>bussiness_state_ideology</th>\n      <th>business_state_pvi</th>\n      <th>business_review_total</th>\n      <th>avg_star_rating</th>\n    </tr>\n  </thead>\n  <tbody>\n    <tr>\n      <th>0</th>\n      <td>lWC-xP3rd6obsecCYsGZRg</td>\n      <td>ak0TdVmGKo4pwqdJSTLwWw</td>\n      <td>buF9druCkbuXLX526sGELQ</td>\n      <td>2014-10-11 03:34:02</td>\n      <td>4</td>\n      <td>3</td>\n      <td>MA</td>\n      <td>01915</td>\n      <td>-28.82</td>\n      <td>-33.21</td>\n      <td>-14.0</td>\n      <td>44.0</td>\n      <td>3.614</td>\n    </tr>\n    <tr>\n      <th>1</th>\n      <td>8bFej1QE5LXp4O05qjGqXA</td>\n      <td>YoVfDbnISlW0f7abNQACIg</td>\n      <td>RA4V8pr014UyUbDvI-LW2A</td>\n      <td>2015-07-03 20:38:25</td>\n      <td>4</td>\n      <td>1</td>\n      <td>MA</td>\n      <td>01701</td>\n      <td>-44.89</td>\n      <td>-33.21</td>\n      <td>-14.0</td>\n      <td>23.0</td>\n      <td>3.696</td>\n    </tr>\n    <tr>\n      <th>2</th>\n      <td>NDhkzczKjLshODbqDoNLSg</td>\n      <td>eC5evKn1TWDyHCyQAwguUw</td>\n      <td>_sS2LBIGNT5NQb6PD1Vtjw</td>\n      <td>2013-05-28 20:38:06</td>\n      <td>5</td>\n      <td>0</td>\n      <td>OR</td>\n      <td>97210</td>\n      <td>-61.31</td>\n      <td>-16.08</td>\n      <td>-6.0</td>\n      <td>96.0</td>\n      <td>4.760</td>\n    </tr>\n    <tr>\n      <th>3</th>\n      <td>T5fAqjjFooT4V0OeZyuk1w</td>\n      <td>SFQ1jcnGguO0LYWnbbftAA</td>\n      <td>0AzLzHfOJgL7ROwhdww2ew</td>\n      <td>2010-01-08 02:29:15</td>\n      <td>2</td>\n      <td>1</td>\n      <td>FL</td>\n      <td>32821</td>\n      <td>-23.12</td>\n      <td>3.36</td>\n      <td>3.0</td>\n      <td>121.0</td>\n      <td>3.446</td>\n    </tr>\n    <tr>\n      <th>4</th>\n      <td>sjm_uUcQVxab_EeLCqsYLg</td>\n      <td>0kA0PAJ8QFMeveQWHFqz2A</td>\n      <td>8zehGz9jnxPqXtOc7KaJxA</td>\n      <td>2011-07-28 18:05:01</td>\n      <td>4</td>\n      <td>0</td>\n      <td>CO</td>\n      <td>80302</td>\n      <td>-56.57</td>\n      <td>-13.50</td>\n      <td>-3.0</td>\n      <td>472.0</td>\n      <td>4.282</td>\n    </tr>\n    <tr>\n      <th>...</th>\n      <td>...</td>\n      <td>...</td>\n      <td>...</td>\n      <td>...</td>\n      <td>...</td>\n      <td>...</td>\n      <td>...</td>\n      <td>...</td>\n      <td>...</td>\n      <td>...</td>\n      <td>...</td>\n      <td>...</td>\n      <td>...</td>\n    </tr>\n    <tr>\n      <th>299995</th>\n      <td>I0mRlZcCGAyntyGclLHSIw</td>\n      <td>vso8sQvCRVUnegGY9fx5rQ</td>\n      <td>Q4DRuxHhKuxP-01rYiRJnQ</td>\n      <td>2017-02-03 00:45:08</td>\n      <td>5</td>\n      <td>0</td>\n      <td>OR</td>\n      <td>97086</td>\n      <td>-11.07</td>\n      <td>-16.08</td>\n      <td>-6.0</td>\n      <td>47.0</td>\n      <td>2.766</td>\n    </tr>\n    <tr>\n      <th>299996</th>\n      <td>f_dYCOA9_zadlLtzWA2DWw</td>\n      <td>suv1g1uAHm0DQu_BMmPznA</td>\n      <td>sLkK9Ofmk9UFDrjXxh3iLA</td>\n      <td>2014-12-07 17:26:02</td>\n      <td>5</td>\n      <td>0</td>\n      <td>OR</td>\n      <td>97227</td>\n      <td>-61.31</td>\n      <td>-16.08</td>\n      <td>-6.0</td>\n      <td>16.0</td>\n      <td>4.562</td>\n    </tr>\n    <tr>\n      <th>299997</th>\n      <td>O0SG6BTN0FHSZ7PJ1wgmzg</td>\n      <td>mVxg_vBXcUAAQJ03uHxiIQ</td>\n      <td>La_xmePMtWwjxKUqbGvqGQ</td>\n      <td>2010-05-30 11:06:52</td>\n      <td>2</td>\n      <td>0</td>\n      <td>TX</td>\n      <td>78703</td>\n      <td>-45.11</td>\n      <td>5.58</td>\n      <td>5.0</td>\n      <td>108.0</td>\n      <td>3.944</td>\n    </tr>\n    <tr>\n      <th>299998</th>\n      <td>vTovPnBesDco238QpKtAvA</td>\n      <td>uVpNSrc3IEpR42VGdZ709w</td>\n      <td>4jOreXu9ctLBWOJWMtNv1w</td>\n      <td>2017-01-07 05:55:39</td>\n      <td>4</td>\n      <td>0</td>\n      <td>WA</td>\n      <td>98665</td>\n      <td>-5.09</td>\n      <td>-19.20</td>\n      <td>-8.0</td>\n      <td>18.0</td>\n      <td>3.111</td>\n    </tr>\n    <tr>\n      <th>299999</th>\n      <td>Vm6QFEvxNwF_6f9EwT9ZXQ</td>\n      <td>8dz_7y-q0MtFZ8m0HYDUAA</td>\n      <td>3cLBtLFiH8IRdlEy9S8RiQ</td>\n      <td>2016-04-29 21:23:59</td>\n      <td>4</td>\n      <td>0</td>\n      <td>FL</td>\n      <td>32836</td>\n      <td>-23.12</td>\n      <td>3.36</td>\n      <td>3.0</td>\n      <td>564.0</td>\n      <td>4.254</td>\n    </tr>\n  </tbody>\n</table>\n<p>275826 rows × 13 columns</p>\n</div>"
     },
     "execution_count": 26,
     "metadata": {},
     "output_type": "execute_result"
    }
   ],
   "source": [
    "REVIEWS.drop(columns=['count'], inplace=True)\n",
    "REVIEWS"
   ],
   "metadata": {
    "collapsed": false,
    "pycharm": {
     "name": "#%%\n"
    }
   }
  },
  {
   "cell_type": "code",
   "execution_count": 27,
   "outputs": [],
   "source": [
    "REVIEWS.to_csv('data/yelp_dataset.csv')"
   ],
   "metadata": {
    "collapsed": false,
    "pycharm": {
     "name": "#%%\n"
    }
   }
  }
 ],
 "metadata": {
  "kernelspec": {
   "display_name": "Python 3",
   "language": "python",
   "name": "python3"
  },
  "language_info": {
   "codemirror_mode": {
    "name": "ipython",
    "version": 3
   },
   "file_extension": ".py",
   "mimetype": "text/x-python",
   "name": "python",
   "nbconvert_exporter": "python",
   "pygments_lexer": "ipython3",
   "version": "3.8.10"
  }
 },
 "nbformat": 4,
 "nbformat_minor": 0
}