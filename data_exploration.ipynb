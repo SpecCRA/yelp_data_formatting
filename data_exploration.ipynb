{
 "cells": [
  {
   "cell_type": "code",
   "execution_count": 1,
   "metadata": {
    "collapsed": true
   },
   "outputs": [],
   "source": [
    "import pandas as pd\n",
    "import numpy as np\n",
    "import dask.dataframe as dd\n",
    "from tqdm import tqdm"
   ]
  },
  {
   "cell_type": "code",
   "execution_count": 2,
   "outputs": [],
   "source": [
    "def fix_zipcodes(zipcode):\n",
    "    if len(zipcode) < 5:\n",
    "        to_fill = 5 - len(zipcode)\n",
    "        return (to_fill * '0') + zipcode\n",
    "\n",
    "    else:\n",
    "        return zipcode\n",
    "\n",
    "def fix_county_name(county_name):\n",
    "    if 'county' in county_name:\n",
    "        return county_name[:county_name.find('county')].rstrip()\n",
    "    else:\n",
    "        return county_name\n",
    "\n",
    "def match_loc_to_ideology(zipcode):\n",
    "    zipcode_state = ZIPS_DF[ZIPS_DF['zip'] == zipcode]['state'].iloc[0]\n",
    "    county_name = fix_county_name(ZIPS_DF[ZIPS_DF['zip'] == zipcode]['county'].iloc[0])\n",
    "\n",
    "    state_slice = COUNTY_DF[COUNTY_DF['state_po'] == zipcode_state]\n",
    "    ideology_metric = state_slice.loc[state_slice['county_name']==county_name]['perc_diffs'].iloc[0]\n",
    "\n",
    "    return ideology_metric\n",
    "\n",
    "def process_cpvi(cpvi):\n",
    "    if cpvi.startswith('R'):\n",
    "        return int(cpvi.split('+')[1])\n",
    "    elif cpvi.startswith('D'):\n",
    "        cpvi_metric = int(cpvi.split('+')[1])\n",
    "        return np.negative(cpvi_metric)\n",
    "    else:\n",
    "        return 0"
   ],
   "metadata": {
    "collapsed": false,
    "pycharm": {
     "name": "#%%\n"
    }
   }
  },
  {
   "cell_type": "code",
   "execution_count": 3,
   "metadata": {
    "collapsed": false,
    "pycharm": {
     "name": "#%%\n"
    }
   },
   "outputs": [],
   "source": [
    "BUSINESS_DATA_FILEPATH = 'data/yelp_academic_dataset_business.json'\n",
    "REVIEWS_DATA_FILEPATH = 'data/yelp_academic_dataset_review.json'\n",
    "USERS_DATA_FILEPATH = 'data/yelp_academic_dataset_user.json'\n",
    "COUNTY_DATA_FILEPATH = 'data/county_data.csv'\n",
    "STATES_DATA_FILEPATH = 'data/states_data.csv'\n",
    "ZIPCODES_DATA_FILEPATH = 'data/zip_code_database.csv'\n",
    "CPI_URL = 'https://en.wikipedia.org/wiki/Cook_Partisan_Voting_Index'\n",
    "POP_DENSITY_FILEPATH = 'data/apportionment.csv'\n"
   ]
  },
  {
   "cell_type": "code",
   "execution_count": 4,
   "outputs": [],
   "source": [
    "COUNTY_DF = pd.read_csv(COUNTY_DATA_FILEPATH, index_col=0)\n",
    "STATES_DF = pd.read_csv(STATES_DATA_FILEPATH, index_col=0)\n",
    "ZIPS_DF = pd.read_csv(ZIPCODES_DATA_FILEPATH)"
   ],
   "metadata": {
    "collapsed": false,
    "pycharm": {
     "name": "#%%\n"
    }
   }
  },
  {
   "cell_type": "code",
   "execution_count": 5,
   "outputs": [
    {
     "data": {
      "text/plain": "     zip state               county\n0  00501    NY       suffolk county\n1  00544    NY       suffolk county\n2  00601    PR   adjuntas municipio\n3  00602    PR     aguada municipio\n4  00603    PR  aguadilla municipio",
      "text/html": "<div>\n<style scoped>\n    .dataframe tbody tr th:only-of-type {\n        vertical-align: middle;\n    }\n\n    .dataframe tbody tr th {\n        vertical-align: top;\n    }\n\n    .dataframe thead th {\n        text-align: right;\n    }\n</style>\n<table border=\"1\" class=\"dataframe\">\n  <thead>\n    <tr style=\"text-align: right;\">\n      <th></th>\n      <th>zip</th>\n      <th>state</th>\n      <th>county</th>\n    </tr>\n  </thead>\n  <tbody>\n    <tr>\n      <th>0</th>\n      <td>00501</td>\n      <td>NY</td>\n      <td>suffolk county</td>\n    </tr>\n    <tr>\n      <th>1</th>\n      <td>00544</td>\n      <td>NY</td>\n      <td>suffolk county</td>\n    </tr>\n    <tr>\n      <th>2</th>\n      <td>00601</td>\n      <td>PR</td>\n      <td>adjuntas municipio</td>\n    </tr>\n    <tr>\n      <th>3</th>\n      <td>00602</td>\n      <td>PR</td>\n      <td>aguada municipio</td>\n    </tr>\n    <tr>\n      <th>4</th>\n      <td>00603</td>\n      <td>PR</td>\n      <td>aguadilla municipio</td>\n    </tr>\n  </tbody>\n</table>\n</div>"
     },
     "execution_count": 5,
     "metadata": {},
     "output_type": "execute_result"
    }
   ],
   "source": [
    "ZIPS_DF = ZIPS_DF[['zip', 'state', 'county']]\n",
    "ZIPS_DF['zip'] = ZIPS_DF['zip'].astype(str).apply(fix_zipcodes)\n",
    "ZIPS_DF['county'] = ZIPS_DF['county'].str.lower()\n",
    "ZIPS_DF.loc[len(ZIPS_DF)] = ['02101', 'MA', 'suffolk county']\n",
    "ZIPS_DF.head()"
   ],
   "metadata": {
    "collapsed": false,
    "pycharm": {
     "name": "#%%\n"
    }
   }
  },
  {
   "cell_type": "code",
   "execution_count": 6,
   "outputs": [
    {
     "data": {
      "text/plain": "                state state_po   county_name  perc_diffs\n69114        OKLAHOMA       OK         payne        1.78\n63227  NORTH CAROLINA       NC        warren        6.93\n54664         GEORGIA       GA         jones      -20.17\n58026          KANSAS       KS       wichita       68.08\n71539        VIRGINIA       VA  bristol city       36.92\n54601         GEORGIA       GA        jasper       10.54\n51932        ARKANSAS       AR           lee       25.63\n56045        ILLINOIS       IL        mclean       -3.95",
      "text/html": "<div>\n<style scoped>\n    .dataframe tbody tr th:only-of-type {\n        vertical-align: middle;\n    }\n\n    .dataframe tbody tr th {\n        vertical-align: top;\n    }\n\n    .dataframe thead th {\n        text-align: right;\n    }\n</style>\n<table border=\"1\" class=\"dataframe\">\n  <thead>\n    <tr style=\"text-align: right;\">\n      <th></th>\n      <th>state</th>\n      <th>state_po</th>\n      <th>county_name</th>\n      <th>perc_diffs</th>\n    </tr>\n  </thead>\n  <tbody>\n    <tr>\n      <th>69114</th>\n      <td>OKLAHOMA</td>\n      <td>OK</td>\n      <td>payne</td>\n      <td>1.78</td>\n    </tr>\n    <tr>\n      <th>63227</th>\n      <td>NORTH CAROLINA</td>\n      <td>NC</td>\n      <td>warren</td>\n      <td>6.93</td>\n    </tr>\n    <tr>\n      <th>54664</th>\n      <td>GEORGIA</td>\n      <td>GA</td>\n      <td>jones</td>\n      <td>-20.17</td>\n    </tr>\n    <tr>\n      <th>58026</th>\n      <td>KANSAS</td>\n      <td>KS</td>\n      <td>wichita</td>\n      <td>68.08</td>\n    </tr>\n    <tr>\n      <th>71539</th>\n      <td>VIRGINIA</td>\n      <td>VA</td>\n      <td>bristol city</td>\n      <td>36.92</td>\n    </tr>\n    <tr>\n      <th>54601</th>\n      <td>GEORGIA</td>\n      <td>GA</td>\n      <td>jasper</td>\n      <td>10.54</td>\n    </tr>\n    <tr>\n      <th>51932</th>\n      <td>ARKANSAS</td>\n      <td>AR</td>\n      <td>lee</td>\n      <td>25.63</td>\n    </tr>\n    <tr>\n      <th>56045</th>\n      <td>ILLINOIS</td>\n      <td>IL</td>\n      <td>mclean</td>\n      <td>-3.95</td>\n    </tr>\n  </tbody>\n</table>\n</div>"
     },
     "execution_count": 6,
     "metadata": {},
     "output_type": "execute_result"
    }
   ],
   "source": [
    "COUNTY_DF['county_name'] = COUNTY_DF['county_name'].str.lower()\n",
    "COUNTY_DF['county_name'] = COUNTY_DF['county_name'].apply(fix_county_name)\n",
    "COUNTY_DF.sample(8)\n"
   ],
   "metadata": {
    "collapsed": false,
    "pycharm": {
     "name": "#%%\n"
    }
   }
  },
  {
   "cell_type": "code",
   "execution_count": 7,
   "outputs": [
    {
     "data": {
      "text/plain": "        state  perc_diffs\n1     ALABAMA       25.46\n3      ALASKA       10.11\n5     ARIZONA       -0.10\n7    ARKANSAS        6.91\n9  CALIFORNIA      -29.16",
      "text/html": "<div>\n<style scoped>\n    .dataframe tbody tr th:only-of-type {\n        vertical-align: middle;\n    }\n\n    .dataframe tbody tr th {\n        vertical-align: top;\n    }\n\n    .dataframe thead th {\n        text-align: right;\n    }\n</style>\n<table border=\"1\" class=\"dataframe\">\n  <thead>\n    <tr style=\"text-align: right;\">\n      <th></th>\n      <th>state</th>\n      <th>perc_diffs</th>\n    </tr>\n  </thead>\n  <tbody>\n    <tr>\n      <th>1</th>\n      <td>ALABAMA</td>\n      <td>25.46</td>\n    </tr>\n    <tr>\n      <th>3</th>\n      <td>ALASKA</td>\n      <td>10.11</td>\n    </tr>\n    <tr>\n      <th>5</th>\n      <td>ARIZONA</td>\n      <td>-0.10</td>\n    </tr>\n    <tr>\n      <th>7</th>\n      <td>ARKANSAS</td>\n      <td>6.91</td>\n    </tr>\n    <tr>\n      <th>9</th>\n      <td>CALIFORNIA</td>\n      <td>-29.16</td>\n    </tr>\n  </tbody>\n</table>\n</div>"
     },
     "execution_count": 7,
     "metadata": {},
     "output_type": "execute_result"
    }
   ],
   "source": [
    "STATES_DF.head()"
   ],
   "metadata": {
    "collapsed": false,
    "pycharm": {
     "name": "#%%\n"
    }
   }
  },
  {
   "cell_type": "code",
   "execution_count": 8,
   "outputs": [
    {
     "name": "stdout",
     "output_type": "stream",
     "text": [
      "Number of states: 51\n"
     ]
    }
   ],
   "source": [
    "STATES_LIST = list(COUNTY_DF['state_po'].unique())\n",
    "print(f\"Number of states: {len(STATES_LIST)}\")"
   ],
   "metadata": {
    "collapsed": false,
    "pycharm": {
     "name": "#%%\n"
    }
   }
  },
  {
   "cell_type": "code",
   "execution_count": 9,
   "outputs": [],
   "source": [
    "CPVI = pd.read_html(CPI_URL)[1]\n",
    "CPVI.drop(CPVI.tail(1).index, inplace=True)\n",
    "CPVI['pvi'] = CPVI['PVI'].apply(process_cpvi)\n",
    "CPVI['state'] = CPVI['State'].str.upper()\n",
    "CPVI = CPVI[['state', 'pvi']]"
   ],
   "metadata": {
    "collapsed": false,
    "pycharm": {
     "name": "#%%\n"
    }
   }
  },
  {
   "cell_type": "code",
   "execution_count": 10,
   "outputs": [
    {
     "data": {
      "text/plain": "         Name Geography Type  Year Resident Population  \\\n0     Alabama          State  1910           2,138,093   \n1      Alaska          State  1910              64,356   \n2     Arizona          State  1910             204,354   \n3    Arkansas          State  1910           1,574,449   \n4  California          State  1910           2,377,549   \n\n   Percent Change in Resident Population Resident Population Density  \\\n0                                   16.9                        42.2   \n1                                    1.2                         0.1   \n2                                   66.2                         1.8   \n3                                   20.0                        30.3   \n4                                   60.1                        15.3   \n\n   Resident Population Density Rank  Number of Representatives  \\\n0                              25.0                       10.0   \n1                              52.0                        NaN   \n2                              49.0                        NaN   \n3                              30.0                        7.0   \n4                              38.0                       11.0   \n\n   Change in Number of Representatives  \\\n0                                  1.0   \n1                                  NaN   \n2                                  NaN   \n3                                  0.0   \n4                                  3.0   \n\n  Average Apportionment Population Per Representative  \n0                                            213,809   \n1                                                NaN   \n2                                                NaN   \n3                                            224,921   \n4                                            216,051   ",
      "text/html": "<div>\n<style scoped>\n    .dataframe tbody tr th:only-of-type {\n        vertical-align: middle;\n    }\n\n    .dataframe tbody tr th {\n        vertical-align: top;\n    }\n\n    .dataframe thead th {\n        text-align: right;\n    }\n</style>\n<table border=\"1\" class=\"dataframe\">\n  <thead>\n    <tr style=\"text-align: right;\">\n      <th></th>\n      <th>Name</th>\n      <th>Geography Type</th>\n      <th>Year</th>\n      <th>Resident Population</th>\n      <th>Percent Change in Resident Population</th>\n      <th>Resident Population Density</th>\n      <th>Resident Population Density Rank</th>\n      <th>Number of Representatives</th>\n      <th>Change in Number of Representatives</th>\n      <th>Average Apportionment Population Per Representative</th>\n    </tr>\n  </thead>\n  <tbody>\n    <tr>\n      <th>0</th>\n      <td>Alabama</td>\n      <td>State</td>\n      <td>1910</td>\n      <td>2,138,093</td>\n      <td>16.9</td>\n      <td>42.2</td>\n      <td>25.0</td>\n      <td>10.0</td>\n      <td>1.0</td>\n      <td>213,809</td>\n    </tr>\n    <tr>\n      <th>1</th>\n      <td>Alaska</td>\n      <td>State</td>\n      <td>1910</td>\n      <td>64,356</td>\n      <td>1.2</td>\n      <td>0.1</td>\n      <td>52.0</td>\n      <td>NaN</td>\n      <td>NaN</td>\n      <td>NaN</td>\n    </tr>\n    <tr>\n      <th>2</th>\n      <td>Arizona</td>\n      <td>State</td>\n      <td>1910</td>\n      <td>204,354</td>\n      <td>66.2</td>\n      <td>1.8</td>\n      <td>49.0</td>\n      <td>NaN</td>\n      <td>NaN</td>\n      <td>NaN</td>\n    </tr>\n    <tr>\n      <th>3</th>\n      <td>Arkansas</td>\n      <td>State</td>\n      <td>1910</td>\n      <td>1,574,449</td>\n      <td>20.0</td>\n      <td>30.3</td>\n      <td>30.0</td>\n      <td>7.0</td>\n      <td>0.0</td>\n      <td>224,921</td>\n    </tr>\n    <tr>\n      <th>4</th>\n      <td>California</td>\n      <td>State</td>\n      <td>1910</td>\n      <td>2,377,549</td>\n      <td>60.1</td>\n      <td>15.3</td>\n      <td>38.0</td>\n      <td>11.0</td>\n      <td>3.0</td>\n      <td>216,051</td>\n    </tr>\n  </tbody>\n</table>\n</div>"
     },
     "execution_count": 10,
     "metadata": {},
     "output_type": "execute_result"
    }
   ],
   "source": [
    "POP_DENSITY = pd.read_csv(POP_DENSITY_FILEPATH)\n",
    "POP_DENSITY.head()"
   ],
   "metadata": {
    "collapsed": false,
    "pycharm": {
     "name": "#%%\n"
    }
   }
  },
  {
   "cell_type": "code",
   "execution_count": 11,
   "outputs": [
    {
     "data": {
      "text/plain": "Name                                                    object\nGeography Type                                          object\nYear                                                     int64\nResident Population                                     object\nPercent Change in Resident Population                  float64\nResident Population Density                             object\nResident Population Density Rank                       float64\nNumber of Representatives                              float64\nChange in Number of Representatives                    float64\nAverage Apportionment Population Per Representative     object\ndtype: object"
     },
     "execution_count": 11,
     "metadata": {},
     "output_type": "execute_result"
    }
   ],
   "source": [
    "POP_DENSITY.dtypes\n",
    "# POP_DENSITY"
   ],
   "metadata": {
    "collapsed": false,
    "pycharm": {
     "name": "#%%\n"
    }
   }
  },
  {
   "cell_type": "code",
   "execution_count": 12,
   "metadata": {
    "collapsed": false,
    "pycharm": {
     "name": "#%%\n"
    }
   },
   "outputs": [],
   "source": [
    "USER_COLS = ['user_id', 'review_count']\n",
    "BUSINESS_COLS = ['business_id', 'state', 'city', 'postal_code', 'categories', 'stars', 'review_count']\n",
    "REVIEW_COLS = ['review_id', 'user_id', 'business_id', 'date', 'stars', 'useful']\n",
    "ZIPCODES_COLS = ['zip', 'county']\n",
    "\n",
    "USER_DTYPES = {\n",
    "    'user_id': np.str,\n",
    "    'review_count': np.int\n",
    "}\n",
    "\n",
    "BUSINESS_DTYPES = {\n",
    "    'business_id': np.str,\n",
    "    'state': np.str,\n",
    "    'city': np.str,\n",
    "    'postal_code': np.str,\n",
    "    'categories': np.str,\n",
    "    'review_count': np.int,\n",
    "    'stars': np.float,\n",
    "}\n",
    "\n",
    "REVIEW_DTYPES = {\n",
    "    'review_id': np.str,\n",
    "    'user_id': np.str,\n",
    "    'business_id': np.str,\n",
    "    'stars': np.int,\n",
    "    'useful': np.int\n",
    "}\n",
    "\n",
    "ZIPS_DTYPES = {\n",
    "    'zip': np.str,\n",
    "    'county': np.str\n",
    "}"
   ]
  },
  {
   "cell_type": "code",
   "execution_count": 13,
   "outputs": [
    {
     "name": "stdout",
     "output_type": "stream",
     "text": [
      "Loading businesses...\n"
     ]
    },
    {
     "name": "stderr",
     "output_type": "stream",
     "text": [
      "161it [00:08, 19.81it/s]\n"
     ]
    }
   ],
   "source": [
    "BUSINESSES = list()\n",
    "\n",
    "print('Loading businesses...')\n",
    "\n",
    "with open(BUSINESS_DATA_FILEPATH, 'r') as f:\n",
    "    reader = pd.read_json(f, orient='records', lines=True, chunksize=1000, dtype=BUSINESS_DTYPES)\n",
    "\n",
    "    for chunk in tqdm(reader):\n",
    "        reduced_chunk = chunk[BUSINESS_COLS]\n",
    "        reduced_chunk = reduced_chunk[reduced_chunk['state'].isin(STATES_LIST)]\n",
    "        reduced_chunk['postal_code'] = reduced_chunk['postal_code'].apply(fix_zipcodes)\n",
    "        reduced_chunk = reduced_chunk[reduced_chunk['categories'].notnull()]\n",
    "        reduced_chunk = reduced_chunk[reduced_chunk['categories'].str.contains('Restaurants')]\n",
    "        BUSINESSES.append(reduced_chunk)\n",
    "\n",
    "    BUSINESSES = pd.concat(BUSINESSES, ignore_index=True)"
   ],
   "metadata": {
    "collapsed": false,
    "pycharm": {
     "name": "#%%\n"
    }
   }
  },
  {
   "cell_type": "code",
   "execution_count": 14,
   "outputs": [],
   "source": [
    "BUSINESS_LIST = list(BUSINESSES['business_id'].unique())"
   ],
   "metadata": {
    "collapsed": false,
    "pycharm": {
     "name": "#%%\n"
    }
   }
  },
  {
   "cell_type": "code",
   "execution_count": 15,
   "outputs": [],
   "source": [
    "# import dask.dataframe as dd\n",
    "# print('reviews loading')\n",
    "# reviews_df = dd.read_json('data/yelp_academic_dataset_review.json', orient='records', lines=True)\n",
    "# reviews_df = reviews_df[REVIEW_COLS]\n",
    "# REVIEWS = reviews_df[reviews_df['business_id'].isin(BUSINESS_LIST)].compute()\n",
    "# reviews_df = None\n",
    "# print('reviews loaded')"
   ],
   "metadata": {
    "collapsed": false,
    "pycharm": {
     "name": "#%%\n"
    }
   }
  },
  {
   "cell_type": "code",
   "execution_count": 16,
   "outputs": [
    {
     "name": "stdout",
     "output_type": "stream",
     "text": [
      "9223372036854775807\n"
     ]
    }
   ],
   "source": [
    "import sys\n",
    "print(sys.maxsize)"
   ],
   "metadata": {
    "collapsed": false,
    "pycharm": {
     "name": "#%%\n"
    }
   }
  },
  {
   "cell_type": "code",
   "execution_count": 17,
   "outputs": [
    {
     "name": "stderr",
     "output_type": "stream",
     "text": [
      "3it [00:00, 27.14it/s]"
     ]
    },
    {
     "name": "stdout",
     "output_type": "stream",
     "text": [
      "Loading reviews...\n"
     ]
    },
    {
     "name": "stderr",
     "output_type": "stream",
     "text": [
      "86355it [14:51, 96.85it/s] \n"
     ]
    },
    {
     "name": "stdout",
     "output_type": "stream",
     "text": [
      "Reviews loaded\n"
     ]
    }
   ],
   "source": [
    "#Load 300,000 reviews from reviews\n",
    "REVIEWS = list()\n",
    "print('Loading reviews...')\n",
    "with open(REVIEWS_DATA_FILEPATH, 'r') as f:\n",
    "    reader = pd.read_json(f, orient='records', lines=True, chunksize=100, nrows=8635403, dtype=REVIEW_DTYPES)\n",
    "    #reader = dd.read_json('data/yelp_academic_dataset_review.json', orient='records', lines=True)\n",
    "    for chunk in tqdm(reader):\n",
    "        reduced_chunk = chunk[REVIEW_COLS]\n",
    "        reduced_chunk = reduced_chunk[reduced_chunk['business_id'].isin(BUSINESS_LIST)]\n",
    "        # Only keep US\n",
    "        REVIEWS.append(reduced_chunk)\n",
    "    REVIEWS = pd.concat(REVIEWS, ignore_index=True)\n",
    "#REVIEWS = REVIEWS.compute()\n",
    "print('Reviews loaded')"
   ],
   "metadata": {
    "collapsed": false,
    "pycharm": {
     "name": "#%%\n"
    }
   }
  },
  {
   "cell_type": "code",
   "execution_count": 18,
   "outputs": [
    {
     "name": "stdout",
     "output_type": "stream",
     "text": [
      "Number of businssess: 43256\n"
     ]
    }
   ],
   "source": [
    "BUSINESS_LIST = list(REVIEWS['business_id'].unique()) # rename to get effective list\n",
    "print(f\"Number of businssess: {len(BUSINESS_LIST)}\")\n",
    "USERS_LIST = list(REVIEWS['user_id'].unique())\n"
   ],
   "metadata": {
    "collapsed": false,
    "pycharm": {
     "name": "#%%\n"
    }
   }
  },
  {
   "cell_type": "code",
   "execution_count": 19,
   "outputs": [
    {
     "name": "stderr",
     "output_type": "stream",
     "text": [
      "  0%|          | 0/43256 [00:00<?, ?it/s]"
     ]
    },
    {
     "name": "stdout",
     "output_type": "stream",
     "text": [
      "Adding business state and zip codes...\n"
     ]
    },
    {
     "name": "stderr",
     "output_type": "stream",
     "text": [
      "100%|██████████| 43256/43256 [8:00:22<00:00,  1.50it/s]  \n"
     ]
    }
   ],
   "source": [
    "# add business zip code in first\n",
    "# add business state\n",
    "print('Adding business state and zip codes...')\n",
    "for business_id in tqdm(BUSINESS_LIST):\n",
    "    business_zipcode = BUSINESSES[BUSINESSES['business_id'] == business_id]['postal_code'].iloc[0]\n",
    "    business_state = BUSINESSES[BUSINESSES['business_id'] == business_id]['state'].iloc[0]\n",
    "\n",
    "    REVIEWS.loc[REVIEWS['business_id'] == business_id, ['business_state', 'business_zipcode']] = business_state, business_zipcode\n",
    "\n",
    "REVIEWS = REVIEWS[REVIEWS['business_state'].isin(STATES_LIST)]"
   ],
   "metadata": {
    "collapsed": false,
    "pycharm": {
     "name": "#%%\n"
    }
   }
  },
  {
   "cell_type": "code",
   "execution_count": 20,
   "outputs": [
    {
     "data": {
      "text/plain": "['MA',\n 'FL',\n 'CO',\n 'WA',\n 'GA',\n 'TX',\n 'OR',\n 'OH',\n 'KS',\n 'WY',\n 'MN',\n 'VA',\n 'KY',\n 'NH']"
     },
     "execution_count": 20,
     "metadata": {},
     "output_type": "execute_result"
    }
   ],
   "source": [
    "STATES_LIST = list(REVIEWS['business_state'].unique())\n",
    "list(REVIEWS['business_state'].unique())"
   ],
   "metadata": {
    "collapsed": false,
    "pycharm": {
     "name": "#%%\n"
    }
   }
  },
  {
   "cell_type": "code",
   "execution_count": 21,
   "outputs": [
    {
     "data": {
      "text/plain": "                      review_id                 user_id  \\\n968516   y6a6ALnowZ7e6zE2rby4CQ  NGBAz-5GCWAv6Em7LtrBeQ   \n2322656  zjDwUJysQkjIPZmzYdWnkw  se70GX-FKRpWXAlYxLwXqA   \n1988075  L42HsdHArmB5JyVVXp-NcA  6V01soR8WqU9CgUy1O65Tw   \n3049253  mM1yZBakcLnkcjiCpI3gLg  L2TWgyCzI5-UtoAXrc3UxA   \n57872    lg9PmJ_m_1ebu8UgnHYzSg  YTIYhAQtfGOhIBiMWzXbjA   \n2115542  sxuKHEiuzhmNjZCNAhtAmg  uQ48NhIwO8ogz46m8LsQYA   \n5020012  CUvLrAOHsIfm38vTG2txxw  rJtjiBHJmpPrqtidwwTbfQ   \n788591   Eon69hTHzz01maDCYeTXzw  kwauCaApMbrW4IeliIGqFQ   \n4205898  BgCn4Qs_F3l_vb5klXZSLg  U1VoGIrts29wRyAoIGJ7AQ   \n2909279  UhzRHth7HYmzzmXIhzj-zQ  nkExS83hy0kk3lMmow6WSw   \n1963091  b4bM8vNKIGY4-XKmkM9l6g  1s9w5Y-wfIizUnyQRx3kLQ   \n3333001  AugfSQJXFcDv0Tf4Pk_kog  0RWTmYgYWsposTuM799-4w   \n876355   5G9thGOteKK1JncNvPyPSA  Irl4PXH6qx-h7lmRMgyAxA   \n4380037  qflEYb2gs9YzlTXb8vQmGQ  0mZ_Mv-W70CcvpSVHJLcNg   \n1190522  00Eek8jQnXdhkCyPBoyC3w  bwUJGJz3z1chBWRrEQD_Cg   \n\n                    business_id                date  stars  useful  \\\n968516   1gat4FrYE9TX3d6ZqOROTA 2017-07-25 13:12:05      3       4   \n2322656  HhX8Gv5riCptJXMa2Mn1RA 2018-01-21 01:58:32      5       0   \n1988075  QW3anlt1nJ9aNkdQAV-Ifw 2019-01-24 23:02:31      5       0   \n3049253  NGB3HCZYRr3Yu-KhgkqGUw 2019-12-29 23:08:41      4       1   \n57872    QwxkPvSZtyIb0hLBwhBzAg 2017-10-26 05:57:41      1       0   \n2115542  OUTYLhTgXcZFBeRw3WSuFA 2015-12-08 15:42:48      3       1   \n5020012  lIwaafufo1VMDyhh0YUqLQ 2019-09-03 18:52:58      3       0   \n788591   BOXmNc9VykHjj4bYZ4z2hQ 2010-11-15 04:33:06      5       6   \n4205898  1qwxzGRcU1y3tJrsoYQ4Rw 2016-08-07 20:26:57      4       0   \n2909279  mAW0poOKFdoaBFXAE-xjJA 2008-04-15 00:47:12      5       3   \n1963091  KlNXxqiuxy-TJiouVgUzgw 2019-09-26 03:09:12      2       0   \n3333001  vY_AUKUWqyvPeNDQbUqUGA 2011-06-27 19:04:16      4       0   \n876355   b5ydIUDm1oPIZlKtg1Cx2g 2019-12-24 04:09:08      1       0   \n4380037  VaF22zWe9ixUaGP1e1KSRA 2018-03-10 00:26:33      5       0   \n1190522  7sHSPMpHntVe1XiTRZT47w 2015-05-18 20:12:37      4       0   \n\n        business_state business_zipcode  \n968516              FL            32953  \n2322656             MA            02127  \n1988075             GA            30313  \n3049253             OR            97230  \n57872               OR            97229  \n2115542             OH            43229  \n5020012             FL            32828  \n788591              TX            78704  \n4205898             MA            02116  \n2909279             GA            30305  \n1963091             MA            02446  \n3333001             OR            97211  \n876355              OR            97206  \n4380037             FL            32835  \n1190522             OR            97214  ",
      "text/html": "<div>\n<style scoped>\n    .dataframe tbody tr th:only-of-type {\n        vertical-align: middle;\n    }\n\n    .dataframe tbody tr th {\n        vertical-align: top;\n    }\n\n    .dataframe thead th {\n        text-align: right;\n    }\n</style>\n<table border=\"1\" class=\"dataframe\">\n  <thead>\n    <tr style=\"text-align: right;\">\n      <th></th>\n      <th>review_id</th>\n      <th>user_id</th>\n      <th>business_id</th>\n      <th>date</th>\n      <th>stars</th>\n      <th>useful</th>\n      <th>business_state</th>\n      <th>business_zipcode</th>\n    </tr>\n  </thead>\n  <tbody>\n    <tr>\n      <th>968516</th>\n      <td>y6a6ALnowZ7e6zE2rby4CQ</td>\n      <td>NGBAz-5GCWAv6Em7LtrBeQ</td>\n      <td>1gat4FrYE9TX3d6ZqOROTA</td>\n      <td>2017-07-25 13:12:05</td>\n      <td>3</td>\n      <td>4</td>\n      <td>FL</td>\n      <td>32953</td>\n    </tr>\n    <tr>\n      <th>2322656</th>\n      <td>zjDwUJysQkjIPZmzYdWnkw</td>\n      <td>se70GX-FKRpWXAlYxLwXqA</td>\n      <td>HhX8Gv5riCptJXMa2Mn1RA</td>\n      <td>2018-01-21 01:58:32</td>\n      <td>5</td>\n      <td>0</td>\n      <td>MA</td>\n      <td>02127</td>\n    </tr>\n    <tr>\n      <th>1988075</th>\n      <td>L42HsdHArmB5JyVVXp-NcA</td>\n      <td>6V01soR8WqU9CgUy1O65Tw</td>\n      <td>QW3anlt1nJ9aNkdQAV-Ifw</td>\n      <td>2019-01-24 23:02:31</td>\n      <td>5</td>\n      <td>0</td>\n      <td>GA</td>\n      <td>30313</td>\n    </tr>\n    <tr>\n      <th>3049253</th>\n      <td>mM1yZBakcLnkcjiCpI3gLg</td>\n      <td>L2TWgyCzI5-UtoAXrc3UxA</td>\n      <td>NGB3HCZYRr3Yu-KhgkqGUw</td>\n      <td>2019-12-29 23:08:41</td>\n      <td>4</td>\n      <td>1</td>\n      <td>OR</td>\n      <td>97230</td>\n    </tr>\n    <tr>\n      <th>57872</th>\n      <td>lg9PmJ_m_1ebu8UgnHYzSg</td>\n      <td>YTIYhAQtfGOhIBiMWzXbjA</td>\n      <td>QwxkPvSZtyIb0hLBwhBzAg</td>\n      <td>2017-10-26 05:57:41</td>\n      <td>1</td>\n      <td>0</td>\n      <td>OR</td>\n      <td>97229</td>\n    </tr>\n    <tr>\n      <th>2115542</th>\n      <td>sxuKHEiuzhmNjZCNAhtAmg</td>\n      <td>uQ48NhIwO8ogz46m8LsQYA</td>\n      <td>OUTYLhTgXcZFBeRw3WSuFA</td>\n      <td>2015-12-08 15:42:48</td>\n      <td>3</td>\n      <td>1</td>\n      <td>OH</td>\n      <td>43229</td>\n    </tr>\n    <tr>\n      <th>5020012</th>\n      <td>CUvLrAOHsIfm38vTG2txxw</td>\n      <td>rJtjiBHJmpPrqtidwwTbfQ</td>\n      <td>lIwaafufo1VMDyhh0YUqLQ</td>\n      <td>2019-09-03 18:52:58</td>\n      <td>3</td>\n      <td>0</td>\n      <td>FL</td>\n      <td>32828</td>\n    </tr>\n    <tr>\n      <th>788591</th>\n      <td>Eon69hTHzz01maDCYeTXzw</td>\n      <td>kwauCaApMbrW4IeliIGqFQ</td>\n      <td>BOXmNc9VykHjj4bYZ4z2hQ</td>\n      <td>2010-11-15 04:33:06</td>\n      <td>5</td>\n      <td>6</td>\n      <td>TX</td>\n      <td>78704</td>\n    </tr>\n    <tr>\n      <th>4205898</th>\n      <td>BgCn4Qs_F3l_vb5klXZSLg</td>\n      <td>U1VoGIrts29wRyAoIGJ7AQ</td>\n      <td>1qwxzGRcU1y3tJrsoYQ4Rw</td>\n      <td>2016-08-07 20:26:57</td>\n      <td>4</td>\n      <td>0</td>\n      <td>MA</td>\n      <td>02116</td>\n    </tr>\n    <tr>\n      <th>2909279</th>\n      <td>UhzRHth7HYmzzmXIhzj-zQ</td>\n      <td>nkExS83hy0kk3lMmow6WSw</td>\n      <td>mAW0poOKFdoaBFXAE-xjJA</td>\n      <td>2008-04-15 00:47:12</td>\n      <td>5</td>\n      <td>3</td>\n      <td>GA</td>\n      <td>30305</td>\n    </tr>\n    <tr>\n      <th>1963091</th>\n      <td>b4bM8vNKIGY4-XKmkM9l6g</td>\n      <td>1s9w5Y-wfIizUnyQRx3kLQ</td>\n      <td>KlNXxqiuxy-TJiouVgUzgw</td>\n      <td>2019-09-26 03:09:12</td>\n      <td>2</td>\n      <td>0</td>\n      <td>MA</td>\n      <td>02446</td>\n    </tr>\n    <tr>\n      <th>3333001</th>\n      <td>AugfSQJXFcDv0Tf4Pk_kog</td>\n      <td>0RWTmYgYWsposTuM799-4w</td>\n      <td>vY_AUKUWqyvPeNDQbUqUGA</td>\n      <td>2011-06-27 19:04:16</td>\n      <td>4</td>\n      <td>0</td>\n      <td>OR</td>\n      <td>97211</td>\n    </tr>\n    <tr>\n      <th>876355</th>\n      <td>5G9thGOteKK1JncNvPyPSA</td>\n      <td>Irl4PXH6qx-h7lmRMgyAxA</td>\n      <td>b5ydIUDm1oPIZlKtg1Cx2g</td>\n      <td>2019-12-24 04:09:08</td>\n      <td>1</td>\n      <td>0</td>\n      <td>OR</td>\n      <td>97206</td>\n    </tr>\n    <tr>\n      <th>4380037</th>\n      <td>qflEYb2gs9YzlTXb8vQmGQ</td>\n      <td>0mZ_Mv-W70CcvpSVHJLcNg</td>\n      <td>VaF22zWe9ixUaGP1e1KSRA</td>\n      <td>2018-03-10 00:26:33</td>\n      <td>5</td>\n      <td>0</td>\n      <td>FL</td>\n      <td>32835</td>\n    </tr>\n    <tr>\n      <th>1190522</th>\n      <td>00Eek8jQnXdhkCyPBoyC3w</td>\n      <td>bwUJGJz3z1chBWRrEQD_Cg</td>\n      <td>7sHSPMpHntVe1XiTRZT47w</td>\n      <td>2015-05-18 20:12:37</td>\n      <td>4</td>\n      <td>0</td>\n      <td>OR</td>\n      <td>97214</td>\n    </tr>\n  </tbody>\n</table>\n</div>"
     },
     "execution_count": 21,
     "metadata": {},
     "output_type": "execute_result"
    }
   ],
   "source": [
    "REVIEWS.sample(15)"
   ],
   "metadata": {
    "collapsed": false,
    "pycharm": {
     "name": "#%%\n"
    }
   }
  },
  {
   "cell_type": "code",
   "execution_count": 22,
   "outputs": [
    {
     "name": "stderr",
     "output_type": "stream",
     "text": [
      "  0%|          | 0/604 [00:00<?, ?it/s]"
     ]
    },
    {
     "name": "stdout",
     "output_type": "stream",
     "text": [
      "Adding business zipcode ideology\n"
     ]
    },
    {
     "name": "stderr",
     "output_type": "stream",
     "text": [
      " 63%|██████▎   | 380/604 [01:28<00:45,  4.98it/s]"
     ]
    },
    {
     "name": "stdout",
     "output_type": "stream",
     "text": [
      "00000\n"
     ]
    },
    {
     "name": "stderr",
     "output_type": "stream",
     "text": [
      " 73%|███████▎  | 438/604 [01:42<00:33,  5.02it/s]"
     ]
    },
    {
     "name": "stdout",
     "output_type": "stream",
     "text": [
      "78792\n"
     ]
    },
    {
     "name": "stderr",
     "output_type": "stream",
     "text": [
      " 75%|███████▌  | 454/604 [01:46<00:35,  4.24it/s]"
     ]
    },
    {
     "name": "stdout",
     "output_type": "stream",
     "text": [
      "75749\n"
     ]
    },
    {
     "name": "stderr",
     "output_type": "stream",
     "text": [
      " 77%|███████▋  | 464/604 [01:48<00:27,  5.05it/s]"
     ]
    },
    {
     "name": "stdout",
     "output_type": "stream",
     "text": [
      "31132\n"
     ]
    },
    {
     "name": "stderr",
     "output_type": "stream",
     "text": [
      " 83%|████████▎ | 500/604 [01:56<00:20,  5.00it/s]"
     ]
    },
    {
     "name": "stdout",
     "output_type": "stream",
     "text": [
      "80604\n"
     ]
    },
    {
     "name": "stderr",
     "output_type": "stream",
     "text": [
      " 84%|████████▍ | 510/604 [01:58<00:22,  4.25it/s]"
     ]
    },
    {
     "name": "stdout",
     "output_type": "stream",
     "text": [
      "03017\n"
     ]
    },
    {
     "name": "stderr",
     "output_type": "stream",
     "text": [
      " 87%|████████▋ | 527/604 [02:02<00:15,  4.99it/s]"
     ]
    },
    {
     "name": "stdout",
     "output_type": "stream",
     "text": [
      "00961\n"
     ]
    },
    {
     "name": "stderr",
     "output_type": "stream",
     "text": [
      " 88%|████████▊ | 532/604 [02:03<00:16,  4.32it/s]"
     ]
    },
    {
     "name": "stdout",
     "output_type": "stream",
     "text": [
      "02154\n"
     ]
    },
    {
     "name": "stderr",
     "output_type": "stream",
     "text": [
      " 91%|█████████ | 550/604 [02:07<00:10,  4.98it/s]"
     ]
    },
    {
     "name": "stdout",
     "output_type": "stream",
     "text": [
      "78707\n",
      "32866\n"
     ]
    },
    {
     "name": "stderr",
     "output_type": "stream",
     "text": [
      " 97%|█████████▋| 583/604 [02:14<00:04,  5.04it/s]"
     ]
    },
    {
     "name": "stdout",
     "output_type": "stream",
     "text": [
      "32787\n"
     ]
    },
    {
     "name": "stderr",
     "output_type": "stream",
     "text": [
      " 97%|█████████▋| 586/604 [02:15<00:03,  4.52it/s]"
     ]
    },
    {
     "name": "stdout",
     "output_type": "stream",
     "text": [
      "02413\n"
     ]
    },
    {
     "name": "stderr",
     "output_type": "stream",
     "text": [
      " 97%|█████████▋| 588/604 [02:15<00:03,  5.25it/s]"
     ]
    },
    {
     "name": "stdout",
     "output_type": "stream",
     "text": [
      "02010\n",
      "01710\n"
     ]
    },
    {
     "name": "stderr",
     "output_type": "stream",
     "text": [
      " 99%|█████████▉| 599/604 [02:17<00:00,  5.20it/s]"
     ]
    },
    {
     "name": "stdout",
     "output_type": "stream",
     "text": [
      "02011\n"
     ]
    },
    {
     "name": "stderr",
     "output_type": "stream",
     "text": [
      "100%|██████████| 604/604 [02:18<00:00,  4.36it/s]\n"
     ]
    }
   ],
   "source": [
    "# assign business political ideologies by zip code\n",
    "BUSINESS_ZIPS = list(REVIEWS['business_zipcode'].unique())\n",
    "print('Adding business zipcode ideology')\n",
    "for business_zip in tqdm(BUSINESS_ZIPS):\n",
    "    try:\n",
    "        business_ideology = match_loc_to_ideology(business_zip)\n",
    "        REVIEWS.loc[REVIEWS['business_zipcode'] == business_zip, 'business_county_ideology'] = business_ideology\n",
    "    except:\n",
    "        print(business_zip)"
   ],
   "metadata": {
    "collapsed": false,
    "pycharm": {
     "name": "#%%\n"
    }
   }
  },
  {
   "cell_type": "code",
   "execution_count": 23,
   "outputs": [
    {
     "data": {
      "text/plain": "1461366"
     },
     "execution_count": 23,
     "metadata": {},
     "output_type": "execute_result"
    }
   ],
   "source": [
    "len(USERS_LIST)"
   ],
   "metadata": {
    "collapsed": false,
    "pycharm": {
     "name": "#%%\n"
    }
   }
  },
  {
   "cell_type": "code",
   "execution_count": 24,
   "outputs": [
    {
     "name": "stdout",
     "output_type": "stream",
     "text": [
      "{'ALABAMA': 'AL', 'ALASKA': 'AK', 'ARIZONA': 'AZ', 'ARKANSAS': 'AR', 'CALIFORNIA': 'CA', 'COLORADO': 'CO', 'CONNECTICUT': 'CT', 'DELAWARE': 'DE', 'DISTRICT OF COLUMBIA': 'DC', 'FLORIDA': 'FL', 'GEORGIA': 'GA', 'HAWAII': 'HI', 'IDAHO': 'ID', 'ILLINOIS': 'IL', 'INDIANA': 'IN', 'IOWA': 'IA', 'KANSAS': 'KS', 'KENTUCKY': 'KY', 'LOUISIANA': 'LA', 'MAINE': 'ME', 'MARYLAND': 'MD', 'MASSACHUSETTS': 'MA', 'MICHIGAN': 'MI', 'MINNESOTA': 'MN', 'MISSISSIPPI': 'MS', 'MISSOURI': 'MO', 'MONTANA': 'MT', 'NEBRASKA': 'NE', 'NEVADA': 'NV', 'NEW HAMPSHIRE': 'NH', 'NEW JERSEY': 'NJ', 'NEW MEXICO': 'NM', 'NEW YORK': 'NY', 'NORTH CAROLINA': 'NC', 'NORTH DAKOTA': 'ND', 'OHIO': 'OH', 'OKLAHOMA': 'OK', 'OREGON': 'OR', 'PENNSYLVANIA': 'PA', 'RHODE ISLAND': 'RI', 'SOUTH CAROLINA': 'SC', 'SOUTH DAKOTA': 'SD', 'TENNESSEE': 'TN', 'TEXAS': 'TX', 'UTAH': 'UT', 'VERMONT': 'VT', 'VIRGINIA': 'VA', 'WASHINGTON': 'WA', 'WEST VIRGINIA': 'WV', 'WISCONSIN': 'WI', 'WYOMING': 'WY'}\n"
     ]
    }
   ],
   "source": [
    "STATES_ABBR = dict()\n",
    "\n",
    "for state in list(STATES_DF['state']):\n",
    "    STATES_ABBR[state] = COUNTY_DF[COUNTY_DF['state'] == state]['state_po'].unique()[0]\n",
    "\n",
    "print(STATES_ABBR)"
   ],
   "metadata": {
    "collapsed": false,
    "pycharm": {
     "name": "#%%\n"
    }
   }
  },
  {
   "cell_type": "code",
   "execution_count": 25,
   "outputs": [
    {
     "name": "stdout",
     "output_type": "stream",
     "text": [
      "{'AL': 'ALABAMA', 'AK': 'ALASKA', 'AZ': 'ARIZONA', 'AR': 'ARKANSAS', 'CA': 'CALIFORNIA', 'CO': 'COLORADO', 'CT': 'CONNECTICUT', 'DE': 'DELAWARE', 'DC': 'DISTRICT OF COLUMBIA', 'FL': 'FLORIDA', 'GA': 'GEORGIA', 'HI': 'HAWAII', 'ID': 'IDAHO', 'IL': 'ILLINOIS', 'IN': 'INDIANA', 'IA': 'IOWA', 'KS': 'KANSAS', 'KY': 'KENTUCKY', 'LA': 'LOUISIANA', 'ME': 'MAINE', 'MD': 'MARYLAND', 'MA': 'MASSACHUSETTS', 'MI': 'MICHIGAN', 'MN': 'MINNESOTA', 'MS': 'MISSISSIPPI', 'MO': 'MISSOURI', 'MT': 'MONTANA', 'NE': 'NEBRASKA', 'NV': 'NEVADA', 'NH': 'NEW HAMPSHIRE', 'NJ': 'NEW JERSEY', 'NM': 'NEW MEXICO', 'NY': 'NEW YORK', 'NC': 'NORTH CAROLINA', 'ND': 'NORTH DAKOTA', 'OH': 'OHIO', 'OK': 'OKLAHOMA', 'OR': 'OREGON', 'PA': 'PENNSYLVANIA', 'RI': 'RHODE ISLAND', 'SC': 'SOUTH CAROLINA', 'SD': 'SOUTH DAKOTA', 'TN': 'TENNESSEE', 'TX': 'TEXAS', 'UT': 'UTAH', 'VT': 'VERMONT', 'VA': 'VIRGINIA', 'WA': 'WASHINGTON', 'WV': 'WEST VIRGINIA', 'WI': 'WISCONSIN', 'WY': 'WYOMING'}\n"
     ]
    }
   ],
   "source": [
    "STATES_ABBR_REVERSE = {v:k for k, v in STATES_ABBR.items()}\n",
    "print(STATES_ABBR_REVERSE)"
   ],
   "metadata": {
    "collapsed": false,
    "pycharm": {
     "name": "#%%\n"
    }
   }
  },
  {
   "cell_type": "code",
   "execution_count": 26,
   "outputs": [
    {
     "name": "stderr",
     "output_type": "stream",
     "text": [
      "  0%|          | 0/51 [00:00<?, ?it/s]"
     ]
    },
    {
     "name": "stdout",
     "output_type": "stream",
     "text": [
      "Processing business state ideology and state pvi\n"
     ]
    },
    {
     "name": "stderr",
     "output_type": "stream",
     "text": [
      "100%|██████████| 51/51 [00:12<00:00,  4.12it/s]\n"
     ]
    }
   ],
   "source": [
    "print('Processing business state ideology and state pvi')\n",
    "for state in tqdm(list(STATES_ABBR.keys())):\n",
    "    try:\n",
    "        state_ideology = STATES_DF[STATES_DF['state'] == state]['perc_diffs'].iloc[0]\n",
    "\n",
    "        if state == 'DISTRICT OF COLUMBIA':\n",
    "            state_pvi = 0\n",
    "        else:\n",
    "            state_pvi = CPVI[CPVI['state'] == state]['pvi'].iloc[0]\n",
    "\n",
    "        REVIEWS.loc[REVIEWS['business_state'] == STATES_ABBR[state],\n",
    "                    ['business_state_ideology', 'business_state_pvi']] = state_ideology, state_pvi\n",
    "    except:\n",
    "        print(state)\n",
    "        print('bad output')"
   ],
   "metadata": {
    "collapsed": false,
    "pycharm": {
     "name": "#%%\n"
    }
   }
  },
  {
   "cell_type": "code",
   "execution_count": 27,
   "outputs": [
    {
     "name": "stdout",
     "output_type": "stream",
     "text": [
      "Adding total reviews and average stars per business\n"
     ]
    },
    {
     "name": "stderr",
     "output_type": "stream",
     "text": [
      "100%|██████████| 43256/43256 [5:47:57<00:00,  2.07it/s]  \n"
     ]
    }
   ],
   "source": [
    "print('Adding total reviews and average stars per business')\n",
    "REVIEWS['count'] = 1\n",
    "BUSINESS_COUNTS = REVIEWS.groupby('business_id').sum().reset_index()[['business_id', 'count']]\n",
    "BUSINESS_STARS = REVIEWS[['business_id', 'stars']].groupby('business_id').sum().reset_index()\n",
    "BUSINESSES_LIST = list(BUSINESS_COUNTS['business_id'].unique())\n",
    "\n",
    "for business in tqdm(BUSINESSES_LIST):\n",
    "    tot_reviews = BUSINESS_COUNTS[BUSINESS_COUNTS['business_id'] == business]['count'].iloc[0]\n",
    "    avg_stars = round((BUSINESS_STARS[BUSINESS_STARS['business_id'] == business]['stars'].iloc[0] / tot_reviews), 3)\n",
    "    REVIEWS.loc[REVIEWS['business_id'] == business, ['business_review_total', 'avg_star_rating']] = tot_reviews, avg_stars\n"
   ],
   "metadata": {
    "collapsed": false,
    "pycharm": {
     "name": "#%%\n"
    }
   }
  },
  {
   "cell_type": "code",
   "execution_count": 28,
   "outputs": [],
   "source": [
    "# add state pop density\n",
    "POP_DENSITY = POP_DENSITY[POP_DENSITY['Year'] >= 2000]\n",
    "POP_DENSITY_COLS = ['Name', 'Year', 'Resident Population', 'Geography Type', 'Resident Population Density']\n",
    "POP_DENSITY = POP_DENSITY[POP_DENSITY_COLS]\n",
    "POP_DENSITY = POP_DENSITY[POP_DENSITY['Geography Type'] == 'State']\n",
    "POP_DENSITY.drop(columns=['Geography Type'], inplace=True)\n",
    "POP_DENSITY_RENAMED_COLS = ['state', 'year', 'pop', 'pop_density']\n",
    "POP_DENSITY.columns = POP_DENSITY_RENAMED_COLS\n",
    "POP_DENSITY['state'] = POP_DENSITY['state'].str.upper()\n",
    "POP_DENSITY = POP_DENSITY[POP_DENSITY['state'].isin(list(STATES_ABBR.keys()))]\n"
   ],
   "metadata": {
    "collapsed": false,
    "pycharm": {
     "name": "#%%\n"
    }
   }
  },
  {
   "cell_type": "code",
   "execution_count": 29,
   "outputs": [
    {
     "data": {
      "text/plain": "          state  year         pop pop_density\n513     ALABAMA  2000   4,447,100        87.8\n514      ALASKA  2000     626,932         1.1\n515     ARIZONA  2000   5,130,632        45.2\n516    ARKANSAS  2000   2,673,400        51.4\n517  CALIFORNIA  2000  33,871,648       217.4",
      "text/html": "<div>\n<style scoped>\n    .dataframe tbody tr th:only-of-type {\n        vertical-align: middle;\n    }\n\n    .dataframe tbody tr th {\n        vertical-align: top;\n    }\n\n    .dataframe thead th {\n        text-align: right;\n    }\n</style>\n<table border=\"1\" class=\"dataframe\">\n  <thead>\n    <tr style=\"text-align: right;\">\n      <th></th>\n      <th>state</th>\n      <th>year</th>\n      <th>pop</th>\n      <th>pop_density</th>\n    </tr>\n  </thead>\n  <tbody>\n    <tr>\n      <th>513</th>\n      <td>ALABAMA</td>\n      <td>2000</td>\n      <td>4,447,100</td>\n      <td>87.8</td>\n    </tr>\n    <tr>\n      <th>514</th>\n      <td>ALASKA</td>\n      <td>2000</td>\n      <td>626,932</td>\n      <td>1.1</td>\n    </tr>\n    <tr>\n      <th>515</th>\n      <td>ARIZONA</td>\n      <td>2000</td>\n      <td>5,130,632</td>\n      <td>45.2</td>\n    </tr>\n    <tr>\n      <th>516</th>\n      <td>ARKANSAS</td>\n      <td>2000</td>\n      <td>2,673,400</td>\n      <td>51.4</td>\n    </tr>\n    <tr>\n      <th>517</th>\n      <td>CALIFORNIA</td>\n      <td>2000</td>\n      <td>33,871,648</td>\n      <td>217.4</td>\n    </tr>\n  </tbody>\n</table>\n</div>"
     },
     "execution_count": 29,
     "metadata": {},
     "output_type": "execute_result"
    }
   ],
   "source": [
    "POP_DENSITY.head()"
   ],
   "metadata": {
    "collapsed": false,
    "pycharm": {
     "name": "#%%\n"
    }
   }
  },
  {
   "cell_type": "code",
   "execution_count": 30,
   "outputs": [
    {
     "data": {
      "text/plain": "array([2000, 2010, 2020])"
     },
     "execution_count": 30,
     "metadata": {},
     "output_type": "execute_result"
    }
   ],
   "source": [
    "POP_DENSITY['year'].unique()"
   ],
   "metadata": {
    "collapsed": false,
    "pycharm": {
     "name": "#%%\n"
    }
   }
  },
  {
   "cell_type": "code",
   "execution_count": 31,
   "outputs": [],
   "source": [
    "# split date into separate columns\n",
    "REVIEWS['date'] = pd.to_datetime(REVIEWS['date'])\n",
    "REVIEWS['year'] = REVIEWS['date'].dt.year\n",
    "REVIEWS['month'] = REVIEWS['date'].dt.month\n",
    "REVIEWS['day'] = REVIEWS['date'].dt.day"
   ],
   "metadata": {
    "collapsed": false,
    "pycharm": {
     "name": "#%%\n"
    }
   }
  },
  {
   "cell_type": "code",
   "execution_count": 32,
   "outputs": [
    {
     "data": {
      "text/plain": "[2004,\n 2005,\n 2006,\n 2007,\n 2008,\n 2009,\n 2010,\n 2011,\n 2012,\n 2013,\n 2014,\n 2015,\n 2016,\n 2017,\n 2018,\n 2019,\n 2020,\n 2021]"
     },
     "execution_count": 32,
     "metadata": {},
     "output_type": "execute_result"
    }
   ],
   "source": [
    "sorted(list(REVIEWS['year'].unique()))"
   ],
   "metadata": {
    "collapsed": false,
    "pycharm": {
     "name": "#%%\n"
    }
   }
  },
  {
   "cell_type": "code",
   "execution_count": 33,
   "outputs": [
    {
     "name": "stdout",
     "output_type": "stream",
     "text": [
      "Adding population density...\n"
     ]
    }
   ],
   "source": [
    "# Add population density measures\n",
    "print(\"Adding population density...\")"
   ],
   "metadata": {
    "collapsed": false,
    "pycharm": {
     "name": "#%%\n"
    }
   }
  },
  {
   "cell_type": "code",
   "execution_count": 34,
   "outputs": [],
   "source": [
    "def add_pop_density(decade):\n",
    "    upper_year_limit = decade\n",
    "    lower_year_limit = decade-10\n",
    "\n",
    "    #pop_slice = POP_DENSITY[POP_DENSITY['year'] == decade]\n",
    "\n",
    "    for state in STATES_LIST:\n",
    "        state_pop_density = POP_DENSITY[\n",
    "            (POP_DENSITY['year'] == decade) &\n",
    "            (POP_DENSITY['state'] == STATES_ABBR_REVERSE[state])\n",
    "        ]['pop_density'].iloc[0]\n",
    "\n",
    "        REVIEWS.loc[\n",
    "            (REVIEWS['year'].between(lower_year_limit, upper_year_limit, inclusive='right')) &\n",
    "            (REVIEWS['business_state'] == state),\n",
    "            ['population_density']\n",
    "        ] = state_pop_density\n"
   ],
   "metadata": {
    "collapsed": false,
    "pycharm": {
     "name": "#%%\n"
    }
   }
  },
  {
   "cell_type": "code",
   "execution_count": 35,
   "outputs": [],
   "source": [
    "add_pop_density(2010)\n",
    "add_pop_density(2020)"
   ],
   "metadata": {
    "collapsed": false,
    "pycharm": {
     "name": "#%%\n"
    }
   }
  },
  {
   "cell_type": "code",
   "execution_count": 36,
   "outputs": [
    {
     "data": {
      "text/plain": "                      review_id                 user_id  \\\n0        lWC-xP3rd6obsecCYsGZRg  ak0TdVmGKo4pwqdJSTLwWw   \n1        T5fAqjjFooT4V0OeZyuk1w  SFQ1jcnGguO0LYWnbbftAA   \n2        sjm_uUcQVxab_EeLCqsYLg  0kA0PAJ8QFMeveQWHFqz2A   \n3        J4a2TuhDasjn2k3wWtHZnQ  RNm_RWkcd02Li2mKPRe7Eg   \n4        28gGfkLs3igtjVy61lh77Q  Q8c91v7luItVB0cMFF_mRA   \n...                         ...                     ...   \n5147986  1LrBZbLNfkBsFrHwEBlfSg  fYkURme6Piqxu4qUjQV3PQ   \n5147987  F5eAqFzDEyU6q5bBuCjglg  7Ey9Xc2hC4obn7spjp1mHw   \n5147988  FfhmA0G0zrRjHskp-7O8UQ  IlxM3NGJOtNXPz5cupqNDQ   \n5147989  7vNXRIClt-9rFzMXlrtMXA  tr13Jb83h2itjyXVwaO5eA   \n5147990  YNyurWy1ZIYEy1vXI7azOg  HsT8bz3-SKMk7YidwLLM6Q   \n\n                    business_id                date  stars  useful  \\\n0        buF9druCkbuXLX526sGELQ 2014-10-11 03:34:02      4       3   \n1        0AzLzHfOJgL7ROwhdww2ew 2010-01-08 02:29:15      2       1   \n2        8zehGz9jnxPqXtOc7KaJxA 2011-07-28 18:05:01      4       0   \n3        xGXzsc-hzam-VArK6eTvtw 2018-01-21 04:41:03      1       2   \n4        EXOsmAB1s71WePlQk0WZrA 2006-04-16 02:58:44      2       0   \n...                         ...                 ...    ...     ...   \n5147986  gEQxTJDoJYaW0l_6FYtf8g 2020-12-05 21:32:45      5       1   \n5147987  PrTS_wxKNxf0kRTOcboeIw 2020-10-23 23:28:09      1       1   \n5147988  dmkDZKPsK8lmwFuLiFQ0Zw 2021-01-25 14:53:13      5       0   \n5147989  rbuj2X4SXIc3MDul4dcxIA 2020-06-13 02:39:26      5      39   \n5147990  pxwYIa1jZzHJ4R0Sp1cHFw 2019-04-17 04:27:39      5      11   \n\n        business_state business_zipcode  business_county_ideology  \\\n0                   MA            01915                    -28.82   \n1                   FL            32821                    -23.12   \n2                   CO            80302                    -56.57   \n3                   MA            02144                    -44.89   \n4                   MA            02215                    -62.84   \n...                ...              ...                       ...   \n5147986             MA            02478                    -44.89   \n5147987             MA            02180                    -44.89   \n5147988             OR            97219                    -61.31   \n5147989             OR            97266                    -61.31   \n5147990             CO            80303                    -56.57   \n\n         business_state_ideology  business_state_pvi  count  \\\n0                         -33.21               -14.0      1   \n1                           3.36                 3.0      1   \n2                         -13.50                -3.0      1   \n3                         -33.21               -14.0      1   \n4                         -33.21               -14.0      1   \n...                          ...                 ...    ...   \n5147986                   -33.21               -14.0      1   \n5147987                   -33.21               -14.0      1   \n5147988                   -16.08                -6.0      1   \n5147989                   -16.08                -6.0      1   \n5147990                   -13.50                -3.0      1   \n\n         business_review_total  avg_star_rating  year  month  day  \\\n0                         84.0            3.655  2014     10   11   \n1                        297.0            3.562  2010      1    8   \n2                       1009.0            4.280  2011      7   28   \n3                        512.0            3.371  2018      1   21   \n4                         14.0            2.714  2006      4   16   \n...                        ...              ...   ...    ...  ...   \n5147986                   88.0            2.989  2020     12    5   \n5147987                  154.0            3.442  2020     10   23   \n5147988                   25.0            4.720  2021      1   25   \n5147989                   70.0            4.000  2020      6   13   \n5147990                  433.0            4.312  2019      4   17   \n\n        population_density  \n0                    901.2  \n1                    401.4  \n2                     55.7  \n3                    901.2  \n4                    839.4  \n...                    ...  \n5147986              901.2  \n5147987              901.2  \n5147988                NaN  \n5147989               44.1  \n5147990               55.7  \n\n[5147991 rows x 18 columns]",
      "text/html": "<div>\n<style scoped>\n    .dataframe tbody tr th:only-of-type {\n        vertical-align: middle;\n    }\n\n    .dataframe tbody tr th {\n        vertical-align: top;\n    }\n\n    .dataframe thead th {\n        text-align: right;\n    }\n</style>\n<table border=\"1\" class=\"dataframe\">\n  <thead>\n    <tr style=\"text-align: right;\">\n      <th></th>\n      <th>review_id</th>\n      <th>user_id</th>\n      <th>business_id</th>\n      <th>date</th>\n      <th>stars</th>\n      <th>useful</th>\n      <th>business_state</th>\n      <th>business_zipcode</th>\n      <th>business_county_ideology</th>\n      <th>business_state_ideology</th>\n      <th>business_state_pvi</th>\n      <th>count</th>\n      <th>business_review_total</th>\n      <th>avg_star_rating</th>\n      <th>year</th>\n      <th>month</th>\n      <th>day</th>\n      <th>population_density</th>\n    </tr>\n  </thead>\n  <tbody>\n    <tr>\n      <th>0</th>\n      <td>lWC-xP3rd6obsecCYsGZRg</td>\n      <td>ak0TdVmGKo4pwqdJSTLwWw</td>\n      <td>buF9druCkbuXLX526sGELQ</td>\n      <td>2014-10-11 03:34:02</td>\n      <td>4</td>\n      <td>3</td>\n      <td>MA</td>\n      <td>01915</td>\n      <td>-28.82</td>\n      <td>-33.21</td>\n      <td>-14.0</td>\n      <td>1</td>\n      <td>84.0</td>\n      <td>3.655</td>\n      <td>2014</td>\n      <td>10</td>\n      <td>11</td>\n      <td>901.2</td>\n    </tr>\n    <tr>\n      <th>1</th>\n      <td>T5fAqjjFooT4V0OeZyuk1w</td>\n      <td>SFQ1jcnGguO0LYWnbbftAA</td>\n      <td>0AzLzHfOJgL7ROwhdww2ew</td>\n      <td>2010-01-08 02:29:15</td>\n      <td>2</td>\n      <td>1</td>\n      <td>FL</td>\n      <td>32821</td>\n      <td>-23.12</td>\n      <td>3.36</td>\n      <td>3.0</td>\n      <td>1</td>\n      <td>297.0</td>\n      <td>3.562</td>\n      <td>2010</td>\n      <td>1</td>\n      <td>8</td>\n      <td>401.4</td>\n    </tr>\n    <tr>\n      <th>2</th>\n      <td>sjm_uUcQVxab_EeLCqsYLg</td>\n      <td>0kA0PAJ8QFMeveQWHFqz2A</td>\n      <td>8zehGz9jnxPqXtOc7KaJxA</td>\n      <td>2011-07-28 18:05:01</td>\n      <td>4</td>\n      <td>0</td>\n      <td>CO</td>\n      <td>80302</td>\n      <td>-56.57</td>\n      <td>-13.50</td>\n      <td>-3.0</td>\n      <td>1</td>\n      <td>1009.0</td>\n      <td>4.280</td>\n      <td>2011</td>\n      <td>7</td>\n      <td>28</td>\n      <td>55.7</td>\n    </tr>\n    <tr>\n      <th>3</th>\n      <td>J4a2TuhDasjn2k3wWtHZnQ</td>\n      <td>RNm_RWkcd02Li2mKPRe7Eg</td>\n      <td>xGXzsc-hzam-VArK6eTvtw</td>\n      <td>2018-01-21 04:41:03</td>\n      <td>1</td>\n      <td>2</td>\n      <td>MA</td>\n      <td>02144</td>\n      <td>-44.89</td>\n      <td>-33.21</td>\n      <td>-14.0</td>\n      <td>1</td>\n      <td>512.0</td>\n      <td>3.371</td>\n      <td>2018</td>\n      <td>1</td>\n      <td>21</td>\n      <td>901.2</td>\n    </tr>\n    <tr>\n      <th>4</th>\n      <td>28gGfkLs3igtjVy61lh77Q</td>\n      <td>Q8c91v7luItVB0cMFF_mRA</td>\n      <td>EXOsmAB1s71WePlQk0WZrA</td>\n      <td>2006-04-16 02:58:44</td>\n      <td>2</td>\n      <td>0</td>\n      <td>MA</td>\n      <td>02215</td>\n      <td>-62.84</td>\n      <td>-33.21</td>\n      <td>-14.0</td>\n      <td>1</td>\n      <td>14.0</td>\n      <td>2.714</td>\n      <td>2006</td>\n      <td>4</td>\n      <td>16</td>\n      <td>839.4</td>\n    </tr>\n    <tr>\n      <th>...</th>\n      <td>...</td>\n      <td>...</td>\n      <td>...</td>\n      <td>...</td>\n      <td>...</td>\n      <td>...</td>\n      <td>...</td>\n      <td>...</td>\n      <td>...</td>\n      <td>...</td>\n      <td>...</td>\n      <td>...</td>\n      <td>...</td>\n      <td>...</td>\n      <td>...</td>\n      <td>...</td>\n      <td>...</td>\n      <td>...</td>\n    </tr>\n    <tr>\n      <th>5147986</th>\n      <td>1LrBZbLNfkBsFrHwEBlfSg</td>\n      <td>fYkURme6Piqxu4qUjQV3PQ</td>\n      <td>gEQxTJDoJYaW0l_6FYtf8g</td>\n      <td>2020-12-05 21:32:45</td>\n      <td>5</td>\n      <td>1</td>\n      <td>MA</td>\n      <td>02478</td>\n      <td>-44.89</td>\n      <td>-33.21</td>\n      <td>-14.0</td>\n      <td>1</td>\n      <td>88.0</td>\n      <td>2.989</td>\n      <td>2020</td>\n      <td>12</td>\n      <td>5</td>\n      <td>901.2</td>\n    </tr>\n    <tr>\n      <th>5147987</th>\n      <td>F5eAqFzDEyU6q5bBuCjglg</td>\n      <td>7Ey9Xc2hC4obn7spjp1mHw</td>\n      <td>PrTS_wxKNxf0kRTOcboeIw</td>\n      <td>2020-10-23 23:28:09</td>\n      <td>1</td>\n      <td>1</td>\n      <td>MA</td>\n      <td>02180</td>\n      <td>-44.89</td>\n      <td>-33.21</td>\n      <td>-14.0</td>\n      <td>1</td>\n      <td>154.0</td>\n      <td>3.442</td>\n      <td>2020</td>\n      <td>10</td>\n      <td>23</td>\n      <td>901.2</td>\n    </tr>\n    <tr>\n      <th>5147988</th>\n      <td>FfhmA0G0zrRjHskp-7O8UQ</td>\n      <td>IlxM3NGJOtNXPz5cupqNDQ</td>\n      <td>dmkDZKPsK8lmwFuLiFQ0Zw</td>\n      <td>2021-01-25 14:53:13</td>\n      <td>5</td>\n      <td>0</td>\n      <td>OR</td>\n      <td>97219</td>\n      <td>-61.31</td>\n      <td>-16.08</td>\n      <td>-6.0</td>\n      <td>1</td>\n      <td>25.0</td>\n      <td>4.720</td>\n      <td>2021</td>\n      <td>1</td>\n      <td>25</td>\n      <td>NaN</td>\n    </tr>\n    <tr>\n      <th>5147989</th>\n      <td>7vNXRIClt-9rFzMXlrtMXA</td>\n      <td>tr13Jb83h2itjyXVwaO5eA</td>\n      <td>rbuj2X4SXIc3MDul4dcxIA</td>\n      <td>2020-06-13 02:39:26</td>\n      <td>5</td>\n      <td>39</td>\n      <td>OR</td>\n      <td>97266</td>\n      <td>-61.31</td>\n      <td>-16.08</td>\n      <td>-6.0</td>\n      <td>1</td>\n      <td>70.0</td>\n      <td>4.000</td>\n      <td>2020</td>\n      <td>6</td>\n      <td>13</td>\n      <td>44.1</td>\n    </tr>\n    <tr>\n      <th>5147990</th>\n      <td>YNyurWy1ZIYEy1vXI7azOg</td>\n      <td>HsT8bz3-SKMk7YidwLLM6Q</td>\n      <td>pxwYIa1jZzHJ4R0Sp1cHFw</td>\n      <td>2019-04-17 04:27:39</td>\n      <td>5</td>\n      <td>11</td>\n      <td>CO</td>\n      <td>80303</td>\n      <td>-56.57</td>\n      <td>-13.50</td>\n      <td>-3.0</td>\n      <td>1</td>\n      <td>433.0</td>\n      <td>4.312</td>\n      <td>2019</td>\n      <td>4</td>\n      <td>17</td>\n      <td>55.7</td>\n    </tr>\n  </tbody>\n</table>\n<p>5147991 rows × 18 columns</p>\n</div>"
     },
     "execution_count": 36,
     "metadata": {},
     "output_type": "execute_result"
    }
   ],
   "source": [
    "REVIEWS\n"
   ],
   "metadata": {
    "collapsed": false,
    "pycharm": {
     "name": "#%%\n"
    }
   }
  },
  {
   "cell_type": "code",
   "execution_count": 37,
   "outputs": [
    {
     "data": {
      "text/plain": "                      review_id                 user_id  \\\n0        lWC-xP3rd6obsecCYsGZRg  ak0TdVmGKo4pwqdJSTLwWw   \n1        T5fAqjjFooT4V0OeZyuk1w  SFQ1jcnGguO0LYWnbbftAA   \n2        sjm_uUcQVxab_EeLCqsYLg  0kA0PAJ8QFMeveQWHFqz2A   \n3        J4a2TuhDasjn2k3wWtHZnQ  RNm_RWkcd02Li2mKPRe7Eg   \n4        28gGfkLs3igtjVy61lh77Q  Q8c91v7luItVB0cMFF_mRA   \n...                         ...                     ...   \n5147986  1LrBZbLNfkBsFrHwEBlfSg  fYkURme6Piqxu4qUjQV3PQ   \n5147987  F5eAqFzDEyU6q5bBuCjglg  7Ey9Xc2hC4obn7spjp1mHw   \n5147988  FfhmA0G0zrRjHskp-7O8UQ  IlxM3NGJOtNXPz5cupqNDQ   \n5147989  7vNXRIClt-9rFzMXlrtMXA  tr13Jb83h2itjyXVwaO5eA   \n5147990  YNyurWy1ZIYEy1vXI7azOg  HsT8bz3-SKMk7YidwLLM6Q   \n\n                    business_id                date  stars  useful  \\\n0        buF9druCkbuXLX526sGELQ 2014-10-11 03:34:02      4       3   \n1        0AzLzHfOJgL7ROwhdww2ew 2010-01-08 02:29:15      2       1   \n2        8zehGz9jnxPqXtOc7KaJxA 2011-07-28 18:05:01      4       0   \n3        xGXzsc-hzam-VArK6eTvtw 2018-01-21 04:41:03      1       2   \n4        EXOsmAB1s71WePlQk0WZrA 2006-04-16 02:58:44      2       0   \n...                         ...                 ...    ...     ...   \n5147986  gEQxTJDoJYaW0l_6FYtf8g 2020-12-05 21:32:45      5       1   \n5147987  PrTS_wxKNxf0kRTOcboeIw 2020-10-23 23:28:09      1       1   \n5147988  dmkDZKPsK8lmwFuLiFQ0Zw 2021-01-25 14:53:13      5       0   \n5147989  rbuj2X4SXIc3MDul4dcxIA 2020-06-13 02:39:26      5      39   \n5147990  pxwYIa1jZzHJ4R0Sp1cHFw 2019-04-17 04:27:39      5      11   \n\n        business_state business_zipcode  business_county_ideology  \\\n0                   MA            01915                    -28.82   \n1                   FL            32821                    -23.12   \n2                   CO            80302                    -56.57   \n3                   MA            02144                    -44.89   \n4                   MA            02215                    -62.84   \n...                ...              ...                       ...   \n5147986             MA            02478                    -44.89   \n5147987             MA            02180                    -44.89   \n5147988             OR            97219                    -61.31   \n5147989             OR            97266                    -61.31   \n5147990             CO            80303                    -56.57   \n\n         business_state_ideology  business_state_pvi  business_review_total  \\\n0                         -33.21               -14.0                   84.0   \n1                           3.36                 3.0                  297.0   \n2                         -13.50                -3.0                 1009.0   \n3                         -33.21               -14.0                  512.0   \n4                         -33.21               -14.0                   14.0   \n...                          ...                 ...                    ...   \n5147986                   -33.21               -14.0                   88.0   \n5147987                   -33.21               -14.0                  154.0   \n5147988                   -16.08                -6.0                   25.0   \n5147989                   -16.08                -6.0                   70.0   \n5147990                   -13.50                -3.0                  433.0   \n\n         avg_star_rating  year  month  day population_density  \n0                  3.655  2014     10   11              901.2  \n1                  3.562  2010      1    8              401.4  \n2                  4.280  2011      7   28               55.7  \n3                  3.371  2018      1   21              901.2  \n4                  2.714  2006      4   16              839.4  \n...                  ...   ...    ...  ...                ...  \n5147986            2.989  2020     12    5              901.2  \n5147987            3.442  2020     10   23              901.2  \n5147988            4.720  2021      1   25                NaN  \n5147989            4.000  2020      6   13               44.1  \n5147990            4.312  2019      4   17               55.7  \n\n[5147991 rows x 17 columns]",
      "text/html": "<div>\n<style scoped>\n    .dataframe tbody tr th:only-of-type {\n        vertical-align: middle;\n    }\n\n    .dataframe tbody tr th {\n        vertical-align: top;\n    }\n\n    .dataframe thead th {\n        text-align: right;\n    }\n</style>\n<table border=\"1\" class=\"dataframe\">\n  <thead>\n    <tr style=\"text-align: right;\">\n      <th></th>\n      <th>review_id</th>\n      <th>user_id</th>\n      <th>business_id</th>\n      <th>date</th>\n      <th>stars</th>\n      <th>useful</th>\n      <th>business_state</th>\n      <th>business_zipcode</th>\n      <th>business_county_ideology</th>\n      <th>business_state_ideology</th>\n      <th>business_state_pvi</th>\n      <th>business_review_total</th>\n      <th>avg_star_rating</th>\n      <th>year</th>\n      <th>month</th>\n      <th>day</th>\n      <th>population_density</th>\n    </tr>\n  </thead>\n  <tbody>\n    <tr>\n      <th>0</th>\n      <td>lWC-xP3rd6obsecCYsGZRg</td>\n      <td>ak0TdVmGKo4pwqdJSTLwWw</td>\n      <td>buF9druCkbuXLX526sGELQ</td>\n      <td>2014-10-11 03:34:02</td>\n      <td>4</td>\n      <td>3</td>\n      <td>MA</td>\n      <td>01915</td>\n      <td>-28.82</td>\n      <td>-33.21</td>\n      <td>-14.0</td>\n      <td>84.0</td>\n      <td>3.655</td>\n      <td>2014</td>\n      <td>10</td>\n      <td>11</td>\n      <td>901.2</td>\n    </tr>\n    <tr>\n      <th>1</th>\n      <td>T5fAqjjFooT4V0OeZyuk1w</td>\n      <td>SFQ1jcnGguO0LYWnbbftAA</td>\n      <td>0AzLzHfOJgL7ROwhdww2ew</td>\n      <td>2010-01-08 02:29:15</td>\n      <td>2</td>\n      <td>1</td>\n      <td>FL</td>\n      <td>32821</td>\n      <td>-23.12</td>\n      <td>3.36</td>\n      <td>3.0</td>\n      <td>297.0</td>\n      <td>3.562</td>\n      <td>2010</td>\n      <td>1</td>\n      <td>8</td>\n      <td>401.4</td>\n    </tr>\n    <tr>\n      <th>2</th>\n      <td>sjm_uUcQVxab_EeLCqsYLg</td>\n      <td>0kA0PAJ8QFMeveQWHFqz2A</td>\n      <td>8zehGz9jnxPqXtOc7KaJxA</td>\n      <td>2011-07-28 18:05:01</td>\n      <td>4</td>\n      <td>0</td>\n      <td>CO</td>\n      <td>80302</td>\n      <td>-56.57</td>\n      <td>-13.50</td>\n      <td>-3.0</td>\n      <td>1009.0</td>\n      <td>4.280</td>\n      <td>2011</td>\n      <td>7</td>\n      <td>28</td>\n      <td>55.7</td>\n    </tr>\n    <tr>\n      <th>3</th>\n      <td>J4a2TuhDasjn2k3wWtHZnQ</td>\n      <td>RNm_RWkcd02Li2mKPRe7Eg</td>\n      <td>xGXzsc-hzam-VArK6eTvtw</td>\n      <td>2018-01-21 04:41:03</td>\n      <td>1</td>\n      <td>2</td>\n      <td>MA</td>\n      <td>02144</td>\n      <td>-44.89</td>\n      <td>-33.21</td>\n      <td>-14.0</td>\n      <td>512.0</td>\n      <td>3.371</td>\n      <td>2018</td>\n      <td>1</td>\n      <td>21</td>\n      <td>901.2</td>\n    </tr>\n    <tr>\n      <th>4</th>\n      <td>28gGfkLs3igtjVy61lh77Q</td>\n      <td>Q8c91v7luItVB0cMFF_mRA</td>\n      <td>EXOsmAB1s71WePlQk0WZrA</td>\n      <td>2006-04-16 02:58:44</td>\n      <td>2</td>\n      <td>0</td>\n      <td>MA</td>\n      <td>02215</td>\n      <td>-62.84</td>\n      <td>-33.21</td>\n      <td>-14.0</td>\n      <td>14.0</td>\n      <td>2.714</td>\n      <td>2006</td>\n      <td>4</td>\n      <td>16</td>\n      <td>839.4</td>\n    </tr>\n    <tr>\n      <th>...</th>\n      <td>...</td>\n      <td>...</td>\n      <td>...</td>\n      <td>...</td>\n      <td>...</td>\n      <td>...</td>\n      <td>...</td>\n      <td>...</td>\n      <td>...</td>\n      <td>...</td>\n      <td>...</td>\n      <td>...</td>\n      <td>...</td>\n      <td>...</td>\n      <td>...</td>\n      <td>...</td>\n      <td>...</td>\n    </tr>\n    <tr>\n      <th>5147986</th>\n      <td>1LrBZbLNfkBsFrHwEBlfSg</td>\n      <td>fYkURme6Piqxu4qUjQV3PQ</td>\n      <td>gEQxTJDoJYaW0l_6FYtf8g</td>\n      <td>2020-12-05 21:32:45</td>\n      <td>5</td>\n      <td>1</td>\n      <td>MA</td>\n      <td>02478</td>\n      <td>-44.89</td>\n      <td>-33.21</td>\n      <td>-14.0</td>\n      <td>88.0</td>\n      <td>2.989</td>\n      <td>2020</td>\n      <td>12</td>\n      <td>5</td>\n      <td>901.2</td>\n    </tr>\n    <tr>\n      <th>5147987</th>\n      <td>F5eAqFzDEyU6q5bBuCjglg</td>\n      <td>7Ey9Xc2hC4obn7spjp1mHw</td>\n      <td>PrTS_wxKNxf0kRTOcboeIw</td>\n      <td>2020-10-23 23:28:09</td>\n      <td>1</td>\n      <td>1</td>\n      <td>MA</td>\n      <td>02180</td>\n      <td>-44.89</td>\n      <td>-33.21</td>\n      <td>-14.0</td>\n      <td>154.0</td>\n      <td>3.442</td>\n      <td>2020</td>\n      <td>10</td>\n      <td>23</td>\n      <td>901.2</td>\n    </tr>\n    <tr>\n      <th>5147988</th>\n      <td>FfhmA0G0zrRjHskp-7O8UQ</td>\n      <td>IlxM3NGJOtNXPz5cupqNDQ</td>\n      <td>dmkDZKPsK8lmwFuLiFQ0Zw</td>\n      <td>2021-01-25 14:53:13</td>\n      <td>5</td>\n      <td>0</td>\n      <td>OR</td>\n      <td>97219</td>\n      <td>-61.31</td>\n      <td>-16.08</td>\n      <td>-6.0</td>\n      <td>25.0</td>\n      <td>4.720</td>\n      <td>2021</td>\n      <td>1</td>\n      <td>25</td>\n      <td>NaN</td>\n    </tr>\n    <tr>\n      <th>5147989</th>\n      <td>7vNXRIClt-9rFzMXlrtMXA</td>\n      <td>tr13Jb83h2itjyXVwaO5eA</td>\n      <td>rbuj2X4SXIc3MDul4dcxIA</td>\n      <td>2020-06-13 02:39:26</td>\n      <td>5</td>\n      <td>39</td>\n      <td>OR</td>\n      <td>97266</td>\n      <td>-61.31</td>\n      <td>-16.08</td>\n      <td>-6.0</td>\n      <td>70.0</td>\n      <td>4.000</td>\n      <td>2020</td>\n      <td>6</td>\n      <td>13</td>\n      <td>44.1</td>\n    </tr>\n    <tr>\n      <th>5147990</th>\n      <td>YNyurWy1ZIYEy1vXI7azOg</td>\n      <td>HsT8bz3-SKMk7YidwLLM6Q</td>\n      <td>pxwYIa1jZzHJ4R0Sp1cHFw</td>\n      <td>2019-04-17 04:27:39</td>\n      <td>5</td>\n      <td>11</td>\n      <td>CO</td>\n      <td>80303</td>\n      <td>-56.57</td>\n      <td>-13.50</td>\n      <td>-3.0</td>\n      <td>433.0</td>\n      <td>4.312</td>\n      <td>2019</td>\n      <td>4</td>\n      <td>17</td>\n      <td>55.7</td>\n    </tr>\n  </tbody>\n</table>\n<p>5147991 rows × 17 columns</p>\n</div>"
     },
     "execution_count": 37,
     "metadata": {},
     "output_type": "execute_result"
    }
   ],
   "source": [
    "REVIEWS.drop(columns=['count'], inplace=True)\n",
    "REVIEWS"
   ],
   "metadata": {
    "collapsed": false,
    "pycharm": {
     "name": "#%%\n"
    }
   }
  },
  {
   "cell_type": "code",
   "execution_count": 38,
   "outputs": [
    {
     "name": "stdout",
     "output_type": "stream",
     "text": [
      "File exported.\n"
     ]
    }
   ],
   "source": [
    "REVIEWS.to_csv('data/yelp_dataset.csv')\n",
    "print('File exported.')"
   ],
   "metadata": {
    "collapsed": false,
    "pycharm": {
     "name": "#%%\n"
    }
   }
  }
 ],
 "metadata": {
  "kernelspec": {
   "display_name": "Python 3",
   "language": "python",
   "name": "python3"
  },
  "language_info": {
   "codemirror_mode": {
    "name": "ipython",
    "version": 3
   },
   "file_extension": ".py",
   "mimetype": "text/x-python",
   "name": "python",
   "nbconvert_exporter": "python",
   "pygments_lexer": "ipython3",
   "version": "3.8.10"
  }
 },
 "nbformat": 4,
 "nbformat_minor": 0
}