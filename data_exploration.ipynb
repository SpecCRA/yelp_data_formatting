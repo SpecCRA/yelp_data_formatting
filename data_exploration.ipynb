{
 "cells": [
  {
   "cell_type": "code",
   "execution_count": 1,
   "metadata": {},
   "outputs": [],
   "source": [
    "import pandas as pd\n",
    "import numpy as np\n",
    "import dask.dataframe as dd\n",
    "from tqdm import tqdm\n",
    "import os"
   ]
  },
  {
   "cell_type": "code",
   "execution_count": 2,
   "metadata": {
    "collapsed": false,
    "jupyter": {
     "outputs_hidden": false
    },
    "pycharm": {
     "name": "#%%\n"
    }
   },
   "outputs": [],
   "source": [
    "def fix_zipcodes(zipcode):\n",
    "    if len(zipcode) < 5:\n",
    "        to_fill = 5 - len(zipcode)\n",
    "        return (to_fill * '0') + zipcode\n",
    "\n",
    "    else:\n",
    "        return zipcode\n",
    "\n",
    "def fix_county_name(county_name):\n",
    "    if 'county' in county_name:\n",
    "        return county_name[:county_name.find('county')].rstrip()\n",
    "    else:\n",
    "        return county_name\n",
    "\n",
    "def match_loc_to_ideology(zipcode):\n",
    "    zipcode_state = ZIPS_DF[ZIPS_DF['zip'] == zipcode]['state'].iloc[0]\n",
    "    county_name = fix_county_name(ZIPS_DF[ZIPS_DF['zip'] == zipcode]['county'].iloc[0])\n",
    "\n",
    "    state_slice = COUNTY_DF[COUNTY_DF['state_po'] == zipcode_state]\n",
    "    ideology_metric = state_slice.loc[state_slice['county_name']==county_name]['perc_diffs'].iloc[0]\n",
    "\n",
    "    return ideology_metric\n",
    "\n",
    "def process_cpvi(cpvi):\n",
    "    if cpvi.startswith('R'):\n",
    "        return int(cpvi.split('+')[1])\n",
    "    elif cpvi.startswith('D'):\n",
    "        cpvi_metric = int(cpvi.split('+')[1])\n",
    "        return np.negative(cpvi_metric)\n",
    "    else:\n",
    "        return 0"
   ]
  },
  {
   "cell_type": "code",
   "execution_count": 32,
   "metadata": {
    "collapsed": false,
    "jupyter": {
     "outputs_hidden": false
    },
    "pycharm": {
     "name": "#%%\n"
    }
   },
   "outputs": [],
   "source": [
    "BUSINESS_DATA_FILEPATH = 'data/yelp_academic_dataset_business.json'\n",
    "REVIEWS_DATA_FILEPATH = 'data/yelp_academic_dataset_review.json'\n",
    "USERS_DATA_FILEPATH = 'data/yelp_academic_dataset_user.json'\n",
    "COUNTY_DATA_FILEPATH = 'data/county_data.csv'\n",
    "STATES_DATA_FILEPATH = 'data/states_data.csv'\n",
    "ZIPCODES_DATA_FILEPATH = 'data/zip_code_database.csv'\n",
    "CPI_URL = 'https://en.wikipedia.org/wiki/Cook_Partisan_Voting_Index'\n",
    "POP_DENSITY_FILEPATH = 'data/apportionment.csv'\n",
    "INCOME_FILEPATH = 'data/zipcode2019/19zpallagi.csv'"
   ]
  },
  {
   "cell_type": "code",
   "execution_count": 56,
   "metadata": {
    "collapsed": false,
    "jupyter": {
     "outputs_hidden": false
    },
    "pycharm": {
     "name": "#%%\n"
    }
   },
   "outputs": [],
   "source": [
    "INCOME_COLS = ['STATE', 'zipcode', 'N1', 'N2', 'ELDERLY', 'A00100', 'N02650', 'N02650', 'A02650']\n",
    "\n",
    "INCOME_DTYPES = {\n",
    "    'STATE': np.str,\n",
    "    'zipcode': np.str,\n",
    "    'ELDERLY': np.int,\n",
    "    'N1': np.int,\n",
    "    'N2': np.int,\n",
    "    'A00100': np.float,\n",
    "    'N02550': np.float,\n",
    "    'N02650': np.float,\n",
    "    'A02650': np.float\n",
    "}\n",
    "\n",
    "ZIPCODE_COLS = ['zip', 'state', 'county']\n",
    "\n",
    "ZIPCODE_DTYPES = {\n",
    "    'zip': np.str\n",
    "}"
   ]
  },
  {
   "cell_type": "code",
   "execution_count": 59,
   "metadata": {
    "collapsed": false,
    "jupyter": {
     "outputs_hidden": false
    },
    "pycharm": {
     "name": "#%%\n"
    }
   },
   "outputs": [],
   "source": [
    "COUNTY_DF = pd.read_csv(COUNTY_DATA_FILEPATH, index_col=0)\n",
    "STATES_DF = pd.read_csv(STATES_DATA_FILEPATH, index_col=0)\n",
    "ZIPS_DF = pd.read_csv(ZIPCODES_DATA_FILEPATH, dtype=ZIPCODE_DTYPES, usecols = ZIPCODE_COLS)\n",
    "INCOME_DF = pd.read_csv(INCOME_FILEPATH, usecols=INCOME_COLS, dtype=INCOME_DTYPES)\n"
   ]
  },
  {
   "cell_type": "code",
   "execution_count": 61,
   "metadata": {
    "collapsed": false,
    "jupyter": {
     "outputs_hidden": false
    },
    "pycharm": {
     "name": "#%%\n"
    }
   },
   "outputs": [
    {
     "data": {
      "text/html": [
       "<div>\n",
       "<style scoped>\n",
       "    .dataframe tbody tr th:only-of-type {\n",
       "        vertical-align: middle;\n",
       "    }\n",
       "\n",
       "    .dataframe tbody tr th {\n",
       "        vertical-align: top;\n",
       "    }\n",
       "\n",
       "    .dataframe thead th {\n",
       "        text-align: right;\n",
       "    }\n",
       "</style>\n",
       "<table border=\"1\" class=\"dataframe\">\n",
       "  <thead>\n",
       "    <tr style=\"text-align: right;\">\n",
       "      <th></th>\n",
       "      <th>zip</th>\n",
       "      <th>state</th>\n",
       "      <th>county</th>\n",
       "    </tr>\n",
       "  </thead>\n",
       "  <tbody>\n",
       "    <tr>\n",
       "      <th>0</th>\n",
       "      <td>00501</td>\n",
       "      <td>NY</td>\n",
       "      <td>suffolk county</td>\n",
       "    </tr>\n",
       "    <tr>\n",
       "      <th>1</th>\n",
       "      <td>00544</td>\n",
       "      <td>NY</td>\n",
       "      <td>suffolk county</td>\n",
       "    </tr>\n",
       "    <tr>\n",
       "      <th>2</th>\n",
       "      <td>00601</td>\n",
       "      <td>PR</td>\n",
       "      <td>adjuntas municipio</td>\n",
       "    </tr>\n",
       "    <tr>\n",
       "      <th>3</th>\n",
       "      <td>00602</td>\n",
       "      <td>PR</td>\n",
       "      <td>aguada municipio</td>\n",
       "    </tr>\n",
       "    <tr>\n",
       "      <th>4</th>\n",
       "      <td>00603</td>\n",
       "      <td>PR</td>\n",
       "      <td>aguadilla municipio</td>\n",
       "    </tr>\n",
       "  </tbody>\n",
       "</table>\n",
       "</div>"
      ],
      "text/plain": [
       "     zip state               county\n",
       "0  00501    NY       suffolk county\n",
       "1  00544    NY       suffolk county\n",
       "2  00601    PR   adjuntas municipio\n",
       "3  00602    PR     aguada municipio\n",
       "4  00603    PR  aguadilla municipio"
      ]
     },
     "execution_count": 61,
     "metadata": {},
     "output_type": "execute_result"
    }
   ],
   "source": [
    "ZIPS_DF['county'] = ZIPS_DF['county'].str.lower()\n",
    "ZIPS_DF.loc[len(ZIPS_DF)] = ['02101', 'MA', 'suffolk county']\n",
    "ZIPS_DF.head()"
   ]
  },
  {
   "cell_type": "code",
   "execution_count": 35,
   "metadata": {
    "collapsed": false,
    "jupyter": {
     "outputs_hidden": false
    },
    "pycharm": {
     "name": "#%%\n"
    }
   },
   "outputs": [
    {
     "data": {
      "text/html": [
       "<div>\n",
       "<style scoped>\n",
       "    .dataframe tbody tr th:only-of-type {\n",
       "        vertical-align: middle;\n",
       "    }\n",
       "\n",
       "    .dataframe tbody tr th {\n",
       "        vertical-align: top;\n",
       "    }\n",
       "\n",
       "    .dataframe thead th {\n",
       "        text-align: right;\n",
       "    }\n",
       "</style>\n",
       "<table border=\"1\" class=\"dataframe\">\n",
       "  <thead>\n",
       "    <tr style=\"text-align: right;\">\n",
       "      <th></th>\n",
       "      <th>state</th>\n",
       "      <th>state_po</th>\n",
       "      <th>county_name</th>\n",
       "      <th>perc_diffs</th>\n",
       "    </tr>\n",
       "  </thead>\n",
       "  <tbody>\n",
       "    <tr>\n",
       "      <th>65681</th>\n",
       "      <td>TEXAS</td>\n",
       "      <td>TX</td>\n",
       "      <td>dickens</td>\n",
       "      <td>73.18</td>\n",
       "    </tr>\n",
       "    <tr>\n",
       "      <th>69511</th>\n",
       "      <td>SOUTH DAKOTA</td>\n",
       "      <td>SD</td>\n",
       "      <td>walworth</td>\n",
       "      <td>54.30</td>\n",
       "    </tr>\n",
       "    <tr>\n",
       "      <th>52352</th>\n",
       "      <td>ARKANSAS</td>\n",
       "      <td>AR</td>\n",
       "      <td>pulaski</td>\n",
       "      <td>20.42</td>\n",
       "    </tr>\n",
       "    <tr>\n",
       "      <th>57200</th>\n",
       "      <td>IOWA</td>\n",
       "      <td>IA</td>\n",
       "      <td>ida</td>\n",
       "      <td>10.73</td>\n",
       "    </tr>\n",
       "    <tr>\n",
       "      <th>55716</th>\n",
       "      <td>IDAHO</td>\n",
       "      <td>ID</td>\n",
       "      <td>madison</td>\n",
       "      <td>63.66</td>\n",
       "    </tr>\n",
       "    <tr>\n",
       "      <th>70020</th>\n",
       "      <td>UTAH</td>\n",
       "      <td>UT</td>\n",
       "      <td>iron</td>\n",
       "      <td>0.00</td>\n",
       "    </tr>\n",
       "    <tr>\n",
       "      <th>51813</th>\n",
       "      <td>ARKANSAS</td>\n",
       "      <td>AR</td>\n",
       "      <td>izard</td>\n",
       "      <td>-27.21</td>\n",
       "    </tr>\n",
       "    <tr>\n",
       "      <th>68429</th>\n",
       "      <td>OKLAHOMA</td>\n",
       "      <td>OK</td>\n",
       "      <td>atoka</td>\n",
       "      <td>-5.64</td>\n",
       "    </tr>\n",
       "  </tbody>\n",
       "</table>\n",
       "</div>"
      ],
      "text/plain": [
       "              state state_po county_name  perc_diffs\n",
       "65681         TEXAS       TX     dickens       73.18\n",
       "69511  SOUTH DAKOTA       SD    walworth       54.30\n",
       "52352      ARKANSAS       AR     pulaski       20.42\n",
       "57200          IOWA       IA         ida       10.73\n",
       "55716         IDAHO       ID     madison       63.66\n",
       "70020          UTAH       UT        iron        0.00\n",
       "51813      ARKANSAS       AR       izard      -27.21\n",
       "68429      OKLAHOMA       OK       atoka       -5.64"
      ]
     },
     "execution_count": 35,
     "metadata": {},
     "output_type": "execute_result"
    }
   ],
   "source": [
    "COUNTY_DF['county_name'] = COUNTY_DF['county_name'].str.lower()\n",
    "COUNTY_DF['county_name'] = COUNTY_DF['county_name'].apply(fix_county_name)\n",
    "COUNTY_DF.sample(8)\n"
   ]
  },
  {
   "cell_type": "code",
   "execution_count": 36,
   "metadata": {
    "collapsed": false,
    "jupyter": {
     "outputs_hidden": false
    },
    "pycharm": {
     "name": "#%%\n"
    }
   },
   "outputs": [
    {
     "data": {
      "text/html": [
       "<div>\n",
       "<style scoped>\n",
       "    .dataframe tbody tr th:only-of-type {\n",
       "        vertical-align: middle;\n",
       "    }\n",
       "\n",
       "    .dataframe tbody tr th {\n",
       "        vertical-align: top;\n",
       "    }\n",
       "\n",
       "    .dataframe thead th {\n",
       "        text-align: right;\n",
       "    }\n",
       "</style>\n",
       "<table border=\"1\" class=\"dataframe\">\n",
       "  <thead>\n",
       "    <tr style=\"text-align: right;\">\n",
       "      <th></th>\n",
       "      <th>state</th>\n",
       "      <th>perc_diffs</th>\n",
       "    </tr>\n",
       "  </thead>\n",
       "  <tbody>\n",
       "    <tr>\n",
       "      <th>1</th>\n",
       "      <td>ALABAMA</td>\n",
       "      <td>25.46</td>\n",
       "    </tr>\n",
       "    <tr>\n",
       "      <th>3</th>\n",
       "      <td>ALASKA</td>\n",
       "      <td>10.11</td>\n",
       "    </tr>\n",
       "    <tr>\n",
       "      <th>5</th>\n",
       "      <td>ARIZONA</td>\n",
       "      <td>-0.10</td>\n",
       "    </tr>\n",
       "    <tr>\n",
       "      <th>7</th>\n",
       "      <td>ARKANSAS</td>\n",
       "      <td>6.91</td>\n",
       "    </tr>\n",
       "    <tr>\n",
       "      <th>9</th>\n",
       "      <td>CALIFORNIA</td>\n",
       "      <td>-29.16</td>\n",
       "    </tr>\n",
       "  </tbody>\n",
       "</table>\n",
       "</div>"
      ],
      "text/plain": [
       "        state  perc_diffs\n",
       "1     ALABAMA       25.46\n",
       "3      ALASKA       10.11\n",
       "5     ARIZONA       -0.10\n",
       "7    ARKANSAS        6.91\n",
       "9  CALIFORNIA      -29.16"
      ]
     },
     "execution_count": 36,
     "metadata": {},
     "output_type": "execute_result"
    }
   ],
   "source": [
    "STATES_DF.head()"
   ]
  },
  {
   "cell_type": "code",
   "execution_count": 37,
   "metadata": {
    "collapsed": false,
    "jupyter": {
     "outputs_hidden": false
    },
    "pycharm": {
     "name": "#%%\n"
    }
   },
   "outputs": [
    {
     "name": "stdout",
     "output_type": "stream",
     "text": [
      "Number of states: 51\n"
     ]
    }
   ],
   "source": [
    "STATES_LIST = list(COUNTY_DF['state_po'].unique())\n",
    "print(f\"Number of states: {len(STATES_LIST)}\")"
   ]
  },
  {
   "cell_type": "code",
   "execution_count": 38,
   "metadata": {
    "collapsed": false,
    "jupyter": {
     "outputs_hidden": false
    },
    "pycharm": {
     "name": "#%%\n"
    }
   },
   "outputs": [],
   "source": [
    "CPVI = pd.read_html(CPI_URL)[1]\n",
    "CPVI.drop(CPVI.tail(1).index, inplace=True)\n",
    "CPVI['pvi'] = CPVI['PVI'].apply(process_cpvi)\n",
    "CPVI['state'] = CPVI['State'].str.upper()\n",
    "CPVI = CPVI[['state', 'pvi']]"
   ]
  },
  {
   "cell_type": "code",
   "execution_count": 39,
   "metadata": {
    "collapsed": false,
    "jupyter": {
     "outputs_hidden": false
    },
    "pycharm": {
     "name": "#%%\n"
    }
   },
   "outputs": [
    {
     "data": {
      "text/html": [
       "<div>\n",
       "<style scoped>\n",
       "    .dataframe tbody tr th:only-of-type {\n",
       "        vertical-align: middle;\n",
       "    }\n",
       "\n",
       "    .dataframe tbody tr th {\n",
       "        vertical-align: top;\n",
       "    }\n",
       "\n",
       "    .dataframe thead th {\n",
       "        text-align: right;\n",
       "    }\n",
       "</style>\n",
       "<table border=\"1\" class=\"dataframe\">\n",
       "  <thead>\n",
       "    <tr style=\"text-align: right;\">\n",
       "      <th></th>\n",
       "      <th>Name</th>\n",
       "      <th>Geography Type</th>\n",
       "      <th>Year</th>\n",
       "      <th>Resident Population</th>\n",
       "      <th>Percent Change in Resident Population</th>\n",
       "      <th>Resident Population Density</th>\n",
       "      <th>Resident Population Density Rank</th>\n",
       "      <th>Number of Representatives</th>\n",
       "      <th>Change in Number of Representatives</th>\n",
       "      <th>Average Apportionment Population Per Representative</th>\n",
       "    </tr>\n",
       "  </thead>\n",
       "  <tbody>\n",
       "    <tr>\n",
       "      <th>0</th>\n",
       "      <td>Alabama</td>\n",
       "      <td>State</td>\n",
       "      <td>1910</td>\n",
       "      <td>2,138,093</td>\n",
       "      <td>16.9</td>\n",
       "      <td>42.2</td>\n",
       "      <td>25.0</td>\n",
       "      <td>10.0</td>\n",
       "      <td>1.0</td>\n",
       "      <td>213,809</td>\n",
       "    </tr>\n",
       "    <tr>\n",
       "      <th>1</th>\n",
       "      <td>Alaska</td>\n",
       "      <td>State</td>\n",
       "      <td>1910</td>\n",
       "      <td>64,356</td>\n",
       "      <td>1.2</td>\n",
       "      <td>0.1</td>\n",
       "      <td>52.0</td>\n",
       "      <td>NaN</td>\n",
       "      <td>NaN</td>\n",
       "      <td>NaN</td>\n",
       "    </tr>\n",
       "    <tr>\n",
       "      <th>2</th>\n",
       "      <td>Arizona</td>\n",
       "      <td>State</td>\n",
       "      <td>1910</td>\n",
       "      <td>204,354</td>\n",
       "      <td>66.2</td>\n",
       "      <td>1.8</td>\n",
       "      <td>49.0</td>\n",
       "      <td>NaN</td>\n",
       "      <td>NaN</td>\n",
       "      <td>NaN</td>\n",
       "    </tr>\n",
       "    <tr>\n",
       "      <th>3</th>\n",
       "      <td>Arkansas</td>\n",
       "      <td>State</td>\n",
       "      <td>1910</td>\n",
       "      <td>1,574,449</td>\n",
       "      <td>20.0</td>\n",
       "      <td>30.3</td>\n",
       "      <td>30.0</td>\n",
       "      <td>7.0</td>\n",
       "      <td>0.0</td>\n",
       "      <td>224,921</td>\n",
       "    </tr>\n",
       "    <tr>\n",
       "      <th>4</th>\n",
       "      <td>California</td>\n",
       "      <td>State</td>\n",
       "      <td>1910</td>\n",
       "      <td>2,377,549</td>\n",
       "      <td>60.1</td>\n",
       "      <td>15.3</td>\n",
       "      <td>38.0</td>\n",
       "      <td>11.0</td>\n",
       "      <td>3.0</td>\n",
       "      <td>216,051</td>\n",
       "    </tr>\n",
       "  </tbody>\n",
       "</table>\n",
       "</div>"
      ],
      "text/plain": [
       "         Name Geography Type  Year Resident Population  \\\n",
       "0     Alabama          State  1910           2,138,093   \n",
       "1      Alaska          State  1910              64,356   \n",
       "2     Arizona          State  1910             204,354   \n",
       "3    Arkansas          State  1910           1,574,449   \n",
       "4  California          State  1910           2,377,549   \n",
       "\n",
       "   Percent Change in Resident Population Resident Population Density  \\\n",
       "0                                   16.9                        42.2   \n",
       "1                                    1.2                         0.1   \n",
       "2                                   66.2                         1.8   \n",
       "3                                   20.0                        30.3   \n",
       "4                                   60.1                        15.3   \n",
       "\n",
       "   Resident Population Density Rank  Number of Representatives  \\\n",
       "0                              25.0                       10.0   \n",
       "1                              52.0                        NaN   \n",
       "2                              49.0                        NaN   \n",
       "3                              30.0                        7.0   \n",
       "4                              38.0                       11.0   \n",
       "\n",
       "   Change in Number of Representatives  \\\n",
       "0                                  1.0   \n",
       "1                                  NaN   \n",
       "2                                  NaN   \n",
       "3                                  0.0   \n",
       "4                                  3.0   \n",
       "\n",
       "  Average Apportionment Population Per Representative  \n",
       "0                                            213,809   \n",
       "1                                                NaN   \n",
       "2                                                NaN   \n",
       "3                                            224,921   \n",
       "4                                            216,051   "
      ]
     },
     "execution_count": 39,
     "metadata": {},
     "output_type": "execute_result"
    }
   ],
   "source": [
    "POP_DENSITY = pd.read_csv(POP_DENSITY_FILEPATH)\n",
    "POP_DENSITY.head()"
   ]
  },
  {
   "cell_type": "code",
   "execution_count": 40,
   "metadata": {
    "collapsed": false,
    "jupyter": {
     "outputs_hidden": false
    },
    "pycharm": {
     "name": "#%%\n"
    }
   },
   "outputs": [
    {
     "data": {
      "text/plain": [
       "Name                                                    object\n",
       "Geography Type                                          object\n",
       "Year                                                     int64\n",
       "Resident Population                                     object\n",
       "Percent Change in Resident Population                  float64\n",
       "Resident Population Density                             object\n",
       "Resident Population Density Rank                       float64\n",
       "Number of Representatives                              float64\n",
       "Change in Number of Representatives                    float64\n",
       "Average Apportionment Population Per Representative     object\n",
       "dtype: object"
      ]
     },
     "execution_count": 40,
     "metadata": {},
     "output_type": "execute_result"
    }
   ],
   "source": [
    "POP_DENSITY.dtypes\n",
    "# POP_DENSITY"
   ]
  },
  {
   "cell_type": "code",
   "execution_count": 52,
   "metadata": {
    "collapsed": false,
    "jupyter": {
     "outputs_hidden": false
    },
    "pycharm": {
     "name": "#%%\n"
    }
   },
   "outputs": [],
   "source": [
    "INCOME_DF['income_per_return'] = INCOME_DF['A02650'] / INCOME_DF['N1']\n",
    "\n",
    "# rename cols"
   ]
  },
  {
   "cell_type": "code",
   "execution_count": 53,
   "metadata": {
    "collapsed": false,
    "jupyter": {
     "outputs_hidden": false
    },
    "pycharm": {
     "name": "#%%\n"
    }
   },
   "outputs": [
    {
     "data": {
      "text/html": [
       "<div>\n",
       "<style scoped>\n",
       "    .dataframe tbody tr th:only-of-type {\n",
       "        vertical-align: middle;\n",
       "    }\n",
       "\n",
       "    .dataframe tbody tr th {\n",
       "        vertical-align: top;\n",
       "    }\n",
       "\n",
       "    .dataframe thead th {\n",
       "        text-align: right;\n",
       "    }\n",
       "</style>\n",
       "<table border=\"1\" class=\"dataframe\">\n",
       "  <thead>\n",
       "    <tr style=\"text-align: right;\">\n",
       "      <th></th>\n",
       "      <th>STATE</th>\n",
       "      <th>zipcode</th>\n",
       "      <th>N1</th>\n",
       "      <th>N2</th>\n",
       "      <th>ELDERLY</th>\n",
       "      <th>A00100</th>\n",
       "      <th>N02650</th>\n",
       "      <th>A02650</th>\n",
       "      <th>income_per_return</th>\n",
       "    </tr>\n",
       "  </thead>\n",
       "  <tbody>\n",
       "    <tr>\n",
       "      <th>0</th>\n",
       "      <td>AL</td>\n",
       "      <td>00000</td>\n",
       "      <td>778210</td>\n",
       "      <td>1161150</td>\n",
       "      <td>144610.0</td>\n",
       "      <td>10158838.0</td>\n",
       "      <td>778140.0</td>\n",
       "      <td>10311099.0</td>\n",
       "      <td>13.249764</td>\n",
       "    </tr>\n",
       "    <tr>\n",
       "      <th>1</th>\n",
       "      <td>AL</td>\n",
       "      <td>00000</td>\n",
       "      <td>525940</td>\n",
       "      <td>992420</td>\n",
       "      <td>113810.0</td>\n",
       "      <td>18974967.0</td>\n",
       "      <td>525940.0</td>\n",
       "      <td>19145621.0</td>\n",
       "      <td>36.402671</td>\n",
       "    </tr>\n",
       "    <tr>\n",
       "      <th>2</th>\n",
       "      <td>AL</td>\n",
       "      <td>00000</td>\n",
       "      <td>285700</td>\n",
       "      <td>595680</td>\n",
       "      <td>82410.0</td>\n",
       "      <td>17535801.0</td>\n",
       "      <td>285700.0</td>\n",
       "      <td>17690402.0</td>\n",
       "      <td>61.919503</td>\n",
       "    </tr>\n",
       "    <tr>\n",
       "      <th>3</th>\n",
       "      <td>AL</td>\n",
       "      <td>00000</td>\n",
       "      <td>179070</td>\n",
       "      <td>432180</td>\n",
       "      <td>57970.0</td>\n",
       "      <td>15546951.0</td>\n",
       "      <td>179070.0</td>\n",
       "      <td>15670456.0</td>\n",
       "      <td>87.510225</td>\n",
       "    </tr>\n",
       "    <tr>\n",
       "      <th>4</th>\n",
       "      <td>AL</td>\n",
       "      <td>00000</td>\n",
       "      <td>257010</td>\n",
       "      <td>692450</td>\n",
       "      <td>85030.0</td>\n",
       "      <td>34974856.0</td>\n",
       "      <td>257010.0</td>\n",
       "      <td>35286228.0</td>\n",
       "      <td>137.295156</td>\n",
       "    </tr>\n",
       "  </tbody>\n",
       "</table>\n",
       "</div>"
      ],
      "text/plain": [
       "  STATE zipcode      N1       N2   ELDERLY      A00100    N02650      A02650  \\\n",
       "0    AL   00000  778210  1161150  144610.0  10158838.0  778140.0  10311099.0   \n",
       "1    AL   00000  525940   992420  113810.0  18974967.0  525940.0  19145621.0   \n",
       "2    AL   00000  285700   595680   82410.0  17535801.0  285700.0  17690402.0   \n",
       "3    AL   00000  179070   432180   57970.0  15546951.0  179070.0  15670456.0   \n",
       "4    AL   00000  257010   692450   85030.0  34974856.0  257010.0  35286228.0   \n",
       "\n",
       "   income_per_return  \n",
       "0          13.249764  \n",
       "1          36.402671  \n",
       "2          61.919503  \n",
       "3          87.510225  \n",
       "4         137.295156  "
      ]
     },
     "execution_count": 53,
     "metadata": {},
     "output_type": "execute_result"
    }
   ],
   "source": [
    "INCOME_DF.head()"
   ]
  },
  {
   "cell_type": "code",
   "execution_count": 52,
   "metadata": {
    "collapsed": false,
    "jupyter": {
     "outputs_hidden": false
    },
    "pycharm": {
     "name": "#%%\n"
    }
   },
   "outputs": [],
   "source": [
    "USER_COLS = ['user_id', 'review_count']\n",
    "BUSINESS_COLS = ['business_id', 'state', 'city', 'postal_code', 'categories', 'stars', 'review_count']\n",
    "REVIEW_COLS = ['review_id', 'user_id', 'business_id', 'date', 'stars', 'useful']\n",
    "ZIPCODES_COLS = ['zip', 'county']\n",
    "\n",
    "USER_DTYPES = {\n",
    "    'user_id': np.str,\n",
    "    'review_count': np.int\n",
    "}\n",
    "\n",
    "BUSINESS_DTYPES = {\n",
    "    'business_id': np.str,\n",
    "    'state': np.str,\n",
    "    'city': np.str,\n",
    "    'postal_code': np.str,\n",
    "    'categories': np.str,\n",
    "    'review_count': np.int,\n",
    "    'stars': np.float,\n",
    "}\n",
    "\n",
    "REVIEW_DTYPES = {\n",
    "    'review_id': np.str,\n",
    "    'user_id': np.str,\n",
    "    'business_id': np.str,\n",
    "    'stars': np.int,\n",
    "    'useful': np.int\n",
    "}\n",
    "\n",
    "ZIPS_DTYPES = {\n",
    "    'zip': np.str,\n",
    "    'county': np.str\n",
    "}"
   ]
  },
  {
   "cell_type": "code",
   "execution_count": 53,
   "metadata": {
    "collapsed": false,
    "jupyter": {
     "outputs_hidden": false
    },
    "pycharm": {
     "name": "#%%\n"
    }
   },
   "outputs": [
    {
     "name": "stdout",
     "output_type": "stream",
     "text": [
      "Loading businesses...\n"
     ]
    },
    {
     "name": "stderr",
     "output_type": "stream",
     "text": [
      "161it [00:04, 40.04it/s]\n"
     ]
    }
   ],
   "source": [
    "BUSINESSES = list()\n",
    "\n",
    "print('Loading businesses...')\n",
    "\n",
    "with open(BUSINESS_DATA_FILEPATH, 'r') as f:\n",
    "    reader = pd.read_json(f, orient='records', lines=True, chunksize=1000, dtype=BUSINESS_DTYPES)\n",
    "\n",
    "    for chunk in tqdm(reader):\n",
    "        reduced_chunk = chunk[BUSINESS_COLS]\n",
    "        reduced_chunk = reduced_chunk[reduced_chunk['state'].isin(STATES_LIST)]\n",
    "        reduced_chunk['postal_code'] = reduced_chunk['postal_code'].apply(fix_zipcodes)\n",
    "        reduced_chunk = reduced_chunk[reduced_chunk['categories'].notnull()]\n",
    "        reduced_chunk = reduced_chunk[reduced_chunk['categories'].str.contains('Restaurants')]\n",
    "        BUSINESSES.append(reduced_chunk)\n",
    "\n",
    "    BUSINESSES = pd.concat(BUSINESSES, ignore_index=True)"
   ]
  },
  {
   "cell_type": "code",
   "execution_count": 54,
   "metadata": {
    "collapsed": false,
    "jupyter": {
     "outputs_hidden": false
    },
    "pycharm": {
     "name": "#%%\n"
    }
   },
   "outputs": [],
   "source": [
    "BUSINESS_LIST = list(BUSINESSES['business_id'].unique())"
   ]
  },
  {
   "cell_type": "code",
   "execution_count": 55,
   "metadata": {
    "collapsed": false,
    "jupyter": {
     "outputs_hidden": false
    },
    "pycharm": {
     "name": "#%%\n"
    }
   },
   "outputs": [],
   "source": [
    "# import dask.dataframe as dd\n",
    "# print('reviews loading')\n",
    "# reviews_df = dd.read_json('data/yelp_academic_dataset_review.json', orient='records', lines=True)\n",
    "# reviews_df = reviews_df[REVIEW_COLS]\n",
    "# REVIEWS = reviews_df[reviews_df['business_id'].isin(BUSINESS_LIST)].compute()\n",
    "# reviews_df = None\n",
    "# print('reviews loaded')"
   ]
  },
  {
   "cell_type": "code",
   "execution_count": 56,
   "metadata": {
    "collapsed": false,
    "jupyter": {
     "outputs_hidden": false
    },
    "pycharm": {
     "name": "#%%\n"
    }
   },
   "outputs": [
    {
     "name": "stdout",
     "output_type": "stream",
     "text": [
      "9223372036854775807\n"
     ]
    }
   ],
   "source": [
    "import sys\n",
    "print(sys.maxsize)"
   ]
  },
  {
   "cell_type": "code",
   "execution_count": 57,
   "metadata": {
    "collapsed": false,
    "jupyter": {
     "outputs_hidden": false
    },
    "pycharm": {
     "name": "#%%\n"
    }
   },
   "outputs": [
    {
     "name": "stderr",
     "output_type": "stream",
     "text": [
      "8it [00:00, 79.17it/s]"
     ]
    },
    {
     "name": "stdout",
     "output_type": "stream",
     "text": [
      "Loading reviews...\n"
     ]
    },
    {
     "name": "stderr",
     "output_type": "stream",
     "text": [
      "3000it [00:40, 73.83it/s]\n"
     ]
    },
    {
     "name": "stdout",
     "output_type": "stream",
     "text": [
      "Reviews loaded\n"
     ]
    }
   ],
   "source": [
    "#Load 300,000 reviews from reviews\n",
    "REVIEWS = list()\n",
    "print('Loading reviews...')\n",
    "with open(REVIEWS_DATA_FILEPATH, 'r') as f:\n",
    "    #reader = pd.read_json(f, orient='records', lines=True, chunksize=100, nrows=8635403, dtype=REVIEW_DTYPES)\n",
    "    reader = pd.read_json(f, orient='records', lines=True, chunksize=100, nrows=100000, dtype=REVIEW_DTYPES)\n",
    "    #reader = dd.read_json('data/yelp_academic_dataset_review.json', orient='records', lines=True)\n",
    "    for chunk in tqdm(reader):\n",
    "        reduced_chunk = chunk[REVIEW_COLS]\n",
    "        reduced_chunk = reduced_chunk[reduced_chunk['business_id'].isin(BUSINESS_LIST)]\n",
    "        # Only keep US\n",
    "        REVIEWS.append(reduced_chunk)\n",
    "    REVIEWS = pd.concat(REVIEWS, ignore_index=True)\n",
    "#REVIEWS = REVIEWS.compute()\n",
    "print('Reviews loaded')"
   ]
  },
  {
   "cell_type": "code",
   "execution_count": 58,
   "metadata": {
    "collapsed": false,
    "jupyter": {
     "outputs_hidden": false
    },
    "pycharm": {
     "name": "#%%\n"
    }
   },
   "outputs": [
    {
     "name": "stdout",
     "output_type": "stream",
     "text": [
      "Number of businssess: 3901\n"
     ]
    }
   ],
   "source": [
    "BUSINESS_LIST = list(REVIEWS['business_id'].unique()) # rename to get effective list\n",
    "print(f\"Number of businssess: {len(BUSINESS_LIST)}\")\n",
    "USERS_LIST = list(REVIEWS['user_id'].unique())\n"
   ]
  },
  {
   "cell_type": "code",
   "execution_count": 59,
   "metadata": {
    "collapsed": false,
    "jupyter": {
     "outputs_hidden": false
    },
    "pycharm": {
     "name": "#%%\n"
    }
   },
   "outputs": [
    {
     "name": "stderr",
     "output_type": "stream",
     "text": [
      "  0%|          | 0/3901 [00:00<?, ?it/s]"
     ]
    },
    {
     "name": "stdout",
     "output_type": "stream",
     "text": [
      "Adding business state and zip codes...\n"
     ]
    },
    {
     "name": "stderr",
     "output_type": "stream",
     "text": [
      "100%|██████████| 3901/3901 [02:24<00:00, 27.03it/s]\n"
     ]
    }
   ],
   "source": [
    "# add business zip code in first\n",
    "# add business state\n",
    "print('Adding business state and zip codes...')\n",
    "for business_id in tqdm(BUSINESS_LIST):\n",
    "    business_zipcode = BUSINESSES[BUSINESSES['business_id'] == business_id]['postal_code'].iloc[0]\n",
    "    business_state = BUSINESSES[BUSINESSES['business_id'] == business_id]['state'].iloc[0]\n",
    "\n",
    "    REVIEWS.loc[REVIEWS['business_id'] == business_id, ['business_state', 'business_zipcode']] = business_state, business_zipcode\n",
    "\n",
    "REVIEWS = REVIEWS[REVIEWS['business_state'].isin(STATES_LIST)]"
   ]
  },
  {
   "cell_type": "code",
   "execution_count": 60,
   "metadata": {
    "collapsed": false,
    "jupyter": {
     "outputs_hidden": false
    },
    "pycharm": {
     "name": "#%%\n"
    }
   },
   "outputs": [
    {
     "data": {
      "text/plain": [
       "['MA', 'FL', 'CO', 'WA', 'GA', 'TX', 'OR', 'OH', 'KS']"
      ]
     },
     "execution_count": 60,
     "metadata": {},
     "output_type": "execute_result"
    }
   ],
   "source": [
    "STATES_LIST = list(REVIEWS['business_state'].unique())\n",
    "list(REVIEWS['business_state'].unique())"
   ]
  },
  {
   "cell_type": "code",
   "execution_count": 61,
   "metadata": {
    "collapsed": false,
    "jupyter": {
     "outputs_hidden": false
    },
    "pycharm": {
     "name": "#%%\n"
    }
   },
   "outputs": [
    {
     "data": {
      "text/html": [
       "<div>\n",
       "<style scoped>\n",
       "    .dataframe tbody tr th:only-of-type {\n",
       "        vertical-align: middle;\n",
       "    }\n",
       "\n",
       "    .dataframe tbody tr th {\n",
       "        vertical-align: top;\n",
       "    }\n",
       "\n",
       "    .dataframe thead th {\n",
       "        text-align: right;\n",
       "    }\n",
       "</style>\n",
       "<table border=\"1\" class=\"dataframe\">\n",
       "  <thead>\n",
       "    <tr style=\"text-align: right;\">\n",
       "      <th></th>\n",
       "      <th>review_id</th>\n",
       "      <th>user_id</th>\n",
       "      <th>business_id</th>\n",
       "      <th>date</th>\n",
       "      <th>stars</th>\n",
       "      <th>useful</th>\n",
       "      <th>business_state</th>\n",
       "      <th>business_zipcode</th>\n",
       "    </tr>\n",
       "  </thead>\n",
       "  <tbody>\n",
       "    <tr>\n",
       "      <th>14356</th>\n",
       "      <td>Ips8AB_O9jEINRFh6ayxkQ</td>\n",
       "      <td>QtBNUljlZOPd13kVN0Souw</td>\n",
       "      <td>F6b_O4-wtd3956YOvAoerg</td>\n",
       "      <td>2015-07-28 18:36:04</td>\n",
       "      <td>5</td>\n",
       "      <td>0</td>\n",
       "      <td>TX</td>\n",
       "      <td>78702</td>\n",
       "    </tr>\n",
       "    <tr>\n",
       "      <th>111841</th>\n",
       "      <td>BNYWgIhg4JMpy6BTKQDODQ</td>\n",
       "      <td>mf5wrQTAG3G4KGcqiMsdNQ</td>\n",
       "      <td>rXxC_ZH58EItO3m5PASzEA</td>\n",
       "      <td>2016-05-23 17:02:19</td>\n",
       "      <td>5</td>\n",
       "      <td>0</td>\n",
       "      <td>MA</td>\n",
       "      <td>02118</td>\n",
       "    </tr>\n",
       "    <tr>\n",
       "      <th>67906</th>\n",
       "      <td>i_1mvUU_H280tKuAEg0ujg</td>\n",
       "      <td>A4fCX866CHbL0ysZxDM4Lw</td>\n",
       "      <td>xRvbrDDE32cBN8ehgv-UGQ</td>\n",
       "      <td>2016-07-27 03:12:04</td>\n",
       "      <td>4</td>\n",
       "      <td>0</td>\n",
       "      <td>OR</td>\n",
       "      <td>97229</td>\n",
       "    </tr>\n",
       "    <tr>\n",
       "      <th>23260</th>\n",
       "      <td>6B59KkHANofkD9REVTVxsg</td>\n",
       "      <td>-4UbwSOzbZSt2geQoyHvkA</td>\n",
       "      <td>lW5tYUBXmLPD7w6gcVojNw</td>\n",
       "      <td>2017-05-14 16:21:07</td>\n",
       "      <td>1</td>\n",
       "      <td>0</td>\n",
       "      <td>MA</td>\n",
       "      <td>02474</td>\n",
       "    </tr>\n",
       "    <tr>\n",
       "      <th>91312</th>\n",
       "      <td>7Ylg1Fn8Ti0C01jZ7TQqug</td>\n",
       "      <td>G-CvKh82PJ7S9vAW_WBC-g</td>\n",
       "      <td>Ln-8CbKGZGmF-GCqMoMcpA</td>\n",
       "      <td>2015-03-22 20:02:14</td>\n",
       "      <td>5</td>\n",
       "      <td>1</td>\n",
       "      <td>GA</td>\n",
       "      <td>30318</td>\n",
       "    </tr>\n",
       "    <tr>\n",
       "      <th>14189</th>\n",
       "      <td>j-3X4wXl18erUDX17Z1inQ</td>\n",
       "      <td>blSjTheMk-QrX3ze6PmZJw</td>\n",
       "      <td>RabRnRZeCMu_uGTnAUUTaA</td>\n",
       "      <td>2016-12-19 16:39:37</td>\n",
       "      <td>4</td>\n",
       "      <td>1</td>\n",
       "      <td>TX</td>\n",
       "      <td>78757</td>\n",
       "    </tr>\n",
       "    <tr>\n",
       "      <th>56321</th>\n",
       "      <td>JrymWYPzxrm0w8xrrEG7iQ</td>\n",
       "      <td>8cvp_IjFGoGPq5RU51KRAg</td>\n",
       "      <td>6H313b3O6gTULpR7fV2FsQ</td>\n",
       "      <td>2011-08-27 04:08:10</td>\n",
       "      <td>3</td>\n",
       "      <td>2</td>\n",
       "      <td>MA</td>\n",
       "      <td>02110</td>\n",
       "    </tr>\n",
       "    <tr>\n",
       "      <th>130443</th>\n",
       "      <td>4_aX_KeNEipTiuBeQjzHIA</td>\n",
       "      <td>LtdgPLafXSCUclRWZzYp2Q</td>\n",
       "      <td>J1uidHIL7nE_noUuvFXj0A</td>\n",
       "      <td>2013-11-04 01:26:53</td>\n",
       "      <td>4</td>\n",
       "      <td>0</td>\n",
       "      <td>MA</td>\n",
       "      <td>02114</td>\n",
       "    </tr>\n",
       "    <tr>\n",
       "      <th>132766</th>\n",
       "      <td>RHBhHK466e-o9RbS1WZhag</td>\n",
       "      <td>37jfN0-f64TPcnPVRsJTKw</td>\n",
       "      <td>R8fLQ6TLz06MQR69KQJ83g</td>\n",
       "      <td>2012-03-11 15:56:04</td>\n",
       "      <td>3</td>\n",
       "      <td>0</td>\n",
       "      <td>WA</td>\n",
       "      <td>98661</td>\n",
       "    </tr>\n",
       "    <tr>\n",
       "      <th>3052</th>\n",
       "      <td>mT69vSVaqCrJlvI-00QSIw</td>\n",
       "      <td>IIhkjj0WZIdAMa0uyHMLgA</td>\n",
       "      <td>xdpH27x6qGSG21LLa6TaXQ</td>\n",
       "      <td>2011-03-20 13:23:58</td>\n",
       "      <td>5</td>\n",
       "      <td>0</td>\n",
       "      <td>MA</td>\n",
       "      <td>02043</td>\n",
       "    </tr>\n",
       "    <tr>\n",
       "      <th>136306</th>\n",
       "      <td>eiSkegVD8bIfpuddFT2BhQ</td>\n",
       "      <td>qnnMivHfPiKhq3WUpS9Yew</td>\n",
       "      <td>eZcy-jmMJyYurpAi4xRVvA</td>\n",
       "      <td>2011-08-09 21:08:43</td>\n",
       "      <td>4</td>\n",
       "      <td>2</td>\n",
       "      <td>MA</td>\n",
       "      <td>02143</td>\n",
       "    </tr>\n",
       "    <tr>\n",
       "      <th>115383</th>\n",
       "      <td>qWAWH-LGtkyAUJDVWrIZxQ</td>\n",
       "      <td>9hFbZofH6Mm-7xUvze7qhA</td>\n",
       "      <td>dRn1GDaXTe7IozmF01xytQ</td>\n",
       "      <td>2010-10-21 01:20:35</td>\n",
       "      <td>4</td>\n",
       "      <td>1</td>\n",
       "      <td>MA</td>\n",
       "      <td>01923</td>\n",
       "    </tr>\n",
       "    <tr>\n",
       "      <th>123905</th>\n",
       "      <td>IB5FXe__zPFECRQPThH2Fg</td>\n",
       "      <td>48LKzWJJ2EpA6TOatnQQVA</td>\n",
       "      <td>J8Ha6yIvGoU-E31jnCq7Ew</td>\n",
       "      <td>2011-03-29 03:02:37</td>\n",
       "      <td>5</td>\n",
       "      <td>0</td>\n",
       "      <td>TX</td>\n",
       "      <td>78757</td>\n",
       "    </tr>\n",
       "    <tr>\n",
       "      <th>74001</th>\n",
       "      <td>YGNf_txVWSUXAldsVs7a-g</td>\n",
       "      <td>gtZilwaKAJxzvLLkUXidgg</td>\n",
       "      <td>VopVmZt1_7gJ3jinhLh0tw</td>\n",
       "      <td>2012-09-15 17:04:49</td>\n",
       "      <td>5</td>\n",
       "      <td>2</td>\n",
       "      <td>TX</td>\n",
       "      <td>78701</td>\n",
       "    </tr>\n",
       "    <tr>\n",
       "      <th>148175</th>\n",
       "      <td>0Vtt38pCiKmXKKAROIcpQg</td>\n",
       "      <td>-0CGrwUYb15WtKtlLj0iPw</td>\n",
       "      <td>7NghWhrjo88o7S5SBx41Sg</td>\n",
       "      <td>2016-07-19 11:58:03</td>\n",
       "      <td>5</td>\n",
       "      <td>0</td>\n",
       "      <td>FL</td>\n",
       "      <td>34711</td>\n",
       "    </tr>\n",
       "  </tbody>\n",
       "</table>\n",
       "</div>"
      ],
      "text/plain": [
       "                     review_id                 user_id  \\\n",
       "14356   Ips8AB_O9jEINRFh6ayxkQ  QtBNUljlZOPd13kVN0Souw   \n",
       "111841  BNYWgIhg4JMpy6BTKQDODQ  mf5wrQTAG3G4KGcqiMsdNQ   \n",
       "67906   i_1mvUU_H280tKuAEg0ujg  A4fCX866CHbL0ysZxDM4Lw   \n",
       "23260   6B59KkHANofkD9REVTVxsg  -4UbwSOzbZSt2geQoyHvkA   \n",
       "91312   7Ylg1Fn8Ti0C01jZ7TQqug  G-CvKh82PJ7S9vAW_WBC-g   \n",
       "14189   j-3X4wXl18erUDX17Z1inQ  blSjTheMk-QrX3ze6PmZJw   \n",
       "56321   JrymWYPzxrm0w8xrrEG7iQ  8cvp_IjFGoGPq5RU51KRAg   \n",
       "130443  4_aX_KeNEipTiuBeQjzHIA  LtdgPLafXSCUclRWZzYp2Q   \n",
       "132766  RHBhHK466e-o9RbS1WZhag  37jfN0-f64TPcnPVRsJTKw   \n",
       "3052    mT69vSVaqCrJlvI-00QSIw  IIhkjj0WZIdAMa0uyHMLgA   \n",
       "136306  eiSkegVD8bIfpuddFT2BhQ  qnnMivHfPiKhq3WUpS9Yew   \n",
       "115383  qWAWH-LGtkyAUJDVWrIZxQ  9hFbZofH6Mm-7xUvze7qhA   \n",
       "123905  IB5FXe__zPFECRQPThH2Fg  48LKzWJJ2EpA6TOatnQQVA   \n",
       "74001   YGNf_txVWSUXAldsVs7a-g  gtZilwaKAJxzvLLkUXidgg   \n",
       "148175  0Vtt38pCiKmXKKAROIcpQg  -0CGrwUYb15WtKtlLj0iPw   \n",
       "\n",
       "                   business_id                date  stars  useful  \\\n",
       "14356   F6b_O4-wtd3956YOvAoerg 2015-07-28 18:36:04      5       0   \n",
       "111841  rXxC_ZH58EItO3m5PASzEA 2016-05-23 17:02:19      5       0   \n",
       "67906   xRvbrDDE32cBN8ehgv-UGQ 2016-07-27 03:12:04      4       0   \n",
       "23260   lW5tYUBXmLPD7w6gcVojNw 2017-05-14 16:21:07      1       0   \n",
       "91312   Ln-8CbKGZGmF-GCqMoMcpA 2015-03-22 20:02:14      5       1   \n",
       "14189   RabRnRZeCMu_uGTnAUUTaA 2016-12-19 16:39:37      4       1   \n",
       "56321   6H313b3O6gTULpR7fV2FsQ 2011-08-27 04:08:10      3       2   \n",
       "130443  J1uidHIL7nE_noUuvFXj0A 2013-11-04 01:26:53      4       0   \n",
       "132766  R8fLQ6TLz06MQR69KQJ83g 2012-03-11 15:56:04      3       0   \n",
       "3052    xdpH27x6qGSG21LLa6TaXQ 2011-03-20 13:23:58      5       0   \n",
       "136306  eZcy-jmMJyYurpAi4xRVvA 2011-08-09 21:08:43      4       2   \n",
       "115383  dRn1GDaXTe7IozmF01xytQ 2010-10-21 01:20:35      4       1   \n",
       "123905  J8Ha6yIvGoU-E31jnCq7Ew 2011-03-29 03:02:37      5       0   \n",
       "74001   VopVmZt1_7gJ3jinhLh0tw 2012-09-15 17:04:49      5       2   \n",
       "148175  7NghWhrjo88o7S5SBx41Sg 2016-07-19 11:58:03      5       0   \n",
       "\n",
       "       business_state business_zipcode  \n",
       "14356              TX            78702  \n",
       "111841             MA            02118  \n",
       "67906              OR            97229  \n",
       "23260              MA            02474  \n",
       "91312              GA            30318  \n",
       "14189              TX            78757  \n",
       "56321              MA            02110  \n",
       "130443             MA            02114  \n",
       "132766             WA            98661  \n",
       "3052               MA            02043  \n",
       "136306             MA            02143  \n",
       "115383             MA            01923  \n",
       "123905             TX            78757  \n",
       "74001              TX            78701  \n",
       "148175             FL            34711  "
      ]
     },
     "execution_count": 61,
     "metadata": {},
     "output_type": "execute_result"
    }
   ],
   "source": [
    "REVIEWS.sample(15)"
   ]
  },
  {
   "cell_type": "code",
   "execution_count": 62,
   "metadata": {
    "collapsed": false,
    "jupyter": {
     "outputs_hidden": false
    },
    "pycharm": {
     "name": "#%%\n"
    }
   },
   "outputs": [
    {
     "name": "stderr",
     "output_type": "stream",
     "text": [
      "  1%|▏         | 6/432 [00:00<00:08, 52.16it/s]"
     ]
    },
    {
     "name": "stdout",
     "output_type": "stream",
     "text": [
      "Adding business zipcode ideology\n"
     ]
    },
    {
     "name": "stderr",
     "output_type": "stream",
     "text": [
      " 90%|████████▉ | 387/432 [00:07<00:00, 54.28it/s]"
     ]
    },
    {
     "name": "stdout",
     "output_type": "stream",
     "text": [
      "00000\n"
     ]
    },
    {
     "name": "stderr",
     "output_type": "stream",
     "text": [
      "100%|██████████| 432/432 [00:08<00:00, 52.07it/s]\n"
     ]
    }
   ],
   "source": [
    "# assign business political ideologies by zip code\n",
    "BUSINESS_ZIPS = list(REVIEWS['business_zipcode'].unique())\n",
    "print('Adding business zipcode ideology')\n",
    "for business_zip in tqdm(BUSINESS_ZIPS):\n",
    "    try:\n",
    "        business_ideology = match_loc_to_ideology(business_zip)\n",
    "        REVIEWS.loc[REVIEWS['business_zipcode'] == business_zip, 'business_county_ideology'] = business_ideology\n",
    "    except:\n",
    "        print(business_zip)"
   ]
  },
  {
   "cell_type": "code",
   "execution_count": 63,
   "metadata": {
    "collapsed": false,
    "jupyter": {
     "outputs_hidden": false
    },
    "pycharm": {
     "name": "#%%\n"
    }
   },
   "outputs": [
    {
     "data": {
      "text/plain": [
       "137515"
      ]
     },
     "execution_count": 63,
     "metadata": {},
     "output_type": "execute_result"
    }
   ],
   "source": [
    "len(USERS_LIST)"
   ]
  },
  {
   "cell_type": "code",
   "execution_count": 64,
   "metadata": {
    "collapsed": false,
    "jupyter": {
     "outputs_hidden": false
    },
    "pycharm": {
     "name": "#%%\n"
    }
   },
   "outputs": [
    {
     "name": "stdout",
     "output_type": "stream",
     "text": [
      "{'ALABAMA': 'AL', 'ALASKA': 'AK', 'ARIZONA': 'AZ', 'ARKANSAS': 'AR', 'CALIFORNIA': 'CA', 'COLORADO': 'CO', 'CONNECTICUT': 'CT', 'DELAWARE': 'DE', 'DISTRICT OF COLUMBIA': 'DC', 'FLORIDA': 'FL', 'GEORGIA': 'GA', 'HAWAII': 'HI', 'IDAHO': 'ID', 'ILLINOIS': 'IL', 'INDIANA': 'IN', 'IOWA': 'IA', 'KANSAS': 'KS', 'KENTUCKY': 'KY', 'LOUISIANA': 'LA', 'MAINE': 'ME', 'MARYLAND': 'MD', 'MASSACHUSETTS': 'MA', 'MICHIGAN': 'MI', 'MINNESOTA': 'MN', 'MISSISSIPPI': 'MS', 'MISSOURI': 'MO', 'MONTANA': 'MT', 'NEBRASKA': 'NE', 'NEVADA': 'NV', 'NEW HAMPSHIRE': 'NH', 'NEW JERSEY': 'NJ', 'NEW MEXICO': 'NM', 'NEW YORK': 'NY', 'NORTH CAROLINA': 'NC', 'NORTH DAKOTA': 'ND', 'OHIO': 'OH', 'OKLAHOMA': 'OK', 'OREGON': 'OR', 'PENNSYLVANIA': 'PA', 'RHODE ISLAND': 'RI', 'SOUTH CAROLINA': 'SC', 'SOUTH DAKOTA': 'SD', 'TENNESSEE': 'TN', 'TEXAS': 'TX', 'UTAH': 'UT', 'VERMONT': 'VT', 'VIRGINIA': 'VA', 'WASHINGTON': 'WA', 'WEST VIRGINIA': 'WV', 'WISCONSIN': 'WI', 'WYOMING': 'WY'}\n"
     ]
    }
   ],
   "source": [
    "STATES_ABBR = dict()\n",
    "\n",
    "for state in list(STATES_DF['state']):\n",
    "    STATES_ABBR[state] = COUNTY_DF[COUNTY_DF['state'] == state]['state_po'].unique()[0]\n",
    "\n",
    "print(STATES_ABBR)"
   ]
  },
  {
   "cell_type": "code",
   "execution_count": 65,
   "metadata": {
    "collapsed": false,
    "jupyter": {
     "outputs_hidden": false
    },
    "pycharm": {
     "name": "#%%\n"
    }
   },
   "outputs": [
    {
     "name": "stdout",
     "output_type": "stream",
     "text": [
      "{'AL': 'ALABAMA', 'AK': 'ALASKA', 'AZ': 'ARIZONA', 'AR': 'ARKANSAS', 'CA': 'CALIFORNIA', 'CO': 'COLORADO', 'CT': 'CONNECTICUT', 'DE': 'DELAWARE', 'DC': 'DISTRICT OF COLUMBIA', 'FL': 'FLORIDA', 'GA': 'GEORGIA', 'HI': 'HAWAII', 'ID': 'IDAHO', 'IL': 'ILLINOIS', 'IN': 'INDIANA', 'IA': 'IOWA', 'KS': 'KANSAS', 'KY': 'KENTUCKY', 'LA': 'LOUISIANA', 'ME': 'MAINE', 'MD': 'MARYLAND', 'MA': 'MASSACHUSETTS', 'MI': 'MICHIGAN', 'MN': 'MINNESOTA', 'MS': 'MISSISSIPPI', 'MO': 'MISSOURI', 'MT': 'MONTANA', 'NE': 'NEBRASKA', 'NV': 'NEVADA', 'NH': 'NEW HAMPSHIRE', 'NJ': 'NEW JERSEY', 'NM': 'NEW MEXICO', 'NY': 'NEW YORK', 'NC': 'NORTH CAROLINA', 'ND': 'NORTH DAKOTA', 'OH': 'OHIO', 'OK': 'OKLAHOMA', 'OR': 'OREGON', 'PA': 'PENNSYLVANIA', 'RI': 'RHODE ISLAND', 'SC': 'SOUTH CAROLINA', 'SD': 'SOUTH DAKOTA', 'TN': 'TENNESSEE', 'TX': 'TEXAS', 'UT': 'UTAH', 'VT': 'VERMONT', 'VA': 'VIRGINIA', 'WA': 'WASHINGTON', 'WV': 'WEST VIRGINIA', 'WI': 'WISCONSIN', 'WY': 'WYOMING'}\n"
     ]
    }
   ],
   "source": [
    "STATES_ABBR_REVERSE = {v:k for k, v in STATES_ABBR.items()}\n",
    "print(STATES_ABBR_REVERSE)"
   ]
  },
  {
   "cell_type": "code",
   "execution_count": 66,
   "metadata": {
    "collapsed": false,
    "jupyter": {
     "outputs_hidden": false
    },
    "pycharm": {
     "name": "#%%\n"
    }
   },
   "outputs": [
    {
     "name": "stderr",
     "output_type": "stream",
     "text": [
      " 18%|█▊        | 9/51 [00:00<00:00, 83.88it/s]"
     ]
    },
    {
     "name": "stdout",
     "output_type": "stream",
     "text": [
      "Processing business state ideology and state pvi\n"
     ]
    },
    {
     "name": "stderr",
     "output_type": "stream",
     "text": [
      "100%|██████████| 51/51 [00:00<00:00, 85.83it/s]\n"
     ]
    }
   ],
   "source": [
    "print('Processing business state ideology and state pvi')\n",
    "for state in tqdm(list(STATES_ABBR.keys())):\n",
    "    try:\n",
    "        state_ideology = STATES_DF[STATES_DF['state'] == state]['perc_diffs'].iloc[0]\n",
    "\n",
    "        if state == 'DISTRICT OF COLUMBIA':\n",
    "            state_pvi = 0\n",
    "        else:\n",
    "            state_pvi = CPVI[CPVI['state'] == state]['pvi'].iloc[0]\n",
    "\n",
    "        REVIEWS.loc[REVIEWS['business_state'] == STATES_ABBR[state],\n",
    "                    ['business_state_ideology', 'business_state_pvi']] = state_ideology, state_pvi\n",
    "    except:\n",
    "        print(state)\n",
    "        print('bad output')"
   ]
  },
  {
   "cell_type": "code",
   "execution_count": 67,
   "metadata": {
    "collapsed": false,
    "jupyter": {
     "outputs_hidden": false
    },
    "pycharm": {
     "name": "#%%\n"
    }
   },
   "outputs": [
    {
     "name": "stderr",
     "output_type": "stream",
     "text": [
      "  0%|          | 0/3901 [00:00<?, ?it/s]"
     ]
    },
    {
     "name": "stdout",
     "output_type": "stream",
     "text": [
      "Adding total reviews and average stars per business\n"
     ]
    },
    {
     "name": "stderr",
     "output_type": "stream",
     "text": [
      "100%|██████████| 3901/3901 [01:24<00:00, 46.30it/s]\n"
     ]
    }
   ],
   "source": [
    "print('Adding total reviews and average stars per business')\n",
    "REVIEWS['count'] = 1\n",
    "BUSINESS_COUNTS = REVIEWS.groupby('business_id').sum().reset_index()[['business_id', 'count']]\n",
    "BUSINESS_STARS = REVIEWS[['business_id', 'stars']].groupby('business_id').sum().reset_index()\n",
    "BUSINESSES_LIST = list(BUSINESS_COUNTS['business_id'].unique())\n",
    "\n",
    "for business in tqdm(BUSINESSES_LIST):\n",
    "    tot_reviews = BUSINESS_COUNTS[BUSINESS_COUNTS['business_id'] == business]['count'].iloc[0]\n",
    "    avg_stars = round((BUSINESS_STARS[BUSINESS_STARS['business_id'] == business]['stars'].iloc[0] / tot_reviews), 3)\n",
    "    REVIEWS.loc[REVIEWS['business_id'] == business, ['business_review_total', 'avg_star_rating']] = tot_reviews, avg_stars\n"
   ]
  },
  {
   "cell_type": "code",
   "execution_count": null,
   "metadata": {
    "collapsed": false,
    "jupyter": {
     "outputs_hidden": false
    },
    "pycharm": {
     "name": "#%%\n"
    }
   },
   "outputs": [],
   "source": [
    "# add state pop density\n",
    "POP_DENSITY = POP_DENSITY[POP_DENSITY['Year'] >= 2000]\n",
    "POP_DENSITY_COLS = ['Name', 'Year', 'Resident Population', 'Geography Type', 'Resident Population Density']\n",
    "POP_DENSITY = POP_DEN1SITY[POP_DENSITY_COLS]\n",
    "POP_DENSITY = POP_DENSITY[POP_DENSITY['Geography Type'] == 'State']\n",
    "POP_DENSITY.drop(columns=['Geography Type'], inplace=True)\n",
    "POP_DENSITY_RENAMED_COLS = ['state', 'year', 'pop', 'pop_density']\n",
    "POP_DENSITY.columns = POP_DENSITY_RENAMED_COLS\n",
    "POP_DENSITY['state'] = POP_DENSITY['state'].str.upper()\n",
    "POP_DENSITY = POP_DENSITY[POP_DENSITY['state'].isin(list(STATES_ABBR.keys()))]\n"
   ]
  },
  {
   "cell_type": "code",
   "execution_count": 69,
   "metadata": {
    "collapsed": false,
    "jupyter": {
     "outputs_hidden": false
    },
    "pycharm": {
     "name": "#%%\n"
    }
   },
   "outputs": [
    {
     "data": {
      "text/html": [
       "<div>\n",
       "<style scoped>\n",
       "    .dataframe tbody tr th:only-of-type {\n",
       "        vertical-align: middle;\n",
       "    }\n",
       "\n",
       "    .dataframe tbody tr th {\n",
       "        vertical-align: top;\n",
       "    }\n",
       "\n",
       "    .dataframe thead th {\n",
       "        text-align: right;\n",
       "    }\n",
       "</style>\n",
       "<table border=\"1\" class=\"dataframe\">\n",
       "  <thead>\n",
       "    <tr style=\"text-align: right;\">\n",
       "      <th></th>\n",
       "      <th>state</th>\n",
       "      <th>year</th>\n",
       "      <th>pop</th>\n",
       "      <th>pop_density</th>\n",
       "    </tr>\n",
       "  </thead>\n",
       "  <tbody>\n",
       "    <tr>\n",
       "      <th>513</th>\n",
       "      <td>ALABAMA</td>\n",
       "      <td>2000</td>\n",
       "      <td>4,447,100</td>\n",
       "      <td>87.8</td>\n",
       "    </tr>\n",
       "    <tr>\n",
       "      <th>514</th>\n",
       "      <td>ALASKA</td>\n",
       "      <td>2000</td>\n",
       "      <td>626,932</td>\n",
       "      <td>1.1</td>\n",
       "    </tr>\n",
       "    <tr>\n",
       "      <th>515</th>\n",
       "      <td>ARIZONA</td>\n",
       "      <td>2000</td>\n",
       "      <td>5,130,632</td>\n",
       "      <td>45.2</td>\n",
       "    </tr>\n",
       "    <tr>\n",
       "      <th>516</th>\n",
       "      <td>ARKANSAS</td>\n",
       "      <td>2000</td>\n",
       "      <td>2,673,400</td>\n",
       "      <td>51.4</td>\n",
       "    </tr>\n",
       "    <tr>\n",
       "      <th>517</th>\n",
       "      <td>CALIFORNIA</td>\n",
       "      <td>2000</td>\n",
       "      <td>33,871,648</td>\n",
       "      <td>217.4</td>\n",
       "    </tr>\n",
       "  </tbody>\n",
       "</table>\n",
       "</div>"
      ],
      "text/plain": [
       "          state  year         pop pop_density\n",
       "513     ALABAMA  2000   4,447,100        87.8\n",
       "514      ALASKA  2000     626,932         1.1\n",
       "515     ARIZONA  2000   5,130,632        45.2\n",
       "516    ARKANSAS  2000   2,673,400        51.4\n",
       "517  CALIFORNIA  2000  33,871,648       217.4"
      ]
     },
     "execution_count": 69,
     "metadata": {},
     "output_type": "execute_result"
    }
   ],
   "source": [
    "POP_DENSITY.head()"
   ]
  },
  {
   "cell_type": "code",
   "execution_count": 70,
   "metadata": {
    "collapsed": false,
    "jupyter": {
     "outputs_hidden": false
    },
    "pycharm": {
     "name": "#%%\n"
    }
   },
   "outputs": [
    {
     "data": {
      "text/plain": [
       "array([2000, 2010, 2020])"
      ]
     },
     "execution_count": 70,
     "metadata": {},
     "output_type": "execute_result"
    }
   ],
   "source": [
    "POP_DENSITY['year'].unique()"
   ]
  },
  {
   "cell_type": "code",
   "execution_count": 71,
   "metadata": {
    "collapsed": false,
    "jupyter": {
     "outputs_hidden": false
    },
    "pycharm": {
     "name": "#%%\n"
    }
   },
   "outputs": [],
   "source": [
    "# split date into separate columns\n",
    "REVIEWS['date'] = pd.to_datetime(REVIEWS['date'])\n",
    "REVIEWS['year'] = REVIEWS['date'].dt.year\n",
    "REVIEWS['month'] = REVIEWS['date'].dt.month\n",
    "REVIEWS['day'] = REVIEWS['date'].dt.day"
   ]
  },
  {
   "cell_type": "code",
   "execution_count": 72,
   "metadata": {
    "collapsed": false,
    "jupyter": {
     "outputs_hidden": false
    },
    "pycharm": {
     "name": "#%%\n"
    }
   },
   "outputs": [
    {
     "data": {
      "text/plain": [
       "[2004,\n",
       " 2005,\n",
       " 2006,\n",
       " 2007,\n",
       " 2008,\n",
       " 2009,\n",
       " 2010,\n",
       " 2011,\n",
       " 2012,\n",
       " 2013,\n",
       " 2014,\n",
       " 2015,\n",
       " 2016,\n",
       " 2017,\n",
       " 2018]"
      ]
     },
     "execution_count": 72,
     "metadata": {},
     "output_type": "execute_result"
    }
   ],
   "source": [
    "sorted(list(REVIEWS['year'].unique()))"
   ]
  },
  {
   "cell_type": "code",
   "execution_count": 73,
   "metadata": {
    "collapsed": false,
    "jupyter": {
     "outputs_hidden": false
    },
    "pycharm": {
     "name": "#%%\n"
    }
   },
   "outputs": [
    {
     "name": "stdout",
     "output_type": "stream",
     "text": [
      "Adding population density...\n"
     ]
    }
   ],
   "source": [
    "# Add population density measures\n",
    "print(\"Adding population density...\")"
   ]
  },
  {
   "cell_type": "code",
   "execution_count": 74,
   "metadata": {
    "collapsed": false,
    "jupyter": {
     "outputs_hidden": false
    },
    "pycharm": {
     "name": "#%%\n"
    }
   },
   "outputs": [],
   "source": [
    "def add_pop_density_backwards(decade):\n",
    "    upper_year_limit = decade+10\n",
    "    lower_year_limit = decade\n",
    "\n",
    "    #pop_slice = POP_DENSITY[POP_DENSITY['year'] == decade]\n",
    "\n",
    "    for state in STATES_LIST:\n",
    "        state_pop_density = POP_DENSITY[\n",
    "            (POP_DENSITY['year'] == decade) &\n",
    "            (POP_DENSITY['state'] == STATES_ABBR_REVERSE[state])\n",
    "        ]['pop_density'].iloc[0]\n",
    "\n",
    "        REVIEWS.loc[\n",
    "            (REVIEWS['year'].between(lower_year_limit, upper_year_limit, inclusive='right')) &\n",
    "            (REVIEWS['business_state'] == state),\n",
    "            ['population_density_backwards']\n",
    "        ] = state_pop_density\n",
    "\n",
    "        REVIEWS.loc[\n",
    "            (REVIEWS['year'] > 2020), ['population_density_backwards']\n",
    "        ] = state_pop_density"
   ]
  },
  {
   "cell_type": "code",
   "execution_count": 75,
   "metadata": {
    "collapsed": false,
    "jupyter": {
     "outputs_hidden": false
    },
    "pycharm": {
     "name": "#%%\n"
    }
   },
   "outputs": [],
   "source": [
    "def add_pop_density_forwards(decade):\n",
    "    upper_year_limit = decade\n",
    "    lower_year_limit = decade-10\n",
    "\n",
    "    #pop_slice = POP_DENSITY[POP_DENSITY['year'] == decade]\n",
    "\n",
    "    for state in STATES_LIST:\n",
    "        state_pop_density = POP_DENSITY[\n",
    "            (POP_DENSITY['year'] == decade) &\n",
    "            (POP_DENSITY['state'] == STATES_ABBR_REVERSE[state])\n",
    "        ]['pop_density'].iloc[0]\n",
    "\n",
    "        REVIEWS.loc[\n",
    "            (REVIEWS['year'].between(lower_year_limit, upper_year_limit, inclusive='right')) &\n",
    "            (REVIEWS['business_state'] == state),\n",
    "            ['population_density_forwards']\n",
    "        ] = state_pop_density"
   ]
  },
  {
   "cell_type": "code",
   "execution_count": 83,
   "metadata": {
    "collapsed": false,
    "jupyter": {
     "outputs_hidden": false
    },
    "pycharm": {
     "name": "#%%\n"
    }
   },
   "outputs": [],
   "source": [
    "add_pop_density_backwards(2000)\n",
    "add_pop_density_backwards(2010)\n",
    "add_pop_density_backwards(2020)"
   ]
  },
  {
   "cell_type": "code",
   "execution_count": 84,
   "metadata": {
    "collapsed": false,
    "jupyter": {
     "outputs_hidden": false
    },
    "pycharm": {
     "name": "#%%\n"
    }
   },
   "outputs": [],
   "source": [
    "add_pop_density_forwards(2000)\n",
    "add_pop_density_forwards(2010)\n",
    "add_pop_density_forwards(2020)"
   ]
  },
  {
   "cell_type": "code",
   "execution_count": null,
   "metadata": {
    "collapsed": false,
    "jupyter": {
     "outputs_hidden": false
    },
    "pycharm": {
     "name": "#%%\n"
    }
   },
   "outputs": [],
   "source": [
    "# add income and elderly to reviews"
   ]
  },
  {
   "cell_type": "code",
   "execution_count": null,
   "metadata": {
    "collapsed": false,
    "jupyter": {
     "outputs_hidden": false
    },
    "pycharm": {
     "name": "#%%\n"
    }
   },
   "outputs": [],
   "source": [
    "# remove user_id, business_id\n",
    "# reset index"
   ]
  },
  {
   "cell_type": "code",
   "execution_count": 86,
   "metadata": {
    "collapsed": false,
    "jupyter": {
     "outputs_hidden": false
    },
    "pycharm": {
     "name": "#%%\n"
    }
   },
   "outputs": [
    {
     "data": {
      "text/html": [
       "<div>\n",
       "<style scoped>\n",
       "    .dataframe tbody tr th:only-of-type {\n",
       "        vertical-align: middle;\n",
       "    }\n",
       "\n",
       "    .dataframe tbody tr th {\n",
       "        vertical-align: top;\n",
       "    }\n",
       "\n",
       "    .dataframe thead th {\n",
       "        text-align: right;\n",
       "    }\n",
       "</style>\n",
       "<table border=\"1\" class=\"dataframe\">\n",
       "  <thead>\n",
       "    <tr style=\"text-align: right;\">\n",
       "      <th></th>\n",
       "      <th>review_id</th>\n",
       "      <th>user_id</th>\n",
       "      <th>business_id</th>\n",
       "      <th>date</th>\n",
       "      <th>stars</th>\n",
       "      <th>useful</th>\n",
       "      <th>business_state</th>\n",
       "      <th>business_zipcode</th>\n",
       "      <th>business_county_ideology</th>\n",
       "      <th>business_state_ideology</th>\n",
       "      <th>business_state_pvi</th>\n",
       "      <th>business_review_total</th>\n",
       "      <th>avg_star_rating</th>\n",
       "      <th>year</th>\n",
       "      <th>month</th>\n",
       "      <th>day</th>\n",
       "      <th>population_density_backwards</th>\n",
       "      <th>population_density_forwards</th>\n",
       "    </tr>\n",
       "  </thead>\n",
       "  <tbody>\n",
       "    <tr>\n",
       "      <th>0</th>\n",
       "      <td>lWC-xP3rd6obsecCYsGZRg</td>\n",
       "      <td>ak0TdVmGKo4pwqdJSTLwWw</td>\n",
       "      <td>buF9druCkbuXLX526sGELQ</td>\n",
       "      <td>2014-10-11 03:34:02</td>\n",
       "      <td>4</td>\n",
       "      <td>3</td>\n",
       "      <td>MA</td>\n",
       "      <td>01915</td>\n",
       "      <td>-28.82</td>\n",
       "      <td>-33.21</td>\n",
       "      <td>-14.0</td>\n",
       "      <td>44.0</td>\n",
       "      <td>3.614</td>\n",
       "      <td>2014</td>\n",
       "      <td>10</td>\n",
       "      <td>11</td>\n",
       "      <td>839.4</td>\n",
       "      <td>901.2</td>\n",
       "    </tr>\n",
       "    <tr>\n",
       "      <th>1</th>\n",
       "      <td>T5fAqjjFooT4V0OeZyuk1w</td>\n",
       "      <td>SFQ1jcnGguO0LYWnbbftAA</td>\n",
       "      <td>0AzLzHfOJgL7ROwhdww2ew</td>\n",
       "      <td>2010-01-08 02:29:15</td>\n",
       "      <td>2</td>\n",
       "      <td>1</td>\n",
       "      <td>FL</td>\n",
       "      <td>32821</td>\n",
       "      <td>-23.12</td>\n",
       "      <td>3.36</td>\n",
       "      <td>3.0</td>\n",
       "      <td>121.0</td>\n",
       "      <td>3.446</td>\n",
       "      <td>2010</td>\n",
       "      <td>1</td>\n",
       "      <td>8</td>\n",
       "      <td>350.6</td>\n",
       "      <td>401.4</td>\n",
       "    </tr>\n",
       "    <tr>\n",
       "      <th>2</th>\n",
       "      <td>sjm_uUcQVxab_EeLCqsYLg</td>\n",
       "      <td>0kA0PAJ8QFMeveQWHFqz2A</td>\n",
       "      <td>8zehGz9jnxPqXtOc7KaJxA</td>\n",
       "      <td>2011-07-28 18:05:01</td>\n",
       "      <td>4</td>\n",
       "      <td>0</td>\n",
       "      <td>CO</td>\n",
       "      <td>80302</td>\n",
       "      <td>-56.57</td>\n",
       "      <td>-13.50</td>\n",
       "      <td>-3.0</td>\n",
       "      <td>472.0</td>\n",
       "      <td>4.282</td>\n",
       "      <td>2011</td>\n",
       "      <td>7</td>\n",
       "      <td>28</td>\n",
       "      <td>48.5</td>\n",
       "      <td>55.7</td>\n",
       "    </tr>\n",
       "    <tr>\n",
       "      <th>3</th>\n",
       "      <td>J4a2TuhDasjn2k3wWtHZnQ</td>\n",
       "      <td>RNm_RWkcd02Li2mKPRe7Eg</td>\n",
       "      <td>xGXzsc-hzam-VArK6eTvtw</td>\n",
       "      <td>2018-01-21 04:41:03</td>\n",
       "      <td>1</td>\n",
       "      <td>2</td>\n",
       "      <td>MA</td>\n",
       "      <td>02144</td>\n",
       "      <td>-44.89</td>\n",
       "      <td>-33.21</td>\n",
       "      <td>-14.0</td>\n",
       "      <td>248.0</td>\n",
       "      <td>3.472</td>\n",
       "      <td>2018</td>\n",
       "      <td>1</td>\n",
       "      <td>21</td>\n",
       "      <td>839.4</td>\n",
       "      <td>901.2</td>\n",
       "    </tr>\n",
       "    <tr>\n",
       "      <th>4</th>\n",
       "      <td>28gGfkLs3igtjVy61lh77Q</td>\n",
       "      <td>Q8c91v7luItVB0cMFF_mRA</td>\n",
       "      <td>EXOsmAB1s71WePlQk0WZrA</td>\n",
       "      <td>2006-04-16 02:58:44</td>\n",
       "      <td>2</td>\n",
       "      <td>0</td>\n",
       "      <td>MA</td>\n",
       "      <td>02215</td>\n",
       "      <td>-62.84</td>\n",
       "      <td>-33.21</td>\n",
       "      <td>-14.0</td>\n",
       "      <td>11.0</td>\n",
       "      <td>3.000</td>\n",
       "      <td>2006</td>\n",
       "      <td>4</td>\n",
       "      <td>16</td>\n",
       "      <td>814</td>\n",
       "      <td>839.4</td>\n",
       "    </tr>\n",
       "    <tr>\n",
       "      <th>...</th>\n",
       "      <td>...</td>\n",
       "      <td>...</td>\n",
       "      <td>...</td>\n",
       "      <td>...</td>\n",
       "      <td>...</td>\n",
       "      <td>...</td>\n",
       "      <td>...</td>\n",
       "      <td>...</td>\n",
       "      <td>...</td>\n",
       "      <td>...</td>\n",
       "      <td>...</td>\n",
       "      <td>...</td>\n",
       "      <td>...</td>\n",
       "      <td>...</td>\n",
       "      <td>...</td>\n",
       "      <td>...</td>\n",
       "      <td>...</td>\n",
       "      <td>...</td>\n",
       "    </tr>\n",
       "    <tr>\n",
       "      <th>190288</th>\n",
       "      <td>_X0ZvwmsQ_CRpGeCFFc_-Q</td>\n",
       "      <td>FwGqxJ_Z5BTKamqxWfD8LQ</td>\n",
       "      <td>eZE0FdYB9rUvbuPS4fNyYA</td>\n",
       "      <td>2015-01-24 23:12:37</td>\n",
       "      <td>2</td>\n",
       "      <td>5</td>\n",
       "      <td>TX</td>\n",
       "      <td>78701</td>\n",
       "      <td>-45.11</td>\n",
       "      <td>5.58</td>\n",
       "      <td>5.0</td>\n",
       "      <td>252.0</td>\n",
       "      <td>4.266</td>\n",
       "      <td>2015</td>\n",
       "      <td>1</td>\n",
       "      <td>24</td>\n",
       "      <td>96.3</td>\n",
       "      <td>111.6</td>\n",
       "    </tr>\n",
       "    <tr>\n",
       "      <th>190289</th>\n",
       "      <td>F6fenNd1vkH3ckuXFPRB6g</td>\n",
       "      <td>u0bwW1sf97hhNzTvkagEsA</td>\n",
       "      <td>enSXnvEKjDCit9A2_vyugg</td>\n",
       "      <td>2011-10-09 20:24:16</td>\n",
       "      <td>4</td>\n",
       "      <td>0</td>\n",
       "      <td>FL</td>\n",
       "      <td>32771</td>\n",
       "      <td>-2.79</td>\n",
       "      <td>3.36</td>\n",
       "      <td>3.0</td>\n",
       "      <td>29.0</td>\n",
       "      <td>2.966</td>\n",
       "      <td>2011</td>\n",
       "      <td>10</td>\n",
       "      <td>9</td>\n",
       "      <td>350.6</td>\n",
       "      <td>401.4</td>\n",
       "    </tr>\n",
       "    <tr>\n",
       "      <th>190290</th>\n",
       "      <td>O0SG6BTN0FHSZ7PJ1wgmzg</td>\n",
       "      <td>mVxg_vBXcUAAQJ03uHxiIQ</td>\n",
       "      <td>La_xmePMtWwjxKUqbGvqGQ</td>\n",
       "      <td>2010-05-30 11:06:52</td>\n",
       "      <td>2</td>\n",
       "      <td>0</td>\n",
       "      <td>TX</td>\n",
       "      <td>78703</td>\n",
       "      <td>-45.11</td>\n",
       "      <td>5.58</td>\n",
       "      <td>5.0</td>\n",
       "      <td>108.0</td>\n",
       "      <td>3.944</td>\n",
       "      <td>2010</td>\n",
       "      <td>5</td>\n",
       "      <td>30</td>\n",
       "      <td>96.3</td>\n",
       "      <td>111.6</td>\n",
       "    </tr>\n",
       "    <tr>\n",
       "      <th>190291</th>\n",
       "      <td>vTovPnBesDco238QpKtAvA</td>\n",
       "      <td>uVpNSrc3IEpR42VGdZ709w</td>\n",
       "      <td>4jOreXu9ctLBWOJWMtNv1w</td>\n",
       "      <td>2017-01-07 05:55:39</td>\n",
       "      <td>4</td>\n",
       "      <td>0</td>\n",
       "      <td>WA</td>\n",
       "      <td>98665</td>\n",
       "      <td>-5.09</td>\n",
       "      <td>-19.20</td>\n",
       "      <td>-8.0</td>\n",
       "      <td>18.0</td>\n",
       "      <td>3.111</td>\n",
       "      <td>2017</td>\n",
       "      <td>1</td>\n",
       "      <td>7</td>\n",
       "      <td>101.2</td>\n",
       "      <td>115.9</td>\n",
       "    </tr>\n",
       "    <tr>\n",
       "      <th>190292</th>\n",
       "      <td>Vm6QFEvxNwF_6f9EwT9ZXQ</td>\n",
       "      <td>8dz_7y-q0MtFZ8m0HYDUAA</td>\n",
       "      <td>3cLBtLFiH8IRdlEy9S8RiQ</td>\n",
       "      <td>2016-04-29 21:23:59</td>\n",
       "      <td>4</td>\n",
       "      <td>0</td>\n",
       "      <td>FL</td>\n",
       "      <td>32836</td>\n",
       "      <td>-23.12</td>\n",
       "      <td>3.36</td>\n",
       "      <td>3.0</td>\n",
       "      <td>564.0</td>\n",
       "      <td>4.254</td>\n",
       "      <td>2016</td>\n",
       "      <td>4</td>\n",
       "      <td>29</td>\n",
       "      <td>350.6</td>\n",
       "      <td>401.4</td>\n",
       "    </tr>\n",
       "  </tbody>\n",
       "</table>\n",
       "<p>190293 rows × 18 columns</p>\n",
       "</div>"
      ],
      "text/plain": [
       "                     review_id                 user_id  \\\n",
       "0       lWC-xP3rd6obsecCYsGZRg  ak0TdVmGKo4pwqdJSTLwWw   \n",
       "1       T5fAqjjFooT4V0OeZyuk1w  SFQ1jcnGguO0LYWnbbftAA   \n",
       "2       sjm_uUcQVxab_EeLCqsYLg  0kA0PAJ8QFMeveQWHFqz2A   \n",
       "3       J4a2TuhDasjn2k3wWtHZnQ  RNm_RWkcd02Li2mKPRe7Eg   \n",
       "4       28gGfkLs3igtjVy61lh77Q  Q8c91v7luItVB0cMFF_mRA   \n",
       "...                        ...                     ...   \n",
       "190288  _X0ZvwmsQ_CRpGeCFFc_-Q  FwGqxJ_Z5BTKamqxWfD8LQ   \n",
       "190289  F6fenNd1vkH3ckuXFPRB6g  u0bwW1sf97hhNzTvkagEsA   \n",
       "190290  O0SG6BTN0FHSZ7PJ1wgmzg  mVxg_vBXcUAAQJ03uHxiIQ   \n",
       "190291  vTovPnBesDco238QpKtAvA  uVpNSrc3IEpR42VGdZ709w   \n",
       "190292  Vm6QFEvxNwF_6f9EwT9ZXQ  8dz_7y-q0MtFZ8m0HYDUAA   \n",
       "\n",
       "                   business_id                date  stars  useful  \\\n",
       "0       buF9druCkbuXLX526sGELQ 2014-10-11 03:34:02      4       3   \n",
       "1       0AzLzHfOJgL7ROwhdww2ew 2010-01-08 02:29:15      2       1   \n",
       "2       8zehGz9jnxPqXtOc7KaJxA 2011-07-28 18:05:01      4       0   \n",
       "3       xGXzsc-hzam-VArK6eTvtw 2018-01-21 04:41:03      1       2   \n",
       "4       EXOsmAB1s71WePlQk0WZrA 2006-04-16 02:58:44      2       0   \n",
       "...                        ...                 ...    ...     ...   \n",
       "190288  eZE0FdYB9rUvbuPS4fNyYA 2015-01-24 23:12:37      2       5   \n",
       "190289  enSXnvEKjDCit9A2_vyugg 2011-10-09 20:24:16      4       0   \n",
       "190290  La_xmePMtWwjxKUqbGvqGQ 2010-05-30 11:06:52      2       0   \n",
       "190291  4jOreXu9ctLBWOJWMtNv1w 2017-01-07 05:55:39      4       0   \n",
       "190292  3cLBtLFiH8IRdlEy9S8RiQ 2016-04-29 21:23:59      4       0   \n",
       "\n",
       "       business_state business_zipcode  business_county_ideology  \\\n",
       "0                  MA            01915                    -28.82   \n",
       "1                  FL            32821                    -23.12   \n",
       "2                  CO            80302                    -56.57   \n",
       "3                  MA            02144                    -44.89   \n",
       "4                  MA            02215                    -62.84   \n",
       "...               ...              ...                       ...   \n",
       "190288             TX            78701                    -45.11   \n",
       "190289             FL            32771                     -2.79   \n",
       "190290             TX            78703                    -45.11   \n",
       "190291             WA            98665                     -5.09   \n",
       "190292             FL            32836                    -23.12   \n",
       "\n",
       "        business_state_ideology  business_state_pvi  business_review_total  \\\n",
       "0                        -33.21               -14.0                   44.0   \n",
       "1                          3.36                 3.0                  121.0   \n",
       "2                        -13.50                -3.0                  472.0   \n",
       "3                        -33.21               -14.0                  248.0   \n",
       "4                        -33.21               -14.0                   11.0   \n",
       "...                         ...                 ...                    ...   \n",
       "190288                     5.58                 5.0                  252.0   \n",
       "190289                     3.36                 3.0                   29.0   \n",
       "190290                     5.58                 5.0                  108.0   \n",
       "190291                   -19.20                -8.0                   18.0   \n",
       "190292                     3.36                 3.0                  564.0   \n",
       "\n",
       "        avg_star_rating  year  month  day population_density_backwards  \\\n",
       "0                 3.614  2014     10   11                        839.4   \n",
       "1                 3.446  2010      1    8                        350.6   \n",
       "2                 4.282  2011      7   28                         48.5   \n",
       "3                 3.472  2018      1   21                        839.4   \n",
       "4                 3.000  2006      4   16                          814   \n",
       "...                 ...   ...    ...  ...                          ...   \n",
       "190288            4.266  2015      1   24                         96.3   \n",
       "190289            2.966  2011     10    9                        350.6   \n",
       "190290            3.944  2010      5   30                         96.3   \n",
       "190291            3.111  2017      1    7                        101.2   \n",
       "190292            4.254  2016      4   29                        350.6   \n",
       "\n",
       "       population_density_forwards  \n",
       "0                            901.2  \n",
       "1                            401.4  \n",
       "2                             55.7  \n",
       "3                            901.2  \n",
       "4                            839.4  \n",
       "...                            ...  \n",
       "190288                       111.6  \n",
       "190289                       401.4  \n",
       "190290                       111.6  \n",
       "190291                       115.9  \n",
       "190292                       401.4  \n",
       "\n",
       "[190293 rows x 18 columns]"
      ]
     },
     "execution_count": 86,
     "metadata": {},
     "output_type": "execute_result"
    }
   ],
   "source": [
    "REVIEWS"
   ]
  },
  {
   "cell_type": "code",
   "execution_count": 85,
   "metadata": {
    "collapsed": false,
    "jupyter": {
     "outputs_hidden": false
    },
    "pycharm": {
     "name": "#%%\n"
    }
   },
   "outputs": [
    {
     "data": {
      "text/html": [
       "<div>\n",
       "<style scoped>\n",
       "    .dataframe tbody tr th:only-of-type {\n",
       "        vertical-align: middle;\n",
       "    }\n",
       "\n",
       "    .dataframe tbody tr th {\n",
       "        vertical-align: top;\n",
       "    }\n",
       "\n",
       "    .dataframe thead th {\n",
       "        text-align: right;\n",
       "    }\n",
       "</style>\n",
       "<table border=\"1\" class=\"dataframe\">\n",
       "  <thead>\n",
       "    <tr style=\"text-align: right;\">\n",
       "      <th></th>\n",
       "      <th>review_id</th>\n",
       "      <th>user_id</th>\n",
       "      <th>business_id</th>\n",
       "      <th>date</th>\n",
       "      <th>stars</th>\n",
       "      <th>useful</th>\n",
       "      <th>business_state</th>\n",
       "      <th>business_zipcode</th>\n",
       "      <th>business_county_ideology</th>\n",
       "      <th>business_state_ideology</th>\n",
       "      <th>business_state_pvi</th>\n",
       "      <th>business_review_total</th>\n",
       "      <th>avg_star_rating</th>\n",
       "      <th>year</th>\n",
       "      <th>month</th>\n",
       "      <th>day</th>\n",
       "      <th>population_density_backwards</th>\n",
       "      <th>population_density_forwards</th>\n",
       "    </tr>\n",
       "  </thead>\n",
       "  <tbody>\n",
       "  </tbody>\n",
       "</table>\n",
       "</div>"
      ],
      "text/plain": [
       "Empty DataFrame\n",
       "Columns: [review_id, user_id, business_id, date, stars, useful, business_state, business_zipcode, business_county_ideology, business_state_ideology, business_state_pvi, business_review_total, avg_star_rating, year, month, day, population_density_backwards, population_density_forwards]\n",
       "Index: []"
      ]
     },
     "execution_count": 85,
     "metadata": {},
     "output_type": "execute_result"
    }
   ],
   "source": [
    "# check REVIEWS for na in pop density cols\n",
    "REVIEWS[REVIEWS['population_density_backwards'].isna()]"
   ]
  },
  {
   "cell_type": "code",
   "execution_count": 87,
   "metadata": {
    "collapsed": false,
    "jupyter": {
     "outputs_hidden": false
    },
    "pycharm": {
     "name": "#%%\n"
    }
   },
   "outputs": [
    {
     "data": {
      "text/html": [
       "<div>\n",
       "<style scoped>\n",
       "    .dataframe tbody tr th:only-of-type {\n",
       "        vertical-align: middle;\n",
       "    }\n",
       "\n",
       "    .dataframe tbody tr th {\n",
       "        vertical-align: top;\n",
       "    }\n",
       "\n",
       "    .dataframe thead th {\n",
       "        text-align: right;\n",
       "    }\n",
       "</style>\n",
       "<table border=\"1\" class=\"dataframe\">\n",
       "  <thead>\n",
       "    <tr style=\"text-align: right;\">\n",
       "      <th></th>\n",
       "      <th>review_id</th>\n",
       "      <th>user_id</th>\n",
       "      <th>business_id</th>\n",
       "      <th>date</th>\n",
       "      <th>stars</th>\n",
       "      <th>useful</th>\n",
       "      <th>business_state</th>\n",
       "      <th>business_zipcode</th>\n",
       "      <th>business_county_ideology</th>\n",
       "      <th>business_state_ideology</th>\n",
       "      <th>business_state_pvi</th>\n",
       "      <th>business_review_total</th>\n",
       "      <th>avg_star_rating</th>\n",
       "      <th>year</th>\n",
       "      <th>month</th>\n",
       "      <th>day</th>\n",
       "      <th>population_density_backwards</th>\n",
       "      <th>population_density_forwards</th>\n",
       "    </tr>\n",
       "  </thead>\n",
       "  <tbody>\n",
       "  </tbody>\n",
       "</table>\n",
       "</div>"
      ],
      "text/plain": [
       "Empty DataFrame\n",
       "Columns: [review_id, user_id, business_id, date, stars, useful, business_state, business_zipcode, business_county_ideology, business_state_ideology, business_state_pvi, business_review_total, avg_star_rating, year, month, day, population_density_backwards, population_density_forwards]\n",
       "Index: []"
      ]
     },
     "execution_count": 87,
     "metadata": {},
     "output_type": "execute_result"
    }
   ],
   "source": [
    "REVIEWS[REVIEWS['population_density_forwards'].isna()]"
   ]
  },
  {
   "cell_type": "code",
   "execution_count": 79,
   "metadata": {
    "collapsed": false,
    "jupyter": {
     "outputs_hidden": false
    },
    "pycharm": {
     "name": "#%%\n"
    }
   },
   "outputs": [
    {
     "data": {
      "text/html": [
       "<div>\n",
       "<style scoped>\n",
       "    .dataframe tbody tr th:only-of-type {\n",
       "        vertical-align: middle;\n",
       "    }\n",
       "\n",
       "    .dataframe tbody tr th {\n",
       "        vertical-align: top;\n",
       "    }\n",
       "\n",
       "    .dataframe thead th {\n",
       "        text-align: right;\n",
       "    }\n",
       "</style>\n",
       "<table border=\"1\" class=\"dataframe\">\n",
       "  <thead>\n",
       "    <tr style=\"text-align: right;\">\n",
       "      <th></th>\n",
       "      <th>review_id</th>\n",
       "      <th>user_id</th>\n",
       "      <th>business_id</th>\n",
       "      <th>date</th>\n",
       "      <th>stars</th>\n",
       "      <th>useful</th>\n",
       "      <th>business_state</th>\n",
       "      <th>business_zipcode</th>\n",
       "      <th>business_county_ideology</th>\n",
       "      <th>business_state_ideology</th>\n",
       "      <th>business_state_pvi</th>\n",
       "      <th>business_review_total</th>\n",
       "      <th>avg_star_rating</th>\n",
       "      <th>year</th>\n",
       "      <th>month</th>\n",
       "      <th>day</th>\n",
       "      <th>population_density_backwards</th>\n",
       "      <th>population_density_forwards</th>\n",
       "    </tr>\n",
       "  </thead>\n",
       "  <tbody>\n",
       "    <tr>\n",
       "      <th>0</th>\n",
       "      <td>lWC-xP3rd6obsecCYsGZRg</td>\n",
       "      <td>ak0TdVmGKo4pwqdJSTLwWw</td>\n",
       "      <td>buF9druCkbuXLX526sGELQ</td>\n",
       "      <td>2014-10-11 03:34:02</td>\n",
       "      <td>4</td>\n",
       "      <td>3</td>\n",
       "      <td>MA</td>\n",
       "      <td>01915</td>\n",
       "      <td>-28.82</td>\n",
       "      <td>-33.21</td>\n",
       "      <td>-14.0</td>\n",
       "      <td>44.0</td>\n",
       "      <td>3.614</td>\n",
       "      <td>2014</td>\n",
       "      <td>10</td>\n",
       "      <td>11</td>\n",
       "      <td>839.4</td>\n",
       "      <td>901.2</td>\n",
       "    </tr>\n",
       "    <tr>\n",
       "      <th>1</th>\n",
       "      <td>T5fAqjjFooT4V0OeZyuk1w</td>\n",
       "      <td>SFQ1jcnGguO0LYWnbbftAA</td>\n",
       "      <td>0AzLzHfOJgL7ROwhdww2ew</td>\n",
       "      <td>2010-01-08 02:29:15</td>\n",
       "      <td>2</td>\n",
       "      <td>1</td>\n",
       "      <td>FL</td>\n",
       "      <td>32821</td>\n",
       "      <td>-23.12</td>\n",
       "      <td>3.36</td>\n",
       "      <td>3.0</td>\n",
       "      <td>121.0</td>\n",
       "      <td>3.446</td>\n",
       "      <td>2010</td>\n",
       "      <td>1</td>\n",
       "      <td>8</td>\n",
       "      <td>350.6</td>\n",
       "      <td>401.4</td>\n",
       "    </tr>\n",
       "    <tr>\n",
       "      <th>2</th>\n",
       "      <td>sjm_uUcQVxab_EeLCqsYLg</td>\n",
       "      <td>0kA0PAJ8QFMeveQWHFqz2A</td>\n",
       "      <td>8zehGz9jnxPqXtOc7KaJxA</td>\n",
       "      <td>2011-07-28 18:05:01</td>\n",
       "      <td>4</td>\n",
       "      <td>0</td>\n",
       "      <td>CO</td>\n",
       "      <td>80302</td>\n",
       "      <td>-56.57</td>\n",
       "      <td>-13.50</td>\n",
       "      <td>-3.0</td>\n",
       "      <td>472.0</td>\n",
       "      <td>4.282</td>\n",
       "      <td>2011</td>\n",
       "      <td>7</td>\n",
       "      <td>28</td>\n",
       "      <td>48.5</td>\n",
       "      <td>55.7</td>\n",
       "    </tr>\n",
       "    <tr>\n",
       "      <th>3</th>\n",
       "      <td>J4a2TuhDasjn2k3wWtHZnQ</td>\n",
       "      <td>RNm_RWkcd02Li2mKPRe7Eg</td>\n",
       "      <td>xGXzsc-hzam-VArK6eTvtw</td>\n",
       "      <td>2018-01-21 04:41:03</td>\n",
       "      <td>1</td>\n",
       "      <td>2</td>\n",
       "      <td>MA</td>\n",
       "      <td>02144</td>\n",
       "      <td>-44.89</td>\n",
       "      <td>-33.21</td>\n",
       "      <td>-14.0</td>\n",
       "      <td>248.0</td>\n",
       "      <td>3.472</td>\n",
       "      <td>2018</td>\n",
       "      <td>1</td>\n",
       "      <td>21</td>\n",
       "      <td>839.4</td>\n",
       "      <td>901.2</td>\n",
       "    </tr>\n",
       "    <tr>\n",
       "      <th>4</th>\n",
       "      <td>28gGfkLs3igtjVy61lh77Q</td>\n",
       "      <td>Q8c91v7luItVB0cMFF_mRA</td>\n",
       "      <td>EXOsmAB1s71WePlQk0WZrA</td>\n",
       "      <td>2006-04-16 02:58:44</td>\n",
       "      <td>2</td>\n",
       "      <td>0</td>\n",
       "      <td>MA</td>\n",
       "      <td>02215</td>\n",
       "      <td>-62.84</td>\n",
       "      <td>-33.21</td>\n",
       "      <td>-14.0</td>\n",
       "      <td>11.0</td>\n",
       "      <td>3.000</td>\n",
       "      <td>2006</td>\n",
       "      <td>4</td>\n",
       "      <td>16</td>\n",
       "      <td>NaN</td>\n",
       "      <td>839.4</td>\n",
       "    </tr>\n",
       "    <tr>\n",
       "      <th>...</th>\n",
       "      <td>...</td>\n",
       "      <td>...</td>\n",
       "      <td>...</td>\n",
       "      <td>...</td>\n",
       "      <td>...</td>\n",
       "      <td>...</td>\n",
       "      <td>...</td>\n",
       "      <td>...</td>\n",
       "      <td>...</td>\n",
       "      <td>...</td>\n",
       "      <td>...</td>\n",
       "      <td>...</td>\n",
       "      <td>...</td>\n",
       "      <td>...</td>\n",
       "      <td>...</td>\n",
       "      <td>...</td>\n",
       "      <td>...</td>\n",
       "      <td>...</td>\n",
       "    </tr>\n",
       "    <tr>\n",
       "      <th>190288</th>\n",
       "      <td>_X0ZvwmsQ_CRpGeCFFc_-Q</td>\n",
       "      <td>FwGqxJ_Z5BTKamqxWfD8LQ</td>\n",
       "      <td>eZE0FdYB9rUvbuPS4fNyYA</td>\n",
       "      <td>2015-01-24 23:12:37</td>\n",
       "      <td>2</td>\n",
       "      <td>5</td>\n",
       "      <td>TX</td>\n",
       "      <td>78701</td>\n",
       "      <td>-45.11</td>\n",
       "      <td>5.58</td>\n",
       "      <td>5.0</td>\n",
       "      <td>252.0</td>\n",
       "      <td>4.266</td>\n",
       "      <td>2015</td>\n",
       "      <td>1</td>\n",
       "      <td>24</td>\n",
       "      <td>96.3</td>\n",
       "      <td>111.6</td>\n",
       "    </tr>\n",
       "    <tr>\n",
       "      <th>190289</th>\n",
       "      <td>F6fenNd1vkH3ckuXFPRB6g</td>\n",
       "      <td>u0bwW1sf97hhNzTvkagEsA</td>\n",
       "      <td>enSXnvEKjDCit9A2_vyugg</td>\n",
       "      <td>2011-10-09 20:24:16</td>\n",
       "      <td>4</td>\n",
       "      <td>0</td>\n",
       "      <td>FL</td>\n",
       "      <td>32771</td>\n",
       "      <td>-2.79</td>\n",
       "      <td>3.36</td>\n",
       "      <td>3.0</td>\n",
       "      <td>29.0</td>\n",
       "      <td>2.966</td>\n",
       "      <td>2011</td>\n",
       "      <td>10</td>\n",
       "      <td>9</td>\n",
       "      <td>350.6</td>\n",
       "      <td>401.4</td>\n",
       "    </tr>\n",
       "    <tr>\n",
       "      <th>190290</th>\n",
       "      <td>O0SG6BTN0FHSZ7PJ1wgmzg</td>\n",
       "      <td>mVxg_vBXcUAAQJ03uHxiIQ</td>\n",
       "      <td>La_xmePMtWwjxKUqbGvqGQ</td>\n",
       "      <td>2010-05-30 11:06:52</td>\n",
       "      <td>2</td>\n",
       "      <td>0</td>\n",
       "      <td>TX</td>\n",
       "      <td>78703</td>\n",
       "      <td>-45.11</td>\n",
       "      <td>5.58</td>\n",
       "      <td>5.0</td>\n",
       "      <td>108.0</td>\n",
       "      <td>3.944</td>\n",
       "      <td>2010</td>\n",
       "      <td>5</td>\n",
       "      <td>30</td>\n",
       "      <td>96.3</td>\n",
       "      <td>111.6</td>\n",
       "    </tr>\n",
       "    <tr>\n",
       "      <th>190291</th>\n",
       "      <td>vTovPnBesDco238QpKtAvA</td>\n",
       "      <td>uVpNSrc3IEpR42VGdZ709w</td>\n",
       "      <td>4jOreXu9ctLBWOJWMtNv1w</td>\n",
       "      <td>2017-01-07 05:55:39</td>\n",
       "      <td>4</td>\n",
       "      <td>0</td>\n",
       "      <td>WA</td>\n",
       "      <td>98665</td>\n",
       "      <td>-5.09</td>\n",
       "      <td>-19.20</td>\n",
       "      <td>-8.0</td>\n",
       "      <td>18.0</td>\n",
       "      <td>3.111</td>\n",
       "      <td>2017</td>\n",
       "      <td>1</td>\n",
       "      <td>7</td>\n",
       "      <td>101.2</td>\n",
       "      <td>115.9</td>\n",
       "    </tr>\n",
       "    <tr>\n",
       "      <th>190292</th>\n",
       "      <td>Vm6QFEvxNwF_6f9EwT9ZXQ</td>\n",
       "      <td>8dz_7y-q0MtFZ8m0HYDUAA</td>\n",
       "      <td>3cLBtLFiH8IRdlEy9S8RiQ</td>\n",
       "      <td>2016-04-29 21:23:59</td>\n",
       "      <td>4</td>\n",
       "      <td>0</td>\n",
       "      <td>FL</td>\n",
       "      <td>32836</td>\n",
       "      <td>-23.12</td>\n",
       "      <td>3.36</td>\n",
       "      <td>3.0</td>\n",
       "      <td>564.0</td>\n",
       "      <td>4.254</td>\n",
       "      <td>2016</td>\n",
       "      <td>4</td>\n",
       "      <td>29</td>\n",
       "      <td>350.6</td>\n",
       "      <td>401.4</td>\n",
       "    </tr>\n",
       "  </tbody>\n",
       "</table>\n",
       "<p>190293 rows × 18 columns</p>\n",
       "</div>"
      ],
      "text/plain": [
       "                     review_id                 user_id  \\\n",
       "0       lWC-xP3rd6obsecCYsGZRg  ak0TdVmGKo4pwqdJSTLwWw   \n",
       "1       T5fAqjjFooT4V0OeZyuk1w  SFQ1jcnGguO0LYWnbbftAA   \n",
       "2       sjm_uUcQVxab_EeLCqsYLg  0kA0PAJ8QFMeveQWHFqz2A   \n",
       "3       J4a2TuhDasjn2k3wWtHZnQ  RNm_RWkcd02Li2mKPRe7Eg   \n",
       "4       28gGfkLs3igtjVy61lh77Q  Q8c91v7luItVB0cMFF_mRA   \n",
       "...                        ...                     ...   \n",
       "190288  _X0ZvwmsQ_CRpGeCFFc_-Q  FwGqxJ_Z5BTKamqxWfD8LQ   \n",
       "190289  F6fenNd1vkH3ckuXFPRB6g  u0bwW1sf97hhNzTvkagEsA   \n",
       "190290  O0SG6BTN0FHSZ7PJ1wgmzg  mVxg_vBXcUAAQJ03uHxiIQ   \n",
       "190291  vTovPnBesDco238QpKtAvA  uVpNSrc3IEpR42VGdZ709w   \n",
       "190292  Vm6QFEvxNwF_6f9EwT9ZXQ  8dz_7y-q0MtFZ8m0HYDUAA   \n",
       "\n",
       "                   business_id                date  stars  useful  \\\n",
       "0       buF9druCkbuXLX526sGELQ 2014-10-11 03:34:02      4       3   \n",
       "1       0AzLzHfOJgL7ROwhdww2ew 2010-01-08 02:29:15      2       1   \n",
       "2       8zehGz9jnxPqXtOc7KaJxA 2011-07-28 18:05:01      4       0   \n",
       "3       xGXzsc-hzam-VArK6eTvtw 2018-01-21 04:41:03      1       2   \n",
       "4       EXOsmAB1s71WePlQk0WZrA 2006-04-16 02:58:44      2       0   \n",
       "...                        ...                 ...    ...     ...   \n",
       "190288  eZE0FdYB9rUvbuPS4fNyYA 2015-01-24 23:12:37      2       5   \n",
       "190289  enSXnvEKjDCit9A2_vyugg 2011-10-09 20:24:16      4       0   \n",
       "190290  La_xmePMtWwjxKUqbGvqGQ 2010-05-30 11:06:52      2       0   \n",
       "190291  4jOreXu9ctLBWOJWMtNv1w 2017-01-07 05:55:39      4       0   \n",
       "190292  3cLBtLFiH8IRdlEy9S8RiQ 2016-04-29 21:23:59      4       0   \n",
       "\n",
       "       business_state business_zipcode  business_county_ideology  \\\n",
       "0                  MA            01915                    -28.82   \n",
       "1                  FL            32821                    -23.12   \n",
       "2                  CO            80302                    -56.57   \n",
       "3                  MA            02144                    -44.89   \n",
       "4                  MA            02215                    -62.84   \n",
       "...               ...              ...                       ...   \n",
       "190288             TX            78701                    -45.11   \n",
       "190289             FL            32771                     -2.79   \n",
       "190290             TX            78703                    -45.11   \n",
       "190291             WA            98665                     -5.09   \n",
       "190292             FL            32836                    -23.12   \n",
       "\n",
       "        business_state_ideology  business_state_pvi  business_review_total  \\\n",
       "0                        -33.21               -14.0                   44.0   \n",
       "1                          3.36                 3.0                  121.0   \n",
       "2                        -13.50                -3.0                  472.0   \n",
       "3                        -33.21               -14.0                  248.0   \n",
       "4                        -33.21               -14.0                   11.0   \n",
       "...                         ...                 ...                    ...   \n",
       "190288                     5.58                 5.0                  252.0   \n",
       "190289                     3.36                 3.0                   29.0   \n",
       "190290                     5.58                 5.0                  108.0   \n",
       "190291                   -19.20                -8.0                   18.0   \n",
       "190292                     3.36                 3.0                  564.0   \n",
       "\n",
       "        avg_star_rating  year  month  day population_density_backwards  \\\n",
       "0                 3.614  2014     10   11                        839.4   \n",
       "1                 3.446  2010      1    8                        350.6   \n",
       "2                 4.282  2011      7   28                         48.5   \n",
       "3                 3.472  2018      1   21                        839.4   \n",
       "4                 3.000  2006      4   16                          NaN   \n",
       "...                 ...   ...    ...  ...                          ...   \n",
       "190288            4.266  2015      1   24                         96.3   \n",
       "190289            2.966  2011     10    9                        350.6   \n",
       "190290            3.944  2010      5   30                         96.3   \n",
       "190291            3.111  2017      1    7                        101.2   \n",
       "190292            4.254  2016      4   29                        350.6   \n",
       "\n",
       "       population_density_forwards  \n",
       "0                            901.2  \n",
       "1                            401.4  \n",
       "2                             55.7  \n",
       "3                            901.2  \n",
       "4                            839.4  \n",
       "...                            ...  \n",
       "190288                       111.6  \n",
       "190289                       401.4  \n",
       "190290                       111.6  \n",
       "190291                       115.9  \n",
       "190292                       401.4  \n",
       "\n",
       "[190293 rows x 18 columns]"
      ]
     },
     "execution_count": 79,
     "metadata": {},
     "output_type": "execute_result"
    }
   ],
   "source": [
    "REVIEWS.drop(columns=['count'], inplace=True)\n",
    "REVIEWS"
   ]
  },
  {
   "cell_type": "code",
   "execution_count": 80,
   "metadata": {
    "collapsed": false,
    "jupyter": {
     "outputs_hidden": false
    },
    "pycharm": {
     "name": "#%%\n"
    }
   },
   "outputs": [
    {
     "name": "stdout",
     "output_type": "stream",
     "text": [
      "File exported.\n"
     ]
    }
   ],
   "source": [
    "REVIEWS.to_csv('data/yelp_dataset.csv')\n",
    "print('File exported.')"
   ]
  }
 ],
 "metadata": {
  "kernelspec": {
   "display_name": "Python 3",
   "language": "python",
   "name": "python3"
  },
  "language_info": {
   "codemirror_mode": {
    "name": "ipython",
    "version": 3
   },
   "file_extension": ".py",
   "mimetype": "text/x-python",
   "name": "python",
   "nbconvert_exporter": "python",
   "pygments_lexer": "ipython3",
   "version": "3.8.10"
  }
 },
 "nbformat": 4,
 "nbformat_minor": 4
}
