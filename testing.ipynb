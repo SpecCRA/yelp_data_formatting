{
 "cells": [
  {
   "cell_type": "code",
   "execution_count": 1,
   "metadata": {
    "collapsed": true
   },
   "outputs": [],
   "source": [
    "import pandas as pd\n",
    "import numpy as np\n",
    "from utils import preprocessing as pp\n",
    "from configs import config\n",
    "\n",
    "# main files\n",
    "BUSINESS_DATA_FILEPATH = 'data/yelp_academic_dataset_business.json'\n",
    "REVIEWS_DATA_FILEPATH = 'data/yelp_academic_dataset_review.json'\n",
    "USERS_DATA_FILEPATH = 'data/yelp_academic_dataset_user.json'\n",
    "\n",
    "# Additional data files\n",
    "COUNTY_DATA_FILEPATH = 'data/county_data.csv'\n",
    "STATES_DATA_FILEPATH = 'data/states_data.csv'\n",
    "ZIPCODES_DATA_FILEPATH = 'data/zip_code_database.csv'\n",
    "CPI_URL = 'https://en.wikipedia.org/wiki/Cook_Partisan_Voting_Index'\n",
    "POP_DENSITY_FILEPATH = 'data/apportionment.csv'\n",
    "INCOME_FILEPATH = 'data/zipcode2019/19zpallagi.csv'"
   ]
  },
  {
   "cell_type": "code",
   "execution_count": 2,
   "outputs": [
    {
     "name": "stdout",
     "output_type": "stream",
     "text": [
      "server started\n"
     ]
    }
   ],
   "source": [
    "print('server started')"
   ],
   "metadata": {
    "collapsed": false,
    "pycharm": {
     "name": "#%%\n"
    }
   }
  },
  {
   "cell_type": "code",
   "execution_count": 3,
   "outputs": [
    {
     "data": {
      "text/plain": "       state  zipcode  n_returns  n_individuals  n_elderly_returns  \\\n0         AL        0   778210.0      1161150.0           144610.0   \n1         AL        0   525940.0       992420.0           113810.0   \n2         AL        0   285700.0       595680.0            82410.0   \n3         AL        0   179070.0       432180.0            57970.0   \n4         AL        0   257010.0       692450.0            85030.0   \n...      ...      ...        ...            ...                ...   \n166154    WY    99999     3370.0         5770.0             1080.0   \n166155    WY    99999     2340.0         4600.0              890.0   \n166156    WY    99999     1740.0         3930.0              700.0   \n166157    WY    99999     2740.0         6990.0             1080.0   \n166158    WY    99999      850.0         2100.0              480.0   \n\n        adjusted_gross_income  n_retruns_w_tot_income  total_income_amount  \\\n0                  10158838.0                778140.0           10311099.0   \n1                  18974967.0                525940.0           19145621.0   \n2                  17535801.0                285700.0           17690402.0   \n3                  15546951.0                179070.0           15670456.0   \n4                  34974856.0                257010.0           35286228.0   \n...                       ...                     ...                  ...   \n166154               122741.0                  3370.0             123918.0   \n166155               144810.0                  2340.0             145854.0   \n166156               151288.0                  1740.0             152439.0   \n166157               367993.0                  2740.0             371662.0   \n166158               552036.0                   850.0             557343.0   \n\n        income_per_return  \n0               13.249764  \n1               36.402671  \n2               61.919503  \n3               87.510225  \n4              137.295156  \n...                   ...  \n166154          36.770920  \n166155          62.330769  \n166156          87.608621  \n166157         135.643066  \n166158         655.697647  \n\n[166159 rows x 9 columns]",
      "text/html": "<div>\n<style scoped>\n    .dataframe tbody tr th:only-of-type {\n        vertical-align: middle;\n    }\n\n    .dataframe tbody tr th {\n        vertical-align: top;\n    }\n\n    .dataframe thead th {\n        text-align: right;\n    }\n</style>\n<table border=\"1\" class=\"dataframe\">\n  <thead>\n    <tr style=\"text-align: right;\">\n      <th></th>\n      <th>state</th>\n      <th>zipcode</th>\n      <th>n_returns</th>\n      <th>n_individuals</th>\n      <th>n_elderly_returns</th>\n      <th>adjusted_gross_income</th>\n      <th>n_retruns_w_tot_income</th>\n      <th>total_income_amount</th>\n      <th>income_per_return</th>\n    </tr>\n  </thead>\n  <tbody>\n    <tr>\n      <th>0</th>\n      <td>AL</td>\n      <td>0</td>\n      <td>778210.0</td>\n      <td>1161150.0</td>\n      <td>144610.0</td>\n      <td>10158838.0</td>\n      <td>778140.0</td>\n      <td>10311099.0</td>\n      <td>13.249764</td>\n    </tr>\n    <tr>\n      <th>1</th>\n      <td>AL</td>\n      <td>0</td>\n      <td>525940.0</td>\n      <td>992420.0</td>\n      <td>113810.0</td>\n      <td>18974967.0</td>\n      <td>525940.0</td>\n      <td>19145621.0</td>\n      <td>36.402671</td>\n    </tr>\n    <tr>\n      <th>2</th>\n      <td>AL</td>\n      <td>0</td>\n      <td>285700.0</td>\n      <td>595680.0</td>\n      <td>82410.0</td>\n      <td>17535801.0</td>\n      <td>285700.0</td>\n      <td>17690402.0</td>\n      <td>61.919503</td>\n    </tr>\n    <tr>\n      <th>3</th>\n      <td>AL</td>\n      <td>0</td>\n      <td>179070.0</td>\n      <td>432180.0</td>\n      <td>57970.0</td>\n      <td>15546951.0</td>\n      <td>179070.0</td>\n      <td>15670456.0</td>\n      <td>87.510225</td>\n    </tr>\n    <tr>\n      <th>4</th>\n      <td>AL</td>\n      <td>0</td>\n      <td>257010.0</td>\n      <td>692450.0</td>\n      <td>85030.0</td>\n      <td>34974856.0</td>\n      <td>257010.0</td>\n      <td>35286228.0</td>\n      <td>137.295156</td>\n    </tr>\n    <tr>\n      <th>...</th>\n      <td>...</td>\n      <td>...</td>\n      <td>...</td>\n      <td>...</td>\n      <td>...</td>\n      <td>...</td>\n      <td>...</td>\n      <td>...</td>\n      <td>...</td>\n    </tr>\n    <tr>\n      <th>166154</th>\n      <td>WY</td>\n      <td>99999</td>\n      <td>3370.0</td>\n      <td>5770.0</td>\n      <td>1080.0</td>\n      <td>122741.0</td>\n      <td>3370.0</td>\n      <td>123918.0</td>\n      <td>36.770920</td>\n    </tr>\n    <tr>\n      <th>166155</th>\n      <td>WY</td>\n      <td>99999</td>\n      <td>2340.0</td>\n      <td>4600.0</td>\n      <td>890.0</td>\n      <td>144810.0</td>\n      <td>2340.0</td>\n      <td>145854.0</td>\n      <td>62.330769</td>\n    </tr>\n    <tr>\n      <th>166156</th>\n      <td>WY</td>\n      <td>99999</td>\n      <td>1740.0</td>\n      <td>3930.0</td>\n      <td>700.0</td>\n      <td>151288.0</td>\n      <td>1740.0</td>\n      <td>152439.0</td>\n      <td>87.608621</td>\n    </tr>\n    <tr>\n      <th>166157</th>\n      <td>WY</td>\n      <td>99999</td>\n      <td>2740.0</td>\n      <td>6990.0</td>\n      <td>1080.0</td>\n      <td>367993.0</td>\n      <td>2740.0</td>\n      <td>371662.0</td>\n      <td>135.643066</td>\n    </tr>\n    <tr>\n      <th>166158</th>\n      <td>WY</td>\n      <td>99999</td>\n      <td>850.0</td>\n      <td>2100.0</td>\n      <td>480.0</td>\n      <td>552036.0</td>\n      <td>850.0</td>\n      <td>557343.0</td>\n      <td>655.697647</td>\n    </tr>\n  </tbody>\n</table>\n<p>166159 rows × 9 columns</p>\n</div>"
     },
     "execution_count": 3,
     "metadata": {},
     "output_type": "execute_result"
    }
   ],
   "source": [
    "# Test loading income function\n",
    "\n",
    "income = pp.load_income(INCOME_FILEPATH, config.COLS['income'])\n",
    "income"
   ],
   "metadata": {
    "collapsed": false,
    "pycharm": {
     "name": "#%%\n"
    }
   }
  }
 ],
 "metadata": {
  "kernelspec": {
   "display_name": "Python 3",
   "language": "python",
   "name": "python3"
  },
  "language_info": {
   "codemirror_mode": {
    "name": "ipython",
    "version": 2
   },
   "file_extension": ".py",
   "mimetype": "text/x-python",
   "name": "python",
   "nbconvert_exporter": "python",
   "pygments_lexer": "ipython2",
   "version": "2.7.6"
  }
 },
 "nbformat": 4,
 "nbformat_minor": 0
}